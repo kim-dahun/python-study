{
  "nbformat": 4,
  "nbformat_minor": 0,
  "metadata": {
    "colab": {
      "provenance": [],
      "authorship_tag": "ABX9TyPEW1eiWs9VAWlww32f5SU9",
      "include_colab_link": true
    },
    "kernelspec": {
      "name": "python3",
      "display_name": "Python 3"
    },
    "language_info": {
      "name": "python"
    }
  },
  "cells": [
    {
      "cell_type": "markdown",
      "metadata": {
        "id": "view-in-github",
        "colab_type": "text"
      },
      "source": [
        "<a href=\"https://colab.research.google.com/github/kim-dahun/python-study/blob/main/py02_variable.ipynb\" target=\"_parent\"><img src=\"https://colab.research.google.com/assets/colab-badge.svg\" alt=\"Open In Colab\"/></a>"
      ]
    },
    {
      "cell_type": "markdown",
      "source": [
        "# 파이썬 자료 타입(data type)\n",
        "\n",
        "* 숫자 타입\n",
        "  * `int` : 정수 타입\n",
        "  * `float` : 실수 타입\n",
        "\n",
        "* 문자열 타입\n",
        "  * `str` : 문자열 타입\n",
        "\n",
        "* 논리 타입\n",
        "  * `bool` : True / False\n",
        "\n",
        "* 객체 타입\n",
        "\n",
        "파이썬에서는 변수를 선언할 때 자료 타입을 명시하지 않음.\n",
        "\n",
        "변수의 자료 타입은 코드가 실행될 때 결정됨.\n",
        "\n"
      ],
      "metadata": {
        "id": "ekm8whPzmrgM"
      }
    },
    {
      "cell_type": "code",
      "execution_count": 3,
      "metadata": {
        "colab": {
          "base_uri": "https://localhost:8080/"
        },
        "id": "t5XDZvM3lXhM",
        "outputId": "6c4e6ebb-69a5-4e0a-a090-96e603b15744"
      },
      "outputs": [
        {
          "output_type": "stream",
          "name": "stdout",
          "text": [
            "3.14\n"
          ]
        },
        {
          "output_type": "execute_result",
          "data": {
            "text/plain": [
              "float"
            ]
          },
          "metadata": {},
          "execution_count": 3
        }
      ],
      "source": [
        "pi = 3.14\n",
        "print(pi)\n",
        "type(pi) # print(type(pi))"
      ]
    },
    {
      "cell_type": "markdown",
      "source": [
        "## 명시적 타입 변환\n",
        "\n",
        "* `int(args)` : argument로 전달된 변수를 정수 타입으로 변환해서 리턴.\n",
        "* `float(args)` : argument로 전달된 변수를 실수 타입으로 변환해서 리턴.\n",
        "* `str(args)` : argument를 문자열로 변환해서 리턴."
      ],
      "metadata": {
        "id": "V_wywLQko4qr"
      }
    },
    {
      "cell_type": "code",
      "source": [
        "# Colab NoteBook 에서 콘솔 입력 :\n",
        "n = input('정수를 입력하시오 >>>')\n",
        "n = float(n)\n",
        "print(n+pi)"
      ],
      "metadata": {
        "colab": {
          "base_uri": "https://localhost:8080/"
        },
        "id": "Cw9qu3PWoq7T",
        "outputId": "99fa6a4b-f710-4ad1-9ee3-5dca3fe09035"
      },
      "execution_count": 10,
      "outputs": [
        {
          "output_type": "stream",
          "name": "stdout",
          "text": [
            "정수를 입력하시오 >>>150\n",
            "153.14\n"
          ]
        }
      ]
    },
    {
      "cell_type": "markdown",
      "source": [
        "# 산술 연산자\n",
        "\n",
        "`+, -, *, /, //, %, **`\n",
        "\n",
        "* `/` : 소수점까지 계산\n",
        "* `//` : 나눈 몫\n",
        "* `%` : 나눈 나머지\n",
        "* `**` : 거듭제곱."
      ],
      "metadata": {
        "id": "1Cq8FqAGrIsy"
      }
    },
    {
      "cell_type": "code",
      "source": [
        "print(3**2)\n",
        "print(3//9)\n",
        "print(3/9)\n",
        "print(3%9)\n",
        "print(10**-3)"
      ],
      "metadata": {
        "colab": {
          "base_uri": "https://localhost:8080/"
        },
        "id": "n_mHOlQ6r0bE",
        "outputId": "a15c1baa-b4ba-4efa-d504-c7733f8efc20"
      },
      "execution_count": 21,
      "outputs": [
        {
          "output_type": "stream",
          "name": "stdout",
          "text": [
            "9\n",
            "0\n",
            "0.3333333333333333\n",
            "3\n",
            "0.001\n"
          ]
        }
      ]
    },
    {
      "cell_type": "markdown",
      "source": [
        "# 비교 연산자, 논리 연산자\n",
        "\n",
        "* 비교 연산자 : `==, !=, >, >=, <, <=`\n",
        "* 논리 연산자 : `and, or, not`\n"
      ],
      "metadata": {
        "id": "eapABQ1bsRtJ"
      }
    },
    {
      "cell_type": "code",
      "source": [
        "x = 100\n",
        "(x > 50 and x < 150)"
      ],
      "metadata": {
        "colab": {
          "base_uri": "https://localhost:8080/"
        },
        "id": "O-Omc785snnz",
        "outputId": "b213b747-22e6-4913-b21c-51473994bec4"
      },
      "execution_count": 25,
      "outputs": [
        {
          "output_type": "execute_result",
          "data": {
            "text/plain": [
              "True"
            ]
          },
          "metadata": {},
          "execution_count": 25
        }
      ]
    },
    {
      "cell_type": "code",
      "source": [
        "50 < x < 110\n",
        "\n",
        "fos = '''자바 좋아\n",
        "파이썬 좋아\n",
        "HTML/CSS 싫어'''\n",
        "print(fos)"
      ],
      "metadata": {
        "colab": {
          "base_uri": "https://localhost:8080/"
        },
        "id": "WjO-VAMAtJ4Y",
        "outputId": "3a27d85a-afd8-4f48-9c03-351ca791d83c"
      },
      "execution_count": 30,
      "outputs": [
        {
          "output_type": "stream",
          "name": "stdout",
          "text": [
            "자바 좋아\n",
            "파이썬 좋아\n",
            "HTML/CSS 싫어\n"
          ]
        }
      ]
    },
    {
      "cell_type": "code",
      "source": [
        "A = [\"사과\",\"바나나\",\"달걀\"]\n",
        "\n",
        "A[-3:-1:2]"
      ],
      "metadata": {
        "colab": {
          "base_uri": "https://localhost:8080/"
        },
        "id": "HH7-Ln_nv-v4",
        "outputId": "c9e78676-c422-41d6-8d7f-cb1b1a925974"
      },
      "execution_count": 44,
      "outputs": [
        {
          "output_type": "execute_result",
          "data": {
            "text/plain": [
              "['사과']"
            ]
          },
          "metadata": {},
          "execution_count": 44
        }
      ]
    }
  ]
}