{
  "nbformat": 4,
  "nbformat_minor": 0,
  "metadata": {
    "colab": {
      "provenance": [],
      "authorship_tag": "ABX9TyNx3zrIxyBvKQZJSduL8ob4",
      "include_colab_link": true
    },
    "kernelspec": {
      "name": "python3",
      "display_name": "Python 3"
    },
    "language_info": {
      "name": "python"
    }
  },
  "cells": [
    {
      "cell_type": "markdown",
      "metadata": {
        "id": "view-in-github",
        "colab_type": "text"
      },
      "source": [
        "<a href=\"https://colab.research.google.com/github/kim-dahun/python-study/blob/main/py13_numpy.ipynb\" target=\"_parent\"><img src=\"https://colab.research.google.com/assets/colab-badge.svg\" alt=\"Open In Colab\"/></a>"
      ]
    },
    {
      "cell_type": "markdown",
      "source": [
        "# 데이터 분석 패키지\n",
        "\n",
        "Google Colab 에는 데이터 분석과 머신 러닝에 필요한 대부분의 패키지들이 이미 설치가 되어 있음.\n",
        "\n",
        "* NumPy: 다차원 배열(n-dimensional array)을 다루는 패키지. 머신 러닝에서 중요하게 사용됨.\n",
        "* pandas : 시리즈(series), 데이터 프레임(DataFrame)을 다루는 패키지. 데이터 분석에서 기본으로 사용되는 패키지.\n",
        "* matplotlib : 데이터 시각화(그래프).\n",
        "* seaborn :  데이터 시각화. 통계 작업."
      ],
      "metadata": {
        "id": "alEbxb88VTCJ"
      }
    },
    {
      "cell_type": "code",
      "execution_count": 1,
      "metadata": {
        "id": "TkRhKfxnVQxd"
      },
      "outputs": [],
      "source": [
        "import numpy as np"
      ]
    },
    {
      "cell_type": "code",
      "source": [
        "import pandas as pd"
      ],
      "metadata": {
        "id": "D88cATZkaoKD"
      },
      "execution_count": 2,
      "outputs": []
    },
    {
      "cell_type": "code",
      "source": [
        "import matplotlib as mpl\n",
        "import seaborn as sns"
      ],
      "metadata": {
        "id": "PcsG2mcMbBVE"
      },
      "execution_count": 4,
      "outputs": []
    },
    {
      "cell_type": "code",
      "source": [
        "print('Numpy version : ', np.__version__)"
      ],
      "metadata": {
        "colab": {
          "base_uri": "https://localhost:8080/"
        },
        "id": "hzmMspjlbH6-",
        "outputId": "19c5e068-6eed-446d-ae35-6057fd552a50"
      },
      "execution_count": 5,
      "outputs": [
        {
          "output_type": "stream",
          "name": "stdout",
          "text": [
            "Numpy version :  1.22.4\n"
          ]
        }
      ]
    },
    {
      "cell_type": "code",
      "source": [
        "print('Pandas version : ', pd.__version__)"
      ],
      "metadata": {
        "colab": {
          "base_uri": "https://localhost:8080/"
        },
        "id": "1uvsxEaabV7B",
        "outputId": "5e25c8c7-1f0d-4330-8cf6-05b468817519"
      },
      "execution_count": 6,
      "outputs": [
        {
          "output_type": "stream",
          "name": "stdout",
          "text": [
            "Pandas version :  1.5.3\n"
          ]
        }
      ]
    },
    {
      "cell_type": "code",
      "source": [
        "print('matplotlib : ',mpl.__version__)"
      ],
      "metadata": {
        "colab": {
          "base_uri": "https://localhost:8080/"
        },
        "id": "OZdsbWhIbdI_",
        "outputId": "fd3ef586-4d60-4a5e-d817-731bc65c4c45"
      },
      "execution_count": 7,
      "outputs": [
        {
          "output_type": "stream",
          "name": "stdout",
          "text": [
            "matplotlib :  3.7.1\n"
          ]
        }
      ]
    },
    {
      "cell_type": "code",
      "source": [
        "print('seaborn : ', sns.__version__)"
      ],
      "metadata": {
        "colab": {
          "base_uri": "https://localhost:8080/"
        },
        "id": "INi9mVgubhY7",
        "outputId": "190dc88b-008b-46df-b25c-edda607c2ee5"
      },
      "execution_count": 8,
      "outputs": [
        {
          "output_type": "stream",
          "name": "stdout",
          "text": [
            "seaborn :  0.12.2\n"
          ]
        }
      ]
    },
    {
      "cell_type": "markdown",
      "source": [
        "# Python `list` class\n",
        "\n",
        "* 여러 개의 값들을 저장할 수 있는 데이터 타입\n",
        "* 인덱스를 기반으로 값들을 저장하거나 참조하는 데이터 타입.\n",
        "  * indexing : 인덱스를 사용해서 원하는 위치의 값을 참조하거나, 그 값을 변경할 때 인덱싱을 사용,\n",
        "  * slicing : `[strat, end)` 이런 인덱스 범위의 값들로 이루어진 부분 집합을 잘라내는 방법.\n",
        "* `list + list` : 두 개의 리스트를 이어붙여서 하나의 새로운 리스트를 만드는 기능 ( concatenate).\n",
        "* `list * int`,`int * list` : 리스트의 원소들을 정수만큼 반복해서 복제.(replicate)."
      ],
      "metadata": {
        "id": "-TKdvH6kcOnW"
      }
    },
    {
      "cell_type": "code",
      "source": [
        "list1 = [1,2,3,4]\n",
        "list2 = [10,20,30,40]\n",
        "\n",
        "list3 = list1+list2"
      ],
      "metadata": {
        "id": "2Qoq_3Eebkl8"
      },
      "execution_count": 9,
      "outputs": []
    },
    {
      "cell_type": "code",
      "source": [
        "list3"
      ],
      "metadata": {
        "colab": {
          "base_uri": "https://localhost:8080/"
        },
        "id": "fqY13z0JdQzq",
        "outputId": "424591fd-43db-46f9-88af-ce225daaf7a5"
      },
      "execution_count": 10,
      "outputs": [
        {
          "output_type": "execute_result",
          "data": {
            "text/plain": [
              "[1, 2, 3, 4, 10, 20, 30, 40]"
            ]
          },
          "metadata": {},
          "execution_count": 10
        }
      ]
    },
    {
      "cell_type": "code",
      "source": [
        "# indexing:\n",
        "print(list1[0]) # list1의 첫번째 원소\n",
        "print(list1[3], list1[-1]) #list1의 마지막 원소"
      ],
      "metadata": {
        "colab": {
          "base_uri": "https://localhost:8080/"
        },
        "id": "RxobPrQbdReK",
        "outputId": "61d90da6-81ee-4a70-aef0-d058bf1e0804"
      },
      "execution_count": 16,
      "outputs": [
        {
          "output_type": "stream",
          "name": "stdout",
          "text": [
            "1\n",
            "4 4\n"
          ]
        }
      ]
    },
    {
      "cell_type": "code",
      "source": [
        "# slicing\n",
        "print(list1[:3]) # list1에서 앞에서 3개 원소 자르기\n",
        "\n",
        "print(list1[-3:]) # list1에서 뒤에서 3개 원소 자르기"
      ],
      "metadata": {
        "colab": {
          "base_uri": "https://localhost:8080/"
        },
        "id": "Cs5a6a0RdUZE",
        "outputId": "97793dcb-1243-41ba-84ef-2b3c4d4c22bd"
      },
      "execution_count": 18,
      "outputs": [
        {
          "output_type": "stream",
          "name": "stdout",
          "text": [
            "[1, 2, 3]\n",
            "[2, 3, 4]\n"
          ]
        }
      ]
    },
    {
      "cell_type": "code",
      "source": [
        "list1 + list2"
      ],
      "metadata": {
        "colab": {
          "base_uri": "https://localhost:8080/"
        },
        "id": "gXfbCPGOdqox",
        "outputId": "14d252fd-ca8e-4057-b29a-bc4f5e7378c2"
      },
      "execution_count": 19,
      "outputs": [
        {
          "output_type": "execute_result",
          "data": {
            "text/plain": [
              "[1, 2, 3, 4, 10, 20, 30, 40]"
            ]
          },
          "metadata": {},
          "execution_count": 19
        }
      ]
    },
    {
      "cell_type": "code",
      "source": [
        "list1 * 3"
      ],
      "metadata": {
        "colab": {
          "base_uri": "https://localhost:8080/"
        },
        "id": "yKLk8lqOd513",
        "outputId": "722739ac-dce6-4014-c1bc-344fb7ce56dd"
      },
      "execution_count": 20,
      "outputs": [
        {
          "output_type": "execute_result",
          "data": {
            "text/plain": [
              "[1, 2, 3, 4, 1, 2, 3, 4, 1, 2, 3, 4]"
            ]
          },
          "metadata": {},
          "execution_count": 20
        }
      ]
    },
    {
      "cell_type": "code",
      "source": [
        "# list1, list2 에서 같은 인덱스 위치 원소들끼리 덧셈.\n",
        "\n",
        "[x+y for x,y in zip(list1,list2)]"
      ],
      "metadata": {
        "colab": {
          "base_uri": "https://localhost:8080/"
        },
        "id": "TIWkFt_0d7Cb",
        "outputId": "5084444d-fc65-4fc3-cb12-3dbd8ccb4c41"
      },
      "execution_count": 21,
      "outputs": [
        {
          "output_type": "execute_result",
          "data": {
            "text/plain": [
              "[11, 22, 33, 44]"
            ]
          },
          "metadata": {},
          "execution_count": 21
        }
      ]
    },
    {
      "cell_type": "code",
      "source": [
        "# list1 모든 원소에 3을 곱하기\n",
        "[x*3 for x in list1]"
      ],
      "metadata": {
        "colab": {
          "base_uri": "https://localhost:8080/"
        },
        "id": "DIV-0dYreUpA",
        "outputId": "225d8ce3-d9a4-4ff9-ae9e-d0dd4c1440d0"
      },
      "execution_count": 22,
      "outputs": [
        {
          "output_type": "execute_result",
          "data": {
            "text/plain": [
              "[3, 6, 9, 12]"
            ]
          },
          "metadata": {},
          "execution_count": 22
        }
      ]
    },
    {
      "cell_type": "markdown",
      "source": [
        "# NumPy\n",
        "\n",
        "* 배열(ndarray)을 쉽고 빠르게 연산(+,-,*,/,//,%)을 수행하는 라이브러리.\n",
        "* Numpy 패키지의 함수 또는 메서드들은 대부분 반복문의 기능을 갖고 있음.\n",
        "* np.ndarray 클래스 : NumPy 패키지에서 기본 타입 클래스. n차원 배열.(n-dimensional array).\n",
        "  * `ndarray`는 같은 인덱스(위치)에 있는 원소들끼리 연산을 수행."
      ],
      "metadata": {
        "id": "tq2GJNkxim8c"
      }
    },
    {
      "cell_type": "code",
      "source": [
        "array1 = np.array([1,2,3]) # python의 list 객체를 numpy의 ndarray 객체로 변환."
      ],
      "metadata": {
        "id": "Y1g8pfrveZPO"
      },
      "execution_count": 26,
      "outputs": []
    },
    {
      "cell_type": "code",
      "source": [
        "type(array1)"
      ],
      "metadata": {
        "colab": {
          "base_uri": "https://localhost:8080/"
        },
        "id": "6m6Zs8SVjrwa",
        "outputId": "62e6baf6-5c91-4ae5-e72f-3dbfe738f9c6"
      },
      "execution_count": 27,
      "outputs": [
        {
          "output_type": "execute_result",
          "data": {
            "text/plain": [
              "numpy.ndarray"
            ]
          },
          "metadata": {},
          "execution_count": 27
        }
      ]
    },
    {
      "cell_type": "code",
      "source": [
        "print(array1) # print() 함수는 __str__ 메서드의 리턴값을 출력."
      ],
      "metadata": {
        "colab": {
          "base_uri": "https://localhost:8080/"
        },
        "id": "i6_E5aq5kOnT",
        "outputId": "a45a16f1-67b7-407e-a70e-be6479a51400"
      },
      "execution_count": 28,
      "outputs": [
        {
          "output_type": "stream",
          "name": "stdout",
          "text": [
            "[1 2 3]\n"
          ]
        }
      ]
    },
    {
      "cell_type": "code",
      "source": [
        "array1 # expression은 __repr__메서드의 리턴값을 출력."
      ],
      "metadata": {
        "colab": {
          "base_uri": "https://localhost:8080/"
        },
        "id": "sSZTWxbfkfCf",
        "outputId": "1331a378-49f9-4866-eef3-d2bb87a25c00"
      },
      "execution_count": 29,
      "outputs": [
        {
          "output_type": "execute_result",
          "data": {
            "text/plain": [
              "array([1, 2, 3])"
            ]
          },
          "metadata": {},
          "execution_count": 29
        }
      ]
    },
    {
      "cell_type": "code",
      "source": [
        "array2 = np.array([4,5,6])"
      ],
      "metadata": {
        "id": "cHfIAulCk4iG"
      },
      "execution_count": 30,
      "outputs": []
    },
    {
      "cell_type": "code",
      "source": [
        "print(array2)"
      ],
      "metadata": {
        "colab": {
          "base_uri": "https://localhost:8080/"
        },
        "id": "tFXhv3Z0lNs2",
        "outputId": "0ed5f48b-edac-45f8-b920-6299c746842d"
      },
      "execution_count": 31,
      "outputs": [
        {
          "output_type": "stream",
          "name": "stdout",
          "text": [
            "[4 5 6]\n"
          ]
        }
      ]
    },
    {
      "cell_type": "code",
      "source": [
        "array2"
      ],
      "metadata": {
        "colab": {
          "base_uri": "https://localhost:8080/"
        },
        "id": "xC3ngriUlO-o",
        "outputId": "5ace9cc8-3942-412e-ffe1-b04d3d5644cc"
      },
      "execution_count": 32,
      "outputs": [
        {
          "output_type": "execute_result",
          "data": {
            "text/plain": [
              "array([4, 5, 6])"
            ]
          },
          "metadata": {},
          "execution_count": 32
        }
      ]
    },
    {
      "cell_type": "code",
      "source": [
        "# ndarray의 사칙연산 -> 같은 인덱스의 원소들(element-wise)끼리 연산이 수행됨.\n",
        "\n",
        "array1*array2"
      ],
      "metadata": {
        "colab": {
          "base_uri": "https://localhost:8080/"
        },
        "id": "J1mZkKf1lPhP",
        "outputId": "97f9743c-975b-49b8-cfba-7fe52c8d668f"
      },
      "execution_count": 35,
      "outputs": [
        {
          "output_type": "execute_result",
          "data": {
            "text/plain": [
              "array([ 4, 10, 18])"
            ]
          },
          "metadata": {},
          "execution_count": 35
        }
      ]
    },
    {
      "cell_type": "code",
      "source": [
        "print(array1+array2)\n",
        "print(array1-array2)\n",
        "print(array1*array2)\n",
        "print(array1/array2)"
      ],
      "metadata": {
        "colab": {
          "base_uri": "https://localhost:8080/"
        },
        "id": "uxHXicbXlWHi",
        "outputId": "5f652700-9b8f-4885-e8e1-fdd546bb7e40"
      },
      "execution_count": 36,
      "outputs": [
        {
          "output_type": "stream",
          "name": "stdout",
          "text": [
            "[5 7 9]\n",
            "[-3 -3 -3]\n",
            "[ 4 10 18]\n",
            "[0.25 0.4  0.5 ]\n"
          ]
        }
      ]
    },
    {
      "cell_type": "markdown",
      "source": [
        "## ndarray 클래스의 속성들"
      ],
      "metadata": {
        "id": "H_oJ-xAdmf9J"
      }
    },
    {
      "cell_type": "code",
      "source": [
        "print(array1)"
      ],
      "metadata": {
        "colab": {
          "base_uri": "https://localhost:8080/"
        },
        "id": "-nFkpnEMlp9B",
        "outputId": "6f290c27-1780-41b2-882a-8f03457e3cf2"
      },
      "execution_count": 37,
      "outputs": [
        {
          "output_type": "stream",
          "name": "stdout",
          "text": [
            "[1 2 3]\n"
          ]
        }
      ]
    },
    {
      "cell_type": "code",
      "source": [
        "print('ndim:',array1.ndim) # 차원(dimension). 배열의 축(axis)의 갯수\n",
        "print('size:',array1.size) # 배열의 크기. 원소 갯수.\n",
        "print('shape:',array1.shape) # 각 차원에서의 원소갯수\n",
        "print('dtype:',array1.dtype) # 배열 원소의 데이터 타입"
      ],
      "metadata": {
        "colab": {
          "base_uri": "https://localhost:8080/"
        },
        "id": "PYpcEeDJmjF9",
        "outputId": "76c08a0f-8e91-4165-8db8-f50e4fc8ecaa"
      },
      "execution_count": 43,
      "outputs": [
        {
          "output_type": "stream",
          "name": "stdout",
          "text": [
            "ndim: 1\n",
            "size: 3\n",
            "shape: (3,)\n",
            "dtype: int64\n"
          ]
        }
      ]
    },
    {
      "cell_type": "markdown",
      "source": [
        "ndarray 는 한 가지 타입의 데이터들만 저장할 수 있는 데이터 타입 - list 와 다른점."
      ],
      "metadata": {
        "id": "VziqqwY2oWQq"
      }
    },
    {
      "cell_type": "markdown",
      "source": [
        "## 2차원 배열\n",
        "\n"
      ],
      "metadata": {
        "id": "F3e7YgE7o1DR"
      }
    },
    {
      "cell_type": "code",
      "source": [
        "array_2d = np.array([\n",
        "    [1,2,3,4],\n",
        "    [5,6,7,8],\n",
        "    [9,10,11,12]\n",
        "])"
      ],
      "metadata": {
        "id": "jHHTaqkImwBj"
      },
      "execution_count": 45,
      "outputs": []
    },
    {
      "cell_type": "code",
      "source": [
        "type(array_2d)"
      ],
      "metadata": {
        "colab": {
          "base_uri": "https://localhost:8080/"
        },
        "id": "DcXY-fx7pI2p",
        "outputId": "009f3e23-b8ee-4695-d876-fb4edafa1192"
      },
      "execution_count": 47,
      "outputs": [
        {
          "output_type": "execute_result",
          "data": {
            "text/plain": [
              "numpy.ndarray"
            ]
          },
          "metadata": {},
          "execution_count": 47
        }
      ]
    },
    {
      "cell_type": "code",
      "source": [
        "print(array_2d)"
      ],
      "metadata": {
        "colab": {
          "base_uri": "https://localhost:8080/"
        },
        "id": "W830WwU8pL5a",
        "outputId": "6b40a253-1300-4561-972a-415b753a65b0"
      },
      "execution_count": 48,
      "outputs": [
        {
          "output_type": "stream",
          "name": "stdout",
          "text": [
            "[[ 1  2  3  4]\n",
            " [ 5  6  7  8]\n",
            " [ 9 10 11 12]]\n"
          ]
        }
      ]
    },
    {
      "cell_type": "code",
      "source": [
        "print('ndim : ',array_2d.ndim) # 차원\n",
        "print('size : ',array_2d.size) # 크기\n",
        "print('shape : ',array_2d.shape) # 모양\n",
        "print('dtype : ',array_2d.dtype) # 데이터 타입"
      ],
      "metadata": {
        "colab": {
          "base_uri": "https://localhost:8080/"
        },
        "id": "rkNTz_iEpb2Y",
        "outputId": "6a32a5e9-709a-458f-fe67-b868ab20a01b"
      },
      "execution_count": 49,
      "outputs": [
        {
          "output_type": "stream",
          "name": "stdout",
          "text": [
            "ndim :  2\n",
            "size :  12\n",
            "shape :  (3, 4)\n",
            "dtype :  int64\n"
          ]
        }
      ]
    },
    {
      "cell_type": "markdown",
      "source": [
        "### 2차원 `ndarray`의 인덱스 사용 방법:\n",
        "\n",
        "* `array[i][j]` - Python list와 같은 사용 방법.\n",
        "* `array[i,j]` - ndarray에서만 사용 가능."
      ],
      "metadata": {
        "id": "cmN563LRvDa1"
      }
    },
    {
      "cell_type": "code",
      "source": [
        "array_2d[1,2]"
      ],
      "metadata": {
        "colab": {
          "base_uri": "https://localhost:8080/"
        },
        "id": "EBOdnKEMqF9G",
        "outputId": "79de83b0-b5de-4259-ed0f-8bbf8eccbc0d"
      },
      "execution_count": 50,
      "outputs": [
        {
          "output_type": "execute_result",
          "data": {
            "text/plain": [
              "7"
            ]
          },
          "metadata": {},
          "execution_count": 50
        }
      ]
    },
    {
      "cell_type": "markdown",
      "source": [
        "## `ndarray` 인덱스"
      ],
      "metadata": {
        "id": "9_jGw1B3wZi-"
      }
    },
    {
      "cell_type": "code",
      "source": [
        "#\n",
        "array = np.random.randint(1,46,size=(5,6))"
      ],
      "metadata": {
        "id": "BTS3KHFOv0Rr"
      },
      "execution_count": 55,
      "outputs": []
    },
    {
      "cell_type": "code",
      "source": [
        "array"
      ],
      "metadata": {
        "colab": {
          "base_uri": "https://localhost:8080/"
        },
        "id": "-60zCEwYwyrc",
        "outputId": "0b2055ae-11b8-438b-fc02-4344986bfc89"
      },
      "execution_count": 56,
      "outputs": [
        {
          "output_type": "execute_result",
          "data": {
            "text/plain": [
              "array([[39, 11, 19, 13, 13, 43],\n",
              "       [41,  8, 21, 12, 32, 31],\n",
              "       [15, 28, 14, 28, 42, 13],\n",
              "       [37,  6, 26, 30, 35, 28],\n",
              "       [19, 10, 37, 10, 16,  6]])"
            ]
          },
          "metadata": {},
          "execution_count": 56
        }
      ]
    },
    {
      "cell_type": "code",
      "source": [
        "# [0, 100) 범위의 정수 난수 10개를 갖는 ndarray 객체를 생성 :\n",
        "array = np.random.randint(0,100, size=(10,10))"
      ],
      "metadata": {
        "id": "Q4oDitS_wzaZ"
      },
      "execution_count": 58,
      "outputs": []
    },
    {
      "cell_type": "code",
      "source": [
        "array"
      ],
      "metadata": {
        "colab": {
          "base_uri": "https://localhost:8080/"
        },
        "id": "ZGc5-jGdxQ5J",
        "outputId": "78ebd1d3-20e0-4847-92f6-7aad72d58c71"
      },
      "execution_count": 59,
      "outputs": [
        {
          "output_type": "execute_result",
          "data": {
            "text/plain": [
              "array([[45, 24, 90, 93, 14, 83, 99, 66, 19,  6],\n",
              "       [52, 20, 20, 43, 10, 91, 89, 44, 70, 76],\n",
              "       [25, 95, 47, 58, 95, 40, 21, 44,  9, 18],\n",
              "       [ 3, 75, 76,  0, 27, 24, 46, 82, 77, 83],\n",
              "       [18, 10, 15,  8, 16, 94, 50, 82, 68, 21],\n",
              "       [36, 20, 42, 72,  6, 48, 61, 59, 43, 91],\n",
              "       [44,  9, 69, 96, 71, 23, 32, 89, 16, 19],\n",
              "       [79, 29, 78, 50, 52, 31, 30, 80, 37, 94],\n",
              "       [15, 72, 86, 98, 98,  7,  0, 62, 97, 24],\n",
              "       [37, 69, 93,  4, 22, 56, 70, 39, 87, 19]])"
            ]
          },
          "metadata": {},
          "execution_count": 59
        }
      ]
    },
    {
      "cell_type": "code",
      "source": [
        "# indexing:\n",
        "print(array[0])\n",
        "print(array[5,1])"
      ],
      "metadata": {
        "colab": {
          "base_uri": "https://localhost:8080/"
        },
        "id": "Db_sKdfUxT3_",
        "outputId": "c38b9f67-6204-41e0-f2fc-21e92dbc4a73"
      },
      "execution_count": 61,
      "outputs": [
        {
          "output_type": "stream",
          "name": "stdout",
          "text": [
            "[45 24 90 93 14 83 99 66 19  6]\n",
            "20\n"
          ]
        }
      ]
    },
    {
      "cell_type": "code",
      "source": [
        "# slicing\n",
        "print(array[0:3])"
      ],
      "metadata": {
        "colab": {
          "base_uri": "https://localhost:8080/"
        },
        "id": "F6bBF2_nxxaB",
        "outputId": "4e1ca780-4b23-42f2-d736-eaeb7a762640"
      },
      "execution_count": 62,
      "outputs": [
        {
          "output_type": "stream",
          "name": "stdout",
          "text": [
            "[[45 24 90 93 14 83 99 66 19  6]\n",
            " [52 20 20 43 10 91 89 44 70 76]\n",
            " [25 95 47 58 95 40 21 44  9 18]]\n"
          ]
        }
      ]
    },
    {
      "cell_type": "code",
      "source": [
        "print(array[0:3,0:3]) # 2차원에서 3번째까지, 그리고 각 배열에서 3번째까지"
      ],
      "metadata": {
        "colab": {
          "base_uri": "https://localhost:8080/"
        },
        "id": "XA8OlZnfx-AN",
        "outputId": "cc502d70-1748-4ea2-cb50-bcb90b50edc5"
      },
      "execution_count": 63,
      "outputs": [
        {
          "output_type": "stream",
          "name": "stdout",
          "text": [
            "[[45 24 90]\n",
            " [52 20 20]\n",
            " [25 95 47]]\n"
          ]
        }
      ]
    },
    {
      "cell_type": "code",
      "source": [
        "print(array[0]) # indexing -> 아이템(값)\n",
        "print(array[0:1]) # slicing -> 배열(ndarray)"
      ],
      "metadata": {
        "id": "HfL57j-nyAe5"
      },
      "execution_count": null,
      "outputs": []
    },
    {
      "cell_type": "markdown",
      "source": [
        "### fancy indexing\n",
        "\n",
        "* 배열과 비슷한 객체(ndarray, list, tuple, set, ...) 를 사용해서 원하는 원소들을 참조하는 방법\n",
        "* fancy indexing의 결과는 ndarray."
      ],
      "metadata": {
        "id": "Pg-cKdCdyrtt"
      }
    },
    {
      "cell_type": "code",
      "source": [
        "print(array[0]) # indexing\n",
        "print(array[[0,2,4]]) # 배열에서 0, 2, 4 인덱스의 원소를 골라옴. -> 골라온 원소로 ndarray 를 만듦.\n",
        "print(array[[0]])"
      ],
      "metadata": {
        "colab": {
          "base_uri": "https://localhost:8080/"
        },
        "id": "cFUzY5jhzQgj",
        "outputId": "979e9be1-b342-4bba-f9b2-0f96a547c443"
      },
      "execution_count": 65,
      "outputs": [
        {
          "output_type": "stream",
          "name": "stdout",
          "text": [
            "[45 24 90 93 14 83 99 66 19  6]\n",
            "[[45 24 90 93 14 83 99 66 19  6]\n",
            " [25 95 47 58 95 40 21 44  9 18]\n",
            " [18 10 15  8 16 94 50 82 68 21]]\n",
            "[[45 24 90 93 14 83 99 66 19  6]]\n"
          ]
        }
      ]
    },
    {
      "cell_type": "markdown",
      "source": [
        "### boolean indexing\n",
        "\n",
        "* 논리값(True/False) 들의 배열(리스트, 튜플...) 을 사용한 fancy indexing 방법.\n",
        "* 배열에서 조건을 만족하는 원소들로 이루어진 부분집합(ndarray)을 만드는 방법."
      ],
      "metadata": {
        "id": "2HUfWfipyrxM"
      }
    },
    {
      "cell_type": "code",
      "source": [
        "print(array)"
      ],
      "metadata": {
        "colab": {
          "base_uri": "https://localhost:8080/"
        },
        "id": "fZxPv64V1B6j",
        "outputId": "881d88b6-922e-458f-8823-1ee1892e750a"
      },
      "execution_count": 66,
      "outputs": [
        {
          "output_type": "stream",
          "name": "stdout",
          "text": [
            "[[45 24 90 93 14 83 99 66 19  6]\n",
            " [52 20 20 43 10 91 89 44 70 76]\n",
            " [25 95 47 58 95 40 21 44  9 18]\n",
            " [ 3 75 76  0 27 24 46 82 77 83]\n",
            " [18 10 15  8 16 94 50 82 68 21]\n",
            " [36 20 42 72  6 48 61 59 43 91]\n",
            " [44  9 69 96 71 23 32 89 16 19]\n",
            " [79 29 78 50 52 31 30 80 37 94]\n",
            " [15 72 86 98 98  7  0 62 97 24]\n",
            " [37 69 93  4 22 56 70 39 87 19]]\n"
          ]
        }
      ]
    },
    {
      "cell_type": "code",
      "source": [
        "print(array[0,[True, False,True, False,True, False,True, False,True, False]]) # True 위치에 있는 것들만 인덱싱"
      ],
      "metadata": {
        "colab": {
          "base_uri": "https://localhost:8080/"
        },
        "id": "JKxLkJP91DOb",
        "outputId": "9f6ba6c1-d437-4a5a-d988-e9113ab5f815"
      },
      "execution_count": 69,
      "outputs": [
        {
          "output_type": "stream",
          "name": "stdout",
          "text": [
            "[45 90 14 99 19]\n"
          ]
        }
      ]
    },
    {
      "cell_type": "code",
      "source": [
        "# 배열 array의 원소들 중 홀수들만 찾기:\n",
        "print(array[0][array[0] %2 == 1])"
      ],
      "metadata": {
        "colab": {
          "base_uri": "https://localhost:8080/"
        },
        "id": "mBYSaeUp1QON",
        "outputId": "88919977-d214-448b-da0c-48c7761e97e5"
      },
      "execution_count": 79,
      "outputs": [
        {
          "output_type": "stream",
          "name": "stdout",
          "text": [
            "[45 93 83 99 19]\n"
          ]
        }
      ]
    },
    {
      "cell_type": "code",
      "source": [
        "# 배열 array의 원소들 중에서 50 이상 숫자들의 배열을 찾기:\n",
        "print(array[array>=50])"
      ],
      "metadata": {
        "colab": {
          "base_uri": "https://localhost:8080/"
        },
        "id": "2xbyIay114bC",
        "outputId": "67f9d151-f5fe-4f4f-8932-4f4023545141"
      },
      "execution_count": 77,
      "outputs": [
        {
          "output_type": "stream",
          "name": "stdout",
          "text": [
            "[90 93 83 99 66 52 91 89 70 76 95 58 95 75 76 82 77 83 94 50 82 68 72 61\n",
            " 59 91 69 96 71 89 79 78 50 52 80 94 72 86 98 98 62 97 69 93 56 70 87]\n"
          ]
        }
      ]
    },
    {
      "cell_type": "markdown",
      "source": [
        "## NumPy 의 통계함수, 메서드\n",
        "\n",
        "* np.function(ndarray) 함수\n",
        "* np.ndarray.method() 메서드\n",
        "\n"
      ],
      "metadata": {
        "id": "dCgT15nb3nUh"
      }
    },
    {
      "cell_type": "code",
      "source": [
        "array = np.array([1,2,3,4,5])"
      ],
      "metadata": {
        "id": "lppDDQbp4Auk"
      },
      "execution_count": 80,
      "outputs": []
    },
    {
      "cell_type": "code",
      "source": [
        "# 합계 :\n",
        "np.sum(array) # 함수\n",
        "print(array.sum()) # 메서드"
      ],
      "metadata": {
        "colab": {
          "base_uri": "https://localhost:8080/"
        },
        "id": "yNAGYEfx21If",
        "outputId": "cb408f60-ae6a-4e67-8896-0d260e9c08f5"
      },
      "execution_count": 86,
      "outputs": [
        {
          "output_type": "stream",
          "name": "stdout",
          "text": [
            "15\n"
          ]
        }
      ]
    },
    {
      "cell_type": "code",
      "source": [
        "# 평균 :\n",
        "np.mean(array) # 함수\n",
        "print(array.mean()) # 메서드"
      ],
      "metadata": {
        "colab": {
          "base_uri": "https://localhost:8080/"
        },
        "id": "_VMMcFia4IAO",
        "outputId": "170dc9ae-f13d-4ebd-fe0b-91ff6f3a1202"
      },
      "execution_count": 87,
      "outputs": [
        {
          "output_type": "stream",
          "name": "stdout",
          "text": [
            "3.0\n"
          ]
        }
      ]
    },
    {
      "cell_type": "code",
      "source": [],
      "metadata": {
        "id": "vSAr8npk4QaM"
      },
      "execution_count": null,
      "outputs": []
    }
  ]
}