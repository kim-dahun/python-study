{
  "nbformat": 4,
  "nbformat_minor": 0,
  "metadata": {
    "colab": {
      "provenance": [],
      "authorship_tag": "ABX9TyMiakl6q/1L+rzqn/VDluwF",
      "include_colab_link": true
    },
    "kernelspec": {
      "name": "python3",
      "display_name": "Python 3"
    },
    "language_info": {
      "name": "python"
    }
  },
  "cells": [
    {
      "cell_type": "markdown",
      "metadata": {
        "id": "view-in-github",
        "colab_type": "text"
      },
      "source": [
        "<a href=\"https://colab.research.google.com/github/kim-dahun/python-study/blob/main/py06_tuple_set_dict.ipynb\" target=\"_parent\"><img src=\"https://colab.research.google.com/assets/colab-badge.svg\" alt=\"Open In Colab\"/></a>"
      ]
    },
    {
      "cell_type": "markdown",
      "source": [
        "# Tuple(튜플)\n",
        "\n",
        "* 하나의 변수에 여러 개의 값들을 저장하기 위한 자료 타입.\n",
        "* 저장된 원소(아이템)들을 변경할 수 없는 리스트.\n",
        "  * `append()`, `remove()` 와 같은 원소를 변경하는 메서드(기능)은 제공하지 않음.\n",
        "* 인덱스 기반 자료 타입\n",
        "  * indexing, slicing\n",
        "  * 음수 인덱스도 사용 가능"
      ],
      "metadata": {
        "id": "RjFlsgLiWePn"
      }
    },
    {
      "cell_type": "code",
      "execution_count": 7,
      "metadata": {
        "colab": {
          "base_uri": "https://localhost:8080/"
        },
        "id": "ja7DG-vIWbKp",
        "outputId": "4cd9d29f-a541-454c-d485-2d8c6839dc4c"
      },
      "outputs": [
        {
          "output_type": "execute_result",
          "data": {
            "text/plain": [
              "tuple"
            ]
          },
          "metadata": {},
          "execution_count": 7
        }
      ],
      "source": [
        "# 숫자들을 저장하는 튜플\n",
        "numbers = (1,2,10,20,100,200)\n",
        "numbers\n",
        "type(numbers)"
      ]
    },
    {
      "cell_type": "markdown",
      "source": [
        "indexing : 인덱스를 사용해서 원소 1개를 참조하는 방법"
      ],
      "metadata": {
        "id": "9wWmI4z1Y0h1"
      }
    },
    {
      "cell_type": "code",
      "source": [
        "numbers[-1] # 튜플의 첫 번째 원소\n",
        "\n",
        "# slicing 자르기/부분집합\n",
        "\n",
        "numbers[:3]"
      ],
      "metadata": {
        "colab": {
          "base_uri": "https://localhost:8080/"
        },
        "id": "NaEsoLkRYxbC",
        "outputId": "3caaa8d1-f083-4ab2-8bb5-4efb38a1715a"
      },
      "execution_count": 11,
      "outputs": [
        {
          "output_type": "execute_result",
          "data": {
            "text/plain": [
              "(1, 2, 10)"
            ]
          },
          "metadata": {},
          "execution_count": 11
        }
      ]
    },
    {
      "cell_type": "markdown",
      "source": [
        "## decomposion(분해)"
      ],
      "metadata": {
        "id": "cguvpKMkZ-CM"
      }
    },
    {
      "cell_type": "code",
      "source": [
        "odds = (1,3,5)\n",
        "\n",
        "a = odds[0]\n",
        "b = odds[1]\n",
        "c = odds[2]\n",
        "\n",
        "print(a,b,c)"
      ],
      "metadata": {
        "colab": {
          "base_uri": "https://localhost:8080/"
        },
        "id": "PpebhD93aARu",
        "outputId": "c94e4a53-0369-4a52-cf12-9ee37b62efb6"
      },
      "execution_count": 13,
      "outputs": [
        {
          "output_type": "stream",
          "name": "stdout",
          "text": [
            "1 3 5\n"
          ]
        }
      ]
    },
    {
      "cell_type": "code",
      "source": [
        "x,y,z = (odds[0],odds[1],odds[2])"
      ],
      "metadata": {
        "id": "kX07qTXdalrg"
      },
      "execution_count": 16,
      "outputs": []
    },
    {
      "cell_type": "markdown",
      "source": [
        "tuple&for"
      ],
      "metadata": {
        "id": "TZ3SBYsWbQBt"
      }
    },
    {
      "cell_type": "code",
      "source": [
        "for _ in odds:\n",
        "  print(_)"
      ],
      "metadata": {
        "colab": {
          "base_uri": "https://localhost:8080/"
        },
        "id": "QC2l_Os-bXcr",
        "outputId": "b6631c35-a96e-4c09-be40-b2333b3a8077"
      },
      "execution_count": 18,
      "outputs": [
        {
          "output_type": "stream",
          "name": "stdout",
          "text": [
            "1\n",
            "3\n",
            "5\n"
          ]
        }
      ]
    },
    {
      "cell_type": "code",
      "source": [
        "numbers = [\n",
        "    [1,2,3],\n",
        "    [4,5,6],\n",
        "]\n",
        "numbers"
      ],
      "metadata": {
        "colab": {
          "base_uri": "https://localhost:8080/"
        },
        "id": "GLodIGXMcFW_",
        "outputId": "90916020-0f24-4a99-9d8e-095f0f05a9d8"
      },
      "execution_count": 20,
      "outputs": [
        {
          "output_type": "execute_result",
          "data": {
            "text/plain": [
              "[[1, 2, 3], [4, 5, 6]]"
            ]
          },
          "metadata": {},
          "execution_count": 20
        }
      ]
    },
    {
      "cell_type": "code",
      "source": [
        "len(numbers) # 2차원 리스트 numbers의 원소 갯수"
      ],
      "metadata": {
        "colab": {
          "base_uri": "https://localhost:8080/"
        },
        "id": "gzE_p1dzdIdw",
        "outputId": "8328b8ca-9594-4400-8b43-cffd5aad0ea6"
      },
      "execution_count": 22,
      "outputs": [
        {
          "output_type": "execute_result",
          "data": {
            "text/plain": [
              "2"
            ]
          },
          "metadata": {},
          "execution_count": 22
        }
      ]
    },
    {
      "cell_type": "code",
      "source": [
        "numbers[0][1]"
      ],
      "metadata": {
        "colab": {
          "base_uri": "https://localhost:8080/"
        },
        "id": "mC7amXMBdMOU",
        "outputId": "c393528c-cb92-4087-cbc3-46574ebc3c20"
      },
      "execution_count": 24,
      "outputs": [
        {
          "output_type": "execute_result",
          "data": {
            "text/plain": [
              "2"
            ]
          },
          "metadata": {},
          "execution_count": 24
        }
      ]
    },
    {
      "cell_type": "markdown",
      "source": [
        "Ex.\n",
        "1. 2x2 모양의 [0,10) 범위의 정수 난수 들을 저장하는 2차원 리스트 array1 생성\n",
        "\n",
        "1. 2x2 모양의 [0,10) 범위의 정수 난수들을 저장하는 2차원 리스트 arrya2 생성\n",
        "\n",
        "1. array1과 array2 의 같은 인덱스의 원소들끼리 덧셈결과를 저장하는 2차원 배열 생성 및 출력 ( add )"
      ],
      "metadata": {
        "id": "M4cJAgm4d36b"
      }
    },
    {
      "cell_type": "code",
      "source": [
        "import random"
      ],
      "metadata": {
        "id": "7-zdokEzeJYj"
      },
      "execution_count": 25,
      "outputs": []
    },
    {
      "cell_type": "code",
      "source": [
        "# 나의 풀이\n",
        "\n",
        "array1 = [[random.randrange(0,10) for _ in range(2)],[random.randrange(0,10) for _ in range(2)]]\n",
        "array2 = [[random.randrange(0,10) for _ in range(2)],[random.randrange(0,10) for _ in range(2)]]\n",
        "add = [[x+y for x,y in zip(array1[0],array2[0])],[x+y for x,y in zip(array1[1],array2[1])]]\n",
        "\n",
        "print(\"array1 =\",array1,\"\\n array2 =\",array2,\"\\n add =\",add)"
      ],
      "metadata": {
        "colab": {
          "base_uri": "https://localhost:8080/"
        },
        "id": "ffQAT5YEd2uF",
        "outputId": "79a9e2e6-0d97-47db-a854-db7d6f31ea08"
      },
      "execution_count": 31,
      "outputs": [
        {
          "output_type": "stream",
          "name": "stdout",
          "text": [
            "array1 = [[9, 1], [4, 0]] \n",
            " array2 = [[2, 3], [2, 7]] \n",
            " add = [[11, 4], [6, 7]]\n"
          ]
        }
      ]
    },
    {
      "cell_type": "code",
      "source": [
        "# 선생님 풀이\n",
        "\n",
        "array1 = [] # 빈 리스트 만들기\n",
        "\n",
        "for x in range(2):\n",
        "  row = []\n",
        "  # array1.insert(x,row)\n",
        "\n",
        "  for y in range(2):\n",
        "    row.append(random.randrange(0,10))\n",
        "    # element=random.randrange(0,10)\n",
        "    # array1[x].insert(y,element)\n",
        "  array1.append(row)\n",
        "print(array1)\n",
        "\n",
        "array2 = [[random.randrange(10) for _ in range(2)] for _ in range(2)]\n",
        "print(array2)\n",
        "\n",
        "add = [[x+y for x,y in zip(array1[z],array2[z]) ] for z in range(2)]\n",
        "print(add)"
      ],
      "metadata": {
        "colab": {
          "base_uri": "https://localhost:8080/"
        },
        "id": "Qb345LoUkh4O",
        "outputId": "36acdffb-d3f6-430c-d51b-9aa6a3b376d6"
      },
      "execution_count": 38,
      "outputs": [
        {
          "output_type": "stream",
          "name": "stdout",
          "text": [
            "[[7, 7], [9, 4]]\n",
            "[[7, 7], [6, 8]]\n",
            "[[14, 14], [15, 12]]\n"
          ]
        }
      ]
    },
    {
      "cell_type": "markdown",
      "source": [
        "# Set(집합)\n",
        "\n",
        "* 중복된 데이터를 허용하지 않음: `{1,2,2,3,3} = {1,2,3}`\n",
        "* 인덱스 기반의 자료 구조가 아님. 인덱스 없음\n",
        "  * 데이터의 저장 순서가 중요하지 않음: `{1,2,3} = {3,1,2}`\n",
        "  * indexing, slicing 기능을 제공하지 않음.\n",
        "  * for-in 구문에서 사용할 수 있는 iterable 타입.\n",
        "\n",
        "  "
      ],
      "metadata": {
        "id": "ntcQ33FnqQFU"
      }
    },
    {
      "cell_type": "code",
      "source": [
        "s = {1,2,2,3,3}\n",
        "s\n",
        "type(s)"
      ],
      "metadata": {
        "colab": {
          "base_uri": "https://localhost:8080/"
        },
        "id": "aV88MPW2qPFa",
        "outputId": "09b7a482-0feb-4d9c-cc4f-47f615077d58"
      },
      "execution_count": 41,
      "outputs": [
        {
          "output_type": "execute_result",
          "data": {
            "text/plain": [
              "set"
            ]
          },
          "metadata": {},
          "execution_count": 41
        }
      ]
    },
    {
      "cell_type": "code",
      "source": [
        "s.add(5) # set에 새로운 원소를 추가\n",
        "s\n",
        "s.add(4)\n",
        "s # 오름차순으로 자동정렬"
      ],
      "metadata": {
        "colab": {
          "base_uri": "https://localhost:8080/"
        },
        "id": "Xgd9qaMIrpYp",
        "outputId": "68704c2a-64dd-4273-a2c3-9a5b4d46bb07"
      },
      "execution_count": 44,
      "outputs": [
        {
          "output_type": "execute_result",
          "data": {
            "text/plain": [
              "{1, 2, 3, 4, 5}"
            ]
          },
          "metadata": {},
          "execution_count": 44
        }
      ]
    },
    {
      "cell_type": "code",
      "source": [
        "s.remove(3) # set의 원소를 삭제. 삭제할 원소를 argument로 전달\n",
        "s"
      ],
      "metadata": {
        "colab": {
          "base_uri": "https://localhost:8080/"
        },
        "id": "OkQrHGu5syhx",
        "outputId": "70ee299d-6432-405a-e7bb-c79fc721ff71"
      },
      "execution_count": 45,
      "outputs": [
        {
          "output_type": "execute_result",
          "data": {
            "text/plain": [
              "{1, 2, 4, 5}"
            ]
          },
          "metadata": {},
          "execution_count": 45
        }
      ]
    },
    {
      "cell_type": "code",
      "source": [
        "s.pop()\n",
        "s"
      ],
      "metadata": {
        "colab": {
          "base_uri": "https://localhost:8080/"
        },
        "id": "Z-xkFelps2w2",
        "outputId": "3e7da7c1-f5d2-4400-8bea-b48bc7181d27"
      },
      "execution_count": 46,
      "outputs": [
        {
          "output_type": "execute_result",
          "data": {
            "text/plain": [
              "{2, 4, 5}"
            ]
          },
          "metadata": {},
          "execution_count": 46
        }
      ]
    },
    {
      "cell_type": "code",
      "source": [
        "s2 = {2,3,4,5}\n",
        "\n",
        "s.union(s2) # 합집합"
      ],
      "metadata": {
        "colab": {
          "base_uri": "https://localhost:8080/"
        },
        "id": "nbPwyI8qs4Mn",
        "outputId": "4eec8d2a-22b8-457c-a097-0a0e38007da2"
      },
      "execution_count": 48,
      "outputs": [
        {
          "output_type": "execute_result",
          "data": {
            "text/plain": [
              "{2, 3, 4, 5}"
            ]
          },
          "metadata": {},
          "execution_count": 48
        }
      ]
    },
    {
      "cell_type": "code",
      "source": [
        "s.intersection(s2) # 교집합"
      ],
      "metadata": {
        "colab": {
          "base_uri": "https://localhost:8080/"
        },
        "id": "iPFrXwCVtuGj",
        "outputId": "8b683310-1cc2-4a1b-f896-03492cda8c1c"
      },
      "execution_count": 49,
      "outputs": [
        {
          "output_type": "execute_result",
          "data": {
            "text/plain": [
              "{2, 4, 5}"
            ]
          },
          "metadata": {},
          "execution_count": 49
        }
      ]
    },
    {
      "cell_type": "code",
      "source": [
        "s.difference(s2) # 차집합 s1 - s2"
      ],
      "metadata": {
        "colab": {
          "base_uri": "https://localhost:8080/"
        },
        "id": "ofrd3xnOtykf",
        "outputId": "381997cf-d00d-431e-cd2d-f0a26e54d35c"
      },
      "execution_count": 50,
      "outputs": [
        {
          "output_type": "execute_result",
          "data": {
            "text/plain": [
              "set()"
            ]
          },
          "metadata": {},
          "execution_count": 50
        }
      ]
    },
    {
      "cell_type": "code",
      "source": [
        "s2.difference(s) # 차집합 s2 - s1"
      ],
      "metadata": {
        "colab": {
          "base_uri": "https://localhost:8080/"
        },
        "id": "Fj9qhu8nt1si",
        "outputId": "0acb76a8-c7e5-418d-b270-e162ca898102"
      },
      "execution_count": 51,
      "outputs": [
        {
          "output_type": "execute_result",
          "data": {
            "text/plain": [
              "{3}"
            ]
          },
          "metadata": {},
          "execution_count": 51
        }
      ]
    },
    {
      "cell_type": "markdown",
      "source": [
        "# dict\n",
        "\n",
        "* dictionary(사전) 형식의 데이터 타입.\n",
        "* 키(key)를 기반으로 값(value)를 저장하는 데이터 타입\n",
        "  * list, tuple : 인덱스 기반의 데이터 타입.\n",
        "  * dict : key-value 기반의 데이터 타입"
      ],
      "metadata": {
        "id": "eahk78M_yA65"
      }
    },
    {
      "cell_type": "code",
      "source": [
        "students = {1:'홍길동',2:'허균',3:'오쌤'}\n",
        "students"
      ],
      "metadata": {
        "colab": {
          "base_uri": "https://localhost:8080/"
        },
        "id": "HiFJDFe8t5m4",
        "outputId": "672629a4-2c24-4fbc-da40-52d64a575e95"
      },
      "execution_count": 54,
      "outputs": [
        {
          "output_type": "execute_result",
          "data": {
            "text/plain": [
              "{1: '홍길동', 2: '허균', 3: '오쌤'}"
            ]
          },
          "metadata": {},
          "execution_count": 54
        }
      ]
    },
    {
      "cell_type": "code",
      "source": [
        "students.get(3)"
      ],
      "metadata": {
        "colab": {
          "base_uri": "https://localhost:8080/",
          "height": 35
        },
        "id": "c5j4D487zrkU",
        "outputId": "fe343166-bfdc-4c46-a0a6-52f4942dcafa"
      },
      "execution_count": 56,
      "outputs": [
        {
          "output_type": "execute_result",
          "data": {
            "text/plain": [
              "'오쌤'"
            ],
            "application/vnd.google.colaboratory.intrinsic+json": {
              "type": "string"
            }
          },
          "metadata": {},
          "execution_count": 56
        }
      ]
    },
    {
      "cell_type": "markdown",
      "source": [
        "`dict` 에서 키를 사용하는 방법은 `list` 또는 `tuple`과 마찬가지로 인덱스 연산자(`[]`) 를 사용함"
      ],
      "metadata": {
        "id": "LjxuIAas0RQY"
      }
    },
    {
      "cell_type": "code",
      "source": [
        "students[1]"
      ],
      "metadata": {
        "colab": {
          "base_uri": "https://localhost:8080/",
          "height": 35
        },
        "id": "vI5hEmWL08ME",
        "outputId": "6fbc8db4-3e2f-4458-d90a-7e47f3ab9663"
      },
      "execution_count": 58,
      "outputs": [
        {
          "output_type": "execute_result",
          "data": {
            "text/plain": [
              "'홍길동'"
            ],
            "application/vnd.google.colaboratory.intrinsic+json": {
              "type": "string"
            }
          },
          "metadata": {},
          "execution_count": 58
        }
      ]
    },
    {
      "cell_type": "code",
      "source": [
        "students[10]='홍길길동' # dict에 새로운 key-value 아이템을 추가"
      ],
      "metadata": {
        "id": "Q9yFdXCl09nk"
      },
      "execution_count": 59,
      "outputs": []
    },
    {
      "cell_type": "code",
      "source": [
        "students[3] = 'scott' # dict에서 key에 해당하는 value를 변경.\n",
        "students[3]"
      ],
      "metadata": {
        "colab": {
          "base_uri": "https://localhost:8080/",
          "height": 35
        },
        "id": "eF1m0M7C1BmK",
        "outputId": "6c1a6d1e-7294-4379-d4c5-0764b7032c06"
      },
      "execution_count": 66,
      "outputs": [
        {
          "output_type": "execute_result",
          "data": {
            "text/plain": [
              "'scott'"
            ],
            "application/vnd.google.colaboratory.intrinsic+json": {
              "type": "string"
            }
          },
          "metadata": {},
          "execution_count": 66
        }
      ]
    },
    {
      "cell_type": "code",
      "source": [
        "students.pop(3) # dict에서 해당하는 key의 item(key : value)을 삭제"
      ],
      "metadata": {
        "colab": {
          "base_uri": "https://localhost:8080/",
          "height": 35
        },
        "id": "CS3W9Bi61cUX",
        "outputId": "9c26fd96-1011-48c7-b828-964458e6c306"
      },
      "execution_count": 67,
      "outputs": [
        {
          "output_type": "execute_result",
          "data": {
            "text/plain": [
              "'scott'"
            ],
            "application/vnd.google.colaboratory.intrinsic+json": {
              "type": "string"
            }
          },
          "metadata": {},
          "execution_count": 67
        }
      ]
    },
    {
      "cell_type": "code",
      "source": [
        "students"
      ],
      "metadata": {
        "colab": {
          "base_uri": "https://localhost:8080/"
        },
        "id": "zlbH7lDy2JaK",
        "outputId": "5445cdb7-6679-446b-9d46-06ba55c4c3de"
      },
      "execution_count": 65,
      "outputs": [
        {
          "output_type": "execute_result",
          "data": {
            "text/plain": [
              "{1: '홍길동', 2: '허균', 10: '홍길길동'}"
            ]
          },
          "metadata": {},
          "execution_count": 65
        }
      ]
    },
    {
      "cell_type": "code",
      "source": [
        "book = {\n",
        "    'title' : '점프 투 파이썬',\n",
        "    'author' : ['박응용','웨스 매키니'],\n",
        "    'isbn' : 123456789\n",
        "}\n",
        "book['isbn']\n",
        "book['author'][0][0]"
      ],
      "metadata": {
        "colab": {
          "base_uri": "https://localhost:8080/",
          "height": 35
        },
        "id": "FNO-qTEU2RoP",
        "outputId": "0900c276-2417-449c-b1fc-f263c0ee3a50"
      },
      "execution_count": 71,
      "outputs": [
        {
          "output_type": "execute_result",
          "data": {
            "text/plain": [
              "'박'"
            ],
            "application/vnd.google.colaboratory.intrinsic+json": {
              "type": "string"
            }
          },
          "metadata": {},
          "execution_count": 71
        }
      ]
    },
    {
      "cell_type": "markdown",
      "source": [
        "dict & for"
      ],
      "metadata": {
        "id": "A7tyw8Eb32hO"
      }
    },
    {
      "cell_type": "code",
      "source": [
        "contact = {\n",
        "\n",
        "           'no' : 1,\n",
        "           'name' : '오쌤',\n",
        "           'phones' : ['010-1234-5678','02-2222-4444'],\n",
        "           'e-mails' : {\n",
        "              'company' : 'jake@itwill.co.kr',\n",
        "              'personal' : 'jake@naver.com'\n",
        "\n",
        "           }\n",
        "}"
      ],
      "metadata": {
        "id": "xFkAUALA34HP"
      },
      "execution_count": 72,
      "outputs": []
    },
    {
      "cell_type": "code",
      "source": [
        "contact"
      ],
      "metadata": {
        "colab": {
          "base_uri": "https://localhost:8080/"
        },
        "id": "PRywP0MY3Y25",
        "outputId": "191fb964-8545-4d12-93a9-c9ab70a70cf9"
      },
      "execution_count": 73,
      "outputs": [
        {
          "output_type": "execute_result",
          "data": {
            "text/plain": [
              "{'no': 1,\n",
              " 'name': '오쌤',\n",
              " 'phones': ['010-1234-5678', '02-2222-4444'],\n",
              " 'e-mails': {'company': 'jake@itwill.co.kr', 'personal': 'jake@naver.com'}}"
            ]
          },
          "metadata": {},
          "execution_count": 73
        }
      ]
    },
    {
      "cell_type": "code",
      "source": [
        "for k in contact: # dict에서 key만 꺼내옴.\n",
        "  print(k)"
      ],
      "metadata": {
        "colab": {
          "base_uri": "https://localhost:8080/"
        },
        "id": "1tyUcRea4aNj",
        "outputId": "7b6fb522-33e1-40c6-ede3-5ad25d43595c"
      },
      "execution_count": 74,
      "outputs": [
        {
          "output_type": "stream",
          "name": "stdout",
          "text": [
            "no\n",
            "name\n",
            "phones\n",
            "e-mails\n"
          ]
        }
      ]
    },
    {
      "cell_type": "markdown",
      "source": [
        "for-in 구문에서 dict를 사용하면 키(key) 를 iteration 함."
      ],
      "metadata": {
        "id": "o-XLw3TF418V"
      }
    },
    {
      "cell_type": "code",
      "source": [
        "for k in contact:\n",
        "  print(k,\":\",contact[k])"
      ],
      "metadata": {
        "colab": {
          "base_uri": "https://localhost:8080/"
        },
        "id": "wyjp3zY34lRl",
        "outputId": "9d4db0ca-e74e-46f7-89bb-9df970e14f93"
      },
      "execution_count": 76,
      "outputs": [
        {
          "output_type": "stream",
          "name": "stdout",
          "text": [
            "no : 1\n",
            "name : 오쌤\n",
            "phones : ['010-1234-5678', '02-2222-4444']\n",
            "e-mails : {'company': 'jake@itwill.co.kr', 'personal': 'jake@naver.com'}\n"
          ]
        }
      ]
    },
    {
      "cell_type": "code",
      "source": [
        "contact.keys() # dict의 key들의 리스트를 리턴"
      ],
      "metadata": {
        "colab": {
          "base_uri": "https://localhost:8080/"
        },
        "id": "e7XIrWLk4pyM",
        "outputId": "4664317f-b49d-43db-f197-0980aefe41e0"
      },
      "execution_count": 77,
      "outputs": [
        {
          "output_type": "execute_result",
          "data": {
            "text/plain": [
              "dict_keys(['no', 'name', 'phones', 'e-mails'])"
            ]
          },
          "metadata": {},
          "execution_count": 77
        }
      ]
    },
    {
      "cell_type": "code",
      "source": [
        "contact.values() # dict의 value들의 리스트를 리턴"
      ],
      "metadata": {
        "colab": {
          "base_uri": "https://localhost:8080/"
        },
        "id": "rJrVRVj15kUZ",
        "outputId": "bf2edd3f-8ec3-4bd0-b421-f7cc6fdd95a3"
      },
      "execution_count": 78,
      "outputs": [
        {
          "output_type": "execute_result",
          "data": {
            "text/plain": [
              "dict_values([1, '오쌤', ['010-1234-5678', '02-2222-4444'], {'company': 'jake@itwill.co.kr', 'personal': 'jake@naver.com'}])"
            ]
          },
          "metadata": {},
          "execution_count": 78
        }
      ]
    },
    {
      "cell_type": "code",
      "source": [
        "contact.items() # dict의 (key,value) 들의 튜플 리스트를 리턴"
      ],
      "metadata": {
        "colab": {
          "base_uri": "https://localhost:8080/"
        },
        "id": "m0TTNmaM5-es",
        "outputId": "e7e1fb7c-3446-4a06-a0d3-bc68e28a9f9e"
      },
      "execution_count": 79,
      "outputs": [
        {
          "output_type": "execute_result",
          "data": {
            "text/plain": [
              "dict_items([('no', 1), ('name', '오쌤'), ('phones', ['010-1234-5678', '02-2222-4444']), ('e-mails', {'company': 'jake@itwill.co.kr', 'personal': 'jake@naver.com'})])"
            ]
          },
          "metadata": {},
          "execution_count": 79
        }
      ]
    },
    {
      "cell_type": "code",
      "source": [
        "for k,v in contact.items():\n",
        "  print(k,v)"
      ],
      "metadata": {
        "colab": {
          "base_uri": "https://localhost:8080/"
        },
        "id": "WRB_I17D5_pb",
        "outputId": "9f5f27f7-90cf-4022-e84a-c1feecc9eefd"
      },
      "execution_count": 80,
      "outputs": [
        {
          "output_type": "stream",
          "name": "stdout",
          "text": [
            "no 1\n",
            "name 오쌤\n",
            "phones ['010-1234-5678', '02-2222-4444']\n",
            "e-mails {'company': 'jake@itwill.co.kr', 'personal': 'jake@naver.com'}\n"
          ]
        }
      ]
    },
    {
      "cell_type": "markdown",
      "source": [
        "Dictionary Comprehencsion"
      ],
      "metadata": {
        "id": "00V6we4u_WBK"
      }
    },
    {
      "cell_type": "code",
      "source": [
        "emp_no = [1001,1002,2001,2002] # 직원 번호\n",
        "emp_name = ['King','Scott','Allen','Tiger'] #직원 이름"
      ],
      "metadata": {
        "id": "CxchcdBN63QY"
      },
      "execution_count": 81,
      "outputs": []
    },
    {
      "cell_type": "code",
      "source": [
        "emp_list = { x : y for x,y in zip(emp_no,emp_name) }\n",
        "print(emp_list)"
      ],
      "metadata": {
        "colab": {
          "base_uri": "https://localhost:8080/"
        },
        "id": "4-Ir8Yn7_g2Z",
        "outputId": "d3fe0b31-0f96-478d-d06f-27a025406bdc"
      },
      "execution_count": 83,
      "outputs": [
        {
          "output_type": "stream",
          "name": "stdout",
          "text": [
            "{1001: 'King', 1002: 'Scott', 2001: 'Allen', 2002: 'Tiger'}\n"
          ]
        }
      ]
    },
    {
      "cell_type": "code",
      "source": [
        "strings = ['hello','java','sql','python','javascript']\n",
        "# 리스트 strings의 문자열을 key로 하고, 그 문자열의 길이를 값으로 하는 dict를 만들고 출력.\n",
        "\n",
        "string_len = { s : len(s) for s in strings }\n",
        "print(string_len)"
      ],
      "metadata": {
        "colab": {
          "base_uri": "https://localhost:8080/"
        },
        "id": "XiMLRQzQAHmi",
        "outputId": "c202d8a4-8e28-41a7-8257-3c494633c4af"
      },
      "execution_count": 84,
      "outputs": [
        {
          "output_type": "stream",
          "name": "stdout",
          "text": [
            "{'hello': 5, 'java': 4, 'sql': 3, 'python': 6, 'javascript': 10}\n"
          ]
        }
      ]
    },
    {
      "cell_type": "code",
      "source": [],
      "metadata": {
        "id": "e9O8APCGC1r-"
      },
      "execution_count": null,
      "outputs": []
    }
  ]
}