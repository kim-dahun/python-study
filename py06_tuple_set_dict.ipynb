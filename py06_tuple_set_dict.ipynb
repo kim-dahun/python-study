{
  "nbformat": 4,
  "nbformat_minor": 0,
  "metadata": {
    "colab": {
      "provenance": [],
      "authorship_tag": "ABX9TyPB1bLVbwhvDg7QaJZZUqgw",
      "include_colab_link": true
    },
    "kernelspec": {
      "name": "python3",
      "display_name": "Python 3"
    },
    "language_info": {
      "name": "python"
    }
  },
  "cells": [
    {
      "cell_type": "markdown",
      "metadata": {
        "id": "view-in-github",
        "colab_type": "text"
      },
      "source": [
        "<a href=\"https://colab.research.google.com/github/kim-dahun/python-study/blob/main/py06_tuple_set_dict.ipynb\" target=\"_parent\"><img src=\"https://colab.research.google.com/assets/colab-badge.svg\" alt=\"Open In Colab\"/></a>"
      ]
    },
    {
      "cell_type": "markdown",
      "source": [
        "# Tuple(튜플)\n",
        "\n",
        "* 하나의 변수에 여러 개의 값들을 저장하기 위한 자료 타입.\n",
        "* 저장된 원소(아이템)들을 변경할 수 없는 리스트.\n",
        "  * `append()`, `remove()` 와 같은 원소를 변경하는 메서드(기능)은 제공하지 않음.\n",
        "* 인덱스 기반 자료 타입\n",
        "  * indexing, slicing\n",
        "  * 음수 인덱스도 사용 가능"
      ],
      "metadata": {
        "id": "RjFlsgLiWePn"
      }
    },
    {
      "cell_type": "code",
      "execution_count": 7,
      "metadata": {
        "colab": {
          "base_uri": "https://localhost:8080/"
        },
        "id": "ja7DG-vIWbKp",
        "outputId": "4cd9d29f-a541-454c-d485-2d8c6839dc4c"
      },
      "outputs": [
        {
          "output_type": "execute_result",
          "data": {
            "text/plain": [
              "tuple"
            ]
          },
          "metadata": {},
          "execution_count": 7
        }
      ],
      "source": [
        "# 숫자들을 저장하는 튜플\n",
        "numbers = (1,2,10,20,100,200)\n",
        "numbers\n",
        "type(numbers)"
      ]
    },
    {
      "cell_type": "markdown",
      "source": [
        "indexing : 인덱스를 사용해서 원소 1개를 참조하는 방법"
      ],
      "metadata": {
        "id": "9wWmI4z1Y0h1"
      }
    },
    {
      "cell_type": "code",
      "source": [
        "numbers[-1] # 튜플의 첫 번째 원소\n",
        "\n",
        "# slicing 자르기/부분집합\n",
        "\n",
        "numbers[:3]"
      ],
      "metadata": {
        "colab": {
          "base_uri": "https://localhost:8080/"
        },
        "id": "NaEsoLkRYxbC",
        "outputId": "3caaa8d1-f083-4ab2-8bb5-4efb38a1715a"
      },
      "execution_count": 11,
      "outputs": [
        {
          "output_type": "execute_result",
          "data": {
            "text/plain": [
              "(1, 2, 10)"
            ]
          },
          "metadata": {},
          "execution_count": 11
        }
      ]
    },
    {
      "cell_type": "markdown",
      "source": [
        "## decomposion(분해)"
      ],
      "metadata": {
        "id": "cguvpKMkZ-CM"
      }
    },
    {
      "cell_type": "code",
      "source": [
        "odds = (1,3,5)\n",
        "\n",
        "a = odds[0]\n",
        "b = odds[1]\n",
        "c = odds[2]\n",
        "\n",
        "print(a,b,c)"
      ],
      "metadata": {
        "colab": {
          "base_uri": "https://localhost:8080/"
        },
        "id": "PpebhD93aARu",
        "outputId": "c94e4a53-0369-4a52-cf12-9ee37b62efb6"
      },
      "execution_count": 13,
      "outputs": [
        {
          "output_type": "stream",
          "name": "stdout",
          "text": [
            "1 3 5\n"
          ]
        }
      ]
    },
    {
      "cell_type": "code",
      "source": [
        "x,y,z = (odds[0],odds[1],odds[2])"
      ],
      "metadata": {
        "id": "kX07qTXdalrg"
      },
      "execution_count": 16,
      "outputs": []
    },
    {
      "cell_type": "markdown",
      "source": [
        "tuple&for"
      ],
      "metadata": {
        "id": "TZ3SBYsWbQBt"
      }
    },
    {
      "cell_type": "code",
      "source": [
        "for _ in odds:\n",
        "  print(_)"
      ],
      "metadata": {
        "colab": {
          "base_uri": "https://localhost:8080/"
        },
        "id": "QC2l_Os-bXcr",
        "outputId": "b6631c35-a96e-4c09-be40-b2333b3a8077"
      },
      "execution_count": 18,
      "outputs": [
        {
          "output_type": "stream",
          "name": "stdout",
          "text": [
            "1\n",
            "3\n",
            "5\n"
          ]
        }
      ]
    },
    {
      "cell_type": "code",
      "source": [
        "numbers = [\n",
        "    [1,2,3],\n",
        "    [4,5,6],\n",
        "]\n",
        "numbers"
      ],
      "metadata": {
        "colab": {
          "base_uri": "https://localhost:8080/"
        },
        "id": "GLodIGXMcFW_",
        "outputId": "90916020-0f24-4a99-9d8e-095f0f05a9d8"
      },
      "execution_count": 20,
      "outputs": [
        {
          "output_type": "execute_result",
          "data": {
            "text/plain": [
              "[[1, 2, 3], [4, 5, 6]]"
            ]
          },
          "metadata": {},
          "execution_count": 20
        }
      ]
    },
    {
      "cell_type": "code",
      "source": [
        "len(numbers) # 2차원 리스트 numbers의 원소 갯수"
      ],
      "metadata": {
        "colab": {
          "base_uri": "https://localhost:8080/"
        },
        "id": "gzE_p1dzdIdw",
        "outputId": "8328b8ca-9594-4400-8b43-cffd5aad0ea6"
      },
      "execution_count": 22,
      "outputs": [
        {
          "output_type": "execute_result",
          "data": {
            "text/plain": [
              "2"
            ]
          },
          "metadata": {},
          "execution_count": 22
        }
      ]
    },
    {
      "cell_type": "code",
      "source": [
        "numbers[0][1]"
      ],
      "metadata": {
        "colab": {
          "base_uri": "https://localhost:8080/"
        },
        "id": "mC7amXMBdMOU",
        "outputId": "c393528c-cb92-4087-cbc3-46574ebc3c20"
      },
      "execution_count": 24,
      "outputs": [
        {
          "output_type": "execute_result",
          "data": {
            "text/plain": [
              "2"
            ]
          },
          "metadata": {},
          "execution_count": 24
        }
      ]
    },
    {
      "cell_type": "markdown",
      "source": [
        "Ex.\n",
        "1. 2x2 모양의 [0,10) 범위의 정수 난수 들을 저장하는 2차원 리스트 array1 생성\n",
        "\n",
        "1. 2x2 모양의 [0,10) 범위의 정수 난수들을 저장하는 2차원 리스트 arrya2 생성\n",
        "\n",
        "1. array1과 array2 의 같은 인덱스의 원소들끼리 덧셈결과를 저장하는 2차원 배열 생성 및 출력 ( add )"
      ],
      "metadata": {
        "id": "M4cJAgm4d36b"
      }
    },
    {
      "cell_type": "code",
      "source": [
        "import random"
      ],
      "metadata": {
        "id": "7-zdokEzeJYj"
      },
      "execution_count": 25,
      "outputs": []
    },
    {
      "cell_type": "code",
      "source": [
        "# 나의 풀이\n",
        "\n",
        "array1 = [[random.randrange(0,10) for _ in range(2)],[random.randrange(0,10) for _ in range(2)]]\n",
        "array2 = [[random.randrange(0,10) for _ in range(2)],[random.randrange(0,10) for _ in range(2)]]\n",
        "add = [[x+y for x,y in zip(array1[0],array2[0])],[x+y for x,y in zip(array1[1],array2[1])]]\n",
        "\n",
        "print(\"array1 =\",array1,\"\\n array2 =\",array2,\"\\n add =\",add)"
      ],
      "metadata": {
        "colab": {
          "base_uri": "https://localhost:8080/"
        },
        "id": "ffQAT5YEd2uF",
        "outputId": "79a9e2e6-0d97-47db-a854-db7d6f31ea08"
      },
      "execution_count": 31,
      "outputs": [
        {
          "output_type": "stream",
          "name": "stdout",
          "text": [
            "array1 = [[9, 1], [4, 0]] \n",
            " array2 = [[2, 3], [2, 7]] \n",
            " add = [[11, 4], [6, 7]]\n"
          ]
        }
      ]
    },
    {
      "cell_type": "code",
      "source": [
        "# 선생님 풀이\n",
        "\n",
        "array1 = [] # 빈 리스트 만들기\n",
        "\n",
        "for x in range(2):\n",
        "  row = []\n",
        "  # array1.insert(x,row)\n",
        "\n",
        "  for y in range(2):\n",
        "    row.append(random.randrange(0,10))\n",
        "    # element=random.randrange(0,10)\n",
        "    # array1[x].insert(y,element)\n",
        "  array1.append(row)\n",
        "print(array1)\n",
        "\n",
        "array2 = [[random.randrange(10) for _ in range(2)] for _ in range(2)]\n",
        "print(array2)\n",
        "\n",
        "add = [[x+y for x,y in zip(array1[z],array2[z]) ] for z in range(2)]\n",
        "print(add)"
      ],
      "metadata": {
        "colab": {
          "base_uri": "https://localhost:8080/"
        },
        "id": "Qb345LoUkh4O",
        "outputId": "36acdffb-d3f6-430c-d51b-9aa6a3b376d6"
      },
      "execution_count": 38,
      "outputs": [
        {
          "output_type": "stream",
          "name": "stdout",
          "text": [
            "[[7, 7], [9, 4]]\n",
            "[[7, 7], [6, 8]]\n",
            "[[14, 14], [15, 12]]\n"
          ]
        }
      ]
    },
    {
      "cell_type": "markdown",
      "source": [
        "# Set(집합)\n",
        "\n",
        "* 중복된 데이터를 허용하지 않음: `{1,2,2,3,3} = {1,2,3}`\n",
        "* 인덱스 기반의 자료 구조가 아님. 인덱스 없음\n",
        "  * 데이터의 저장 순서가 중요하지 않음: `{1,2,3} = {3,1,2}`\n",
        "  * indexing, slicing 기능을 제공하지 않음."
      ],
      "metadata": {
        "id": "ntcQ33FnqQFU"
      }
    },
    {
      "cell_type": "code",
      "source": [],
      "metadata": {
        "id": "aV88MPW2qPFa"
      },
      "execution_count": null,
      "outputs": []
    }
  ]
}