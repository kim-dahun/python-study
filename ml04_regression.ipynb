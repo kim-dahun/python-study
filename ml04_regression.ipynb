{
  "nbformat": 4,
  "nbformat_minor": 0,
  "metadata": {
    "colab": {
      "provenance": [],
      "toc_visible": true,
      "authorship_tag": "ABX9TyOQoTNS3Voo99jcRmyx28TD",
      "include_colab_link": true
    },
    "kernelspec": {
      "name": "python3",
      "display_name": "Python 3"
    },
    "language_info": {
      "name": "python"
    }
  },
  "cells": [
    {
      "cell_type": "markdown",
      "metadata": {
        "id": "view-in-github",
        "colab_type": "text"
      },
      "source": [
        "<a href=\"https://colab.research.google.com/github/kim-dahun/python-study/blob/main/ml04_regression.ipynb\" target=\"_parent\"><img src=\"https://colab.research.google.com/assets/colab-badge.svg\" alt=\"Open In Colab\"/></a>"
      ]
    },
    {
      "cell_type": "markdown",
      "source": [
        "# Machine Learning(기계 학습)\n",
        "\n",
        "사람의 지도가 필요한 지 여부에 따라서\n",
        "* 지도학습(supervised learning) : 레이블이 있는 데이터를 학습\n",
        "  * 분류(classification) : 클래스를 분류\n",
        "    * 예 : 도미-빙어, setosa-versicolor-virginica, ...\n",
        "  * 회귀(regression): 숫자를 예측.\n",
        "    * 예 : 주가 예측, 집값 예측, ...\n",
        "* 비지도학습(unsupervised learning) : 레이블이 없는 데이터를 학습\n"
      ],
      "metadata": {
        "id": "UUsVCqkDQjFN"
      }
    },
    {
      "cell_type": "markdown",
      "source": [
        "# 문제 정의\n",
        "\n",
        "fish 데이터 셋에서 물고기의 무게(Weight)를 물고기의 다른 특성을 이용해서 예측\n",
        "\n",
        "* Perch(농어) 의 무게 예측\n",
        "  * 무게를 길이만으로 예측 : Weight ~ Length\n",
        "  * 무게를 다른 모든 특성들을 사용해서 예측 : Weight ~ Length + Diagonal + Height + Width\n",
        "\n",
        "* 용어:\n",
        "  * 예측하고자 하는 값 : 타겟, 레이블, 관심 변수, 종속 변수\n",
        "  * 예측하기 위해서 필요한 값(변수) : 특성(Feature), 독립변수"
      ],
      "metadata": {
        "id": "BW4sO28ISZPs"
      }
    },
    {
      "cell_type": "code",
      "execution_count": 118,
      "metadata": {
        "id": "N4ubLNqdQftP"
      },
      "outputs": [],
      "source": [
        "import numpy as np\n",
        "import pandas as pd\n",
        "import matplotlib.pyplot as plt\n",
        "import seaborn as sns\n",
        "\n",
        "from sklearn.preprocessing import StandardScaler,PolynomialFeatures # 다차항을 생성해 주는 변환기\n",
        "from sklearn.pipeline import Pipeline # 변환기와 추정기를 연결해주는 클래스.\n",
        "from sklearn.model_selection import train_test_split\n",
        "from sklearn.neighbors import KNeighborsRegressor # KNN 알고리즘을 이용한 수치 예측\n",
        "from sklearn.metrics import mean_absolute_error, mean_squared_error, r2_score\n",
        "from sklearn.linear_model import LinearRegression # 선형 회귀를 사용한 숫자 예측"
      ]
    },
    {
      "cell_type": "code",
      "source": [
        "fish_csv = 'https://github.com/JakeOh/20230228_itwill_java140_lab_python/raw/main/fish.csv'"
      ],
      "metadata": {
        "id": "gHjCmU1lUWXP"
      },
      "execution_count": 3,
      "outputs": []
    },
    {
      "cell_type": "code",
      "source": [
        "fish_df = pd.read_csv(fish_csv)"
      ],
      "metadata": {
        "id": "tlEkKIUiVApe"
      },
      "execution_count": 4,
      "outputs": []
    },
    {
      "cell_type": "code",
      "source": [
        "fish_df"
      ],
      "metadata": {
        "colab": {
          "base_uri": "https://localhost:8080/",
          "height": 423
        },
        "id": "b2GtTDwgVFFl",
        "outputId": "8fdf418e-3d0e-479f-a38c-5258270ae7fa"
      },
      "execution_count": 5,
      "outputs": [
        {
          "output_type": "execute_result",
          "data": {
            "text/plain": [
              "    Species  Weight  Length  Diagonal   Height   Width\n",
              "0     Bream   242.0    25.4      30.0  11.5200  4.0200\n",
              "1     Bream   290.0    26.3      31.2  12.4800  4.3056\n",
              "2     Bream   340.0    26.5      31.1  12.3778  4.6961\n",
              "3     Bream   363.0    29.0      33.5  12.7300  4.4555\n",
              "4     Bream   430.0    29.0      34.0  12.4440  5.1340\n",
              "..      ...     ...     ...       ...      ...     ...\n",
              "154   Smelt    12.2    12.2      13.4   2.0904  1.3936\n",
              "155   Smelt    13.4    12.4      13.5   2.4300  1.2690\n",
              "156   Smelt    12.2    13.0      13.8   2.2770  1.2558\n",
              "157   Smelt    19.7    14.3      15.2   2.8728  2.0672\n",
              "158   Smelt    19.9    15.0      16.2   2.9322  1.8792\n",
              "\n",
              "[159 rows x 6 columns]"
            ],
            "text/html": [
              "\n",
              "\n",
              "  <div id=\"df-78fe92bc-3e5c-49e6-8363-e9e35f92aeab\">\n",
              "    <div class=\"colab-df-container\">\n",
              "      <div>\n",
              "<style scoped>\n",
              "    .dataframe tbody tr th:only-of-type {\n",
              "        vertical-align: middle;\n",
              "    }\n",
              "\n",
              "    .dataframe tbody tr th {\n",
              "        vertical-align: top;\n",
              "    }\n",
              "\n",
              "    .dataframe thead th {\n",
              "        text-align: right;\n",
              "    }\n",
              "</style>\n",
              "<table border=\"1\" class=\"dataframe\">\n",
              "  <thead>\n",
              "    <tr style=\"text-align: right;\">\n",
              "      <th></th>\n",
              "      <th>Species</th>\n",
              "      <th>Weight</th>\n",
              "      <th>Length</th>\n",
              "      <th>Diagonal</th>\n",
              "      <th>Height</th>\n",
              "      <th>Width</th>\n",
              "    </tr>\n",
              "  </thead>\n",
              "  <tbody>\n",
              "    <tr>\n",
              "      <th>0</th>\n",
              "      <td>Bream</td>\n",
              "      <td>242.0</td>\n",
              "      <td>25.4</td>\n",
              "      <td>30.0</td>\n",
              "      <td>11.5200</td>\n",
              "      <td>4.0200</td>\n",
              "    </tr>\n",
              "    <tr>\n",
              "      <th>1</th>\n",
              "      <td>Bream</td>\n",
              "      <td>290.0</td>\n",
              "      <td>26.3</td>\n",
              "      <td>31.2</td>\n",
              "      <td>12.4800</td>\n",
              "      <td>4.3056</td>\n",
              "    </tr>\n",
              "    <tr>\n",
              "      <th>2</th>\n",
              "      <td>Bream</td>\n",
              "      <td>340.0</td>\n",
              "      <td>26.5</td>\n",
              "      <td>31.1</td>\n",
              "      <td>12.3778</td>\n",
              "      <td>4.6961</td>\n",
              "    </tr>\n",
              "    <tr>\n",
              "      <th>3</th>\n",
              "      <td>Bream</td>\n",
              "      <td>363.0</td>\n",
              "      <td>29.0</td>\n",
              "      <td>33.5</td>\n",
              "      <td>12.7300</td>\n",
              "      <td>4.4555</td>\n",
              "    </tr>\n",
              "    <tr>\n",
              "      <th>4</th>\n",
              "      <td>Bream</td>\n",
              "      <td>430.0</td>\n",
              "      <td>29.0</td>\n",
              "      <td>34.0</td>\n",
              "      <td>12.4440</td>\n",
              "      <td>5.1340</td>\n",
              "    </tr>\n",
              "    <tr>\n",
              "      <th>...</th>\n",
              "      <td>...</td>\n",
              "      <td>...</td>\n",
              "      <td>...</td>\n",
              "      <td>...</td>\n",
              "      <td>...</td>\n",
              "      <td>...</td>\n",
              "    </tr>\n",
              "    <tr>\n",
              "      <th>154</th>\n",
              "      <td>Smelt</td>\n",
              "      <td>12.2</td>\n",
              "      <td>12.2</td>\n",
              "      <td>13.4</td>\n",
              "      <td>2.0904</td>\n",
              "      <td>1.3936</td>\n",
              "    </tr>\n",
              "    <tr>\n",
              "      <th>155</th>\n",
              "      <td>Smelt</td>\n",
              "      <td>13.4</td>\n",
              "      <td>12.4</td>\n",
              "      <td>13.5</td>\n",
              "      <td>2.4300</td>\n",
              "      <td>1.2690</td>\n",
              "    </tr>\n",
              "    <tr>\n",
              "      <th>156</th>\n",
              "      <td>Smelt</td>\n",
              "      <td>12.2</td>\n",
              "      <td>13.0</td>\n",
              "      <td>13.8</td>\n",
              "      <td>2.2770</td>\n",
              "      <td>1.2558</td>\n",
              "    </tr>\n",
              "    <tr>\n",
              "      <th>157</th>\n",
              "      <td>Smelt</td>\n",
              "      <td>19.7</td>\n",
              "      <td>14.3</td>\n",
              "      <td>15.2</td>\n",
              "      <td>2.8728</td>\n",
              "      <td>2.0672</td>\n",
              "    </tr>\n",
              "    <tr>\n",
              "      <th>158</th>\n",
              "      <td>Smelt</td>\n",
              "      <td>19.9</td>\n",
              "      <td>15.0</td>\n",
              "      <td>16.2</td>\n",
              "      <td>2.9322</td>\n",
              "      <td>1.8792</td>\n",
              "    </tr>\n",
              "  </tbody>\n",
              "</table>\n",
              "<p>159 rows × 6 columns</p>\n",
              "</div>\n",
              "      <button class=\"colab-df-convert\" onclick=\"convertToInteractive('df-78fe92bc-3e5c-49e6-8363-e9e35f92aeab')\"\n",
              "              title=\"Convert this dataframe to an interactive table.\"\n",
              "              style=\"display:none;\">\n",
              "\n",
              "  <svg xmlns=\"http://www.w3.org/2000/svg\" height=\"24px\"viewBox=\"0 0 24 24\"\n",
              "       width=\"24px\">\n",
              "    <path d=\"M0 0h24v24H0V0z\" fill=\"none\"/>\n",
              "    <path d=\"M18.56 5.44l.94 2.06.94-2.06 2.06-.94-2.06-.94-.94-2.06-.94 2.06-2.06.94zm-11 1L8.5 8.5l.94-2.06 2.06-.94-2.06-.94L8.5 2.5l-.94 2.06-2.06.94zm10 10l.94 2.06.94-2.06 2.06-.94-2.06-.94-.94-2.06-.94 2.06-2.06.94z\"/><path d=\"M17.41 7.96l-1.37-1.37c-.4-.4-.92-.59-1.43-.59-.52 0-1.04.2-1.43.59L10.3 9.45l-7.72 7.72c-.78.78-.78 2.05 0 2.83L4 21.41c.39.39.9.59 1.41.59.51 0 1.02-.2 1.41-.59l7.78-7.78 2.81-2.81c.8-.78.8-2.07 0-2.86zM5.41 20L4 18.59l7.72-7.72 1.47 1.35L5.41 20z\"/>\n",
              "  </svg>\n",
              "      </button>\n",
              "\n",
              "\n",
              "\n",
              "    <div id=\"df-29de0316-700a-4fb7-af25-2838f27606b0\">\n",
              "      <button class=\"colab-df-quickchart\" onclick=\"quickchart('df-29de0316-700a-4fb7-af25-2838f27606b0')\"\n",
              "              title=\"Suggest charts.\"\n",
              "              style=\"display:none;\">\n",
              "\n",
              "<svg xmlns=\"http://www.w3.org/2000/svg\" height=\"24px\"viewBox=\"0 0 24 24\"\n",
              "     width=\"24px\">\n",
              "    <g>\n",
              "        <path d=\"M19 3H5c-1.1 0-2 .9-2 2v14c0 1.1.9 2 2 2h14c1.1 0 2-.9 2-2V5c0-1.1-.9-2-2-2zM9 17H7v-7h2v7zm4 0h-2V7h2v10zm4 0h-2v-4h2v4z\"/>\n",
              "    </g>\n",
              "</svg>\n",
              "      </button>\n",
              "    </div>\n",
              "\n",
              "<style>\n",
              "  .colab-df-quickchart {\n",
              "    background-color: #E8F0FE;\n",
              "    border: none;\n",
              "    border-radius: 50%;\n",
              "    cursor: pointer;\n",
              "    display: none;\n",
              "    fill: #1967D2;\n",
              "    height: 32px;\n",
              "    padding: 0 0 0 0;\n",
              "    width: 32px;\n",
              "  }\n",
              "\n",
              "  .colab-df-quickchart:hover {\n",
              "    background-color: #E2EBFA;\n",
              "    box-shadow: 0px 1px 2px rgba(60, 64, 67, 0.3), 0px 1px 3px 1px rgba(60, 64, 67, 0.15);\n",
              "    fill: #174EA6;\n",
              "  }\n",
              "\n",
              "  [theme=dark] .colab-df-quickchart {\n",
              "    background-color: #3B4455;\n",
              "    fill: #D2E3FC;\n",
              "  }\n",
              "\n",
              "  [theme=dark] .colab-df-quickchart:hover {\n",
              "    background-color: #434B5C;\n",
              "    box-shadow: 0px 1px 3px 1px rgba(0, 0, 0, 0.15);\n",
              "    filter: drop-shadow(0px 1px 2px rgba(0, 0, 0, 0.3));\n",
              "    fill: #FFFFFF;\n",
              "  }\n",
              "</style>\n",
              "\n",
              "    <script>\n",
              "      async function quickchart(key) {\n",
              "        const containerElement = document.querySelector('#' + key);\n",
              "        const charts = await google.colab.kernel.invokeFunction(\n",
              "            'suggestCharts', [key], {});\n",
              "      }\n",
              "    </script>\n",
              "\n",
              "      <script>\n",
              "\n",
              "function displayQuickchartButton(domScope) {\n",
              "  let quickchartButtonEl =\n",
              "    domScope.querySelector('#df-29de0316-700a-4fb7-af25-2838f27606b0 button.colab-df-quickchart');\n",
              "  quickchartButtonEl.style.display =\n",
              "    google.colab.kernel.accessAllowed ? 'block' : 'none';\n",
              "}\n",
              "\n",
              "        displayQuickchartButton(document);\n",
              "      </script>\n",
              "      <style>\n",
              "    .colab-df-container {\n",
              "      display:flex;\n",
              "      flex-wrap:wrap;\n",
              "      gap: 12px;\n",
              "    }\n",
              "\n",
              "    .colab-df-convert {\n",
              "      background-color: #E8F0FE;\n",
              "      border: none;\n",
              "      border-radius: 50%;\n",
              "      cursor: pointer;\n",
              "      display: none;\n",
              "      fill: #1967D2;\n",
              "      height: 32px;\n",
              "      padding: 0 0 0 0;\n",
              "      width: 32px;\n",
              "    }\n",
              "\n",
              "    .colab-df-convert:hover {\n",
              "      background-color: #E2EBFA;\n",
              "      box-shadow: 0px 1px 2px rgba(60, 64, 67, 0.3), 0px 1px 3px 1px rgba(60, 64, 67, 0.15);\n",
              "      fill: #174EA6;\n",
              "    }\n",
              "\n",
              "    [theme=dark] .colab-df-convert {\n",
              "      background-color: #3B4455;\n",
              "      fill: #D2E3FC;\n",
              "    }\n",
              "\n",
              "    [theme=dark] .colab-df-convert:hover {\n",
              "      background-color: #434B5C;\n",
              "      box-shadow: 0px 1px 3px 1px rgba(0, 0, 0, 0.15);\n",
              "      filter: drop-shadow(0px 1px 2px rgba(0, 0, 0, 0.3));\n",
              "      fill: #FFFFFF;\n",
              "    }\n",
              "  </style>\n",
              "\n",
              "      <script>\n",
              "        const buttonEl =\n",
              "          document.querySelector('#df-78fe92bc-3e5c-49e6-8363-e9e35f92aeab button.colab-df-convert');\n",
              "        buttonEl.style.display =\n",
              "          google.colab.kernel.accessAllowed ? 'block' : 'none';\n",
              "\n",
              "        async function convertToInteractive(key) {\n",
              "          const element = document.querySelector('#df-78fe92bc-3e5c-49e6-8363-e9e35f92aeab');\n",
              "          const dataTable =\n",
              "            await google.colab.kernel.invokeFunction('convertToInteractive',\n",
              "                                                     [key], {});\n",
              "          if (!dataTable) return;\n",
              "\n",
              "          const docLinkHtml = 'Like what you see? Visit the ' +\n",
              "            '<a target=\"_blank\" href=https://colab.research.google.com/notebooks/data_table.ipynb>data table notebook</a>'\n",
              "            + ' to learn more about interactive tables.';\n",
              "          element.innerHTML = '';\n",
              "          dataTable['output_type'] = 'display_data';\n",
              "          await google.colab.output.renderOutput(dataTable, element);\n",
              "          const docLink = document.createElement('div');\n",
              "          docLink.innerHTML = docLinkHtml;\n",
              "          element.appendChild(docLink);\n",
              "        }\n",
              "      </script>\n",
              "    </div>\n",
              "  </div>\n"
            ]
          },
          "metadata": {},
          "execution_count": 5
        }
      ]
    },
    {
      "cell_type": "code",
      "source": [
        "perch = fish_df[fish_df.Species == 'Perch']"
      ],
      "metadata": {
        "id": "JmsEr7p8VGDU"
      },
      "execution_count": 6,
      "outputs": []
    },
    {
      "cell_type": "code",
      "source": [
        "perch"
      ],
      "metadata": {
        "colab": {
          "base_uri": "https://localhost:8080/",
          "height": 1000
        },
        "id": "ZtJyHdynVrJ8",
        "outputId": "47750396-8ae3-4d34-9c21-17ba73477414"
      },
      "execution_count": 7,
      "outputs": [
        {
          "output_type": "execute_result",
          "data": {
            "text/plain": [
              "    Species  Weight  Length  Diagonal   Height   Width\n",
              "72    Perch     5.9     8.4       8.8   2.1120  1.4080\n",
              "73    Perch    32.0    13.7      14.7   3.5280  1.9992\n",
              "74    Perch    40.0    15.0      16.0   3.8240  2.4320\n",
              "75    Perch    51.5    16.2      17.2   4.5924  2.6316\n",
              "76    Perch    70.0    17.4      18.5   4.5880  2.9415\n",
              "77    Perch   100.0    18.0      19.2   5.2224  3.3216\n",
              "78    Perch    78.0    18.7      19.4   5.1992  3.1234\n",
              "79    Perch    80.0    19.0      20.2   5.6358  3.0502\n",
              "80    Perch    85.0    19.6      20.8   5.1376  3.0368\n",
              "81    Perch    85.0    20.0      21.0   5.0820  2.7720\n",
              "82    Perch   110.0    21.0      22.5   5.6925  3.5550\n",
              "83    Perch   115.0    21.0      22.5   5.9175  3.3075\n",
              "84    Perch   125.0    21.0      22.5   5.6925  3.6675\n",
              "85    Perch   130.0    21.3      22.8   6.3840  3.5340\n",
              "86    Perch   120.0    22.0      23.5   6.1100  3.4075\n",
              "87    Perch   120.0    22.0      23.5   5.6400  3.5250\n",
              "88    Perch   130.0    22.0      23.5   6.1100  3.5250\n",
              "89    Perch   135.0    22.0      23.5   5.8750  3.5250\n",
              "90    Perch   110.0    22.0      23.5   5.5225  3.9950\n",
              "91    Perch   130.0    22.5      24.0   5.8560  3.6240\n",
              "92    Perch   150.0    22.5      24.0   6.7920  3.6240\n",
              "93    Perch   145.0    22.7      24.2   5.9532  3.6300\n",
              "94    Perch   150.0    23.0      24.5   5.2185  3.6260\n",
              "95    Perch   170.0    23.5      25.0   6.2750  3.7250\n",
              "96    Perch   225.0    24.0      25.5   7.2930  3.7230\n",
              "97    Perch   145.0    24.0      25.5   6.3750  3.8250\n",
              "98    Perch   188.0    24.6      26.2   6.7334  4.1658\n",
              "99    Perch   180.0    25.0      26.5   6.4395  3.6835\n",
              "100   Perch   197.0    25.6      27.0   6.5610  4.2390\n",
              "101   Perch   218.0    26.5      28.0   7.1680  4.1440\n",
              "102   Perch   300.0    27.3      28.7   8.3230  5.1373\n",
              "103   Perch   260.0    27.5      28.9   7.1672  4.3350\n",
              "104   Perch   265.0    27.5      28.9   7.0516  4.3350\n",
              "105   Perch   250.0    27.5      28.9   7.2828  4.5662\n",
              "106   Perch   250.0    28.0      29.4   7.8204  4.2042\n",
              "107   Perch   300.0    28.7      30.1   7.5852  4.6354\n",
              "108   Perch   320.0    30.0      31.6   7.6156  4.7716\n",
              "109   Perch   514.0    32.8      34.0  10.0300  6.0180\n",
              "110   Perch   556.0    34.5      36.5  10.2565  6.3875\n",
              "111   Perch   840.0    35.0      37.3  11.4884  7.7957\n",
              "112   Perch   685.0    36.5      39.0  10.8810  6.8640\n",
              "113   Perch   700.0    36.0      38.3  10.6091  6.7408\n",
              "114   Perch   700.0    37.0      39.4  10.8350  6.2646\n",
              "115   Perch   690.0    37.0      39.3  10.5717  6.3666\n",
              "116   Perch   900.0    39.0      41.4  11.1366  7.4934\n",
              "117   Perch   650.0    39.0      41.4  11.1366  6.0030\n",
              "118   Perch   820.0    39.0      41.3  12.4313  7.3514\n",
              "119   Perch   850.0    40.0      42.3  11.9286  7.1064\n",
              "120   Perch   900.0    40.0      42.5  11.7300  7.2250\n",
              "121   Perch  1015.0    40.0      42.4  12.3808  7.4624\n",
              "122   Perch   820.0    40.0      42.5  11.1350  6.6300\n",
              "123   Perch  1100.0    42.0      44.6  12.8002  6.8684\n",
              "124   Perch  1000.0    43.0      45.2  11.9328  7.2772\n",
              "125   Perch  1100.0    43.0      45.5  12.5125  7.4165\n",
              "126   Perch  1000.0    43.5      46.0  12.6040  8.1420\n",
              "127   Perch  1000.0    44.0      46.6  12.4888  7.5958"
            ],
            "text/html": [
              "\n",
              "\n",
              "  <div id=\"df-b819826e-5811-4813-92ce-127bbba5e461\">\n",
              "    <div class=\"colab-df-container\">\n",
              "      <div>\n",
              "<style scoped>\n",
              "    .dataframe tbody tr th:only-of-type {\n",
              "        vertical-align: middle;\n",
              "    }\n",
              "\n",
              "    .dataframe tbody tr th {\n",
              "        vertical-align: top;\n",
              "    }\n",
              "\n",
              "    .dataframe thead th {\n",
              "        text-align: right;\n",
              "    }\n",
              "</style>\n",
              "<table border=\"1\" class=\"dataframe\">\n",
              "  <thead>\n",
              "    <tr style=\"text-align: right;\">\n",
              "      <th></th>\n",
              "      <th>Species</th>\n",
              "      <th>Weight</th>\n",
              "      <th>Length</th>\n",
              "      <th>Diagonal</th>\n",
              "      <th>Height</th>\n",
              "      <th>Width</th>\n",
              "    </tr>\n",
              "  </thead>\n",
              "  <tbody>\n",
              "    <tr>\n",
              "      <th>72</th>\n",
              "      <td>Perch</td>\n",
              "      <td>5.9</td>\n",
              "      <td>8.4</td>\n",
              "      <td>8.8</td>\n",
              "      <td>2.1120</td>\n",
              "      <td>1.4080</td>\n",
              "    </tr>\n",
              "    <tr>\n",
              "      <th>73</th>\n",
              "      <td>Perch</td>\n",
              "      <td>32.0</td>\n",
              "      <td>13.7</td>\n",
              "      <td>14.7</td>\n",
              "      <td>3.5280</td>\n",
              "      <td>1.9992</td>\n",
              "    </tr>\n",
              "    <tr>\n",
              "      <th>74</th>\n",
              "      <td>Perch</td>\n",
              "      <td>40.0</td>\n",
              "      <td>15.0</td>\n",
              "      <td>16.0</td>\n",
              "      <td>3.8240</td>\n",
              "      <td>2.4320</td>\n",
              "    </tr>\n",
              "    <tr>\n",
              "      <th>75</th>\n",
              "      <td>Perch</td>\n",
              "      <td>51.5</td>\n",
              "      <td>16.2</td>\n",
              "      <td>17.2</td>\n",
              "      <td>4.5924</td>\n",
              "      <td>2.6316</td>\n",
              "    </tr>\n",
              "    <tr>\n",
              "      <th>76</th>\n",
              "      <td>Perch</td>\n",
              "      <td>70.0</td>\n",
              "      <td>17.4</td>\n",
              "      <td>18.5</td>\n",
              "      <td>4.5880</td>\n",
              "      <td>2.9415</td>\n",
              "    </tr>\n",
              "    <tr>\n",
              "      <th>77</th>\n",
              "      <td>Perch</td>\n",
              "      <td>100.0</td>\n",
              "      <td>18.0</td>\n",
              "      <td>19.2</td>\n",
              "      <td>5.2224</td>\n",
              "      <td>3.3216</td>\n",
              "    </tr>\n",
              "    <tr>\n",
              "      <th>78</th>\n",
              "      <td>Perch</td>\n",
              "      <td>78.0</td>\n",
              "      <td>18.7</td>\n",
              "      <td>19.4</td>\n",
              "      <td>5.1992</td>\n",
              "      <td>3.1234</td>\n",
              "    </tr>\n",
              "    <tr>\n",
              "      <th>79</th>\n",
              "      <td>Perch</td>\n",
              "      <td>80.0</td>\n",
              "      <td>19.0</td>\n",
              "      <td>20.2</td>\n",
              "      <td>5.6358</td>\n",
              "      <td>3.0502</td>\n",
              "    </tr>\n",
              "    <tr>\n",
              "      <th>80</th>\n",
              "      <td>Perch</td>\n",
              "      <td>85.0</td>\n",
              "      <td>19.6</td>\n",
              "      <td>20.8</td>\n",
              "      <td>5.1376</td>\n",
              "      <td>3.0368</td>\n",
              "    </tr>\n",
              "    <tr>\n",
              "      <th>81</th>\n",
              "      <td>Perch</td>\n",
              "      <td>85.0</td>\n",
              "      <td>20.0</td>\n",
              "      <td>21.0</td>\n",
              "      <td>5.0820</td>\n",
              "      <td>2.7720</td>\n",
              "    </tr>\n",
              "    <tr>\n",
              "      <th>82</th>\n",
              "      <td>Perch</td>\n",
              "      <td>110.0</td>\n",
              "      <td>21.0</td>\n",
              "      <td>22.5</td>\n",
              "      <td>5.6925</td>\n",
              "      <td>3.5550</td>\n",
              "    </tr>\n",
              "    <tr>\n",
              "      <th>83</th>\n",
              "      <td>Perch</td>\n",
              "      <td>115.0</td>\n",
              "      <td>21.0</td>\n",
              "      <td>22.5</td>\n",
              "      <td>5.9175</td>\n",
              "      <td>3.3075</td>\n",
              "    </tr>\n",
              "    <tr>\n",
              "      <th>84</th>\n",
              "      <td>Perch</td>\n",
              "      <td>125.0</td>\n",
              "      <td>21.0</td>\n",
              "      <td>22.5</td>\n",
              "      <td>5.6925</td>\n",
              "      <td>3.6675</td>\n",
              "    </tr>\n",
              "    <tr>\n",
              "      <th>85</th>\n",
              "      <td>Perch</td>\n",
              "      <td>130.0</td>\n",
              "      <td>21.3</td>\n",
              "      <td>22.8</td>\n",
              "      <td>6.3840</td>\n",
              "      <td>3.5340</td>\n",
              "    </tr>\n",
              "    <tr>\n",
              "      <th>86</th>\n",
              "      <td>Perch</td>\n",
              "      <td>120.0</td>\n",
              "      <td>22.0</td>\n",
              "      <td>23.5</td>\n",
              "      <td>6.1100</td>\n",
              "      <td>3.4075</td>\n",
              "    </tr>\n",
              "    <tr>\n",
              "      <th>87</th>\n",
              "      <td>Perch</td>\n",
              "      <td>120.0</td>\n",
              "      <td>22.0</td>\n",
              "      <td>23.5</td>\n",
              "      <td>5.6400</td>\n",
              "      <td>3.5250</td>\n",
              "    </tr>\n",
              "    <tr>\n",
              "      <th>88</th>\n",
              "      <td>Perch</td>\n",
              "      <td>130.0</td>\n",
              "      <td>22.0</td>\n",
              "      <td>23.5</td>\n",
              "      <td>6.1100</td>\n",
              "      <td>3.5250</td>\n",
              "    </tr>\n",
              "    <tr>\n",
              "      <th>89</th>\n",
              "      <td>Perch</td>\n",
              "      <td>135.0</td>\n",
              "      <td>22.0</td>\n",
              "      <td>23.5</td>\n",
              "      <td>5.8750</td>\n",
              "      <td>3.5250</td>\n",
              "    </tr>\n",
              "    <tr>\n",
              "      <th>90</th>\n",
              "      <td>Perch</td>\n",
              "      <td>110.0</td>\n",
              "      <td>22.0</td>\n",
              "      <td>23.5</td>\n",
              "      <td>5.5225</td>\n",
              "      <td>3.9950</td>\n",
              "    </tr>\n",
              "    <tr>\n",
              "      <th>91</th>\n",
              "      <td>Perch</td>\n",
              "      <td>130.0</td>\n",
              "      <td>22.5</td>\n",
              "      <td>24.0</td>\n",
              "      <td>5.8560</td>\n",
              "      <td>3.6240</td>\n",
              "    </tr>\n",
              "    <tr>\n",
              "      <th>92</th>\n",
              "      <td>Perch</td>\n",
              "      <td>150.0</td>\n",
              "      <td>22.5</td>\n",
              "      <td>24.0</td>\n",
              "      <td>6.7920</td>\n",
              "      <td>3.6240</td>\n",
              "    </tr>\n",
              "    <tr>\n",
              "      <th>93</th>\n",
              "      <td>Perch</td>\n",
              "      <td>145.0</td>\n",
              "      <td>22.7</td>\n",
              "      <td>24.2</td>\n",
              "      <td>5.9532</td>\n",
              "      <td>3.6300</td>\n",
              "    </tr>\n",
              "    <tr>\n",
              "      <th>94</th>\n",
              "      <td>Perch</td>\n",
              "      <td>150.0</td>\n",
              "      <td>23.0</td>\n",
              "      <td>24.5</td>\n",
              "      <td>5.2185</td>\n",
              "      <td>3.6260</td>\n",
              "    </tr>\n",
              "    <tr>\n",
              "      <th>95</th>\n",
              "      <td>Perch</td>\n",
              "      <td>170.0</td>\n",
              "      <td>23.5</td>\n",
              "      <td>25.0</td>\n",
              "      <td>6.2750</td>\n",
              "      <td>3.7250</td>\n",
              "    </tr>\n",
              "    <tr>\n",
              "      <th>96</th>\n",
              "      <td>Perch</td>\n",
              "      <td>225.0</td>\n",
              "      <td>24.0</td>\n",
              "      <td>25.5</td>\n",
              "      <td>7.2930</td>\n",
              "      <td>3.7230</td>\n",
              "    </tr>\n",
              "    <tr>\n",
              "      <th>97</th>\n",
              "      <td>Perch</td>\n",
              "      <td>145.0</td>\n",
              "      <td>24.0</td>\n",
              "      <td>25.5</td>\n",
              "      <td>6.3750</td>\n",
              "      <td>3.8250</td>\n",
              "    </tr>\n",
              "    <tr>\n",
              "      <th>98</th>\n",
              "      <td>Perch</td>\n",
              "      <td>188.0</td>\n",
              "      <td>24.6</td>\n",
              "      <td>26.2</td>\n",
              "      <td>6.7334</td>\n",
              "      <td>4.1658</td>\n",
              "    </tr>\n",
              "    <tr>\n",
              "      <th>99</th>\n",
              "      <td>Perch</td>\n",
              "      <td>180.0</td>\n",
              "      <td>25.0</td>\n",
              "      <td>26.5</td>\n",
              "      <td>6.4395</td>\n",
              "      <td>3.6835</td>\n",
              "    </tr>\n",
              "    <tr>\n",
              "      <th>100</th>\n",
              "      <td>Perch</td>\n",
              "      <td>197.0</td>\n",
              "      <td>25.6</td>\n",
              "      <td>27.0</td>\n",
              "      <td>6.5610</td>\n",
              "      <td>4.2390</td>\n",
              "    </tr>\n",
              "    <tr>\n",
              "      <th>101</th>\n",
              "      <td>Perch</td>\n",
              "      <td>218.0</td>\n",
              "      <td>26.5</td>\n",
              "      <td>28.0</td>\n",
              "      <td>7.1680</td>\n",
              "      <td>4.1440</td>\n",
              "    </tr>\n",
              "    <tr>\n",
              "      <th>102</th>\n",
              "      <td>Perch</td>\n",
              "      <td>300.0</td>\n",
              "      <td>27.3</td>\n",
              "      <td>28.7</td>\n",
              "      <td>8.3230</td>\n",
              "      <td>5.1373</td>\n",
              "    </tr>\n",
              "    <tr>\n",
              "      <th>103</th>\n",
              "      <td>Perch</td>\n",
              "      <td>260.0</td>\n",
              "      <td>27.5</td>\n",
              "      <td>28.9</td>\n",
              "      <td>7.1672</td>\n",
              "      <td>4.3350</td>\n",
              "    </tr>\n",
              "    <tr>\n",
              "      <th>104</th>\n",
              "      <td>Perch</td>\n",
              "      <td>265.0</td>\n",
              "      <td>27.5</td>\n",
              "      <td>28.9</td>\n",
              "      <td>7.0516</td>\n",
              "      <td>4.3350</td>\n",
              "    </tr>\n",
              "    <tr>\n",
              "      <th>105</th>\n",
              "      <td>Perch</td>\n",
              "      <td>250.0</td>\n",
              "      <td>27.5</td>\n",
              "      <td>28.9</td>\n",
              "      <td>7.2828</td>\n",
              "      <td>4.5662</td>\n",
              "    </tr>\n",
              "    <tr>\n",
              "      <th>106</th>\n",
              "      <td>Perch</td>\n",
              "      <td>250.0</td>\n",
              "      <td>28.0</td>\n",
              "      <td>29.4</td>\n",
              "      <td>7.8204</td>\n",
              "      <td>4.2042</td>\n",
              "    </tr>\n",
              "    <tr>\n",
              "      <th>107</th>\n",
              "      <td>Perch</td>\n",
              "      <td>300.0</td>\n",
              "      <td>28.7</td>\n",
              "      <td>30.1</td>\n",
              "      <td>7.5852</td>\n",
              "      <td>4.6354</td>\n",
              "    </tr>\n",
              "    <tr>\n",
              "      <th>108</th>\n",
              "      <td>Perch</td>\n",
              "      <td>320.0</td>\n",
              "      <td>30.0</td>\n",
              "      <td>31.6</td>\n",
              "      <td>7.6156</td>\n",
              "      <td>4.7716</td>\n",
              "    </tr>\n",
              "    <tr>\n",
              "      <th>109</th>\n",
              "      <td>Perch</td>\n",
              "      <td>514.0</td>\n",
              "      <td>32.8</td>\n",
              "      <td>34.0</td>\n",
              "      <td>10.0300</td>\n",
              "      <td>6.0180</td>\n",
              "    </tr>\n",
              "    <tr>\n",
              "      <th>110</th>\n",
              "      <td>Perch</td>\n",
              "      <td>556.0</td>\n",
              "      <td>34.5</td>\n",
              "      <td>36.5</td>\n",
              "      <td>10.2565</td>\n",
              "      <td>6.3875</td>\n",
              "    </tr>\n",
              "    <tr>\n",
              "      <th>111</th>\n",
              "      <td>Perch</td>\n",
              "      <td>840.0</td>\n",
              "      <td>35.0</td>\n",
              "      <td>37.3</td>\n",
              "      <td>11.4884</td>\n",
              "      <td>7.7957</td>\n",
              "    </tr>\n",
              "    <tr>\n",
              "      <th>112</th>\n",
              "      <td>Perch</td>\n",
              "      <td>685.0</td>\n",
              "      <td>36.5</td>\n",
              "      <td>39.0</td>\n",
              "      <td>10.8810</td>\n",
              "      <td>6.8640</td>\n",
              "    </tr>\n",
              "    <tr>\n",
              "      <th>113</th>\n",
              "      <td>Perch</td>\n",
              "      <td>700.0</td>\n",
              "      <td>36.0</td>\n",
              "      <td>38.3</td>\n",
              "      <td>10.6091</td>\n",
              "      <td>6.7408</td>\n",
              "    </tr>\n",
              "    <tr>\n",
              "      <th>114</th>\n",
              "      <td>Perch</td>\n",
              "      <td>700.0</td>\n",
              "      <td>37.0</td>\n",
              "      <td>39.4</td>\n",
              "      <td>10.8350</td>\n",
              "      <td>6.2646</td>\n",
              "    </tr>\n",
              "    <tr>\n",
              "      <th>115</th>\n",
              "      <td>Perch</td>\n",
              "      <td>690.0</td>\n",
              "      <td>37.0</td>\n",
              "      <td>39.3</td>\n",
              "      <td>10.5717</td>\n",
              "      <td>6.3666</td>\n",
              "    </tr>\n",
              "    <tr>\n",
              "      <th>116</th>\n",
              "      <td>Perch</td>\n",
              "      <td>900.0</td>\n",
              "      <td>39.0</td>\n",
              "      <td>41.4</td>\n",
              "      <td>11.1366</td>\n",
              "      <td>7.4934</td>\n",
              "    </tr>\n",
              "    <tr>\n",
              "      <th>117</th>\n",
              "      <td>Perch</td>\n",
              "      <td>650.0</td>\n",
              "      <td>39.0</td>\n",
              "      <td>41.4</td>\n",
              "      <td>11.1366</td>\n",
              "      <td>6.0030</td>\n",
              "    </tr>\n",
              "    <tr>\n",
              "      <th>118</th>\n",
              "      <td>Perch</td>\n",
              "      <td>820.0</td>\n",
              "      <td>39.0</td>\n",
              "      <td>41.3</td>\n",
              "      <td>12.4313</td>\n",
              "      <td>7.3514</td>\n",
              "    </tr>\n",
              "    <tr>\n",
              "      <th>119</th>\n",
              "      <td>Perch</td>\n",
              "      <td>850.0</td>\n",
              "      <td>40.0</td>\n",
              "      <td>42.3</td>\n",
              "      <td>11.9286</td>\n",
              "      <td>7.1064</td>\n",
              "    </tr>\n",
              "    <tr>\n",
              "      <th>120</th>\n",
              "      <td>Perch</td>\n",
              "      <td>900.0</td>\n",
              "      <td>40.0</td>\n",
              "      <td>42.5</td>\n",
              "      <td>11.7300</td>\n",
              "      <td>7.2250</td>\n",
              "    </tr>\n",
              "    <tr>\n",
              "      <th>121</th>\n",
              "      <td>Perch</td>\n",
              "      <td>1015.0</td>\n",
              "      <td>40.0</td>\n",
              "      <td>42.4</td>\n",
              "      <td>12.3808</td>\n",
              "      <td>7.4624</td>\n",
              "    </tr>\n",
              "    <tr>\n",
              "      <th>122</th>\n",
              "      <td>Perch</td>\n",
              "      <td>820.0</td>\n",
              "      <td>40.0</td>\n",
              "      <td>42.5</td>\n",
              "      <td>11.1350</td>\n",
              "      <td>6.6300</td>\n",
              "    </tr>\n",
              "    <tr>\n",
              "      <th>123</th>\n",
              "      <td>Perch</td>\n",
              "      <td>1100.0</td>\n",
              "      <td>42.0</td>\n",
              "      <td>44.6</td>\n",
              "      <td>12.8002</td>\n",
              "      <td>6.8684</td>\n",
              "    </tr>\n",
              "    <tr>\n",
              "      <th>124</th>\n",
              "      <td>Perch</td>\n",
              "      <td>1000.0</td>\n",
              "      <td>43.0</td>\n",
              "      <td>45.2</td>\n",
              "      <td>11.9328</td>\n",
              "      <td>7.2772</td>\n",
              "    </tr>\n",
              "    <tr>\n",
              "      <th>125</th>\n",
              "      <td>Perch</td>\n",
              "      <td>1100.0</td>\n",
              "      <td>43.0</td>\n",
              "      <td>45.5</td>\n",
              "      <td>12.5125</td>\n",
              "      <td>7.4165</td>\n",
              "    </tr>\n",
              "    <tr>\n",
              "      <th>126</th>\n",
              "      <td>Perch</td>\n",
              "      <td>1000.0</td>\n",
              "      <td>43.5</td>\n",
              "      <td>46.0</td>\n",
              "      <td>12.6040</td>\n",
              "      <td>8.1420</td>\n",
              "    </tr>\n",
              "    <tr>\n",
              "      <th>127</th>\n",
              "      <td>Perch</td>\n",
              "      <td>1000.0</td>\n",
              "      <td>44.0</td>\n",
              "      <td>46.6</td>\n",
              "      <td>12.4888</td>\n",
              "      <td>7.5958</td>\n",
              "    </tr>\n",
              "  </tbody>\n",
              "</table>\n",
              "</div>\n",
              "      <button class=\"colab-df-convert\" onclick=\"convertToInteractive('df-b819826e-5811-4813-92ce-127bbba5e461')\"\n",
              "              title=\"Convert this dataframe to an interactive table.\"\n",
              "              style=\"display:none;\">\n",
              "\n",
              "  <svg xmlns=\"http://www.w3.org/2000/svg\" height=\"24px\"viewBox=\"0 0 24 24\"\n",
              "       width=\"24px\">\n",
              "    <path d=\"M0 0h24v24H0V0z\" fill=\"none\"/>\n",
              "    <path d=\"M18.56 5.44l.94 2.06.94-2.06 2.06-.94-2.06-.94-.94-2.06-.94 2.06-2.06.94zm-11 1L8.5 8.5l.94-2.06 2.06-.94-2.06-.94L8.5 2.5l-.94 2.06-2.06.94zm10 10l.94 2.06.94-2.06 2.06-.94-2.06-.94-.94-2.06-.94 2.06-2.06.94z\"/><path d=\"M17.41 7.96l-1.37-1.37c-.4-.4-.92-.59-1.43-.59-.52 0-1.04.2-1.43.59L10.3 9.45l-7.72 7.72c-.78.78-.78 2.05 0 2.83L4 21.41c.39.39.9.59 1.41.59.51 0 1.02-.2 1.41-.59l7.78-7.78 2.81-2.81c.8-.78.8-2.07 0-2.86zM5.41 20L4 18.59l7.72-7.72 1.47 1.35L5.41 20z\"/>\n",
              "  </svg>\n",
              "      </button>\n",
              "\n",
              "\n",
              "\n",
              "    <div id=\"df-eba832fb-1ce4-4d9e-886b-f7312a278fd1\">\n",
              "      <button class=\"colab-df-quickchart\" onclick=\"quickchart('df-eba832fb-1ce4-4d9e-886b-f7312a278fd1')\"\n",
              "              title=\"Suggest charts.\"\n",
              "              style=\"display:none;\">\n",
              "\n",
              "<svg xmlns=\"http://www.w3.org/2000/svg\" height=\"24px\"viewBox=\"0 0 24 24\"\n",
              "     width=\"24px\">\n",
              "    <g>\n",
              "        <path d=\"M19 3H5c-1.1 0-2 .9-2 2v14c0 1.1.9 2 2 2h14c1.1 0 2-.9 2-2V5c0-1.1-.9-2-2-2zM9 17H7v-7h2v7zm4 0h-2V7h2v10zm4 0h-2v-4h2v4z\"/>\n",
              "    </g>\n",
              "</svg>\n",
              "      </button>\n",
              "    </div>\n",
              "\n",
              "<style>\n",
              "  .colab-df-quickchart {\n",
              "    background-color: #E8F0FE;\n",
              "    border: none;\n",
              "    border-radius: 50%;\n",
              "    cursor: pointer;\n",
              "    display: none;\n",
              "    fill: #1967D2;\n",
              "    height: 32px;\n",
              "    padding: 0 0 0 0;\n",
              "    width: 32px;\n",
              "  }\n",
              "\n",
              "  .colab-df-quickchart:hover {\n",
              "    background-color: #E2EBFA;\n",
              "    box-shadow: 0px 1px 2px rgba(60, 64, 67, 0.3), 0px 1px 3px 1px rgba(60, 64, 67, 0.15);\n",
              "    fill: #174EA6;\n",
              "  }\n",
              "\n",
              "  [theme=dark] .colab-df-quickchart {\n",
              "    background-color: #3B4455;\n",
              "    fill: #D2E3FC;\n",
              "  }\n",
              "\n",
              "  [theme=dark] .colab-df-quickchart:hover {\n",
              "    background-color: #434B5C;\n",
              "    box-shadow: 0px 1px 3px 1px rgba(0, 0, 0, 0.15);\n",
              "    filter: drop-shadow(0px 1px 2px rgba(0, 0, 0, 0.3));\n",
              "    fill: #FFFFFF;\n",
              "  }\n",
              "</style>\n",
              "\n",
              "    <script>\n",
              "      async function quickchart(key) {\n",
              "        const containerElement = document.querySelector('#' + key);\n",
              "        const charts = await google.colab.kernel.invokeFunction(\n",
              "            'suggestCharts', [key], {});\n",
              "      }\n",
              "    </script>\n",
              "\n",
              "      <script>\n",
              "\n",
              "function displayQuickchartButton(domScope) {\n",
              "  let quickchartButtonEl =\n",
              "    domScope.querySelector('#df-eba832fb-1ce4-4d9e-886b-f7312a278fd1 button.colab-df-quickchart');\n",
              "  quickchartButtonEl.style.display =\n",
              "    google.colab.kernel.accessAllowed ? 'block' : 'none';\n",
              "}\n",
              "\n",
              "        displayQuickchartButton(document);\n",
              "      </script>\n",
              "      <style>\n",
              "    .colab-df-container {\n",
              "      display:flex;\n",
              "      flex-wrap:wrap;\n",
              "      gap: 12px;\n",
              "    }\n",
              "\n",
              "    .colab-df-convert {\n",
              "      background-color: #E8F0FE;\n",
              "      border: none;\n",
              "      border-radius: 50%;\n",
              "      cursor: pointer;\n",
              "      display: none;\n",
              "      fill: #1967D2;\n",
              "      height: 32px;\n",
              "      padding: 0 0 0 0;\n",
              "      width: 32px;\n",
              "    }\n",
              "\n",
              "    .colab-df-convert:hover {\n",
              "      background-color: #E2EBFA;\n",
              "      box-shadow: 0px 1px 2px rgba(60, 64, 67, 0.3), 0px 1px 3px 1px rgba(60, 64, 67, 0.15);\n",
              "      fill: #174EA6;\n",
              "    }\n",
              "\n",
              "    [theme=dark] .colab-df-convert {\n",
              "      background-color: #3B4455;\n",
              "      fill: #D2E3FC;\n",
              "    }\n",
              "\n",
              "    [theme=dark] .colab-df-convert:hover {\n",
              "      background-color: #434B5C;\n",
              "      box-shadow: 0px 1px 3px 1px rgba(0, 0, 0, 0.15);\n",
              "      filter: drop-shadow(0px 1px 2px rgba(0, 0, 0, 0.3));\n",
              "      fill: #FFFFFF;\n",
              "    }\n",
              "  </style>\n",
              "\n",
              "      <script>\n",
              "        const buttonEl =\n",
              "          document.querySelector('#df-b819826e-5811-4813-92ce-127bbba5e461 button.colab-df-convert');\n",
              "        buttonEl.style.display =\n",
              "          google.colab.kernel.accessAllowed ? 'block' : 'none';\n",
              "\n",
              "        async function convertToInteractive(key) {\n",
              "          const element = document.querySelector('#df-b819826e-5811-4813-92ce-127bbba5e461');\n",
              "          const dataTable =\n",
              "            await google.colab.kernel.invokeFunction('convertToInteractive',\n",
              "                                                     [key], {});\n",
              "          if (!dataTable) return;\n",
              "\n",
              "          const docLinkHtml = 'Like what you see? Visit the ' +\n",
              "            '<a target=\"_blank\" href=https://colab.research.google.com/notebooks/data_table.ipynb>data table notebook</a>'\n",
              "            + ' to learn more about interactive tables.';\n",
              "          element.innerHTML = '';\n",
              "          dataTable['output_type'] = 'display_data';\n",
              "          await google.colab.output.renderOutput(dataTable, element);\n",
              "          const docLink = document.createElement('div');\n",
              "          docLink.innerHTML = docLinkHtml;\n",
              "          element.appendChild(docLink);\n",
              "        }\n",
              "      </script>\n",
              "    </div>\n",
              "  </div>\n"
            ]
          },
          "metadata": {},
          "execution_count": 7
        }
      ]
    },
    {
      "cell_type": "code",
      "source": [
        "# X: 특성 (2차원) 배열. 길이만 선택. (n_samples, n_features) = (56, 1)\n",
        "# y: 타겟 (1차원) 배열. 레이블. 무게. (n_samples,) = (56,)\n",
        "perch.info()"
      ],
      "metadata": {
        "colab": {
          "base_uri": "https://localhost:8080/"
        },
        "id": "zp2vWqiLVrsO",
        "outputId": "d7466cf4-6495-428a-aff1-09eae3438c3a"
      },
      "execution_count": 8,
      "outputs": [
        {
          "output_type": "stream",
          "name": "stdout",
          "text": [
            "<class 'pandas.core.frame.DataFrame'>\n",
            "Int64Index: 56 entries, 72 to 127\n",
            "Data columns (total 6 columns):\n",
            " #   Column    Non-Null Count  Dtype  \n",
            "---  ------    --------------  -----  \n",
            " 0   Species   56 non-null     object \n",
            " 1   Weight    56 non-null     float64\n",
            " 2   Length    56 non-null     float64\n",
            " 3   Diagonal  56 non-null     float64\n",
            " 4   Height    56 non-null     float64\n",
            " 5   Width     56 non-null     float64\n",
            "dtypes: float64(5), object(1)\n",
            "memory usage: 3.1+ KB\n"
          ]
        }
      ]
    },
    {
      "cell_type": "code",
      "source": [
        "X = perch[['Length']].values\n",
        "X"
      ],
      "metadata": {
        "colab": {
          "base_uri": "https://localhost:8080/"
        },
        "id": "eS8D36QpWFTy",
        "outputId": "1b07992c-af51-4c47-d832-6e5882b7f469"
      },
      "execution_count": 9,
      "outputs": [
        {
          "output_type": "execute_result",
          "data": {
            "text/plain": [
              "array([[ 8.4],\n",
              "       [13.7],\n",
              "       [15. ],\n",
              "       [16.2],\n",
              "       [17.4],\n",
              "       [18. ],\n",
              "       [18.7],\n",
              "       [19. ],\n",
              "       [19.6],\n",
              "       [20. ],\n",
              "       [21. ],\n",
              "       [21. ],\n",
              "       [21. ],\n",
              "       [21.3],\n",
              "       [22. ],\n",
              "       [22. ],\n",
              "       [22. ],\n",
              "       [22. ],\n",
              "       [22. ],\n",
              "       [22.5],\n",
              "       [22.5],\n",
              "       [22.7],\n",
              "       [23. ],\n",
              "       [23.5],\n",
              "       [24. ],\n",
              "       [24. ],\n",
              "       [24.6],\n",
              "       [25. ],\n",
              "       [25.6],\n",
              "       [26.5],\n",
              "       [27.3],\n",
              "       [27.5],\n",
              "       [27.5],\n",
              "       [27.5],\n",
              "       [28. ],\n",
              "       [28.7],\n",
              "       [30. ],\n",
              "       [32.8],\n",
              "       [34.5],\n",
              "       [35. ],\n",
              "       [36.5],\n",
              "       [36. ],\n",
              "       [37. ],\n",
              "       [37. ],\n",
              "       [39. ],\n",
              "       [39. ],\n",
              "       [39. ],\n",
              "       [40. ],\n",
              "       [40. ],\n",
              "       [40. ],\n",
              "       [40. ],\n",
              "       [42. ],\n",
              "       [43. ],\n",
              "       [43. ],\n",
              "       [43.5],\n",
              "       [44. ]])"
            ]
          },
          "metadata": {},
          "execution_count": 9
        }
      ]
    },
    {
      "cell_type": "code",
      "source": [
        "y = perch['Weight'].values"
      ],
      "metadata": {
        "id": "KrLP6cU2WYLD"
      },
      "execution_count": 10,
      "outputs": []
    },
    {
      "cell_type": "code",
      "source": [
        "y"
      ],
      "metadata": {
        "colab": {
          "base_uri": "https://localhost:8080/"
        },
        "id": "H1t4AuN6W-5K",
        "outputId": "9bb4145f-f689-497f-f65e-fd435cb114d2"
      },
      "execution_count": 11,
      "outputs": [
        {
          "output_type": "execute_result",
          "data": {
            "text/plain": [
              "array([   5.9,   32. ,   40. ,   51.5,   70. ,  100. ,   78. ,   80. ,\n",
              "         85. ,   85. ,  110. ,  115. ,  125. ,  130. ,  120. ,  120. ,\n",
              "        130. ,  135. ,  110. ,  130. ,  150. ,  145. ,  150. ,  170. ,\n",
              "        225. ,  145. ,  188. ,  180. ,  197. ,  218. ,  300. ,  260. ,\n",
              "        265. ,  250. ,  250. ,  300. ,  320. ,  514. ,  556. ,  840. ,\n",
              "        685. ,  700. ,  700. ,  690. ,  900. ,  650. ,  820. ,  850. ,\n",
              "        900. , 1015. ,  820. , 1100. , 1000. , 1100. , 1000. , 1000. ])"
            ]
          },
          "metadata": {},
          "execution_count": 11
        }
      ]
    },
    {
      "cell_type": "code",
      "source": [
        "X.shape"
      ],
      "metadata": {
        "colab": {
          "base_uri": "https://localhost:8080/"
        },
        "id": "gmOdcl5CW_lF",
        "outputId": "a54ece9c-256b-47a1-93e3-af7b7f5773fa"
      },
      "execution_count": 12,
      "outputs": [
        {
          "output_type": "execute_result",
          "data": {
            "text/plain": [
              "(56, 1)"
            ]
          },
          "metadata": {},
          "execution_count": 12
        }
      ]
    },
    {
      "cell_type": "code",
      "source": [
        "y.shape"
      ],
      "metadata": {
        "colab": {
          "base_uri": "https://localhost:8080/"
        },
        "id": "bBOSXagEXFtY",
        "outputId": "c209a0af-fe74-43ca-fbb0-59f48de28623"
      },
      "execution_count": 13,
      "outputs": [
        {
          "output_type": "execute_result",
          "data": {
            "text/plain": [
              "(56,)"
            ]
          },
          "metadata": {},
          "execution_count": 13
        }
      ]
    },
    {
      "cell_type": "markdown",
      "source": [
        "# 훈련 셋(75%), 테스트 셋(25%) 분리\n",
        "\n"
      ],
      "metadata": {
        "id": "BWB1GhZzXZLP"
      }
    },
    {
      "cell_type": "code",
      "source": [
        "X_tr, X_te, y_tr, y_te = train_test_split(X,y,test_size=0.25, random_state=42, shuffle=True)\n",
        "\n",
        "# random sampling, 회귀 분석에서는 층화추출은 없음. 임의 추출만."
      ],
      "metadata": {
        "id": "Q-ZAp0NOXGkM"
      },
      "execution_count": 14,
      "outputs": []
    },
    {
      "cell_type": "code",
      "source": [
        "X_tr.shape, X_te.shape, y_tr.shape, y_te.shape"
      ],
      "metadata": {
        "colab": {
          "base_uri": "https://localhost:8080/"
        },
        "id": "jqqzgUeNX2-7",
        "outputId": "ef6139a8-34bf-454f-ed94-3714d8046085"
      },
      "execution_count": 15,
      "outputs": [
        {
          "output_type": "execute_result",
          "data": {
            "text/plain": [
              "((42, 1), (14, 1), (42,), (14,))"
            ]
          },
          "metadata": {},
          "execution_count": 15
        }
      ]
    },
    {
      "cell_type": "code",
      "source": [
        "# 훈련 셋 시각화(Weight ~ Length)\n",
        "\n",
        "plt.scatter(x=X_tr.ravel(),y=y_tr, label='Train', alpha=0.35) # ravel = 뷰, flatten은 원본에서 복사해온 것.\n",
        "plt.scatter(x=X_te.ravel(),y=y_te, label='Test', alpha=0.35)\n",
        "plt.legend()\n",
        "plt.grid()\n",
        "plt.xlabel('Length(cm)')\n",
        "plt.ylabel('Weight(g)')\n",
        "\n",
        "plt.show()"
      ],
      "metadata": {
        "colab": {
          "base_uri": "https://localhost:8080/",
          "height": 449
        },
        "id": "0osvIjsjYGJd",
        "outputId": "51ed08ef-47b8-4689-89a9-76a1ad1dfdf9"
      },
      "execution_count": 16,
      "outputs": [
        {
          "output_type": "display_data",
          "data": {
            "text/plain": [
              "<Figure size 640x480 with 1 Axes>"
            ],
            "image/png": "[encoded data removed]"
          },
          "metadata": {}
        }
      ]
    },
    {
      "cell_type": "markdown",
      "source": [
        "# KNN Regressor 모델을 훈련, 평가.\n",
        "\n",
        "1. KNN Regressor 객체 생성.\n",
        "1. KNN Regressor 훈련 셋으로 학습\n",
        "1. 훈련 셋의 예측값 계산, 실젯값과 비교.\n",
        "1. 테스트 셋의 예측값 계산, 실젯값과 비교."
      ],
      "metadata": {
        "id": "F4geBJstaIrc"
      }
    },
    {
      "cell_type": "code",
      "source": [
        "knn = KNeighborsRegressor()"
      ],
      "metadata": {
        "id": "zkJGBxKpYf_u"
      },
      "execution_count": 17,
      "outputs": []
    },
    {
      "cell_type": "code",
      "source": [
        "knn.fit(X_tr,y_tr)"
      ],
      "metadata": {
        "colab": {
          "base_uri": "https://localhost:8080/",
          "height": 75
        },
        "id": "v0xV-15Va8BY",
        "outputId": "d51e1ca1-9cf6-4cc3-fdbc-5e0cb880a2d8"
      },
      "execution_count": 18,
      "outputs": [
        {
          "output_type": "execute_result",
          "data": {
            "text/plain": [
              "KNeighborsRegressor()"
            ],
            "text/html": [
              "<style>#sk-container-id-1 {color: black;background-color: white;}#sk-container-id-1 pre{padding: 0;}#sk-container-id-1 div.sk-toggleable {background-color: white;}#sk-container-id-1 label.sk-toggleable__label {cursor: pointer;display: block;width: 100%;margin-bottom: 0;padding: 0.3em;box-sizing: border-box;text-align: center;}#sk-container-id-1 label.sk-toggleable__label-arrow:before {content: \"▸\";float: left;margin-right: 0.25em;color: #696969;}#sk-container-id-1 label.sk-toggleable__label-arrow:hover:before {color: black;}#sk-container-id-1 div.sk-estimator:hover label.sk-toggleable__label-arrow:before {color: black;}#sk-container-id-1 div.sk-toggleable__content {max-height: 0;max-width: 0;overflow: hidden;text-align: left;background-color: #f0f8ff;}#sk-container-id-1 div.sk-toggleable__content pre {margin: 0.2em;color: black;border-radius: 0.25em;background-color: #f0f8ff;}#sk-container-id-1 input.sk-toggleable__control:checked~div.sk-toggleable__content {max-height: 200px;max-width: 100%;overflow: auto;}#sk-container-id-1 input.sk-toggleable__control:checked~label.sk-toggleable__label-arrow:before {content: \"▾\";}#sk-container-id-1 div.sk-estimator input.sk-toggleable__control:checked~label.sk-toggleable__label {background-color: #d4ebff;}#sk-container-id-1 div.sk-label input.sk-toggleable__control:checked~label.sk-toggleable__label {background-color: #d4ebff;}#sk-container-id-1 input.sk-hidden--visually {border: 0;clip: rect(1px 1px 1px 1px);clip: rect(1px, 1px, 1px, 1px);height: 1px;margin: -1px;overflow: hidden;padding: 0;position: absolute;width: 1px;}#sk-container-id-1 div.sk-estimator {font-family: monospace;background-color: #f0f8ff;border: 1px dotted black;border-radius: 0.25em;box-sizing: border-box;margin-bottom: 0.5em;}#sk-container-id-1 div.sk-estimator:hover {background-color: #d4ebff;}#sk-container-id-1 div.sk-parallel-item::after {content: \"\";width: 100%;border-bottom: 1px solid gray;flex-grow: 1;}#sk-container-id-1 div.sk-label:hover label.sk-toggleable__label {background-color: #d4ebff;}#sk-container-id-1 div.sk-serial::before {content: \"\";position: absolute;border-left: 1px solid gray;box-sizing: border-box;top: 0;bottom: 0;left: 50%;z-index: 0;}#sk-container-id-1 div.sk-serial {display: flex;flex-direction: column;align-items: center;background-color: white;padding-right: 0.2em;padding-left: 0.2em;position: relative;}#sk-container-id-1 div.sk-item {position: relative;z-index: 1;}#sk-container-id-1 div.sk-parallel {display: flex;align-items: stretch;justify-content: center;background-color: white;position: relative;}#sk-container-id-1 div.sk-item::before, #sk-container-id-1 div.sk-parallel-item::before {content: \"\";position: absolute;border-left: 1px solid gray;box-sizing: border-box;top: 0;bottom: 0;left: 50%;z-index: -1;}#sk-container-id-1 div.sk-parallel-item {display: flex;flex-direction: column;z-index: 1;position: relative;background-color: white;}#sk-container-id-1 div.sk-parallel-item:first-child::after {align-self: flex-end;width: 50%;}#sk-container-id-1 div.sk-parallel-item:last-child::after {align-self: flex-start;width: 50%;}#sk-container-id-1 div.sk-parallel-item:only-child::after {width: 0;}#sk-container-id-1 div.sk-dashed-wrapped {border: 1px dashed gray;margin: 0 0.4em 0.5em 0.4em;box-sizing: border-box;padding-bottom: 0.4em;background-color: white;}#sk-container-id-1 div.sk-label label {font-family: monospace;font-weight: bold;display: inline-block;line-height: 1.2em;}#sk-container-id-1 div.sk-label-container {text-align: center;}#sk-container-id-1 div.sk-container {/* jupyter's `normalize.less` sets `[hidden] { display: none; }` but bootstrap.min.css set `[hidden] { display: none !important; }` so we also need the `!important` here to be able to override the default hidden behavior on the sphinx rendered scikit-learn.org. See: https://github.com/scikit-learn/scikit-learn/issues/21755 */display: inline-block !important;position: relative;}#sk-container-id-1 div.sk-text-repr-fallback {display: none;}</style><div id=\"sk-container-id-1\" class=\"sk-top-container\"><div class=\"sk-text-repr-fallback\"><pre>KNeighborsRegressor()</pre><b>In a Jupyter environment, please rerun this cell to show the HTML representation or trust the notebook. <br />On GitHub, the HTML representation is unable to render, please try loading this page with nbviewer.org.</b></div><div class=\"sk-container\" hidden><div class=\"sk-item\"><div class=\"sk-estimator sk-toggleable\"><input class=\"sk-toggleable__control sk-hidden--visually\" id=\"sk-estimator-id-1\" type=\"checkbox\" checked><label for=\"sk-estimator-id-1\" class=\"sk-toggleable__label sk-toggleable__label-arrow\">KNeighborsRegressor</label><div class=\"sk-toggleable__content\"><pre>KNeighborsRegressor()</pre></div></div></div></div></div>"
            ]
          },
          "metadata": {},
          "execution_count": 18
        }
      ]
    },
    {
      "cell_type": "code",
      "source": [
        "y_pred_tr = knn.predict(X_tr)"
      ],
      "metadata": {
        "id": "u0fM5zJ5bIrL"
      },
      "execution_count": 19,
      "outputs": []
    },
    {
      "cell_type": "code",
      "source": [
        "y_pred_tr"
      ],
      "metadata": {
        "colab": {
          "base_uri": "https://localhost:8080/"
        },
        "id": "SaeURx2ibNvE",
        "outputId": "342d02bc-fba1-4ec3-e1f2-1abe6e92ba6a"
      },
      "execution_count": 20,
      "outputs": [
        {
          "output_type": "execute_result",
          "data": {
            "text/plain": [
              "array([  88.6,  123. ,   79.6,   70.6,  723. ,  193. ,  847. ,  847. ,\n",
              "       1010. ,  123. ,   95. ,  123. ,  174. ,  248. , 1010. ,  847. ,\n",
              "        174. ,  113. ,  248. ,  847. ,  659. ,  224. ,  723. ,   60. ,\n",
              "        140. ,   60. ,  719. ,  694.2,  248. ,  167. ,  847. ,  113. ,\n",
              "        168. ,  123. , 1010. ,  136. ,   79.6,  719. ,  123. ,  193. ,\n",
              "        990. ,  659. ])"
            ]
          },
          "metadata": {},
          "execution_count": 20
        }
      ]
    },
    {
      "cell_type": "code",
      "source": [
        "y_tr"
      ],
      "metadata": {
        "colab": {
          "base_uri": "https://localhost:8080/"
        },
        "id": "KZ_7Z5mdbLzK",
        "outputId": "ff1d71e6-ca48-4293-cdf6-e9ad2652058d"
      },
      "execution_count": 21,
      "outputs": [
        {
          "output_type": "execute_result",
          "data": {
            "text/plain": [
              "array([  85.,  135.,   78.,   70.,  700.,  180.,  850.,  820., 1000.,\n",
              "        120.,   85.,  130.,  225.,  260., 1100.,  900.,  145.,  115.,\n",
              "        265., 1015.,  514.,  218.,  685.,   32.,  145.,   40.,  690.,\n",
              "        840.,  300.,  170.,  650.,  110.,  150.,  110., 1000.,  150.,\n",
              "         80.,  700.,  120.,  197., 1100.,  556.])"
            ]
          },
          "metadata": {},
          "execution_count": 21
        }
      ]
    },
    {
      "cell_type": "code",
      "source": [
        "y_pred = knn.predict(X_te)"
      ],
      "metadata": {
        "id": "XBNNjSNxa-TH"
      },
      "execution_count": 22,
      "outputs": []
    },
    {
      "cell_type": "code",
      "source": [
        "y_pred"
      ],
      "metadata": {
        "colab": {
          "base_uri": "https://localhost:8080/"
        },
        "id": "LktUrJH2bB5J",
        "outputId": "ba00bd2e-e3c5-4cec-f869-4e08b71d9e2d"
      },
      "execution_count": 23,
      "outputs": [
        {
          "output_type": "execute_result",
          "data": {
            "text/plain": [
              "array([  60. ,   79.6,  248. ,  122. ,  136. ,  847. ,  311.4,  183.4,\n",
              "        847. ,  113. , 1010. ,   60. ,  248. ,  248. ])"
            ]
          },
          "metadata": {},
          "execution_count": 23
        }
      ]
    },
    {
      "cell_type": "code",
      "source": [
        "y_te"
      ],
      "metadata": {
        "colab": {
          "base_uri": "https://localhost:8080/"
        },
        "id": "Bpj-v5i6bCwf",
        "outputId": "10b0164c-b2f3-49db-f64a-2a27eeb2169f"
      },
      "execution_count": 24,
      "outputs": [
        {
          "output_type": "execute_result",
          "data": {
            "text/plain": [
              "array([   5.9,  100. ,  250. ,  130. ,  130. ,  820. ,  320. ,  188. ,\n",
              "        900. ,  125. , 1000. ,   51.5,  250. ,  300. ])"
            ]
          },
          "metadata": {},
          "execution_count": 24
        }
      ]
    },
    {
      "cell_type": "code",
      "source": [
        "np.mean(y_pred==y_te)"
      ],
      "metadata": {
        "colab": {
          "base_uri": "https://localhost:8080/"
        },
        "id": "s0mep8cPbDyN",
        "outputId": "43f2d8da-e69a-4e48-9bda-f7a0f4a2b7b8"
      },
      "execution_count": 25,
      "outputs": [
        {
          "output_type": "execute_result",
          "data": {
            "text/plain": [
              "0.0"
            ]
          },
          "metadata": {},
          "execution_count": 25
        }
      ]
    },
    {
      "cell_type": "code",
      "source": [
        "np.mean(y_pred_tr==y_tr)"
      ],
      "metadata": {
        "id": "N-KAt5VDbWRo",
        "outputId": "d4e485a8-f5ea-44ea-f46a-1e23cd7e8ba0",
        "colab": {
          "base_uri": "https://localhost:8080/"
        }
      },
      "execution_count": 26,
      "outputs": [
        {
          "output_type": "execute_result",
          "data": {
            "text/plain": [
              "0.0"
            ]
          },
          "metadata": {},
          "execution_count": 26
        }
      ]
    },
    {
      "cell_type": "markdown",
      "source": [
        "KNN(K-Nearest Neighbors) 회귀(regression) :\n",
        "\n",
        "k개의 가장 가까운 이웃(훈련 셋 샘플)들을 찾아서, 샘플들의 평균으로 숫자를 예측하는 머신러닝 모델."
      ],
      "metadata": {
        "id": "0rwcSEmg_dq1"
      }
    },
    {
      "cell_type": "code",
      "source": [
        "indices = knn.kneighbors(X_tr[0].reshape((1,-1)),return_distance=False)"
      ],
      "metadata": {
        "id": "dl933LsZbZbo"
      },
      "execution_count": 30,
      "outputs": []
    },
    {
      "cell_type": "code",
      "source": [
        "indices"
      ],
      "metadata": {
        "colab": {
          "base_uri": "https://localhost:8080/"
        },
        "id": "dZ8zof2GAAW2",
        "outputId": "5076c562-6744-4dbf-a710-229cca3a73e2"
      },
      "execution_count": 31,
      "outputs": [
        {
          "output_type": "execute_result",
          "data": {
            "text/plain": [
              "array([[ 0, 10, 36,  2, 17]])"
            ]
          },
          "metadata": {},
          "execution_count": 31
        }
      ]
    },
    {
      "cell_type": "code",
      "source": [
        "# 인덱스 0번 샘플에서 가장 가까운 이웃 5개의 무게들\n",
        "\n",
        "y_tr[indices]"
      ],
      "metadata": {
        "colab": {
          "base_uri": "https://localhost:8080/"
        },
        "id": "5ggWThPcATOS",
        "outputId": "156b20d4-574c-4972-d8bb-0ffb9aa7d29f"
      },
      "execution_count": 32,
      "outputs": [
        {
          "output_type": "execute_result",
          "data": {
            "text/plain": [
              "array([[ 85.,  85.,  80.,  78., 115.]])"
            ]
          },
          "metadata": {},
          "execution_count": 32
        }
      ]
    },
    {
      "cell_type": "code",
      "source": [
        "np.mean(y_tr[indices])"
      ],
      "metadata": {
        "colab": {
          "base_uri": "https://localhost:8080/"
        },
        "id": "6GyJZ0sQA5Lf",
        "outputId": "6c4cda16-abde-445b-969a-c5242d9557e5"
      },
      "execution_count": 33,
      "outputs": [
        {
          "output_type": "execute_result",
          "data": {
            "text/plain": [
              "88.6"
            ]
          },
          "metadata": {},
          "execution_count": 33
        }
      ]
    },
    {
      "cell_type": "markdown",
      "source": [
        "![1111.PNG](data:image/png;base64,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)"
      ],
      "metadata": {
        "id": "AkqrVoAjGj-a"
      }
    },
    {
      "cell_type": "code",
      "source": [
        "# 훈련 셋의 MAE\n",
        "\n",
        "mean_absolute_error(y_tr, y_pred_tr)"
      ],
      "metadata": {
        "colab": {
          "base_uri": "https://localhost:8080/"
        },
        "id": "oOPiJUouBFgy",
        "outputId": "5d9dbcde-2d89-484d-8729-7581e2d12a0f"
      },
      "execution_count": 36,
      "outputs": [
        {
          "output_type": "execute_result",
          "data": {
            "text/plain": [
              "35.76190476190476"
            ]
          },
          "metadata": {},
          "execution_count": 36
        }
      ]
    },
    {
      "cell_type": "code",
      "source": [
        "# 훈련 셋의 MSE\n",
        "\n",
        "xxx= mean_squared_error(y_tr, y_pred_tr)\n",
        "xxx"
      ],
      "metadata": {
        "colab": {
          "base_uri": "https://localhost:8080/"
        },
        "id": "z7sKdk6xLWb5",
        "outputId": "20f7cc1a-23e3-46a5-b9cf-7594cc57552d"
      },
      "execution_count": 38,
      "outputs": [
        {
          "output_type": "execute_result",
          "data": {
            "text/plain": [
              "3716.5161904761903"
            ]
          },
          "metadata": {},
          "execution_count": 38
        }
      ]
    },
    {
      "cell_type": "code",
      "source": [
        "np.sqrt(xxx)"
      ],
      "metadata": {
        "colab": {
          "base_uri": "https://localhost:8080/"
        },
        "id": "-tmZcvaDLthb",
        "outputId": "0d60857a-d700-40bc-c688-0a340a92ac76"
      },
      "execution_count": 42,
      "outputs": [
        {
          "output_type": "execute_result",
          "data": {
            "text/plain": [
              "60.96323638453089"
            ]
          },
          "metadata": {},
          "execution_count": 42
        }
      ]
    },
    {
      "cell_type": "code",
      "source": [
        "# 훈련 셋의 R2 Score(결정 계수)\n",
        "r2_score(y_tr, y_pred_tr)"
      ],
      "metadata": {
        "colab": {
          "base_uri": "https://localhost:8080/"
        },
        "id": "UvsfTkYxLyQV",
        "outputId": "dd05d89c-4300-4f45-ef7a-b7ad4aa2d4d6"
      },
      "execution_count": 44,
      "outputs": [
        {
          "output_type": "execute_result",
          "data": {
            "text/plain": [
              "0.9698823289099254"
            ]
          },
          "metadata": {},
          "execution_count": 44
        }
      ]
    },
    {
      "cell_type": "markdown",
      "source": [
        "scikit-learn 패키지의 모든 ML 알고리즘 클래스들은 평가 점수를 리턴하는 메서드(`score()`)를 갖고 있음.\n",
        "\n",
        "* score 메서드는 argument로 전달된 특성 배열(X)로 예측값을 먼저 계산하고, argument로 전달된 타겟(y) 와 비교해서 평가점수를 계산.\n",
        "* 분류 : 정확도(accuracy)\n",
        "* 회귀 : 결정계수\n"
      ],
      "metadata": {
        "id": "tb6on8KNMtMR"
      }
    },
    {
      "cell_type": "code",
      "source": [
        "# score\n",
        "\n",
        "knn.score(X_tr, y_tr)"
      ],
      "metadata": {
        "colab": {
          "base_uri": "https://localhost:8080/"
        },
        "id": "dIW6wkGsMTi4",
        "outputId": "a06db600-25b2-4688-cbfa-0c0bc5c353a9"
      },
      "execution_count": 46,
      "outputs": [
        {
          "output_type": "execute_result",
          "data": {
            "text/plain": [
              "0.9698823289099254"
            ]
          },
          "metadata": {},
          "execution_count": 46
        }
      ]
    },
    {
      "cell_type": "code",
      "source": [
        "mse_te = mean_squared_error(y_te, y_pred)"
      ],
      "metadata": {
        "id": "AsLCT2cINN3E"
      },
      "execution_count": 47,
      "outputs": []
    },
    {
      "cell_type": "code",
      "source": [
        "mse_te"
      ],
      "metadata": {
        "colab": {
          "base_uri": "https://localhost:8080/"
        },
        "id": "Q7IKhGu-O6RR",
        "outputId": "27d5296e-b436-44f2-98d1-cb59e6f0a19a"
      },
      "execution_count": 48,
      "outputs": [
        {
          "output_type": "execute_result",
          "data": {
            "text/plain": [
              "721.7385714285714"
            ]
          },
          "metadata": {},
          "execution_count": 48
        }
      ]
    },
    {
      "cell_type": "code",
      "source": [
        "np.sqrt(mse_te)"
      ],
      "metadata": {
        "colab": {
          "base_uri": "https://localhost:8080/"
        },
        "id": "Gs2aIIZlO7Sj",
        "outputId": "723a9363-a7a6-4eb9-eb74-b070aac9b3c0"
      },
      "execution_count": 49,
      "outputs": [
        {
          "output_type": "execute_result",
          "data": {
            "text/plain": [
              "26.865192562655704"
            ]
          },
          "metadata": {},
          "execution_count": 49
        }
      ]
    },
    {
      "cell_type": "code",
      "source": [
        "r2_score(y_te, y_pred) # 테스트셋 결정계수"
      ],
      "metadata": {
        "colab": {
          "base_uri": "https://localhost:8080/"
        },
        "id": "P7-7okhmO9aA",
        "outputId": "aed82334-afd9-4702-de77-0db2095343db"
      },
      "execution_count": 50,
      "outputs": [
        {
          "output_type": "execute_result",
          "data": {
            "text/plain": [
              "0.992809406101064"
            ]
          },
          "metadata": {},
          "execution_count": 50
        }
      ]
    },
    {
      "cell_type": "markdown",
      "source": [
        "# 선형 회귀(Linear Regression)\n",
        "\n",
        "머신 러닝 알고리즘 :\n",
        "\n",
        "* 사례 기반 학습 ( instance-based learning ) :\n",
        "  * KNN, Decision Tree, ...\n",
        "  * 수학적인 모델을 만들지 않고, 훈련 셋의 데이터 특성들을 사용해서 예측.\n",
        "  * outlier(이상치)들이 많은 경우에는 성능이 나빠질 수 있음.\n",
        "\n",
        "* 모델 기반 학습 ( model-based learning ) :\n",
        "  * Logistic Regression, Linear Regression, ...\n",
        "  * 훈련 셋을 사용해서 수학적인 모델을 만들고, 그 모델을 사용해서 예측.\n",
        "\n",
        "* 선형 회귀 학습이란\n",
        "\n",
        "  $$\n",
        "  y = a * x + b\n",
        "  $$\n",
        "\n",
        "  수학 모델에서, MSE가 최소가 되도록 하는 직선 기울기(a)와 y절편(b)를 찾는 과정."
      ],
      "metadata": {
        "id": "K2SBlzafUcOB"
      }
    },
    {
      "cell_type": "markdown",
      "source": [
        "## 선형 회귀 모델 생성"
      ],
      "metadata": {
        "id": "hGVHhNiOZKfW"
      }
    },
    {
      "cell_type": "code",
      "source": [
        "lin_reg = LinearRegression()"
      ],
      "metadata": {
        "id": "oh07U6vcPiVj"
      },
      "execution_count": 53,
      "outputs": []
    },
    {
      "cell_type": "code",
      "source": [
        "## 훈련셋으로 모델 학습\n",
        "\n",
        "lin_reg.fit(X_tr, y_tr) # 학습 -> 직선의 방정식에서 기울기(coefficient)와 y절편(intercept) 을 찾음."
      ],
      "metadata": {
        "colab": {
          "base_uri": "https://localhost:8080/",
          "height": 75
        },
        "id": "T7mCG4ZqZOy-",
        "outputId": "e0cf1f5e-f875-4cef-df02-6f468e44d3a5"
      },
      "execution_count": 54,
      "outputs": [
        {
          "output_type": "execute_result",
          "data": {
            "text/plain": [
              "LinearRegression()"
            ],
            "text/html": [
              "<style>#sk-container-id-2 {color: black;background-color: white;}#sk-container-id-2 pre{padding: 0;}#sk-container-id-2 div.sk-toggleable {background-color: white;}#sk-container-id-2 label.sk-toggleable__label {cursor: pointer;display: block;width: 100%;margin-bottom: 0;padding: 0.3em;box-sizing: border-box;text-align: center;}#sk-container-id-2 label.sk-toggleable__label-arrow:before {content: \"▸\";float: left;margin-right: 0.25em;color: #696969;}#sk-container-id-2 label.sk-toggleable__label-arrow:hover:before {color: black;}#sk-container-id-2 div.sk-estimator:hover label.sk-toggleable__label-arrow:before {color: black;}#sk-container-id-2 div.sk-toggleable__content {max-height: 0;max-width: 0;overflow: hidden;text-align: left;background-color: #f0f8ff;}#sk-container-id-2 div.sk-toggleable__content pre {margin: 0.2em;color: black;border-radius: 0.25em;background-color: #f0f8ff;}#sk-container-id-2 input.sk-toggleable__control:checked~div.sk-toggleable__content {max-height: 200px;max-width: 100%;overflow: auto;}#sk-container-id-2 input.sk-toggleable__control:checked~label.sk-toggleable__label-arrow:before {content: \"▾\";}#sk-container-id-2 div.sk-estimator input.sk-toggleable__control:checked~label.sk-toggleable__label {background-color: #d4ebff;}#sk-container-id-2 div.sk-label input.sk-toggleable__control:checked~label.sk-toggleable__label {background-color: #d4ebff;}#sk-container-id-2 input.sk-hidden--visually {border: 0;clip: rect(1px 1px 1px 1px);clip: rect(1px, 1px, 1px, 1px);height: 1px;margin: -1px;overflow: hidden;padding: 0;position: absolute;width: 1px;}#sk-container-id-2 div.sk-estimator {font-family: monospace;background-color: #f0f8ff;border: 1px dotted black;border-radius: 0.25em;box-sizing: border-box;margin-bottom: 0.5em;}#sk-container-id-2 div.sk-estimator:hover {background-color: #d4ebff;}#sk-container-id-2 div.sk-parallel-item::after {content: \"\";width: 100%;border-bottom: 1px solid gray;flex-grow: 1;}#sk-container-id-2 div.sk-label:hover label.sk-toggleable__label {background-color: #d4ebff;}#sk-container-id-2 div.sk-serial::before {content: \"\";position: absolute;border-left: 1px solid gray;box-sizing: border-box;top: 0;bottom: 0;left: 50%;z-index: 0;}#sk-container-id-2 div.sk-serial {display: flex;flex-direction: column;align-items: center;background-color: white;padding-right: 0.2em;padding-left: 0.2em;position: relative;}#sk-container-id-2 div.sk-item {position: relative;z-index: 1;}#sk-container-id-2 div.sk-parallel {display: flex;align-items: stretch;justify-content: center;background-color: white;position: relative;}#sk-container-id-2 div.sk-item::before, #sk-container-id-2 div.sk-parallel-item::before {content: \"\";position: absolute;border-left: 1px solid gray;box-sizing: border-box;top: 0;bottom: 0;left: 50%;z-index: -1;}#sk-container-id-2 div.sk-parallel-item {display: flex;flex-direction: column;z-index: 1;position: relative;background-color: white;}#sk-container-id-2 div.sk-parallel-item:first-child::after {align-self: flex-end;width: 50%;}#sk-container-id-2 div.sk-parallel-item:last-child::after {align-self: flex-start;width: 50%;}#sk-container-id-2 div.sk-parallel-item:only-child::after {width: 0;}#sk-container-id-2 div.sk-dashed-wrapped {border: 1px dashed gray;margin: 0 0.4em 0.5em 0.4em;box-sizing: border-box;padding-bottom: 0.4em;background-color: white;}#sk-container-id-2 div.sk-label label {font-family: monospace;font-weight: bold;display: inline-block;line-height: 1.2em;}#sk-container-id-2 div.sk-label-container {text-align: center;}#sk-container-id-2 div.sk-container {/* jupyter's `normalize.less` sets `[hidden] { display: none; }` but bootstrap.min.css set `[hidden] { display: none !important; }` so we also need the `!important` here to be able to override the default hidden behavior on the sphinx rendered scikit-learn.org. See: https://github.com/scikit-learn/scikit-learn/issues/21755 */display: inline-block !important;position: relative;}#sk-container-id-2 div.sk-text-repr-fallback {display: none;}</style><div id=\"sk-container-id-2\" class=\"sk-top-container\"><div class=\"sk-text-repr-fallback\"><pre>LinearRegression()</pre><b>In a Jupyter environment, please rerun this cell to show the HTML representation or trust the notebook. <br />On GitHub, the HTML representation is unable to render, please try loading this page with nbviewer.org.</b></div><div class=\"sk-container\" hidden><div class=\"sk-item\"><div class=\"sk-estimator sk-toggleable\"><input class=\"sk-toggleable__control sk-hidden--visually\" id=\"sk-estimator-id-2\" type=\"checkbox\" checked><label for=\"sk-estimator-id-2\" class=\"sk-toggleable__label sk-toggleable__label-arrow\">LinearRegression</label><div class=\"sk-toggleable__content\"><pre>LinearRegression()</pre></div></div></div></div></div>"
            ]
          },
          "metadata": {},
          "execution_count": 54
        }
      ]
    },
    {
      "cell_type": "code",
      "source": [
        "lin_reg.predict(X_tr)"
      ],
      "metadata": {
        "colab": {
          "base_uri": "https://localhost:8080/"
        },
        "id": "64ZYAvRPZawj",
        "outputId": "2e305a17-2cb9-4d90-a6ca-499efac00025"
      },
      "execution_count": 55,
      "outputs": [
        {
          "output_type": "execute_result",
          "data": {
            "text/plain": [
              "array([  55.71739633,  149.35854425,   20.60196587,  -30.12032259,\n",
              "        695.59857374,  266.40997914,  851.66715359,  812.65000863,\n",
              "        968.71858848,  149.35854425,   71.32425432,  149.35854425,\n",
              "        227.39283417,  363.95284155,  968.71858848,  851.66715359,\n",
              "        227.39283417,  110.34139928,  363.95284155,  851.66715359,\n",
              "        570.74370985,  324.93569658,  715.10714622, -174.48375895,\n",
              "        176.67054572, -123.7614705 ,  734.6157187 ,  656.58142877,\n",
              "        410.7734155 ,  207.88426169,  812.65000863,  110.34139928,\n",
              "        188.37568921,  149.35854425, 1007.73573345,  168.86711673,\n",
              "         32.30710936,  734.6157187 ,  149.35854425,  289.82026612,\n",
              "        929.70144352,  637.07285629])"
            ]
          },
          "metadata": {},
          "execution_count": 55
        }
      ]
    },
    {
      "cell_type": "code",
      "source": [
        "lin_reg.coef_"
      ],
      "metadata": {
        "colab": {
          "base_uri": "https://localhost:8080/"
        },
        "id": "BF0WHUHiZeMe",
        "outputId": "067f9e79-a033-40bf-9347-d2263e0abcf5"
      },
      "execution_count": 56,
      "outputs": [
        {
          "output_type": "execute_result",
          "data": {
            "text/plain": [
              "array([39.01714496])"
            ]
          },
          "metadata": {},
          "execution_count": 56
        }
      ]
    },
    {
      "cell_type": "code",
      "source": [
        "lin_reg.intercept_"
      ],
      "metadata": {
        "colab": {
          "base_uri": "https://localhost:8080/"
        },
        "id": "6Xx1vZm4Z34B",
        "outputId": "54176fcb-481f-452c-e594-ba03c4a85f05"
      },
      "execution_count": 57,
      "outputs": [
        {
          "output_type": "execute_result",
          "data": {
            "text/plain": [
              "-709.0186449535477"
            ]
          },
          "metadata": {},
          "execution_count": 57
        }
      ]
    },
    {
      "cell_type": "markdown",
      "source": [
        "$$\n",
        "  weight = 39.017 \\times length - 709.018\n",
        "$$"
      ],
      "metadata": {
        "id": "vXp-LjXwaiKu"
      }
    },
    {
      "cell_type": "markdown",
      "source": [
        "## 선형 회귀에서 훈련 셋 예측 결과 평가"
      ],
      "metadata": {
        "id": "z63ywZaQauxl"
      }
    },
    {
      "cell_type": "code",
      "source": [
        "y_tr_pred = lin_reg.predict(X_tr)"
      ],
      "metadata": {
        "id": "0GpeTEOlZ8Be"
      },
      "execution_count": 60,
      "outputs": []
    },
    {
      "cell_type": "code",
      "source": [
        "print(y_tr_pred)"
      ],
      "metadata": {
        "colab": {
          "base_uri": "https://localhost:8080/"
        },
        "id": "0o-6eidqa0e9",
        "outputId": "b53b3b31-881c-4517-c16e-5c44fa9e17e2"
      },
      "execution_count": 61,
      "outputs": [
        {
          "output_type": "stream",
          "name": "stdout",
          "text": [
            "[  55.71739633  149.35854425   20.60196587  -30.12032259  695.59857374\n",
            "  266.40997914  851.66715359  812.65000863  968.71858848  149.35854425\n",
            "   71.32425432  149.35854425  227.39283417  363.95284155  968.71858848\n",
            "  851.66715359  227.39283417  110.34139928  363.95284155  851.66715359\n",
            "  570.74370985  324.93569658  715.10714622 -174.48375895  176.67054572\n",
            " -123.7614705   734.6157187   656.58142877  410.7734155   207.88426169\n",
            "  812.65000863  110.34139928  188.37568921  149.35854425 1007.73573345\n",
            "  168.86711673   32.30710936  734.6157187   149.35854425  289.82026612\n",
            "  929.70144352  637.07285629]\n"
          ]
        }
      ]
    },
    {
      "cell_type": "code",
      "source": [
        "mean_squared_error(y_tr, y_tr_pred)\n",
        "# KNN에서 MSE 보다 큼 -> Linear Regression의 성능이 KNN보다 나쁘다."
      ],
      "metadata": {
        "colab": {
          "base_uri": "https://localhost:8080/"
        },
        "id": "ef0bMltRa1rC",
        "outputId": "914c7e92-88a6-4fd5-9bd6-323f5ac247df"
      },
      "execution_count": 62,
      "outputs": [
        {
          "output_type": "execute_result",
          "data": {
            "text/plain": [
              "7422.953552609781"
            ]
          },
          "metadata": {},
          "execution_count": 62
        }
      ]
    },
    {
      "cell_type": "code",
      "source": [
        "r2_score(y_tr, y_tr_pred)"
      ],
      "metadata": {
        "colab": {
          "base_uri": "https://localhost:8080/"
        },
        "id": "HDKq6ta2bIda",
        "outputId": "37bed43d-69e4-43dc-d32e-ef406d030f07"
      },
      "execution_count": 63,
      "outputs": [
        {
          "output_type": "execute_result",
          "data": {
            "text/plain": [
              "0.939846333997604"
            ]
          },
          "metadata": {},
          "execution_count": 63
        }
      ]
    },
    {
      "cell_type": "markdown",
      "source": [
        "## 테스트 셋 예측 결과를 평가"
      ],
      "metadata": {
        "id": "DE0fnku-b7G-"
      }
    },
    {
      "cell_type": "code",
      "source": [
        "y_te_pred = lin_reg.predict(X_te)"
      ],
      "metadata": {
        "id": "KKYD7MyBb2C_"
      },
      "execution_count": 64,
      "outputs": []
    },
    {
      "cell_type": "code",
      "source": [
        "print(y_te_pred)"
      ],
      "metadata": {
        "colab": {
          "base_uri": "https://localhost:8080/"
        },
        "id": "ya0SwcuLcBgB",
        "outputId": "39b1d1c6-2770-4b83-f8dc-b9445c45fbc5"
      },
      "execution_count": 65,
      "outputs": [
        {
          "output_type": "stream",
          "name": "stdout",
          "text": [
            "[-381.27462726   -6.71003561  363.95284155  122.04654277  168.86711673\n",
            "  851.66715359  461.49570396  250.80312115  812.65000863  110.34139928\n",
            "  988.22716096  -76.94089654  383.46141403  356.14941255]\n"
          ]
        }
      ]
    },
    {
      "cell_type": "code",
      "source": [
        "print(y_te)"
      ],
      "metadata": {
        "colab": {
          "base_uri": "https://localhost:8080/"
        },
        "id": "7bi6l_8KcC6U",
        "outputId": "26090c32-d8be-42f4-ef6c-d4a0b6a96d86"
      },
      "execution_count": 67,
      "outputs": [
        {
          "output_type": "stream",
          "name": "stdout",
          "text": [
            "[   5.9  100.   250.   130.   130.   820.   320.   188.   900.   125.\n",
            " 1000.    51.5  250.   300. ]\n"
          ]
        }
      ]
    },
    {
      "cell_type": "code",
      "source": [
        "mean_squared_error(y_te, y_te_pred)"
      ],
      "metadata": {
        "colab": {
          "base_uri": "https://localhost:8080/"
        },
        "id": "CBmzD_MjcEVh",
        "outputId": "80200380-fa52-44fc-81d0-8fa95f831c1b"
      },
      "execution_count": 68,
      "outputs": [
        {
          "output_type": "execute_result",
          "data": {
            "text/plain": [
              "17590.265977889187"
            ]
          },
          "metadata": {},
          "execution_count": 68
        }
      ]
    },
    {
      "cell_type": "code",
      "source": [
        "r2_score(y_te, y_te_pred)"
      ],
      "metadata": {
        "colab": {
          "base_uri": "https://localhost:8080/"
        },
        "id": "7OqJLpyGcO60",
        "outputId": "7f5ad8a0-09bf-47df-e6f7-c9e451011872"
      },
      "execution_count": 69,
      "outputs": [
        {
          "output_type": "execute_result",
          "data": {
            "text/plain": [
              "0.8247503123313558"
            ]
          },
          "metadata": {},
          "execution_count": 69
        }
      ]
    },
    {
      "cell_type": "markdown",
      "source": [
        "## 훈련 셋, 테스트 셋, 선형 회귀 방정식 시각화."
      ],
      "metadata": {
        "id": "XT55alUIvP8c"
      }
    },
    {
      "cell_type": "code",
      "source": [
        "# 훈련 셋 시각화\n",
        "plt.scatter(X_tr.ravel(), y_tr, alpha=0.4, label='Train set')\n",
        "# 테스트 셋 시각화\n",
        "plt.scatter(X_te.ravel(), y_te, alpha=0.4, label='Test set')\n",
        "# 선형 회귀 방정식 시각화\n",
        "x = np.arange(0,50,0.01) # [0 0.01... 44.99]\n",
        "a = lin_reg.coef_[0]\n",
        "b = lin_reg.intercept_\n",
        "y1 = a * x + b # 선형 회귀 방정식\n",
        "plt.plot(x,y1,'r-',label='Linear regression')\n",
        "\n",
        "plt.xlabel('Length(cm)')\n",
        "plt.ylabel('Weight(g)')\n",
        "plt.grid()\n",
        "plt.legend()"
      ],
      "metadata": {
        "colab": {
          "base_uri": "https://localhost:8080/",
          "height": 467
        },
        "id": "Z0q_ggdEcR1Q",
        "outputId": "ae66a4a2-6a4b-467f-ea88-a78cbb2fb23f"
      },
      "execution_count": 82,
      "outputs": [
        {
          "output_type": "execute_result",
          "data": {
            "text/plain": [
              "<matplotlib.legend.Legend at 0x791d0623bbe0>"
            ]
          },
          "metadata": {},
          "execution_count": 82
        },
        {
          "output_type": "display_data",
          "data": {
            "text/plain": [
              "<Figure size 640x480 with 1 Axes>"
            ],
            "image/png": "[encoded data removed]"
          },
          "metadata": {}
        }
      ]
    },
    {
      "cell_type": "markdown",
      "source": [
        "2차 항을 포함하는 선형 회귀"
      ],
      "metadata": {
        "id": "oGBM-eDy0I8b"
      }
    },
    {
      "cell_type": "code",
      "source": [
        "X_tr[:5]"
      ],
      "metadata": {
        "colab": {
          "base_uri": "https://localhost:8080/"
        },
        "id": "PEZMcOM1vbkE",
        "outputId": "a7e1ec63-cc1c-44dd-c195-92c29e61f395"
      },
      "execution_count": 84,
      "outputs": [
        {
          "output_type": "execute_result",
          "data": {
            "text/plain": [
              "array([[19.6],\n",
              "       [22. ],\n",
              "       [18.7],\n",
              "       [17.4],\n",
              "       [36. ]])"
            ]
          },
          "metadata": {},
          "execution_count": 84
        }
      ]
    },
    {
      "cell_type": "code",
      "source": [
        "X_tr_poly = np.c_[X_tr ** 2, X_tr] # Length의 2차항을 포함하는 특성배열\n",
        "X_tr_poly[:5]"
      ],
      "metadata": {
        "colab": {
          "base_uri": "https://localhost:8080/"
        },
        "id": "eu0Ew0mRvdzG",
        "outputId": "478ecb36-0f57-4baa-91f9-c7e9a23e4205"
      },
      "execution_count": 86,
      "outputs": [
        {
          "output_type": "execute_result",
          "data": {
            "text/plain": [
              "array([[ 384.16,   19.6 ],\n",
              "       [ 484.  ,   22.  ],\n",
              "       [ 349.69,   18.7 ],\n",
              "       [ 302.76,   17.4 ],\n",
              "       [1296.  ,   36.  ]])"
            ]
          },
          "metadata": {},
          "execution_count": 86
        }
      ]
    },
    {
      "cell_type": "markdown",
      "source": [
        "## 선형 회귀 모델 생성"
      ],
      "metadata": {
        "id": "n238hprC1IzM"
      }
    },
    {
      "cell_type": "code",
      "source": [
        "lin_reg = LinearRegression()"
      ],
      "metadata": {
        "id": "gDC4506_0kWI"
      },
      "execution_count": 87,
      "outputs": []
    },
    {
      "cell_type": "markdown",
      "source": [
        "## 2차항을 포함하는 훈련셋으로 학습"
      ],
      "metadata": {
        "id": "5AQiOktC1NFj"
      }
    },
    {
      "cell_type": "code",
      "source": [
        "lin_reg.fit(X_tr_poly, y_tr)"
      ],
      "metadata": {
        "colab": {
          "base_uri": "https://localhost:8080/",
          "height": 75
        },
        "id": "6My5GEnq1MXP",
        "outputId": "39650c53-5e2d-49d5-f06e-ec42200e6cab"
      },
      "execution_count": 88,
      "outputs": [
        {
          "output_type": "execute_result",
          "data": {
            "text/plain": [
              "LinearRegression()"
            ],
            "text/html": [
              "<style>#sk-container-id-3 {color: black;background-color: white;}#sk-container-id-3 pre{padding: 0;}#sk-container-id-3 div.sk-toggleable {background-color: white;}#sk-container-id-3 label.sk-toggleable__label {cursor: pointer;display: block;width: 100%;margin-bottom: 0;padding: 0.3em;box-sizing: border-box;text-align: center;}#sk-container-id-3 label.sk-toggleable__label-arrow:before {content: \"▸\";float: left;margin-right: 0.25em;color: #696969;}#sk-container-id-3 label.sk-toggleable__label-arrow:hover:before {color: black;}#sk-container-id-3 div.sk-estimator:hover label.sk-toggleable__label-arrow:before {color: black;}#sk-container-id-3 div.sk-toggleable__content {max-height: 0;max-width: 0;overflow: hidden;text-align: left;background-color: #f0f8ff;}#sk-container-id-3 div.sk-toggleable__content pre {margin: 0.2em;color: black;border-radius: 0.25em;background-color: #f0f8ff;}#sk-container-id-3 input.sk-toggleable__control:checked~div.sk-toggleable__content {max-height: 200px;max-width: 100%;overflow: auto;}#sk-container-id-3 input.sk-toggleable__control:checked~label.sk-toggleable__label-arrow:before {content: \"▾\";}#sk-container-id-3 div.sk-estimator input.sk-toggleable__control:checked~label.sk-toggleable__label {background-color: #d4ebff;}#sk-container-id-3 div.sk-label input.sk-toggleable__control:checked~label.sk-toggleable__label {background-color: #d4ebff;}#sk-container-id-3 input.sk-hidden--visually {border: 0;clip: rect(1px 1px 1px 1px);clip: rect(1px, 1px, 1px, 1px);height: 1px;margin: -1px;overflow: hidden;padding: 0;position: absolute;width: 1px;}#sk-container-id-3 div.sk-estimator {font-family: monospace;background-color: #f0f8ff;border: 1px dotted black;border-radius: 0.25em;box-sizing: border-box;margin-bottom: 0.5em;}#sk-container-id-3 div.sk-estimator:hover {background-color: #d4ebff;}#sk-container-id-3 div.sk-parallel-item::after {content: \"\";width: 100%;border-bottom: 1px solid gray;flex-grow: 1;}#sk-container-id-3 div.sk-label:hover label.sk-toggleable__label {background-color: #d4ebff;}#sk-container-id-3 div.sk-serial::before {content: \"\";position: absolute;border-left: 1px solid gray;box-sizing: border-box;top: 0;bottom: 0;left: 50%;z-index: 0;}#sk-container-id-3 div.sk-serial {display: flex;flex-direction: column;align-items: center;background-color: white;padding-right: 0.2em;padding-left: 0.2em;position: relative;}#sk-container-id-3 div.sk-item {position: relative;z-index: 1;}#sk-container-id-3 div.sk-parallel {display: flex;align-items: stretch;justify-content: center;background-color: white;position: relative;}#sk-container-id-3 div.sk-item::before, #sk-container-id-3 div.sk-parallel-item::before {content: \"\";position: absolute;border-left: 1px solid gray;box-sizing: border-box;top: 0;bottom: 0;left: 50%;z-index: -1;}#sk-container-id-3 div.sk-parallel-item {display: flex;flex-direction: column;z-index: 1;position: relative;background-color: white;}#sk-container-id-3 div.sk-parallel-item:first-child::after {align-self: flex-end;width: 50%;}#sk-container-id-3 div.sk-parallel-item:last-child::after {align-self: flex-start;width: 50%;}#sk-container-id-3 div.sk-parallel-item:only-child::after {width: 0;}#sk-container-id-3 div.sk-dashed-wrapped {border: 1px dashed gray;margin: 0 0.4em 0.5em 0.4em;box-sizing: border-box;padding-bottom: 0.4em;background-color: white;}#sk-container-id-3 div.sk-label label {font-family: monospace;font-weight: bold;display: inline-block;line-height: 1.2em;}#sk-container-id-3 div.sk-label-container {text-align: center;}#sk-container-id-3 div.sk-container {/* jupyter's `normalize.less` sets `[hidden] { display: none; }` but bootstrap.min.css set `[hidden] { display: none !important; }` so we also need the `!important` here to be able to override the default hidden behavior on the sphinx rendered scikit-learn.org. See: https://github.com/scikit-learn/scikit-learn/issues/21755 */display: inline-block !important;position: relative;}#sk-container-id-3 div.sk-text-repr-fallback {display: none;}</style><div id=\"sk-container-id-3\" class=\"sk-top-container\"><div class=\"sk-text-repr-fallback\"><pre>LinearRegression()</pre><b>In a Jupyter environment, please rerun this cell to show the HTML representation or trust the notebook. <br />On GitHub, the HTML representation is unable to render, please try loading this page with nbviewer.org.</b></div><div class=\"sk-container\" hidden><div class=\"sk-item\"><div class=\"sk-estimator sk-toggleable\"><input class=\"sk-toggleable__control sk-hidden--visually\" id=\"sk-estimator-id-3\" type=\"checkbox\" checked><label for=\"sk-estimator-id-3\" class=\"sk-toggleable__label sk-toggleable__label-arrow\">LinearRegression</label><div class=\"sk-toggleable__content\"><pre>LinearRegression()</pre></div></div></div></div></div>"
            ]
          },
          "metadata": {},
          "execution_count": 88
        }
      ]
    },
    {
      "cell_type": "code",
      "source": [
        "lin_reg.coef_"
      ],
      "metadata": {
        "colab": {
          "base_uri": "https://localhost:8080/"
        },
        "id": "pr7-vo_a1T4Q",
        "outputId": "21bad3ae-71ee-4b99-c740-319fa95701bd"
      },
      "execution_count": 89,
      "outputs": [
        {
          "output_type": "execute_result",
          "data": {
            "text/plain": [
              "array([  1.01433211, -21.55792498])"
            ]
          },
          "metadata": {},
          "execution_count": 89
        }
      ]
    },
    {
      "cell_type": "code",
      "source": [
        "lin_reg.intercept_"
      ],
      "metadata": {
        "colab": {
          "base_uri": "https://localhost:8080/"
        },
        "id": "Hfcd3CiT1b4V",
        "outputId": "eaae7eca-f483-481a-bdb4-4c168b14cb8a"
      },
      "execution_count": 90,
      "outputs": [
        {
          "output_type": "execute_result",
          "data": {
            "text/plain": [
              "116.0502107827827"
            ]
          },
          "metadata": {},
          "execution_count": 90
        }
      ]
    },
    {
      "cell_type": "markdown",
      "source": [
        "$$\n",
        "  weight = 1.01 \\times length^2 - 21.55 \\times length + 116.05\n",
        "$$"
      ],
      "metadata": {
        "id": "CXo2E4xO2B0T"
      }
    },
    {
      "cell_type": "markdown",
      "source": [
        "## 훈련셋의 예측 결과를 평가"
      ],
      "metadata": {
        "id": "dEHVOb6x2hn8"
      }
    },
    {
      "cell_type": "code",
      "source": [
        "y_tr_pred = lin_reg.predict(X_tr_poly)"
      ],
      "metadata": {
        "id": "mCx1G97T2Ada"
      },
      "execution_count": 92,
      "outputs": []
    },
    {
      "cell_type": "code",
      "source": [
        "print(y_tr_pred)"
      ],
      "metadata": {
        "colab": {
          "base_uri": "https://localhost:8080/"
        },
        "id": "o22UT10p2f2x",
        "outputId": "1fb55644-3d2f-4bfd-92a8-3ac8be1c6fe5"
      },
      "execution_count": 93,
      "outputs": [
        {
          "output_type": "stream",
          "name": "stdout",
          "text": [
            "[  83.18070434  132.71260219   67.61880901   48.04150559  654.5393253\n",
            "  211.05965467  876.66458663  818.09027497 1064.55950693  132.71260219\n",
            "   90.62455496  132.71260219  182.91530629  290.29593158 1064.55950693\n",
            "  876.66458663  182.91530629  110.65424646  290.29593158  876.66458663\n",
            "  500.20932803  257.07992265  680.52990177   11.08663218  149.3605064\n",
            "   20.90606071  707.0276443   604.07967051  332.83297906  169.60388118\n",
            "  818.09027497  110.65424646  156.79962213  132.71260219 1131.24847547\n",
            "  144.50252913   72.62352767  707.0276443   132.71260219  228.92002253\n",
            "  999.89920261  579.6105922 ]\n"
          ]
        }
      ]
    },
    {
      "cell_type": "code",
      "source": [
        "mean_squared_error(y_tr, y_tr_pred)"
      ],
      "metadata": {
        "colab": {
          "base_uri": "https://localhost:8080/"
        },
        "id": "i9EtL5l12pAA",
        "outputId": "6683127e-f0e7-4157-c6b4-584e3572a603"
      },
      "execution_count": 94,
      "outputs": [
        {
          "output_type": "execute_result",
          "data": {
            "text/plain": [
              "3617.9917403639624"
            ]
          },
          "metadata": {},
          "execution_count": 94
        }
      ]
    },
    {
      "cell_type": "code",
      "source": [
        "r2_score(y_tr, y_tr_pred)"
      ],
      "metadata": {
        "colab": {
          "base_uri": "https://localhost:8080/"
        },
        "id": "ElGJgvqR2zT3",
        "outputId": "1e1ced06-44ae-4522-bb6f-dfad8244b019"
      },
      "execution_count": 95,
      "outputs": [
        {
          "output_type": "execute_result",
          "data": {
            "text/plain": [
              "0.9706807451768623"
            ]
          },
          "metadata": {},
          "execution_count": 95
        }
      ]
    },
    {
      "cell_type": "markdown",
      "source": [],
      "metadata": {
        "id": "oN356RUT6rYw"
      }
    },
    {
      "cell_type": "markdown",
      "source": [
        "## 테스트셋의 예측 결과를 평가"
      ],
      "metadata": {
        "id": "m6QhM9yO3ZvV"
      }
    },
    {
      "cell_type": "code",
      "source": [
        "X_te_poly = np.c_[X_te **2 , X_te]"
      ],
      "metadata": {
        "id": "MTjCdfsK3Zoy"
      },
      "execution_count": 97,
      "outputs": []
    },
    {
      "cell_type": "code",
      "source": [
        "y_te_pred = lin_reg.predict(X_te_poly)"
      ],
      "metadata": {
        "id": "_yK9u7DI3LXh"
      },
      "execution_count": 98,
      "outputs": []
    },
    {
      "cell_type": "code",
      "source": [
        "print(y_te_pred)"
      ],
      "metadata": {
        "colab": {
          "base_uri": "https://localhost:8080/"
        },
        "id": "GU8QHRI038Cj",
        "outputId": "3864cb83-48cc-4592-b228-5e3c9436f948"
      },
      "execution_count": 99,
      "outputs": [
        {
          "output_type": "stream",
          "name": "stdout",
          "text": [
            "[   6.5349146    56.6511646   290.29593158  117.05874344  144.50252913\n",
            "  876.66458663  382.21135986  199.55847561  818.09027497  110.65424646\n",
            " 1097.65040817   33.01314491  307.66468513  283.49043666]\n"
          ]
        }
      ]
    },
    {
      "cell_type": "code",
      "source": [
        "mean_squared_error(y_te,y_te_pred)"
      ],
      "metadata": {
        "colab": {
          "base_uri": "https://localhost:8080/"
        },
        "id": "HQg4u8oT39w6",
        "outputId": "bca119a1-82d7-4003-ca76-d52a9ed939a9"
      },
      "execution_count": 100,
      "outputs": [
        {
          "output_type": "execute_result",
          "data": {
            "text/plain": [
              "2248.9974694392704"
            ]
          },
          "metadata": {},
          "execution_count": 100
        }
      ]
    },
    {
      "cell_type": "code",
      "source": [
        "r2_score(y_te,y_te_pred)\n",
        "#> 훈련 셋의 결정 계수와 비슷 - 과대, 과소 적합이 적음."
      ],
      "metadata": {
        "colab": {
          "base_uri": "https://localhost:8080/"
        },
        "id": "CAzsKEgw4IwE",
        "outputId": "c69f00df-4db3-49ee-a6d9-7b77f5f1eddc"
      },
      "execution_count": 101,
      "outputs": [
        {
          "output_type": "execute_result",
          "data": {
            "text/plain": [
              "0.9775935108325122"
            ]
          },
          "metadata": {},
          "execution_count": 101
        }
      ]
    },
    {
      "cell_type": "code",
      "source": [
        "# 훈련 셋 시각화\n",
        "plt.scatter(X_tr.ravel(), y_tr, alpha=0.4, label='Train set')\n",
        "# 테스트 셋 시각화\n",
        "plt.scatter(X_te.ravel(), y_te, alpha=0.4, label='Test set')\n",
        "# 선형 회귀 방정식 시각화\n",
        "x = np.arange(0,50,0.01) # [0 0.01... 44.99]\n",
        "a = lin_reg.coef_[0]\n",
        "b = lin_reg.coef_[1]\n",
        "c = lin_reg.intercept_\n",
        "y1 = a * (x**2) + b * x + c  # 선형 회귀 방정식\n",
        "plt.plot(x,y1,'r-',label='Linear regression')\n",
        "\n",
        "plt.xlabel('Length(cm)')\n",
        "plt.ylabel('Weight(g)')\n",
        "plt.grid()\n",
        "plt.legend()"
      ],
      "metadata": {
        "colab": {
          "base_uri": "https://localhost:8080/",
          "height": 467
        },
        "id": "vihV7qzz4p07",
        "outputId": "34257996-5943-4725-8ed1-a7a85071f06f"
      },
      "execution_count": 103,
      "outputs": [
        {
          "output_type": "execute_result",
          "data": {
            "text/plain": [
              "<matplotlib.legend.Legend at 0x791d062a19c0>"
            ]
          },
          "metadata": {},
          "execution_count": 103
        },
        {
          "output_type": "display_data",
          "data": {
            "text/plain": [
              "<Figure size 640x480 with 1 Axes>"
            ],
            "image/png": "[encoded data removed]"
          },
          "metadata": {}
        }
      ]
    },
    {
      "cell_type": "markdown",
      "source": [
        "모든 특성들을 사용한 선형 회귀\n",
        "\n",
        "$$\n",
        "   y = \\Sigma_{i=1}^{n} a_i \\times x_i + b\n",
        "$$"
      ],
      "metadata": {
        "id": "44mmNuV6_YyT"
      }
    },
    {
      "cell_type": "code",
      "source": [
        "perch.head()"
      ],
      "metadata": {
        "colab": {
          "base_uri": "https://localhost:8080/",
          "height": 206
        },
        "id": "tqnVne959eQi",
        "outputId": "352d43cc-0ec8-4433-c519-437471e17518"
      },
      "execution_count": 104,
      "outputs": [
        {
          "output_type": "execute_result",
          "data": {
            "text/plain": [
              "   Species  Weight  Length  Diagonal  Height   Width\n",
              "72   Perch     5.9     8.4       8.8  2.1120  1.4080\n",
              "73   Perch    32.0    13.7      14.7  3.5280  1.9992\n",
              "74   Perch    40.0    15.0      16.0  3.8240  2.4320\n",
              "75   Perch    51.5    16.2      17.2  4.5924  2.6316\n",
              "76   Perch    70.0    17.4      18.5  4.5880  2.9415"
            ],
            "text/html": [
              "\n",
              "\n",
              "  <div id=\"df-8071b3ed-a986-40e3-be9b-3b13a9dc03d1\">\n",
              "    <div class=\"colab-df-container\">\n",
              "      <div>\n",
              "<style scoped>\n",
              "    .dataframe tbody tr th:only-of-type {\n",
              "        vertical-align: middle;\n",
              "    }\n",
              "\n",
              "    .dataframe tbody tr th {\n",
              "        vertical-align: top;\n",
              "    }\n",
              "\n",
              "    .dataframe thead th {\n",
              "        text-align: right;\n",
              "    }\n",
              "</style>\n",
              "<table border=\"1\" class=\"dataframe\">\n",
              "  <thead>\n",
              "    <tr style=\"text-align: right;\">\n",
              "      <th></th>\n",
              "      <th>Species</th>\n",
              "      <th>Weight</th>\n",
              "      <th>Length</th>\n",
              "      <th>Diagonal</th>\n",
              "      <th>Height</th>\n",
              "      <th>Width</th>\n",
              "    </tr>\n",
              "  </thead>\n",
              "  <tbody>\n",
              "    <tr>\n",
              "      <th>72</th>\n",
              "      <td>Perch</td>\n",
              "      <td>5.9</td>\n",
              "      <td>8.4</td>\n",
              "      <td>8.8</td>\n",
              "      <td>2.1120</td>\n",
              "      <td>1.4080</td>\n",
              "    </tr>\n",
              "    <tr>\n",
              "      <th>73</th>\n",
              "      <td>Perch</td>\n",
              "      <td>32.0</td>\n",
              "      <td>13.7</td>\n",
              "      <td>14.7</td>\n",
              "      <td>3.5280</td>\n",
              "      <td>1.9992</td>\n",
              "    </tr>\n",
              "    <tr>\n",
              "      <th>74</th>\n",
              "      <td>Perch</td>\n",
              "      <td>40.0</td>\n",
              "      <td>15.0</td>\n",
              "      <td>16.0</td>\n",
              "      <td>3.8240</td>\n",
              "      <td>2.4320</td>\n",
              "    </tr>\n",
              "    <tr>\n",
              "      <th>75</th>\n",
              "      <td>Perch</td>\n",
              "      <td>51.5</td>\n",
              "      <td>16.2</td>\n",
              "      <td>17.2</td>\n",
              "      <td>4.5924</td>\n",
              "      <td>2.6316</td>\n",
              "    </tr>\n",
              "    <tr>\n",
              "      <th>76</th>\n",
              "      <td>Perch</td>\n",
              "      <td>70.0</td>\n",
              "      <td>17.4</td>\n",
              "      <td>18.5</td>\n",
              "      <td>4.5880</td>\n",
              "      <td>2.9415</td>\n",
              "    </tr>\n",
              "  </tbody>\n",
              "</table>\n",
              "</div>\n",
              "      <button class=\"colab-df-convert\" onclick=\"convertToInteractive('df-8071b3ed-a986-40e3-be9b-3b13a9dc03d1')\"\n",
              "              title=\"Convert this dataframe to an interactive table.\"\n",
              "              style=\"display:none;\">\n",
              "\n",
              "  <svg xmlns=\"http://www.w3.org/2000/svg\" height=\"24px\"viewBox=\"0 0 24 24\"\n",
              "       width=\"24px\">\n",
              "    <path d=\"M0 0h24v24H0V0z\" fill=\"none\"/>\n",
              "    <path d=\"M18.56 5.44l.94 2.06.94-2.06 2.06-.94-2.06-.94-.94-2.06-.94 2.06-2.06.94zm-11 1L8.5 8.5l.94-2.06 2.06-.94-2.06-.94L8.5 2.5l-.94 2.06-2.06.94zm10 10l.94 2.06.94-2.06 2.06-.94-2.06-.94-.94-2.06-.94 2.06-2.06.94z\"/><path d=\"M17.41 7.96l-1.37-1.37c-.4-.4-.92-.59-1.43-.59-.52 0-1.04.2-1.43.59L10.3 9.45l-7.72 7.72c-.78.78-.78 2.05 0 2.83L4 21.41c.39.39.9.59 1.41.59.51 0 1.02-.2 1.41-.59l7.78-7.78 2.81-2.81c.8-.78.8-2.07 0-2.86zM5.41 20L4 18.59l7.72-7.72 1.47 1.35L5.41 20z\"/>\n",
              "  </svg>\n",
              "      </button>\n",
              "\n",
              "\n",
              "\n",
              "    <div id=\"df-ed9f2c66-af4f-4f52-a253-b784d081b0d6\">\n",
              "      <button class=\"colab-df-quickchart\" onclick=\"quickchart('df-ed9f2c66-af4f-4f52-a253-b784d081b0d6')\"\n",
              "              title=\"Suggest charts.\"\n",
              "              style=\"display:none;\">\n",
              "\n",
              "<svg xmlns=\"http://www.w3.org/2000/svg\" height=\"24px\"viewBox=\"0 0 24 24\"\n",
              "     width=\"24px\">\n",
              "    <g>\n",
              "        <path d=\"M19 3H5c-1.1 0-2 .9-2 2v14c0 1.1.9 2 2 2h14c1.1 0 2-.9 2-2V5c0-1.1-.9-2-2-2zM9 17H7v-7h2v7zm4 0h-2V7h2v10zm4 0h-2v-4h2v4z\"/>\n",
              "    </g>\n",
              "</svg>\n",
              "      </button>\n",
              "    </div>\n",
              "\n",
              "<style>\n",
              "  .colab-df-quickchart {\n",
              "    background-color: #E8F0FE;\n",
              "    border: none;\n",
              "    border-radius: 50%;\n",
              "    cursor: pointer;\n",
              "    display: none;\n",
              "    fill: #1967D2;\n",
              "    height: 32px;\n",
              "    padding: 0 0 0 0;\n",
              "    width: 32px;\n",
              "  }\n",
              "\n",
              "  .colab-df-quickchart:hover {\n",
              "    background-color: #E2EBFA;\n",
              "    box-shadow: 0px 1px 2px rgba(60, 64, 67, 0.3), 0px 1px 3px 1px rgba(60, 64, 67, 0.15);\n",
              "    fill: #174EA6;\n",
              "  }\n",
              "\n",
              "  [theme=dark] .colab-df-quickchart {\n",
              "    background-color: #3B4455;\n",
              "    fill: #D2E3FC;\n",
              "  }\n",
              "\n",
              "  [theme=dark] .colab-df-quickchart:hover {\n",
              "    background-color: #434B5C;\n",
              "    box-shadow: 0px 1px 3px 1px rgba(0, 0, 0, 0.15);\n",
              "    filter: drop-shadow(0px 1px 2px rgba(0, 0, 0, 0.3));\n",
              "    fill: #FFFFFF;\n",
              "  }\n",
              "</style>\n",
              "\n",
              "    <script>\n",
              "      async function quickchart(key) {\n",
              "        const containerElement = document.querySelector('#' + key);\n",
              "        const charts = await google.colab.kernel.invokeFunction(\n",
              "            'suggestCharts', [key], {});\n",
              "      }\n",
              "    </script>\n",
              "\n",
              "      <script>\n",
              "\n",
              "function displayQuickchartButton(domScope) {\n",
              "  let quickchartButtonEl =\n",
              "    domScope.querySelector('#df-ed9f2c66-af4f-4f52-a253-b784d081b0d6 button.colab-df-quickchart');\n",
              "  quickchartButtonEl.style.display =\n",
              "    google.colab.kernel.accessAllowed ? 'block' : 'none';\n",
              "}\n",
              "\n",
              "        displayQuickchartButton(document);\n",
              "      </script>\n",
              "      <style>\n",
              "    .colab-df-container {\n",
              "      display:flex;\n",
              "      flex-wrap:wrap;\n",
              "      gap: 12px;\n",
              "    }\n",
              "\n",
              "    .colab-df-convert {\n",
              "      background-color: #E8F0FE;\n",
              "      border: none;\n",
              "      border-radius: 50%;\n",
              "      cursor: pointer;\n",
              "      display: none;\n",
              "      fill: #1967D2;\n",
              "      height: 32px;\n",
              "      padding: 0 0 0 0;\n",
              "      width: 32px;\n",
              "    }\n",
              "\n",
              "    .colab-df-convert:hover {\n",
              "      background-color: #E2EBFA;\n",
              "      box-shadow: 0px 1px 2px rgba(60, 64, 67, 0.3), 0px 1px 3px 1px rgba(60, 64, 67, 0.15);\n",
              "      fill: #174EA6;\n",
              "    }\n",
              "\n",
              "    [theme=dark] .colab-df-convert {\n",
              "      background-color: #3B4455;\n",
              "      fill: #D2E3FC;\n",
              "    }\n",
              "\n",
              "    [theme=dark] .colab-df-convert:hover {\n",
              "      background-color: #434B5C;\n",
              "      box-shadow: 0px 1px 3px 1px rgba(0, 0, 0, 0.15);\n",
              "      filter: drop-shadow(0px 1px 2px rgba(0, 0, 0, 0.3));\n",
              "      fill: #FFFFFF;\n",
              "    }\n",
              "  </style>\n",
              "\n",
              "      <script>\n",
              "        const buttonEl =\n",
              "          document.querySelector('#df-8071b3ed-a986-40e3-be9b-3b13a9dc03d1 button.colab-df-convert');\n",
              "        buttonEl.style.display =\n",
              "          google.colab.kernel.accessAllowed ? 'block' : 'none';\n",
              "\n",
              "        async function convertToInteractive(key) {\n",
              "          const element = document.querySelector('#df-8071b3ed-a986-40e3-be9b-3b13a9dc03d1');\n",
              "          const dataTable =\n",
              "            await google.colab.kernel.invokeFunction('convertToInteractive',\n",
              "                                                     [key], {});\n",
              "          if (!dataTable) return;\n",
              "\n",
              "          const docLinkHtml = 'Like what you see? Visit the ' +\n",
              "            '<a target=\"_blank\" href=https://colab.research.google.com/notebooks/data_table.ipynb>data table notebook</a>'\n",
              "            + ' to learn more about interactive tables.';\n",
              "          element.innerHTML = '';\n",
              "          dataTable['output_type'] = 'display_data';\n",
              "          await google.colab.output.renderOutput(dataTable, element);\n",
              "          const docLink = document.createElement('div');\n",
              "          docLink.innerHTML = docLinkHtml;\n",
              "          element.appendChild(docLink);\n",
              "        }\n",
              "      </script>\n",
              "    </div>\n",
              "  </div>\n"
            ]
          },
          "metadata": {},
          "execution_count": 104
        }
      ]
    },
    {
      "cell_type": "code",
      "source": [
        "X = perch.iloc[:, 2:].values"
      ],
      "metadata": {
        "id": "2oXDUJQYATIs"
      },
      "execution_count": 105,
      "outputs": []
    },
    {
      "cell_type": "code",
      "source": [
        "X.shape"
      ],
      "metadata": {
        "colab": {
          "base_uri": "https://localhost:8080/"
        },
        "id": "RwbjSwoQAhKq",
        "outputId": "6800ab0b-9532-417f-c831-50dc28f1ed51"
      },
      "execution_count": 107,
      "outputs": [
        {
          "output_type": "execute_result",
          "data": {
            "text/plain": [
              "(56, 4)"
            ]
          },
          "metadata": {},
          "execution_count": 107
        }
      ]
    },
    {
      "cell_type": "code",
      "source": [
        "y = perch.iloc[:,1].values"
      ],
      "metadata": {
        "id": "U7Trr2FjAhq0"
      },
      "execution_count": 108,
      "outputs": []
    },
    {
      "cell_type": "code",
      "source": [
        "y"
      ],
      "metadata": {
        "colab": {
          "base_uri": "https://localhost:8080/"
        },
        "id": "D-yPO2OdA8lB",
        "outputId": "c1c2db9e-7a36-4994-b09b-7fcc9b32bd48"
      },
      "execution_count": 109,
      "outputs": [
        {
          "output_type": "execute_result",
          "data": {
            "text/plain": [
              "array([   5.9,   32. ,   40. ,   51.5,   70. ,  100. ,   78. ,   80. ,\n",
              "         85. ,   85. ,  110. ,  115. ,  125. ,  130. ,  120. ,  120. ,\n",
              "        130. ,  135. ,  110. ,  130. ,  150. ,  145. ,  150. ,  170. ,\n",
              "        225. ,  145. ,  188. ,  180. ,  197. ,  218. ,  300. ,  260. ,\n",
              "        265. ,  250. ,  250. ,  300. ,  320. ,  514. ,  556. ,  840. ,\n",
              "        685. ,  700. ,  700. ,  690. ,  900. ,  650. ,  820. ,  850. ,\n",
              "        900. , 1015. ,  820. , 1100. , 1000. , 1100. , 1000. , 1000. ])"
            ]
          },
          "metadata": {},
          "execution_count": 109
        }
      ]
    },
    {
      "cell_type": "code",
      "source": [
        "y.shape"
      ],
      "metadata": {
        "colab": {
          "base_uri": "https://localhost:8080/"
        },
        "id": "l5gFw47yA89W",
        "outputId": "7b08d4aa-f295-457e-f068-437e52d883b7"
      },
      "execution_count": 110,
      "outputs": [
        {
          "output_type": "execute_result",
          "data": {
            "text/plain": [
              "(56,)"
            ]
          },
          "metadata": {},
          "execution_count": 110
        }
      ]
    },
    {
      "cell_type": "markdown",
      "source": [
        "##훈련셋 테스트 셋 분리"
      ],
      "metadata": {
        "id": "-3tsx3r3BSlD"
      }
    },
    {
      "cell_type": "code",
      "source": [
        "X_tr, X_te, y_tr, y_te = train_test_split(X,y,test_size=0.25,random_state=42)"
      ],
      "metadata": {
        "id": "nuhvFbLCA92m"
      },
      "execution_count": 111,
      "outputs": []
    },
    {
      "cell_type": "markdown",
      "source": [
        "## 선형 회귀 모델 생성"
      ],
      "metadata": {
        "id": "5ztMNCUyBekC"
      }
    },
    {
      "cell_type": "code",
      "source": [
        "lin_reg = LinearRegression()"
      ],
      "metadata": {
        "id": "Yx_68j5lBQh6"
      },
      "execution_count": 112,
      "outputs": []
    },
    {
      "cell_type": "markdown",
      "source": [
        "## 모델 훈련"
      ],
      "metadata": {
        "id": "JM1_BczDBob5"
      }
    },
    {
      "cell_type": "code",
      "source": [
        "lin_reg.fit(X_tr,y_tr)"
      ],
      "metadata": {
        "colab": {
          "base_uri": "https://localhost:8080/",
          "height": 75
        },
        "id": "Uw5VVnE_Bm9C",
        "outputId": "ace9c1bb-6aa4-4a77-8197-01d83e9e6f16"
      },
      "execution_count": 113,
      "outputs": [
        {
          "output_type": "execute_result",
          "data": {
            "text/plain": [
              "LinearRegression()"
            ],
            "text/html": [
              "<style>#sk-container-id-4 {color: black;background-color: white;}#sk-container-id-4 pre{padding: 0;}#sk-container-id-4 div.sk-toggleable {background-color: white;}#sk-container-id-4 label.sk-toggleable__label {cursor: pointer;display: block;width: 100%;margin-bottom: 0;padding: 0.3em;box-sizing: border-box;text-align: center;}#sk-container-id-4 label.sk-toggleable__label-arrow:before {content: \"▸\";float: left;margin-right: 0.25em;color: #696969;}#sk-container-id-4 label.sk-toggleable__label-arrow:hover:before {color: black;}#sk-container-id-4 div.sk-estimator:hover label.sk-toggleable__label-arrow:before {color: black;}#sk-container-id-4 div.sk-toggleable__content {max-height: 0;max-width: 0;overflow: hidden;text-align: left;background-color: #f0f8ff;}#sk-container-id-4 div.sk-toggleable__content pre {margin: 0.2em;color: black;border-radius: 0.25em;background-color: #f0f8ff;}#sk-container-id-4 input.sk-toggleable__control:checked~div.sk-toggleable__content {max-height: 200px;max-width: 100%;overflow: auto;}#sk-container-id-4 input.sk-toggleable__control:checked~label.sk-toggleable__label-arrow:before {content: \"▾\";}#sk-container-id-4 div.sk-estimator input.sk-toggleable__control:checked~label.sk-toggleable__label {background-color: #d4ebff;}#sk-container-id-4 div.sk-label input.sk-toggleable__control:checked~label.sk-toggleable__label {background-color: #d4ebff;}#sk-container-id-4 input.sk-hidden--visually {border: 0;clip: rect(1px 1px 1px 1px);clip: rect(1px, 1px, 1px, 1px);height: 1px;margin: -1px;overflow: hidden;padding: 0;position: absolute;width: 1px;}#sk-container-id-4 div.sk-estimator {font-family: monospace;background-color: #f0f8ff;border: 1px dotted black;border-radius: 0.25em;box-sizing: border-box;margin-bottom: 0.5em;}#sk-container-id-4 div.sk-estimator:hover {background-color: #d4ebff;}#sk-container-id-4 div.sk-parallel-item::after {content: \"\";width: 100%;border-bottom: 1px solid gray;flex-grow: 1;}#sk-container-id-4 div.sk-label:hover label.sk-toggleable__label {background-color: #d4ebff;}#sk-container-id-4 div.sk-serial::before {content: \"\";position: absolute;border-left: 1px solid gray;box-sizing: border-box;top: 0;bottom: 0;left: 50%;z-index: 0;}#sk-container-id-4 div.sk-serial {display: flex;flex-direction: column;align-items: center;background-color: white;padding-right: 0.2em;padding-left: 0.2em;position: relative;}#sk-container-id-4 div.sk-item {position: relative;z-index: 1;}#sk-container-id-4 div.sk-parallel {display: flex;align-items: stretch;justify-content: center;background-color: white;position: relative;}#sk-container-id-4 div.sk-item::before, #sk-container-id-4 div.sk-parallel-item::before {content: \"\";position: absolute;border-left: 1px solid gray;box-sizing: border-box;top: 0;bottom: 0;left: 50%;z-index: -1;}#sk-container-id-4 div.sk-parallel-item {display: flex;flex-direction: column;z-index: 1;position: relative;background-color: white;}#sk-container-id-4 div.sk-parallel-item:first-child::after {align-self: flex-end;width: 50%;}#sk-container-id-4 div.sk-parallel-item:last-child::after {align-self: flex-start;width: 50%;}#sk-container-id-4 div.sk-parallel-item:only-child::after {width: 0;}#sk-container-id-4 div.sk-dashed-wrapped {border: 1px dashed gray;margin: 0 0.4em 0.5em 0.4em;box-sizing: border-box;padding-bottom: 0.4em;background-color: white;}#sk-container-id-4 div.sk-label label {font-family: monospace;font-weight: bold;display: inline-block;line-height: 1.2em;}#sk-container-id-4 div.sk-label-container {text-align: center;}#sk-container-id-4 div.sk-container {/* jupyter's `normalize.less` sets `[hidden] { display: none; }` but bootstrap.min.css set `[hidden] { display: none !important; }` so we also need the `!important` here to be able to override the default hidden behavior on the sphinx rendered scikit-learn.org. See: https://github.com/scikit-learn/scikit-learn/issues/21755 */display: inline-block !important;position: relative;}#sk-container-id-4 div.sk-text-repr-fallback {display: none;}</style><div id=\"sk-container-id-4\" class=\"sk-top-container\"><div class=\"sk-text-repr-fallback\"><pre>LinearRegression()</pre><b>In a Jupyter environment, please rerun this cell to show the HTML representation or trust the notebook. <br />On GitHub, the HTML representation is unable to render, please try loading this page with nbviewer.org.</b></div><div class=\"sk-container\" hidden><div class=\"sk-item\"><div class=\"sk-estimator sk-toggleable\"><input class=\"sk-toggleable__control sk-hidden--visually\" id=\"sk-estimator-id-4\" type=\"checkbox\" checked><label for=\"sk-estimator-id-4\" class=\"sk-toggleable__label sk-toggleable__label-arrow\">LinearRegression</label><div class=\"sk-toggleable__content\"><pre>LinearRegression()</pre></div></div></div></div></div>"
            ]
          },
          "metadata": {},
          "execution_count": 113
        }
      ]
    },
    {
      "cell_type": "code",
      "source": [
        "lin_reg.coef_"
      ],
      "metadata": {
        "colab": {
          "base_uri": "https://localhost:8080/"
        },
        "id": "MuxnbP1zBrC9",
        "outputId": "941a62f6-e9ea-4ba3-f487-9f6202afe551"
      },
      "execution_count": 114,
      "outputs": [
        {
          "output_type": "execute_result",
          "data": {
            "text/plain": [
              "array([-40.18338554,  47.80681727,  67.34086612,  35.34904264])"
            ]
          },
          "metadata": {},
          "execution_count": 114
        }
      ]
    },
    {
      "cell_type": "code",
      "source": [
        "lin_reg.intercept_"
      ],
      "metadata": {
        "colab": {
          "base_uri": "https://localhost:8080/"
        },
        "id": "B7wIXlsHB40F",
        "outputId": "a5e5d155-7d55-473c-e15a-ff8205ca5e7e"
      },
      "execution_count": 115,
      "outputs": [
        {
          "output_type": "execute_result",
          "data": {
            "text/plain": [
              "-610.0275364260515"
            ]
          },
          "metadata": {},
          "execution_count": 115
        }
      ]
    },
    {
      "cell_type": "markdown",
      "source": [
        "## 훈련셋, 테스트 셋 평가 점수"
      ],
      "metadata": {
        "id": "wEEKPlzKDEh5"
      }
    },
    {
      "cell_type": "code",
      "source": [
        "lin_reg.score(X_tr, y_tr) # 훈련 셋 결정 계수"
      ],
      "metadata": {
        "colab": {
          "base_uri": "https://localhost:8080/"
        },
        "id": "F40_o_HtB7FF",
        "outputId": "c3d5d0fd-8a88-4a4f-e98a-f3a3462e5b89"
      },
      "execution_count": 116,
      "outputs": [
        {
          "output_type": "execute_result",
          "data": {
            "text/plain": [
              "0.9567246116638569"
            ]
          },
          "metadata": {},
          "execution_count": 116
        }
      ]
    },
    {
      "cell_type": "code",
      "source": [
        "lin_reg.score(X_te, y_te) # 테스트 셋 결정 계수 -> 과대 적합(overfitting)"
      ],
      "metadata": {
        "colab": {
          "base_uri": "https://localhost:8080/"
        },
        "id": "oQd1lJ1DDJOb",
        "outputId": "fa33b0d6-3391-4c65-e573-d25bf826174b"
      },
      "execution_count": 117,
      "outputs": [
        {
          "output_type": "execute_result",
          "data": {
            "text/plain": [
              "0.8790465615990273"
            ]
          },
          "metadata": {},
          "execution_count": 117
        }
      ]
    },
    {
      "cell_type": "markdown",
      "source": [
        "# 모든 특성들의 2차항까지 고려한 선형 회귀"
      ],
      "metadata": {
        "id": "7N-06AtDFSO4"
      }
    },
    {
      "cell_type": "markdown",
      "source": [
        "scikit-learn 패키지의 클래스:\n",
        "\n",
        "* 변환기(Transformer) :\n",
        "  * 모델 훈련 전 전처리(preprocessing) 과정에서 특성들을 변환하기 위해서 사용.\n",
        "  * (예) StandardScaler, MinMaxScaler, PolynomialFeatures, ...\n",
        "  `fit, transform, fit_transform` 메서드를 가지고 있음.\n",
        "* 추정기(estimator) :\n",
        "  * 머신러닝 알고리즘을 구현한 클래스.\n",
        "  * (예) KNeighborsClassfier, KNeighborsRegressor, LinearRegression, LogisticRegression, ...\n",
        "  * `fit, predict, score` 메서드를 가지고 있음."
      ],
      "metadata": {
        "id": "nCYfvesHFcI4"
      }
    },
    {
      "cell_type": "code",
      "source": [],
      "metadata": {
        "id": "6CSr0G9iDZgf"
      },
      "execution_count": null,
      "outputs": []
    }
  ]
}