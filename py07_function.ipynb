{
  "nbformat": 4,
  "nbformat_minor": 0,
  "metadata": {
    "colab": {
      "provenance": [],
      "authorship_tag": "ABX9TyO4WHq6oLuPl46E5By9nC6E",
      "include_colab_link": true
    },
    "kernelspec": {
      "name": "python3",
      "display_name": "Python 3"
    },
    "language_info": {
      "name": "python"
    }
  },
  "cells": [
    {
      "cell_type": "markdown",
      "metadata": {
        "id": "view-in-github",
        "colab_type": "text"
      },
      "source": [
        "<a href=\"https://colab.research.google.com/github/kim-dahun/python-study/blob/main/py07_function.ipynb\" target=\"_parent\"><img src=\"https://colab.research.google.com/assets/colab-badge.svg\" alt=\"Open In Colab\"/></a>"
      ]
    },
    {
      "cell_type": "markdown",
      "source": [
        "# Function(함수)\n",
        "\n",
        "* function(함수) : 기능을 수행하는 코드 블록.\n",
        "* argument : 함수를 호출하는 곳에서 함수에게 전달하는 값\n",
        "* parameter : argument를 저장하기 위해서 함수 선언부에서 선언하는 지역 변수\n",
        "* return value : 함수가 기능의 수행결과로 리턴하는 값\n",
        "  * return value 가 있는 함수\n",
        "  * return value 가 없는 함수\n",
        "* 파이썬 함수 정의 방법:\n",
        "   ```\n",
        "   def function_name([param, ...]):\n",
        "   [\"\"\" 문서화 주석 - 함수 기능 설명, 파라미터 설명, 리턴 값 설명\"\"\"]\n",
        "   ```\n",
        "*return value가 없는 경우,\n",
        "  * return 문장 생략.\n",
        "  * return None"
      ],
      "metadata": {
        "id": "czutfEN6E_gG"
      }
    },
    {
      "cell_type": "code",
      "execution_count": null,
      "metadata": {
        "id": "T85u9DXME0Jh"
      },
      "outputs": [],
      "source": [
        "def subtract(x,y):\n",
        "  return x-y"
      ]
    },
    {
      "cell_type": "code",
      "source": [
        "subtract(1,2)"
      ],
      "metadata": {
        "colab": {
          "base_uri": "https://localhost:8080/"
        },
        "id": "2RxTcNi4H0W-",
        "outputId": "208a305a-408c-4a10-9a98-398d7ef88a8d"
      },
      "execution_count": null,
      "outputs": [
        {
          "output_type": "execute_result",
          "data": {
            "text/plain": [
              "-1"
            ]
          },
          "metadata": {},
          "execution_count": 20
        }
      ]
    },
    {
      "cell_type": "code",
      "source": [
        "def repeat_message(msg, c):\n",
        "  \"\"\" 문자열(msg)과 정수(c)을 전달받아서\n",
        "      문자열을 c 번 출력하는 함수\n",
        "  \"\"\"\n",
        "  for _ in range(c):\n",
        "    print(msg)\n",
        "\n",
        "  return None"
      ],
      "metadata": {
        "id": "oPEL-zbnH8bU"
      },
      "execution_count": null,
      "outputs": []
    },
    {
      "cell_type": "code",
      "source": [
        "repeat_message(\"머리아프다\",5)"
      ],
      "metadata": {
        "colab": {
          "base_uri": "https://localhost:8080/"
        },
        "id": "1plvUQQ1JW9j",
        "outputId": "e1979c5b-e5b3-47fc-acef-6d5f8a335fb2"
      },
      "execution_count": null,
      "outputs": [
        {
          "output_type": "stream",
          "name": "stdout",
          "text": [
            "머리아프다\n",
            "머리아프다\n",
            "머리아프다\n",
            "머리아프다\n",
            "머리아프다\n"
          ]
        }
      ]
    },
    {
      "cell_type": "code",
      "source": [],
      "metadata": {
        "id": "QyFX1N5sJaZA"
      },
      "execution_count": null,
      "outputs": []
    },
    {
      "cell_type": "markdown",
      "source": [
        "##Ex 1.\n",
        "*함수 이름: make_list\n",
        "*기능: start 이상 end 미만의 정수 난수 n개를 갖는 리스트를 반환하는 함수.\n",
        "##Ex 2.\n",
        "*함수 이름: calc_sum\n",
        "*기능: 숫자들의 리스트를 전달받아서, 리스트의 모든 원소들의 합을 리턴하는 함수.\n",
        "##Ex 3.\n",
        "*함수 이름: calc_mean\n",
        "*기능: 숫자들의 리스트를 전달받아서, 리스트의 원소들의 평균을 리턴하는 함수.\n",
        "##Ex 4.\n",
        "*함수 이름: calc_var\n",
        "*기능: 숫자들의 리스트를 전달받아서, 리스트의 원소들의 분산(variance)을 리턴하는 함수.\n",
        "*분산 = (값 - 평균)xx2 들의 평균"
      ],
      "metadata": {
        "id": "1SjIc2T1MZcL"
      }
    },
    {
      "cell_type": "code",
      "source": [
        "import random"
      ],
      "metadata": {
        "id": "-K5vHvb9M7Ja"
      },
      "execution_count": null,
      "outputs": []
    },
    {
      "cell_type": "code",
      "source": [
        "def make_list(start,end,n):\n",
        "\n",
        "  import random\n",
        "\n",
        "  return [random.randrange(start,end) for _ in range(n)]"
      ],
      "metadata": {
        "id": "CXZZBZ5IMgjD"
      },
      "execution_count": 60,
      "outputs": []
    },
    {
      "cell_type": "code",
      "source": [
        "def calc_sum(numlist):\n",
        "  return sum(numlist)"
      ],
      "metadata": {
        "id": "lrW9WKybNJiB"
      },
      "execution_count": 61,
      "outputs": []
    },
    {
      "cell_type": "code",
      "source": [
        "def calc_mean(numlist):\n",
        "  return calc_sum(numlist)/len(numlist)"
      ],
      "metadata": {
        "id": "sBQhaN_ANyyR"
      },
      "execution_count": 62,
      "outputs": []
    },
    {
      "cell_type": "code",
      "source": [
        "def calc_var(numlist):\n",
        "  means = calc_mean(numlist)\n",
        "  numlist2 = [(x-means)**2 for x in numlist]\n",
        "  return sum(numlist2)/len(numlist2)"
      ],
      "metadata": {
        "id": "z5JOiBU5N4Y3"
      },
      "execution_count": 63,
      "outputs": []
    },
    {
      "cell_type": "code",
      "source": [
        "result1 = make_list(1,45,6)\n",
        "result2 = calc_sum(result1)\n",
        "result3 = calc_mean(result1)\n",
        "result4 = calc_var(result1)"
      ],
      "metadata": {
        "id": "nyCTOWmCOa3i"
      },
      "execution_count": 64,
      "outputs": []
    },
    {
      "cell_type": "code",
      "source": [
        "print(f'result1 = {result1}')\n",
        "print(f'result2 = {result2}')\n",
        "print(f'result3 = {round(result3,2)}')\n",
        "print(f'result4 = {round(result4,2)}')"
      ],
      "metadata": {
        "colab": {
          "base_uri": "https://localhost:8080/"
        },
        "id": "Qf_qlpKROtpg",
        "outputId": "69f6bc4f-ce45-4406-b223-454e10986e32"
      },
      "execution_count": 65,
      "outputs": [
        {
          "output_type": "stream",
          "name": "stdout",
          "text": [
            "result1 = [41, 28, 11, 17, 34, 15]\n",
            "result2 = 146\n",
            "result3 = 24.33\n",
            "result4 = 117.22\n"
          ]
        }
      ]
    },
    {
      "cell_type": "code",
      "source": [
        "def make_lotto45():\n",
        "  import random\n",
        "  n = 0\n",
        "  vslist = []\n",
        "  mklist = []\n",
        "  while n<6:\n",
        "    n+=1\n",
        "    m = random.randrange(1,46)\n",
        "    for x in vslist:\n",
        "      if x == m:\n",
        "        vslist.remove(x)\n",
        "        mklist.remove(x)\n",
        "        n-=1\n",
        "        continue\n",
        "    vslist.append(m)\n",
        "    mklist.append(m)\n",
        "\n",
        "  mklist.sort()\n",
        "  return mklist"
      ],
      "metadata": {
        "id": "s8jDllLDO1ta"
      },
      "execution_count": 86,
      "outputs": []
    },
    {
      "cell_type": "code",
      "source": [
        "def make_lottolist():\n",
        "\n",
        "\n",
        "  return [make_lotto45() for x in range(5)]\n",
        "\n"
      ],
      "metadata": {
        "id": "NIO4vrJGU7Mm"
      },
      "execution_count": 108,
      "outputs": []
    },
    {
      "cell_type": "code",
      "source": [
        "print(make_lottolist())"
      ],
      "metadata": {
        "colab": {
          "base_uri": "https://localhost:8080/"
        },
        "id": "mSq0Hf9nTh1V",
        "outputId": "6b2ddc4d-c0e8-44f7-8011-bb6a9fa2681f"
      },
      "execution_count": 110,
      "outputs": [
        {
          "output_type": "stream",
          "name": "stdout",
          "text": [
            "[[2, 14, 16, 23, 35, 45], [1, 6, 8, 13, 39, 42], [2, 10, 11, 27, 34, 41], [1, 12, 25, 27, 34, 40], [3, 13, 34, 35, 37, 40]]\n"
          ]
        }
      ]
    },
    {
      "cell_type": "code",
      "source": [],
      "metadata": {
        "id": "7-pQ4qbHTlJu"
      },
      "execution_count": 83,
      "outputs": []
    }
  ]
}