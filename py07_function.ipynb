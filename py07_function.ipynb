{
  "nbformat": 4,
  "nbformat_minor": 0,
  "metadata": {
    "colab": {
      "provenance": [],
      "authorship_tag": "ABX9TyNpntQBUXk0Z0ZEd3P95ryg",
      "include_colab_link": true
    },
    "kernelspec": {
      "name": "python3",
      "display_name": "Python 3"
    },
    "language_info": {
      "name": "python"
    }
  },
  "cells": [
    {
      "cell_type": "markdown",
      "metadata": {
        "id": "view-in-github",
        "colab_type": "text"
      },
      "source": [
        "<a href=\"https://colab.research.google.com/github/kim-dahun/python-study/blob/main/py07_function.ipynb\" target=\"_parent\"><img src=\"https://colab.research.google.com/assets/colab-badge.svg\" alt=\"Open In Colab\"/></a>"
      ]
    },
    {
      "cell_type": "markdown",
      "source": [
        "# Function(함수)\n",
        "\n",
        "* function(함수) : 기능을 수행하는 코드 블록.\n",
        "* argument : 함수를 호출하는 곳에서 함수에게 전달하는 값\n",
        "* parameter : argument를 저장하기 위해서 함수 선언부에서 선언하는 지역 변수\n",
        "* return value : 함수가 기능의 수행결과로 리턴하는 값\n",
        "  * return value 가 있는 함수\n",
        "  * return value 가 없는 함수\n",
        "* 파이썬 함수 정의 방법:\n",
        "   ```\n",
        "   def function_name([param, ...]):\n",
        "   [\"\"\" 문서화 주석 - 함수 기능 설명, 파라미터 설명, 리턴 값 설명\"\"\"]\n",
        "   ```\n",
        "*return value가 없는 경우,\n",
        "  * return 문장 생략.\n",
        "  * return None"
      ],
      "metadata": {
        "id": "czutfEN6E_gG"
      }
    },
    {
      "cell_type": "code",
      "execution_count": null,
      "metadata": {
        "id": "T85u9DXME0Jh"
      },
      "outputs": [],
      "source": [
        "def subtract(x,y):\n",
        "  return x-y"
      ]
    },
    {
      "cell_type": "code",
      "source": [
        "subtract(1,2)"
      ],
      "metadata": {
        "colab": {
          "base_uri": "https://localhost:8080/"
        },
        "id": "2RxTcNi4H0W-",
        "outputId": "208a305a-408c-4a10-9a98-398d7ef88a8d"
      },
      "execution_count": null,
      "outputs": [
        {
          "output_type": "execute_result",
          "data": {
            "text/plain": [
              "-1"
            ]
          },
          "metadata": {},
          "execution_count": 20
        }
      ]
    },
    {
      "cell_type": "code",
      "source": [
        "def repeat_message(msg, c):\n",
        "  \"\"\" 문자열(msg)과 정수(c)을 전달받아서\n",
        "      문자열을 c 번 출력하는 함수\n",
        "  \"\"\"\n",
        "  for _ in range(c):\n",
        "    print(msg)\n",
        "\n",
        "  return None"
      ],
      "metadata": {
        "id": "oPEL-zbnH8bU"
      },
      "execution_count": null,
      "outputs": []
    },
    {
      "cell_type": "code",
      "source": [
        "repeat_message(\"머리아프다\",5)"
      ],
      "metadata": {
        "colab": {
          "base_uri": "https://localhost:8080/"
        },
        "id": "1plvUQQ1JW9j",
        "outputId": "e1979c5b-e5b3-47fc-acef-6d5f8a335fb2"
      },
      "execution_count": null,
      "outputs": [
        {
          "output_type": "stream",
          "name": "stdout",
          "text": [
            "머리아프다\n",
            "머리아프다\n",
            "머리아프다\n",
            "머리아프다\n",
            "머리아프다\n"
          ]
        }
      ]
    },
    {
      "cell_type": "code",
      "source": [],
      "metadata": {
        "id": "QyFX1N5sJaZA"
      },
      "execution_count": null,
      "outputs": []
    },
    {
      "cell_type": "markdown",
      "source": [
        "##Ex 1.\n",
        "*함수 이름: make_list\n",
        "*기능: start 이상 end 미만의 정수 난수 n개를 갖는 리스트를 반환하는 함수.\n",
        "##Ex 2.\n",
        "*함수 이름: calc_sum\n",
        "*기능: 숫자들의 리스트를 전달받아서, 리스트의 모든 원소들의 합을 리턴하는 함수.\n",
        "##Ex 3.\n",
        "*함수 이름: calc_mean\n",
        "*기능: 숫자들의 리스트를 전달받아서, 리스트의 원소들의 평균을 리턴하는 함수.\n",
        "##Ex 4.\n",
        "*함수 이름: calc_var\n",
        "*기능: 숫자들의 리스트를 전달받아서, 리스트의 원소들의 분산(variance)을 리턴하는 함수.\n",
        "*분산 = (값 - 평균)xx2 들의 평균"
      ],
      "metadata": {
        "id": "1SjIc2T1MZcL"
      }
    },
    {
      "cell_type": "code",
      "source": [
        "import random"
      ],
      "metadata": {
        "id": "-K5vHvb9M7Ja"
      },
      "execution_count": null,
      "outputs": []
    },
    {
      "cell_type": "code",
      "source": [
        "def make_list(start,end,n):\n",
        "\n",
        "  import random\n",
        "\n",
        "  return [random.randrange(start,end) for _ in range(n)]"
      ],
      "metadata": {
        "id": "CXZZBZ5IMgjD"
      },
      "execution_count": 5,
      "outputs": []
    },
    {
      "cell_type": "code",
      "source": [
        "def calc_sum(numlist):\n",
        "  return sum(numlist)"
      ],
      "metadata": {
        "id": "lrW9WKybNJiB"
      },
      "execution_count": 6,
      "outputs": []
    },
    {
      "cell_type": "code",
      "source": [
        "def calc_mean(numlist):\n",
        "  return calc_sum(numlist)/len(numlist)"
      ],
      "metadata": {
        "id": "sBQhaN_ANyyR"
      },
      "execution_count": 7,
      "outputs": []
    },
    {
      "cell_type": "code",
      "source": [
        "def calc_var(numlist):\n",
        "  means = calc_mean(numlist)\n",
        "\n",
        "  return sum((x-means)**2 for x in numlist)/len(numlist)"
      ],
      "metadata": {
        "id": "z5JOiBU5N4Y3"
      },
      "execution_count": 8,
      "outputs": []
    },
    {
      "cell_type": "code",
      "source": [
        "result1 = make_list(1,45,6)\n",
        "result2 = calc_sum(result1)\n",
        "result3 = calc_mean(result1)\n",
        "result4 = calc_var(result1)"
      ],
      "metadata": {
        "id": "nyCTOWmCOa3i"
      },
      "execution_count": 9,
      "outputs": []
    },
    {
      "cell_type": "code",
      "source": [
        "print(f'result1 = {result1}')\n",
        "print(f'result2 = {result2}')\n",
        "print(f'result3 = {round(result3,2)}')\n",
        "print(f'result4 = {round(result4,2)}')"
      ],
      "metadata": {
        "colab": {
          "base_uri": "https://localhost:8080/"
        },
        "id": "Qf_qlpKROtpg",
        "outputId": "21ed533f-203a-410f-fc6e-22e7e68fcb6d"
      },
      "execution_count": 10,
      "outputs": [
        {
          "output_type": "stream",
          "name": "stdout",
          "text": [
            "result1 = [13, 15, 8, 12, 1, 40]\n",
            "result2 = 89\n",
            "result3 = 14.83\n",
            "result4 = 147.14\n"
          ]
        }
      ]
    },
    {
      "cell_type": "code",
      "source": [
        "def make_lotto45():\n",
        "  import random\n",
        "  n = 0\n",
        "  vslist = []\n",
        "  mklist = []\n",
        "  while n<6:\n",
        "    n+=1\n",
        "    m = random.randrange(1,46)\n",
        "    for x in vslist:\n",
        "      if x == m:\n",
        "        vslist.remove(x)\n",
        "        mklist.remove(x)\n",
        "        n-=1\n",
        "        continue\n",
        "    vslist.append(m)\n",
        "    mklist.append(m)\n",
        "\n",
        "  mklist.sort()\n",
        "  return mklist"
      ],
      "metadata": {
        "id": "s8jDllLDO1ta"
      },
      "execution_count": 11,
      "outputs": []
    },
    {
      "cell_type": "code",
      "source": [
        "def make_lottolist():\n",
        "\n",
        "\n",
        "  return [make_lotto45() for x in range(5)]\n",
        "\n"
      ],
      "metadata": {
        "id": "NIO4vrJGU7Mm"
      },
      "execution_count": 12,
      "outputs": []
    },
    {
      "cell_type": "code",
      "source": [
        "# Lotto\n",
        "\n",
        "def make_lotto_list():\n",
        "  lottos=[]\n",
        "  for _ in range(5):\n",
        "    lotto = set() # set\n",
        "    while True:\n",
        "      lotto.add(random.randrange(1,46))\n",
        "      if(len(lotto)==6):\n",
        "        break\n",
        "    lottos.append(lotto)\n",
        "  return lottos"
      ],
      "metadata": {
        "id": "yNk1NVYo1Mz1"
      },
      "execution_count": null,
      "outputs": []
    },
    {
      "cell_type": "code",
      "source": [
        "print(make_lottolist())"
      ],
      "metadata": {
        "colab": {
          "base_uri": "https://localhost:8080/"
        },
        "id": "mSq0Hf9nTh1V",
        "outputId": "0707a046-119d-4c59-e1ad-bf481873d054"
      },
      "execution_count": 13,
      "outputs": [
        {
          "output_type": "stream",
          "name": "stdout",
          "text": [
            "[[10, 13, 18, 23, 32, 40], [6, 16, 20, 22, 36, 38], [1, 23, 30, 37, 43, 44], [7, 23, 24, 26, 35, 36], [5, 9, 13, 14, 16, 44]]\n"
          ]
        }
      ]
    },
    {
      "cell_type": "code",
      "source": [
        "sum((x-3)**2 for x in range(1,9))"
      ],
      "metadata": {
        "id": "7-pQ4qbHTlJu",
        "colab": {
          "base_uri": "https://localhost:8080/"
        },
        "outputId": "0ff3a0b0-6fc1-4e9b-b770-eb9e6f5c49b9"
      },
      "execution_count": 14,
      "outputs": [
        {
          "output_type": "execute_result",
          "data": {
            "text/plain": [
              "60"
            ]
          },
          "metadata": {},
          "execution_count": 14
        }
      ]
    },
    {
      "cell_type": "code",
      "source": [],
      "metadata": {
        "id": "EOdop_YYnTT9"
      },
      "execution_count": null,
      "outputs": []
    }
  ]
}