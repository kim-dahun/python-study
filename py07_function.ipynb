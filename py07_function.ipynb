{
  "nbformat": 4,
  "nbformat_minor": 0,
  "metadata": {
    "colab": {
      "provenance": [],
      "authorship_tag": "ABX9TyNwCvd5Wy+oJ8J/eIzfTazv",
      "include_colab_link": true
    },
    "kernelspec": {
      "name": "python3",
      "display_name": "Python 3"
    },
    "language_info": {
      "name": "python"
    }
  },
  "cells": [
    {
      "cell_type": "markdown",
      "metadata": {
        "id": "view-in-github",
        "colab_type": "text"
      },
      "source": [
        "<a href=\"https://colab.research.google.com/github/kim-dahun/python-study/blob/main/py07_function.ipynb\" target=\"_parent\"><img src=\"https://colab.research.google.com/assets/colab-badge.svg\" alt=\"Open In Colab\"/></a>"
      ]
    },
    {
      "cell_type": "markdown",
      "source": [
        "# Function(함수)\n",
        "\n",
        "* function(함수) : 기능을 수행하는 코드 블록.\n",
        "* argument : 함수를 호출하는 곳에서 함수에게 전달하는 값\n",
        "* parameter : argument를 저장하기 위해서 함수 선언부에서 선언하는 지역 변수\n",
        "* return value : 함수가 기능의 수행결과로 리턴하는 값\n",
        "  * return value 가 있는 함수\n",
        "  * return value 가 없는 함수\n",
        "* 파이썬 함수 정의 방법:\n",
        "   ```\n",
        "   def function_name([param, ...]):\n",
        "   [\"\"\" 문서화 주석 - 함수 기능 설명, 파라미터 설명, 리턴 값 설명\"\"\"]\n",
        "   ```\n",
        "*return value가 없는 경우,\n",
        "  * return 문장 생략.\n",
        "  * return None"
      ],
      "metadata": {
        "id": "czutfEN6E_gG"
      }
    },
    {
      "cell_type": "code",
      "execution_count": 19,
      "metadata": {
        "id": "T85u9DXME0Jh"
      },
      "outputs": [],
      "source": [
        "def subtract(x,y):\n",
        "  return x-y"
      ]
    },
    {
      "cell_type": "code",
      "source": [
        "subtract(1,2)"
      ],
      "metadata": {
        "colab": {
          "base_uri": "https://localhost:8080/"
        },
        "id": "2RxTcNi4H0W-",
        "outputId": "208a305a-408c-4a10-9a98-398d7ef88a8d"
      },
      "execution_count": 20,
      "outputs": [
        {
          "output_type": "execute_result",
          "data": {
            "text/plain": [
              "-1"
            ]
          },
          "metadata": {},
          "execution_count": 20
        }
      ]
    },
    {
      "cell_type": "code",
      "source": [
        "def repeat_message(msg, c):\n",
        "  \"\"\" 문자열(msg)과 정수(c)을 전달받아서\n",
        "      문자열을 c 번 출력하는 함수\n",
        "  \"\"\"\n",
        "  for _ in range(c):\n",
        "    print(msg)\n",
        "\n",
        "  return None"
      ],
      "metadata": {
        "id": "oPEL-zbnH8bU"
      },
      "execution_count": 23,
      "outputs": []
    },
    {
      "cell_type": "code",
      "source": [
        "repeat_message(\"머리아프다\",5)"
      ],
      "metadata": {
        "colab": {
          "base_uri": "https://localhost:8080/"
        },
        "id": "1plvUQQ1JW9j",
        "outputId": "e1979c5b-e5b3-47fc-acef-6d5f8a335fb2"
      },
      "execution_count": 24,
      "outputs": [
        {
          "output_type": "stream",
          "name": "stdout",
          "text": [
            "머리아프다\n",
            "머리아프다\n",
            "머리아프다\n",
            "머리아프다\n",
            "머리아프다\n"
          ]
        }
      ]
    },
    {
      "cell_type": "code",
      "source": [],
      "metadata": {
        "id": "QyFX1N5sJaZA"
      },
      "execution_count": null,
      "outputs": []
    },
    {
      "cell_type": "markdown",
      "source": [
        "##Ex 1.\n",
        "*함수 이름: make_list\n",
        "*기능: start 이상 end 미만의 정수 난수 n개를 갖는 리스트를 반환하는 함수.\n",
        "##Ex 2.\n",
        "*함수 이름: calc_sum\n",
        "*기능: 숫자들의 리스트를 전달받아서, 리스트의 모든 원소들의 합을 리턴하는 함수.\n",
        "##Ex 3.\n",
        "*함수 이름: calc_mean\n",
        "*기능: 숫자들의 리스트를 전달받아서, 리스트의 원소들의 평균을 리턴하는 함수.\n",
        "##Ex 4.\n",
        "*함수 이름: calc_var\n",
        "*기능: 숫자들의 리스트를 전달받아서, 리스트의 원소들의 분산(variance)을 리턴하는 함수.\n",
        "*분산 = (값 - 평균)xx2 들의 평균"
      ],
      "metadata": {
        "id": "1SjIc2T1MZcL"
      }
    },
    {
      "cell_type": "code",
      "source": [
        "import random"
      ],
      "metadata": {
        "id": "-K5vHvb9M7Ja"
      },
      "execution_count": 25,
      "outputs": []
    },
    {
      "cell_type": "code",
      "source": [
        "def make_list(start,end,n):\n",
        "\n",
        "  import random\n",
        "\n",
        "  return [random.randrange(start,end) for _ in range(n)]"
      ],
      "metadata": {
        "id": "CXZZBZ5IMgjD"
      },
      "execution_count": 29,
      "outputs": []
    },
    {
      "cell_type": "code",
      "source": [
        "def calc_sum(numlist):\n",
        "  return sum(numlist)"
      ],
      "metadata": {
        "id": "lrW9WKybNJiB"
      },
      "execution_count": 30,
      "outputs": []
    },
    {
      "cell_type": "code",
      "source": [
        "def calc_mean(numlist):\n",
        "  return calc_sum(numlist)/len(numlist)"
      ],
      "metadata": {
        "id": "sBQhaN_ANyyR"
      },
      "execution_count": 31,
      "outputs": []
    },
    {
      "cell_type": "code",
      "source": [
        "def calc_var(numlist):\n",
        "  means = calc_mean(numlist)\n",
        "  numlist2 = [(x-means)**2 for x in numlist]\n",
        "  return sum(numlist2)/len(numlist2)"
      ],
      "metadata": {
        "id": "z5JOiBU5N4Y3"
      },
      "execution_count": 45,
      "outputs": []
    },
    {
      "cell_type": "code",
      "source": [
        "result1 = make_list(1,45,6)\n",
        "result2 = calc_sum(result1)\n",
        "result3 = calc_mean(result1)\n",
        "result4 = calc_var(result1)"
      ],
      "metadata": {
        "id": "nyCTOWmCOa3i"
      },
      "execution_count": 46,
      "outputs": []
    },
    {
      "cell_type": "code",
      "source": [
        "print(f'result1 = {result1}')\n",
        "print(f'result2 = {result2}')\n",
        "print(f'result3 = {round(result3,2)}')\n",
        "print(f'result4 = {round(result4,2)}')"
      ],
      "metadata": {
        "colab": {
          "base_uri": "https://localhost:8080/"
        },
        "id": "Qf_qlpKROtpg",
        "outputId": "9d93b72d-8099-4a35-90ca-a62b6600a332"
      },
      "execution_count": 47,
      "outputs": [
        {
          "output_type": "stream",
          "name": "stdout",
          "text": [
            "result1 = [5, 9, 19, 15, 26, 25]\n",
            "result2 = 99\n",
            "result3 = 16.5\n",
            "result4 = 59.92\n"
          ]
        }
      ]
    },
    {
      "cell_type": "code",
      "source": [],
      "metadata": {
        "id": "s8jDllLDO1ta"
      },
      "execution_count": null,
      "outputs": []
    }
  ]
}