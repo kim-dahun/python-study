{
  "nbformat": 4,
  "nbformat_minor": 0,
  "metadata": {
    "colab": {
      "provenance": [],
      "authorship_tag": "ABX9TyPDcpedqaclLZ6dBMAb8nx1",
      "include_colab_link": true
    },
    "kernelspec": {
      "name": "python3",
      "display_name": "Python 3"
    },
    "language_info": {
      "name": "python"
    }
  },
  "cells": [
    {
      "cell_type": "markdown",
      "metadata": {
        "id": "view-in-github",
        "colab_type": "text"
      },
      "source": [
        "<a href=\"https://colab.research.google.com/github/kim-dahun/python-study/blob/main/py07_function.ipynb\" target=\"_parent\"><img src=\"https://colab.research.google.com/assets/colab-badge.svg\" alt=\"Open In Colab\"/></a>"
      ]
    },
    {
      "cell_type": "markdown",
      "source": [
        "# Function(함수)\n",
        "\n",
        "* function(함수) : 기능을 수행하는 코드 블록.\n",
        "* argument : 함수를 호출하는 곳에서 함수에게 전달하는 값\n",
        "* parameter : argument를 저장하기 위해서 함수 선언부에서 선언하는 지역 변수\n",
        "* return value : 함수가 기능의 수행결과로 리턴하는 값\n",
        "  * return value 가 있는 함수\n",
        "  * return value 가 없는 함수\n",
        "* 파이썬 함수 정의 방법:\n",
        "   ```\n",
        "   def function_name([param, ...]):\n",
        "   [\"\"\" 문서화 주석 - 함수 기능 설명, 파라미터 설명, 리턴 값 설명\"\"\"]\n",
        "   ```\n",
        "*return value가 없는 경우,\n",
        "  * return 문장 생략.\n",
        "  * return None"
      ],
      "metadata": {
        "id": "czutfEN6E_gG"
      }
    },
    {
      "cell_type": "code",
      "execution_count": null,
      "metadata": {
        "id": "T85u9DXME0Jh"
      },
      "outputs": [],
      "source": [
        "def subtract(x,y):\n",
        "  return x-y"
      ]
    },
    {
      "cell_type": "code",
      "source": [
        "subtract(1,2)"
      ],
      "metadata": {
        "colab": {
          "base_uri": "https://localhost:8080/"
        },
        "id": "2RxTcNi4H0W-",
        "outputId": "208a305a-408c-4a10-9a98-398d7ef88a8d"
      },
      "execution_count": null,
      "outputs": [
        {
          "output_type": "execute_result",
          "data": {
            "text/plain": [
              "-1"
            ]
          },
          "metadata": {},
          "execution_count": 20
        }
      ]
    },
    {
      "cell_type": "code",
      "source": [
        "def repeat_message(msg, c):\n",
        "  \"\"\" 문자열(msg)과 정수(c)을 전달받아서\n",
        "      문자열을 c 번 출력하는 함수\n",
        "  \"\"\"\n",
        "  for _ in range(c):\n",
        "    print(msg)\n",
        "\n",
        "  return None"
      ],
      "metadata": {
        "id": "oPEL-zbnH8bU"
      },
      "execution_count": null,
      "outputs": []
    },
    {
      "cell_type": "code",
      "source": [
        "repeat_message(\"머리아프다\",5)"
      ],
      "metadata": {
        "colab": {
          "base_uri": "https://localhost:8080/"
        },
        "id": "1plvUQQ1JW9j",
        "outputId": "e1979c5b-e5b3-47fc-acef-6d5f8a335fb2"
      },
      "execution_count": null,
      "outputs": [
        {
          "output_type": "stream",
          "name": "stdout",
          "text": [
            "머리아프다\n",
            "머리아프다\n",
            "머리아프다\n",
            "머리아프다\n",
            "머리아프다\n"
          ]
        }
      ]
    },
    {
      "cell_type": "code",
      "source": [],
      "metadata": {
        "id": "QyFX1N5sJaZA"
      },
      "execution_count": null,
      "outputs": []
    },
    {
      "cell_type": "markdown",
      "source": [
        "##Ex 1.\n",
        "*함수 이름: make_list\n",
        "*기능: start 이상 end 미만의 정수 난수 n개를 갖는 리스트를 반환하는 함수.\n",
        "##Ex 2.\n",
        "*함수 이름: calc_sum\n",
        "*기능: 숫자들의 리스트를 전달받아서, 리스트의 모든 원소들의 합을 리턴하는 함수.\n",
        "##Ex 3.\n",
        "*함수 이름: calc_mean\n",
        "*기능: 숫자들의 리스트를 전달받아서, 리스트의 원소들의 평균을 리턴하는 함수.\n",
        "##Ex 4.\n",
        "*함수 이름: calc_var\n",
        "*기능: 숫자들의 리스트를 전달받아서, 리스트의 원소들의 분산(variance)을 리턴하는 함수.\n",
        "*분산 = (값 - 평균)xx2 들의 평균"
      ],
      "metadata": {
        "id": "1SjIc2T1MZcL"
      }
    },
    {
      "cell_type": "code",
      "source": [
        "import random"
      ],
      "metadata": {
        "id": "-K5vHvb9M7Ja"
      },
      "execution_count": null,
      "outputs": []
    },
    {
      "cell_type": "code",
      "source": [
        "def make_list(start,end,n):\n",
        "\n",
        "  import random\n",
        "\n",
        "  return [random.randrange(start,end) for _ in range(n)]"
      ],
      "metadata": {
        "id": "CXZZBZ5IMgjD"
      },
      "execution_count": null,
      "outputs": []
    },
    {
      "cell_type": "code",
      "source": [
        "def calc_sum(numlist):\n",
        "  return sum(numlist)"
      ],
      "metadata": {
        "id": "lrW9WKybNJiB"
      },
      "execution_count": null,
      "outputs": []
    },
    {
      "cell_type": "code",
      "source": [
        "def calc_mean(numlist):\n",
        "  return calc_sum(numlist)/len(numlist)"
      ],
      "metadata": {
        "id": "sBQhaN_ANyyR"
      },
      "execution_count": null,
      "outputs": []
    },
    {
      "cell_type": "code",
      "source": [
        "def calc_var(numlist):\n",
        "  means = calc_mean(numlist)\n",
        "\n",
        "  return sum((x-means)**2 for x in numlist)/len(numlist)"
      ],
      "metadata": {
        "id": "z5JOiBU5N4Y3"
      },
      "execution_count": null,
      "outputs": []
    },
    {
      "cell_type": "code",
      "source": [
        "result1 = make_list(1,45,6)\n",
        "result2 = calc_sum(result1)\n",
        "result3 = calc_mean(result1)\n",
        "result4 = calc_var(result1)"
      ],
      "metadata": {
        "id": "nyCTOWmCOa3i"
      },
      "execution_count": null,
      "outputs": []
    },
    {
      "cell_type": "code",
      "source": [
        "print(f'result1 = {result1}')\n",
        "print(f'result2 = {result2}')\n",
        "print(f'result3 = {round(result3,2)}')\n",
        "print(f'result4 = {round(result4,2)}')"
      ],
      "metadata": {
        "colab": {
          "base_uri": "https://localhost:8080/"
        },
        "id": "Qf_qlpKROtpg",
        "outputId": "21ed533f-203a-410f-fc6e-22e7e68fcb6d"
      },
      "execution_count": null,
      "outputs": [
        {
          "output_type": "stream",
          "name": "stdout",
          "text": [
            "result1 = [13, 15, 8, 12, 1, 40]\n",
            "result2 = 89\n",
            "result3 = 14.83\n",
            "result4 = 147.14\n"
          ]
        }
      ]
    },
    {
      "cell_type": "code",
      "source": [
        "def make_lotto45():\n",
        "  import random\n",
        "  n = 0\n",
        "  vslist = []\n",
        "  mklist = []\n",
        "  while n<6:\n",
        "    n+=1\n",
        "    m = random.randrange(1,46)\n",
        "    for x in vslist:\n",
        "      if x == m:\n",
        "        vslist.remove(x)\n",
        "        mklist.remove(x)\n",
        "        n-=1\n",
        "        continue\n",
        "    vslist.append(m)\n",
        "    mklist.append(m)\n",
        "\n",
        "  mklist.sort()\n",
        "  return mklist"
      ],
      "metadata": {
        "id": "s8jDllLDO1ta"
      },
      "execution_count": null,
      "outputs": []
    },
    {
      "cell_type": "code",
      "source": [
        "def make_lottolist():\n",
        "\n",
        "\n",
        "  return [make_lotto45() for x in range(5)]\n",
        "\n"
      ],
      "metadata": {
        "id": "NIO4vrJGU7Mm"
      },
      "execution_count": null,
      "outputs": []
    },
    {
      "cell_type": "code",
      "source": [
        "# Lotto\n",
        "\n",
        "def make_lotto_list():\n",
        "  lottos=[]\n",
        "  for _ in range(5):\n",
        "    lotto = set() # set\n",
        "    while True:\n",
        "      lotto.add(random.randrange(1,46))\n",
        "      if(len(lotto)==6):\n",
        "        break\n",
        "    lottos.append(lotto)\n",
        "  return lottos"
      ],
      "metadata": {
        "id": "yNk1NVYo1Mz1"
      },
      "execution_count": null,
      "outputs": []
    },
    {
      "cell_type": "code",
      "source": [
        "print(make_lottolist())"
      ],
      "metadata": {
        "colab": {
          "base_uri": "https://localhost:8080/"
        },
        "id": "mSq0Hf9nTh1V",
        "outputId": "0707a046-119d-4c59-e1ad-bf481873d054"
      },
      "execution_count": null,
      "outputs": [
        {
          "output_type": "stream",
          "name": "stdout",
          "text": [
            "[[10, 13, 18, 23, 32, 40], [6, 16, 20, 22, 36, 38], [1, 23, 30, 37, 43, 44], [7, 23, 24, 26, 35, 36], [5, 9, 13, 14, 16, 44]]\n"
          ]
        }
      ]
    },
    {
      "cell_type": "code",
      "source": [
        "sum((x-3)**2 for x in range(1,9))"
      ],
      "metadata": {
        "id": "7-pQ4qbHTlJu",
        "colab": {
          "base_uri": "https://localhost:8080/"
        },
        "outputId": "0ff3a0b0-6fc1-4e9b-b770-eb9e6f5c49b9"
      },
      "execution_count": null,
      "outputs": [
        {
          "output_type": "execute_result",
          "data": {
            "text/plain": [
              "60"
            ]
          },
          "metadata": {},
          "execution_count": 14
        }
      ]
    },
    {
      "cell_type": "markdown",
      "source": [
        "파이썬은 2개 이상의 값을 리턴하는 함수를 정의할 수 있음. 함수를 호출한 곳에서는 리턴 값을 튜플로 취급하면 됨.\n",
        "\n",
        "```\n",
        "x,y = (1, 2) # tuple's decomposition\n",
        "```"
      ],
      "metadata": {
        "id": "9PTllGEw5Kq1"
      }
    },
    {
      "cell_type": "code",
      "source": [
        "def plus_and_minus(x,y):\n",
        "  return x+y, x-y"
      ],
      "metadata": {
        "id": "EOdop_YYnTT9"
      },
      "execution_count": 15,
      "outputs": []
    },
    {
      "cell_type": "code",
      "source": [
        "result = plus_and_minus(1,2)\n",
        "result"
      ],
      "metadata": {
        "colab": {
          "base_uri": "https://localhost:8080/"
        },
        "id": "XAWCOLsW5-2l",
        "outputId": "60cf2c06-6832-42ad-a81a-4021c5ebbabf"
      },
      "execution_count": 16,
      "outputs": [
        {
          "output_type": "execute_result",
          "data": {
            "text/plain": [
              "(3, -1)"
            ]
          },
          "metadata": {},
          "execution_count": 16
        }
      ]
    },
    {
      "cell_type": "code",
      "source": [
        "plus, minus = plus_and_minus(10,5)\n",
        "print(plus,minus)"
      ],
      "metadata": {
        "colab": {
          "base_uri": "https://localhost:8080/"
        },
        "id": "NaUhrBjU6BQq",
        "outputId": "df229e34-5da0-4547-e258-538814b9c424"
      },
      "execution_count": 17,
      "outputs": [
        {
          "output_type": "stream",
          "name": "stdout",
          "text": [
            "15 5\n"
          ]
        }
      ]
    },
    {
      "cell_type": "markdown",
      "source": [
        "숫자들의 리스트를 전달 받아서, 최댓값과 최솟값을 리턴하는 함수를 정의하고, 테스트"
      ],
      "metadata": {
        "id": "prpO1Bzp6jcT"
      }
    },
    {
      "cell_type": "code",
      "source": [
        "def find_max_and_min(lists):\n",
        "\n",
        "  numlist = [lists[0],lists[0]]\n",
        "  for x in lists:\n",
        "    if(x>numlist[0]):\n",
        "      numlist[0]=x\n",
        "    if(x<numlist[1]):\n",
        "      numlist[1]=x\n",
        "\n",
        "  return numlist[0],numlist[1]"
      ],
      "metadata": {
        "id": "1lXOEiyL6noK"
      },
      "execution_count": 21,
      "outputs": []
    },
    {
      "cell_type": "code",
      "source": [
        "find_max_and_min([x for x in range(1,6)])"
      ],
      "metadata": {
        "colab": {
          "base_uri": "https://localhost:8080/"
        },
        "id": "3vukXR9_6h0Q",
        "outputId": "d1694f68-d58c-4307-8998-611c098f4181"
      },
      "execution_count": 23,
      "outputs": [
        {
          "output_type": "execute_result",
          "data": {
            "text/plain": [
              "(5, 1)"
            ]
          },
          "metadata": {},
          "execution_count": 23
        }
      ]
    },
    {
      "cell_type": "markdown",
      "source": [
        "숫자들의 리스트를 전달받아서 최댓값과 최댓값의 인덱스(위치)를 리턴하는 함수를 정의. 최댓값이 2개 이상인 경우, 먼저 나오는 최댓값의 인덱스를 리턴."
      ],
      "metadata": {
        "id": "P5e4H-a397jY"
      }
    },
    {
      "cell_type": "code",
      "source": [
        "def find_max_and_index(lists):\n",
        "  n = 0\n",
        "  index = 0\n",
        "  maximize = 0\n",
        "  while n<len(lists):\n",
        "    if(lists[n]>maximize):\n",
        "      index = n\n",
        "      maximize = lists[n]\n",
        "    n+=1\n",
        "  return index, maximize\n",
        "\n",
        "  # for i, v in enumerate(lists): => index, value를 함께 꺼내줌."
      ],
      "metadata": {
        "id": "TbiafXYp66bP"
      },
      "execution_count": 27,
      "outputs": []
    },
    {
      "cell_type": "code",
      "source": [
        "import random\n",
        "\n",
        "x, y = find_max_and_index([random.randrange(1,46) for x in range(10)])\n",
        "\n",
        "print(f'index = {x} / max = {y}')"
      ],
      "metadata": {
        "colab": {
          "base_uri": "https://localhost:8080/"
        },
        "id": "IxaM9xLp-hAH",
        "outputId": "ea934fc5-0d74-4ac4-a238-97386baf68e4"
      },
      "execution_count": 30,
      "outputs": [
        {
          "output_type": "stream",
          "name": "stdout",
          "text": [
            "index = 9 / max = 43\n"
          ]
        }
      ]
    },
    {
      "cell_type": "markdown",
      "source": [
        "# Default Argument(기본 인수)\n",
        "\n",
        "* 함수를 정의할 때 파라미터에 설정된 기본값.\n",
        "  * 함수를 호출할 때 파라미터에 값을 전달하지 않으면, 기본값이 사용됨.\n",
        "  * 함수를 호출할 때 파라미터에 값을 전달하면, 기본값은 무시되고, 전달한 인수가 사용됨.\n",
        "*  **(주의)** 함수를 정의할 때, default argument를 갖는 파라미터들은 반드시 default argument를 갖지 않는 파라미터들 뒤에 선언해야 함!\n",
        "  * 기본값을 갖지 않는 파라미터들을 먼저 선언하고, 기본값을 갖는 파라미터들을 선언해야 함."
      ],
      "metadata": {
        "id": "MpvFAHsQEIq1"
      }
    },
    {
      "cell_type": "code",
      "source": [
        "def repeat_message2(msg, n=1):\n",
        "  for _ in range(n):\n",
        "    print(msg)\n",
        ""
      ],
      "metadata": {
        "id": "OM41ENvc-0Bd"
      },
      "execution_count": 31,
      "outputs": []
    },
    {
      "cell_type": "code",
      "source": [
        "repeat_message2(\"수고하세요\")"
      ],
      "metadata": {
        "colab": {
          "base_uri": "https://localhost:8080/"
        },
        "id": "pv3Tggn8FrcW",
        "outputId": "a81971b0-175e-453a-e446-b10e6de89719"
      },
      "execution_count": 33,
      "outputs": [
        {
          "output_type": "stream",
          "name": "stdout",
          "text": [
            "수고하세요\n"
          ]
        }
      ]
    },
    {
      "cell_type": "markdown",
      "source": [
        "# argument 전달 방법 :\n",
        "\n",
        "* positional argument : 함수 정의에서 선언된 파라미터 순서대로 아규먼트들을 전달하는 방법.\n",
        "* keyword argument : param=value 형식으로 argument 들을 전달하는 방법.\n",
        "  * keyword argument 방식에서는 파라미터의 순서를 지키지 않아도 됨.\n",
        "*  **(주의)** 함수 호출할 때 positional 방식과 keyword 방식을 함께 사용하는 경우에는, 반드시 positional 방식을 우선 사용하고, keyword argument들은 나중에 사용해야 함."
      ],
      "metadata": {
        "id": "S5ZOx1hIHWUk"
      }
    },
    {
      "cell_type": "code",
      "source": [
        "def minus(x,y):\n",
        "  return x-y"
      ],
      "metadata": {
        "id": "sDL7QZKaFugQ"
      },
      "execution_count": 34,
      "outputs": []
    },
    {
      "cell_type": "code",
      "source": [
        "minus(1,2) # positional argument"
      ],
      "metadata": {
        "colab": {
          "base_uri": "https://localhost:8080/"
        },
        "id": "8EUvPqsdJH4z",
        "outputId": "95406e79-05c9-4a5b-ab71-dc927e7786df"
      },
      "execution_count": 35,
      "outputs": [
        {
          "output_type": "execute_result",
          "data": {
            "text/plain": [
              "-1"
            ]
          },
          "metadata": {},
          "execution_count": 35
        }
      ]
    },
    {
      "cell_type": "code",
      "source": [
        "def plus(x=2, y=3):\n",
        "  return x+y"
      ],
      "metadata": {
        "id": "nD1b3pQ3JNSN"
      },
      "execution_count": 36,
      "outputs": []
    },
    {
      "cell_type": "code",
      "source": [
        "plus()"
      ],
      "metadata": {
        "colab": {
          "base_uri": "https://localhost:8080/"
        },
        "id": "eSjNuWa-JQIE",
        "outputId": "221e9de1-ad82-46a6-9372-924a1a14bd8d"
      },
      "execution_count": 37,
      "outputs": [
        {
          "output_type": "execute_result",
          "data": {
            "text/plain": [
              "5"
            ]
          },
          "metadata": {},
          "execution_count": 37
        }
      ]
    },
    {
      "cell_type": "code",
      "source": [
        "plus(3,y=5) # keyword Argument ( positional 인수 먼저 쓰고, keyword argument 쓰기)"
      ],
      "metadata": {
        "colab": {
          "base_uri": "https://localhost:8080/"
        },
        "id": "h9q8rTRDJRtP",
        "outputId": "aa243820-c9cf-42cf-a9f3-a98f3f95bbea"
      },
      "execution_count": 40,
      "outputs": [
        {
          "output_type": "execute_result",
          "data": {
            "text/plain": [
              "8"
            ]
          },
          "metadata": {},
          "execution_count": 40
        }
      ]
    },
    {
      "cell_type": "code",
      "source": [
        "plus(y=4,x=22) # keyword 만 쓸 경우 argument 신경쓰지 않아도 됌."
      ],
      "metadata": {
        "colab": {
          "base_uri": "https://localhost:8080/"
        },
        "id": "6QbGKIxnJTnz",
        "outputId": "e0d90153-f8f3-42f0-995f-7271a1778a66"
      },
      "execution_count": 41,
      "outputs": [
        {
          "output_type": "execute_result",
          "data": {
            "text/plain": [
              "26"
            ]
          },
          "metadata": {},
          "execution_count": 41
        }
      ]
    },
    {
      "cell_type": "markdown",
      "source": [
        "# 가변길이 인수(variable-length argument)\n",
        "\n",
        "* 함수를 호출할 때, 전달하는 argument의 개수가 임의로 변할 수 있는 것.\n",
        "  * argument를 전달하지 않아도 됨.\n",
        "* 함수를 정의할 때 파라미터 이름 앞에 `*`를 사용하면 됌.\n",
        "* 함수 내부에서는 가변길이 인수는 튜플로 취급.\n",
        "  * for in 반복문 사용 가능.\n",
        "  * 인덱스 사용 가능.\n",
        "*  **(주의)**\n",
        "  * 가변길이 인수는 keyword 방식으로는 전달할 수 없음. f(x=1, x=2, x=3)\n",
        "  * 함수를 정의할 때 가변길이 인수를 갖는 파라미터는 오직 1개만 선언 가능.\n",
        "  def f(*x, *y) -> 불가능."
      ],
      "metadata": {
        "id": "zPsak8FYLh3R"
      }
    },
    {
      "cell_type": "code",
      "source": [
        "def add_all(*values):\n",
        "  total = 0\n",
        "  for x in values:\n",
        "    total += x\n",
        "  return total"
      ],
      "metadata": {
        "id": "J_oSLg11KNlB"
      },
      "execution_count": 42,
      "outputs": []
    },
    {
      "cell_type": "code",
      "source": [
        "add_all(2)"
      ],
      "metadata": {
        "colab": {
          "base_uri": "https://localhost:8080/"
        },
        "id": "w1sHHZxggCvq",
        "outputId": "8cc335dc-e3f5-4035-9aed-e2fca17a834b"
      },
      "execution_count": 44,
      "outputs": [
        {
          "output_type": "execute_result",
          "data": {
            "text/plain": [
              "2"
            ]
          },
          "metadata": {},
          "execution_count": 44
        }
      ]
    },
    {
      "cell_type": "code",
      "source": [
        "def test(*x, y): # test() missing 1 required keyword-only argument: 'y'\n",
        "  print(x)\n",
        "  print(y)"
      ],
      "metadata": {
        "id": "zaHPdg2cgD4A"
      },
      "execution_count": 45,
      "outputs": []
    },
    {
      "cell_type": "code",
      "source": [],
      "metadata": {
        "colab": {
          "base_uri": "https://localhost:8080/",
          "height": 174
        },
        "id": "LQb4gdQ2hrd4",
        "outputId": "b30f0fef-863c-45fb-b124-519056543d8d"
      },
      "execution_count": 46,
      "outputs": [
        {
          "output_type": "error",
          "ename": "TypeError",
          "evalue": "ignored",
          "traceback": [
            "\u001b[0;31m---------------------------------------------------------------------------\u001b[0m",
            "\u001b[0;31mTypeError\u001b[0m                                 Traceback (most recent call last)",
            "\u001b[0;32m<ipython-input-46-3cf409ba8ac0>\u001b[0m in \u001b[0;36m<cell line: 1>\u001b[0;34m()\u001b[0m\n\u001b[0;32m----> 1\u001b[0;31m \u001b[0mtest\u001b[0m\u001b[0;34m(\u001b[0m\u001b[0;36m1\u001b[0m\u001b[0;34m,\u001b[0m\u001b[0;36m2\u001b[0m\u001b[0;34m,\u001b[0m\u001b[0;36m3\u001b[0m\u001b[0;34m)\u001b[0m\u001b[0;34m\u001b[0m\u001b[0;34m\u001b[0m\u001b[0m\n\u001b[0m",
            "\u001b[0;31mTypeError\u001b[0m: test() missing 1 required keyword-only argument: 'y'"
          ]
        }
      ]
    },
    {
      "cell_type": "markdown",
      "source": [
        "가변길이 인수 뒤에 파라미터가 있는 경우, 그 파라미터는 keyword 방식으로만 argument를 전달할 수 있음."
      ],
      "metadata": {
        "id": "A0jR3BrIib_N"
      }
    },
    {
      "cell_type": "code",
      "source": [
        "def keyword_only(*,x,y,z):\n",
        "  print(f'x={x}, y={y}, z={z}')"
      ],
      "metadata": {
        "id": "2hKWeeG5hsvH"
      },
      "execution_count": 47,
      "outputs": []
    },
    {
      "cell_type": "code",
      "source": [
        "keyword_only(x=1,y=2,z=3)"
      ],
      "metadata": {
        "colab": {
          "base_uri": "https://localhost:8080/"
        },
        "id": "d0RNhlZ2jMB-",
        "outputId": "be093b12-0b56-486b-941a-1019d229b718"
      },
      "execution_count": 48,
      "outputs": [
        {
          "output_type": "stream",
          "name": "stdout",
          "text": [
            "x=1, y=2, z=3\n"
          ]
        }
      ]
    },
    {
      "cell_type": "code",
      "source": [
        "print(1,2,3,sep=\":\")"
      ],
      "metadata": {
        "colab": {
          "base_uri": "https://localhost:8080/"
        },
        "id": "LLbVsbORjQwW",
        "outputId": "ace3f246-63f8-46c4-f03b-1e9b30adbc98"
      },
      "execution_count": 52,
      "outputs": [
        {
          "output_type": "stream",
          "name": "stdout",
          "text": [
            "1:2:3\n"
          ]
        }
      ]
    },
    {
      "cell_type": "code",
      "source": [
        "print('hello', end=\" \")\n",
        "print('python')"
      ],
      "metadata": {
        "colab": {
          "base_uri": "https://localhost:8080/"
        },
        "id": "fdxlJFEdkK9M",
        "outputId": "7b2fe9d6-e746-4ee5-c6a7-49407f99bc68"
      },
      "execution_count": 53,
      "outputs": [
        {
          "output_type": "stream",
          "name": "stdout",
          "text": [
            "hello python\n"
          ]
        }
      ]
    },
    {
      "cell_type": "markdown",
      "source": [
        "# 가변길이 키워드 인수(variable-length keyword argument)\n",
        "\n",
        "* 함수를 정의할 때 파라미터 이름 앞에 `**`를 붙임.\n",
        "* 가변길이 인수 : 함수를 호출할 때 전달하는 argument의 개수제한이 없음.\n",
        "* keyword_argument : 함수를 호출할 때 반드시 parameter 이름을 명시해야 함.\n",
        "* 함수 내부에서 가변길이 키워드 인수는 dict로 취급함.\n",
        "* 함수 호출할 때 파라미터 이름은 아무렇게나 전달해도 됌.\n",
        "* 가변길이 키워드 인수는 함수에서 한 개만 사용 가능함."
      ],
      "metadata": {
        "id": "5-AW0Z7Ul0_C"
      }
    },
    {
      "cell_type": "code",
      "source": [
        "def test2(**kwargs):\n",
        "  print(kwargs)"
      ],
      "metadata": {
        "id": "_Z9NpVdvlRn8"
      },
      "execution_count": 54,
      "outputs": []
    },
    {
      "cell_type": "code",
      "source": [
        "test2()"
      ],
      "metadata": {
        "colab": {
          "base_uri": "https://localhost:8080/"
        },
        "id": "mHKklcW0m878",
        "outputId": "e7deeccd-464d-47c9-d785-734b022556c4"
      },
      "execution_count": 55,
      "outputs": [
        {
          "output_type": "stream",
          "name": "stdout",
          "text": [
            "{}\n"
          ]
        }
      ]
    },
    {
      "cell_type": "code",
      "source": [
        "test2(x=\"밥상\",y=False, 밥=\"해요\")\n",
        "\n"
      ],
      "metadata": {
        "colab": {
          "base_uri": "https://localhost:8080/"
        },
        "id": "fj_5wDs8m99A",
        "outputId": "e38f4c0d-250b-47a1-8689-da787f945f23"
      },
      "execution_count": 59,
      "outputs": [
        {
          "output_type": "stream",
          "name": "stdout",
          "text": [
            "{'x': '밥상', 'y': False, '밥': '해요'}\n"
          ]
        }
      ]
    },
    {
      "cell_type": "code",
      "source": [
        "def make_emp_info(emp_no, emp_name, **kwargs):\n",
        "  emp = {'emp_no' : emp_no, 'emp_name' : emp_name}\n",
        "  for k,v in kwargs.items():\n",
        "    emp[k]=v\n",
        "  return emp"
      ],
      "metadata": {
        "id": "N-UKn9QgnEZH"
      },
      "execution_count": 63,
      "outputs": []
    },
    {
      "cell_type": "code",
      "source": [
        "make_emp_info(1, 'king')"
      ],
      "metadata": {
        "colab": {
          "base_uri": "https://localhost:8080/"
        },
        "id": "dlbuJ_rVojnx",
        "outputId": "a37c1d47-9b8f-49ed-c161-da967abc67ec"
      },
      "execution_count": 64,
      "outputs": [
        {
          "output_type": "execute_result",
          "data": {
            "text/plain": [
              "{'emp_no': 1, 'emp_name': 'king'}"
            ]
          },
          "metadata": {},
          "execution_count": 64
        }
      ]
    },
    {
      "cell_type": "code",
      "source": [
        "make_emp_info(2, '홍길동', email='gildong@test.com', dept='hr')"
      ],
      "metadata": {
        "colab": {
          "base_uri": "https://localhost:8080/"
        },
        "id": "tha57iM1orO8",
        "outputId": "42697c12-9fd8-4ff5-d0bb-96f7dc140d24"
      },
      "execution_count": 65,
      "outputs": [
        {
          "output_type": "execute_result",
          "data": {
            "text/plain": [
              "{'emp_no': 2, 'emp_name': '홍길동', 'email': 'gildong@test.com', 'dept': 'hr'}"
            ]
          },
          "metadata": {},
          "execution_count": 65
        }
      ]
    },
    {
      "cell_type": "code",
      "source": [],
      "metadata": {
        "id": "pkkc8NMOpAnI"
      },
      "execution_count": null,
      "outputs": []
    }
  ]
}