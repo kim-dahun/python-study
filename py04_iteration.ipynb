{
  "nbformat": 4,
  "nbformat_minor": 0,
  "metadata": {
    "colab": {
      "provenance": [],
      "authorship_tag": "ABX9TyOqGbleUdfr/xSkG4iIvc9w",
      "include_colab_link": true
    },
    "kernelspec": {
      "name": "python3",
      "display_name": "Python 3"
    },
    "language_info": {
      "name": "python"
    }
  },
  "cells": [
    {
      "cell_type": "markdown",
      "metadata": {
        "id": "view-in-github",
        "colab_type": "text"
      },
      "source": [
        "<a href=\"https://colab.research.google.com/github/kim-dahun/python-study/blob/main/py04_iteration.ipynb\" target=\"_parent\"><img src=\"https://colab.research.google.com/assets/colab-badge.svg\" alt=\"Open In Colab\"/></a>"
      ]
    },
    {
      "cell_type": "markdown",
      "source": [
        "# for 반복문\n",
        "\n",
        "```\n",
        "    \n",
        "for 변수 in iterable_type:\n",
        "  반복해서 실행할 코드 블록\n",
        "```\n",
        "* iterable_type(반복가능한 타입)\n",
        "  * range, list, tuple, dict, set, str, ...\n",
        "\n",
        "*  `range()` 함수 :\n",
        "  * `range(stop)` : 0 <= x < stop 범위의 1씩 증가하는 정수들을 차례로 반환.\n",
        "  * `range(start,stop)` : start<= x < stop 범위의 1씩 증가하는 정수들을 차례로 반환.\n",
        "  * `range(start, stop, step)` :\n",
        "    * (step>0) start <= x < stop 범위의 step씩 증가하는 정수들을 차례로 반환.\n",
        "    * (step<0) stop < x <= start 범위의 step씩 감소하는 정수들을 차례로 반환."
      ],
      "metadata": {
        "id": "j40UtrIlMHVY"
      }
    },
    {
      "cell_type": "code",
      "execution_count": 5,
      "metadata": {
        "colab": {
          "base_uri": "https://localhost:8080/"
        },
        "id": "veroRukwLmwJ",
        "outputId": "abea0cf2-5626-45fb-cc60-77ff13c2579c"
      },
      "outputs": [
        {
          "output_type": "stream",
          "name": "stdout",
          "text": [
            "0\n",
            "2\n",
            "4\n",
            "6\n",
            "8\n",
            "10\n"
          ]
        }
      ],
      "source": [
        "for x in range(0, 11,2): # 1, 2, 3, 4, 5\n",
        "    print(x)"
      ]
    },
    {
      "cell_type": "code",
      "source": [
        "for x in range(10,-1,-2):\n",
        "  print(x)"
      ],
      "metadata": {
        "colab": {
          "base_uri": "https://localhost:8080/"
        },
        "id": "pRQfr4f4PviK",
        "outputId": "caa803a1-7617-42d1-fc00-577dde9f9cd7"
      },
      "execution_count": 8,
      "outputs": [
        {
          "output_type": "stream",
          "name": "stdout",
          "text": [
            "10\n",
            "8\n",
            "6\n",
            "4\n",
            "2\n",
            "0\n"
          ]
        }
      ]
    },
    {
      "cell_type": "markdown",
      "source": [
        "# 중첩 반복문\n",
        "\n",
        "```\n",
        "for x in iterable1 :\n",
        "\n",
        "  for y in iterable2 :\n",
        "\n",
        "    실행할 코드 블럭\n",
        "\n",
        "```"
      ],
      "metadata": {
        "id": "OjdhVjYkQLcP"
      }
    },
    {
      "cell_type": "code",
      "source": [
        "# 구구단 2단부터 구구단 9단까지 출력\n",
        "\n",
        "for x in range(2,10):\n",
        "  print(x,\"단!\\n\")\n",
        "  for y in range(1,10):\n",
        "    # print(f'{x} x {y} = {x*y}')\n",
        "    print(\"{0}x{1}={2}\".format(x,y,x*y))\n",
        "  print(\"\\n\")"
      ],
      "metadata": {
        "colab": {
          "base_uri": "https://localhost:8080/"
        },
        "id": "VBxYFkirQcYu",
        "outputId": "9889f58a-e834-44fe-c81c-ebb29d346d56"
      },
      "execution_count": 16,
      "outputs": [
        {
          "output_type": "stream",
          "name": "stdout",
          "text": [
            "2 단!\n",
            "\n",
            "2x1=2\n",
            "2x2=4\n",
            "2x3=6\n",
            "2x4=8\n",
            "2x5=10\n",
            "2x6=12\n",
            "2x7=14\n",
            "2x8=16\n",
            "2x9=18\n",
            "\n",
            "\n",
            "3 단!\n",
            "\n",
            "3x1=3\n",
            "3x2=6\n",
            "3x3=9\n",
            "3x4=12\n",
            "3x5=15\n",
            "3x6=18\n",
            "3x7=21\n",
            "3x8=24\n",
            "3x9=27\n",
            "\n",
            "\n",
            "4 단!\n",
            "\n",
            "4x1=4\n",
            "4x2=8\n",
            "4x3=12\n",
            "4x4=16\n",
            "4x5=20\n",
            "4x6=24\n",
            "4x7=28\n",
            "4x8=32\n",
            "4x9=36\n",
            "\n",
            "\n",
            "5 단!\n",
            "\n",
            "5x1=5\n",
            "5x2=10\n",
            "5x3=15\n",
            "5x4=20\n",
            "5x5=25\n",
            "5x6=30\n",
            "5x7=35\n",
            "5x8=40\n",
            "5x9=45\n",
            "\n",
            "\n",
            "6 단!\n",
            "\n",
            "6x1=6\n",
            "6x2=12\n",
            "6x3=18\n",
            "6x4=24\n",
            "6x5=30\n",
            "6x6=36\n",
            "6x7=42\n",
            "6x8=48\n",
            "6x9=54\n",
            "\n",
            "\n",
            "7 단!\n",
            "\n",
            "7x1=7\n",
            "7x2=14\n",
            "7x3=21\n",
            "7x4=28\n",
            "7x5=35\n",
            "7x6=42\n",
            "7x7=49\n",
            "7x8=56\n",
            "7x9=63\n",
            "\n",
            "\n",
            "8 단!\n",
            "\n",
            "8x1=8\n",
            "8x2=16\n",
            "8x3=24\n",
            "8x4=32\n",
            "8x5=40\n",
            "8x6=48\n",
            "8x7=56\n",
            "8x8=64\n",
            "8x9=72\n",
            "\n",
            "\n",
            "9 단!\n",
            "\n",
            "9x1=9\n",
            "9x2=18\n",
            "9x3=27\n",
            "9x4=36\n",
            "9x5=45\n",
            "9x6=54\n",
            "9x7=63\n",
            "9x8=72\n",
            "9x9=81\n",
            "\n",
            "\n"
          ]
        }
      ]
    },
    {
      "cell_type": "markdown",
      "source": [
        "문자열에서 사용 가능한 산술 연산자:\n",
        "\n",
        "* 문자열 `+` 문자열 : 문자열 이어붙이기 (concatenate)\n",
        "* 문자열 `*` 정수 : 문자열 반복해서 복사하기"
      ],
      "metadata": {
        "id": "7-_URwbJTUaV"
      }
    },
    {
      "cell_type": "markdown",
      "source": [
        "# break와 continue\n",
        "\n",
        "* `break` : iteration(반복) 을 종료. break가 포함된 가장 가까운 반복문을 빠져 나옴.\n",
        "* `continue` : 반복문 내부의 실행을 멈추고, 그 다음 iteration을 계속해서 수행.\n"
      ],
      "metadata": {
        "id": "cdNK0WV1T2Qn"
      }
    },
    {
      "cell_type": "code",
      "source": [
        "for x in range(5):\n",
        "  if x==2:\n",
        "    break\n",
        "  print(x)"
      ],
      "metadata": {
        "colab": {
          "base_uri": "https://localhost:8080/"
        },
        "id": "hDPTWoqCUaz-",
        "outputId": "f3fc5c29-2a40-4f37-88a9-5492bb2d1e76"
      },
      "execution_count": 21,
      "outputs": [
        {
          "output_type": "stream",
          "name": "stdout",
          "text": [
            "0\n",
            "1\n"
          ]
        }
      ]
    },
    {
      "cell_type": "code",
      "source": [
        "for x in range(5):\n",
        "  if x==2:\n",
        "    continue\n",
        "  print(x)"
      ],
      "metadata": {
        "colab": {
          "base_uri": "https://localhost:8080/"
        },
        "id": "4auLCf2fVPjt",
        "outputId": "9097e073-4ee1-4b8b-f96c-20b84ae879d8"
      },
      "execution_count": 22,
      "outputs": [
        {
          "output_type": "stream",
          "name": "stdout",
          "text": [
            "0\n",
            "1\n",
            "3\n",
            "4\n"
          ]
        }
      ]
    },
    {
      "cell_type": "code",
      "source": [
        "for x in range(2,6):\n",
        "  print(x,'단')\n",
        "  for y in range(1,x+1):\n",
        "\n",
        "    print(f'{x} x {y} = {x*y}')\n",
        "  print()"
      ],
      "metadata": {
        "colab": {
          "base_uri": "https://localhost:8080/"
        },
        "id": "muEXD7QOWfpC",
        "outputId": "96e009b5-020a-469a-aeac-ecde491ee800"
      },
      "execution_count": 23,
      "outputs": [
        {
          "output_type": "stream",
          "name": "stdout",
          "text": [
            "2 단\n",
            "2 x 1 = 2\n",
            "2 x 2 = 4\n",
            "\n",
            "3 단\n",
            "3 x 1 = 3\n",
            "3 x 2 = 6\n",
            "3 x 3 = 9\n",
            "\n",
            "4 단\n",
            "4 x 1 = 4\n",
            "4 x 2 = 8\n",
            "4 x 3 = 12\n",
            "4 x 4 = 16\n",
            "\n",
            "5 단\n",
            "5 x 1 = 5\n",
            "5 x 2 = 10\n",
            "5 x 3 = 15\n",
            "5 x 4 = 20\n",
            "5 x 5 = 25\n",
            "\n"
          ]
        }
      ]
    },
    {
      "cell_type": "markdown",
      "source": [
        "# while 반복문\n",
        "\n",
        "```\n",
        "[초기화 문장]\n",
        "while 조건식:\n",
        "  반복할 코드 블록\n",
        "  [조건(변수)를 변경하는 문장]\n",
        "\n",
        "```\n"
      ],
      "metadata": {
        "id": "gR_qdSwTdL5Y"
      }
    },
    {
      "cell_type": "code",
      "source": [
        "# *로 이루어진 트리만들기\n",
        "\n",
        "i = 0\n",
        "k = 0\n",
        "l = 0\n",
        "floor = 30\n",
        "while i<floor:\n",
        "  print(\" \"*((floor-i)*2//2-1),\"*\"*(i*2-1))\n",
        "  i = i+1 # python은 ++, -- 연산자는 없음."
      ],
      "metadata": {
        "colab": {
          "base_uri": "https://localhost:8080/"
        },
        "id": "dkqddV7udtCX",
        "outputId": "56d1f27f-808d-4c59-891d-dbf03fc912d8"
      },
      "execution_count": 52,
      "outputs": [
        {
          "output_type": "stream",
          "name": "stdout",
          "text": [
            "                              \n",
            "                             *\n",
            "                            ***\n",
            "                           *****\n",
            "                          *******\n",
            "                         *********\n",
            "                        ***********\n",
            "                       *************\n",
            "                      ***************\n",
            "                     *****************\n",
            "                    *******************\n",
            "                   *********************\n",
            "                  ***********************\n",
            "                 *************************\n",
            "                ***************************\n",
            "               *****************************\n",
            "              *******************************\n",
            "             *********************************\n",
            "            ***********************************\n",
            "           *************************************\n",
            "          ***************************************\n",
            "         *****************************************\n",
            "        *******************************************\n",
            "       *********************************************\n",
            "      ***********************************************\n",
            "     *************************************************\n",
            "    ***************************************************\n",
            "   *****************************************************\n",
            "  *******************************************************\n",
            " *********************************************************\n"
          ]
        }
      ]
    },
    {
      "cell_type": "code",
      "source": [
        "# 1이상 10미만 홀수들을 출력하는 코드를 While문으로 작성\n",
        "x = 1\n",
        "answer = \"\"\n",
        "while x<10:\n",
        "  if x%2==1:\n",
        "    answer += str(x) + \" \"\n",
        "  x=x+1\n",
        "print(answer)"
      ],
      "metadata": {
        "colab": {
          "base_uri": "https://localhost:8080/"
        },
        "id": "dwNzsvQygW4n",
        "outputId": "1f1fa79d-8d71-45af-db91-cbe524d8b434"
      },
      "execution_count": 55,
      "outputs": [
        {
          "output_type": "stream",
          "name": "stdout",
          "text": [
            "1 3 5 7 9 \n"
          ]
        }
      ]
    }
  ]
}