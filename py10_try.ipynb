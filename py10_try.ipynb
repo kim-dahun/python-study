{
  "nbformat": 4,
  "nbformat_minor": 0,
  "metadata": {
    "colab": {
      "provenance": [],
      "authorship_tag": "ABX9TyNnZ0QfqXsMypFt8cdVgAIv",
      "include_colab_link": true
    },
    "kernelspec": {
      "name": "python3",
      "display_name": "Python 3"
    },
    "language_info": {
      "name": "python"
    }
  },
  "cells": [
    {
      "cell_type": "markdown",
      "metadata": {
        "id": "view-in-github",
        "colab_type": "text"
      },
      "source": [
        "<a href=\"https://colab.research.google.com/github/kim-dahun/python-study/blob/main/py10_try.ipynb\" target=\"_parent\"><img src=\"https://colab.research.google.com/assets/colab-badge.svg\" alt=\"Open In Colab\"/></a>"
      ]
    },
    {
      "cell_type": "markdown",
      "source": [
        "# 오류(Error) 처리\n",
        "\n",
        "* 오류가 발생한 위치와 원인을 파악해서 오류가 발생하지 않도록 코드 수정.\n",
        "* 오류가 발생하더라도 프로그램이 비정상적으로 종료되지 않고, 계속 실행되도록 처리 --> try 구문\n",
        "  * Java는 반드시 try-catch 구문을 사용해야만 하는 Exception 종류들이 있음.\n",
        "    * NullPointerException : try-catch 가 필수는 아님.\n",
        "    * IOException, SQLException, ... : try-catch  가 필수.\n",
        "  * Python은 모든 오류 처리에서 try-except 가 필수는 아님.\n",
        "\n",
        "  **Python try-except 구문**\n",
        "\n",
        "  ```\n",
        "  try:\n",
        "    (1) 실행할 코드 블록\n",
        "  except [ 에러 클래스 이름 [ as 별명 ] ]\n",
        "    (2) 에러가 발생했을 때 실행할 코드 블럭\n",
        "  [else :\n",
        "    (3) 에러가 발생하지 않았을 때 코드 블록]\n",
        "  [finally :\n",
        "    (4) try 블럭 실행 중에 에러 발생 여부와 관계없이 항상 실행할 코드 블록 ]\n",
        "  ```\n",
        "\n",
        "* 에러가 발생하지 않는 경우 : (1) - (3) - (4)\n",
        "* 에러가 발생한 경우 : (1) - (2) - (4)\n",
        "* except 구문에서 에러 클래스의 이름을 생략하면, 모든 종류의 에러를 잡아서 처리할 수 있음.\n",
        "* 특정 종류의 에러만 처리하고자 할 때는, except 구문에서 에러 클래스 이름을 명시."
      ],
      "metadata": {
        "id": "V9Z1ijYlITP0"
      }
    },
    {
      "cell_type": "code",
      "execution_count": 2,
      "metadata": {
        "colab": {
          "base_uri": "https://localhost:8080/"
        },
        "id": "65V35jW0IOwr",
        "outputId": "caedd1c3-18ef-4b48-dba2-75f5b42fdb46"
      },
      "outputs": [
        {
          "output_type": "stream",
          "name": "stdout",
          "text": [
            "정수 입력2.\n",
            "정수로 입력해야 합니다.\n"
          ]
        }
      ],
      "source": [
        "try:\n",
        "  x = int(input('정수 입력'))\n",
        "  print(x)\n",
        "except:\n",
        "  print('정수로 입력해야 합니다.')"
      ]
    },
    {
      "cell_type": "code",
      "source": [
        "try:\n",
        "  x = int(input('정수를 입력하시오')) # 1.\n",
        "except ValueError as e:\n",
        "  print(e) # 2.\n",
        "else:\n",
        "  print(f'x={x}') #3\n",
        "finally:\n",
        "  print('=== end ===') #4"
      ],
      "metadata": {
        "colab": {
          "base_uri": "https://localhost:8080/"
        },
        "id": "4LWBsRCuMKlx",
        "outputId": "914a531d-5f04-4abd-aa87-5f8c89209ba1"
      },
      "execution_count": 3,
      "outputs": [
        {
          "output_type": "stream",
          "name": "stdout",
          "text": [
            "정수를 입력하시오21.\n",
            "invalid literal for int() with base 10: '21.'\n",
            "=== end ===\n"
          ]
        }
      ]
    },
    {
      "cell_type": "markdown",
      "source": [
        "#Ex 1.\n",
        "* 정수 1개를 입력받고, 입력받은 정수를 출력하세요.\n",
        "\n",
        "* 정수로 변환할 수 없는 문자열이 입력된 경우에는 적절한 오류 메시지를 출력한 후 다시 입력을 받아야 함."
      ],
      "metadata": {
        "id": "mjGhn7LJTRxW"
      }
    },
    {
      "cell_type": "code",
      "source": [
        "y = True\n",
        "while y:\n",
        "  try:\n",
        "    x = int(input('정수 입력하세요'))\n",
        "  except:\n",
        "    print('잘못된 입력입니다.')\n",
        "    continue\n",
        "  else:\n",
        "    print(f'x={x}')\n",
        "    y = False"
      ],
      "metadata": {
        "colab": {
          "base_uri": "https://localhost:8080/"
        },
        "id": "Cn49o63MTWgs",
        "outputId": "96688a60-0cb3-4247-da54-fed634483d4c"
      },
      "execution_count": 5,
      "outputs": [
        {
          "output_type": "stream",
          "name": "stdout",
          "text": [
            "정수 입력하세요2.\n",
            "잘못된 입력입니다.\n",
            "정수 입력하세요3.\n",
            "잘못된 입력입니다.\n",
            "정수 입력하세요4.\n",
            "잘못된 입력입니다.\n",
            "정수 입력하세요5\n",
            "x=5\n"
          ]
        }
      ]
    },
    {
      "cell_type": "markdown",
      "source": [
        "# Ex 2. 단어 개수 세기\n",
        "* 리스트 words가 가지고 있는 단어들을 key로 하고, 그 단어가 리스트에 나오는 횟수를 값으로 하는 dict를 생성하고 출력하세요."
      ],
      "metadata": {
        "id": "zgHku3KVT98Q"
      }
    },
    {
      "cell_type": "code",
      "source": [
        "words = ['java','python','javascript','python','sql','java','python']\n",
        "count_dict = {}\n",
        "for x in words:\n",
        "  try:\n",
        "    count_dict[x] = count_dict.get(x)+1\n",
        "  except:\n",
        "    count_dict[x] = 1\n",
        "print(count_dict)"
      ],
      "metadata": {
        "colab": {
          "base_uri": "https://localhost:8080/"
        },
        "id": "GUJxBWK6TqRr",
        "outputId": "a6f8695e-dfc0-4346-d822-7952e3c65a5e"
      },
      "execution_count": 7,
      "outputs": [
        {
          "output_type": "stream",
          "name": "stdout",
          "text": [
            "{'java': 2, 'python': 3, 'javascript': 1, 'sql': 1}\n"
          ]
        }
      ]
    },
    {
      "cell_type": "code",
      "source": [
        "word_count = {}\n",
        "\n",
        "for x in words:\n",
        "\n",
        "  if(x in word_count):\n",
        "    word_count[x] = word_count[x]+1\n",
        "  else:\n",
        "    word_count[x] = 1\n",
        "\n",
        "print(word_count)"
      ],
      "metadata": {
        "colab": {
          "base_uri": "https://localhost:8080/"
        },
        "id": "TicSQTL8UwkC",
        "outputId": "225e172a-3059-44b2-fa5f-0cb276f75d35"
      },
      "execution_count": 9,
      "outputs": [
        {
          "output_type": "stream",
          "name": "stdout",
          "text": [
            "{'java': 2, 'python': 3, 'javascript': 1, 'sql': 1}\n"
          ]
        }
      ]
    },
    {
      "cell_type": "code",
      "source": [
        "# Collection 모듈에서 defaultdict 함수를 import\n",
        "\n",
        "# import module -> module_name.fn() -> 모듈의 모든 함수를 가져오는 것 ( 모듈 이름을 함수 앞에 붙여서 써야됨 )\n",
        "\n",
        "# from module_name import fn_name -> 모듈에서 함수 1개만 가져오는 것 ( 모듈 이름 안붙여도 됨 )\n",
        "\n",
        "from collections import defaultdict"
      ],
      "metadata": {
        "id": "92X7pOgvZd63"
      },
      "execution_count": 10,
      "outputs": []
    },
    {
      "cell_type": "code",
      "source": [
        "word_count2 = defaultdict(int)\n",
        "\n",
        "for w in words:\n",
        "  word_count2[w] += 1\n",
        "\n",
        "print(word_count2)"
      ],
      "metadata": {
        "colab": {
          "base_uri": "https://localhost:8080/"
        },
        "id": "um-8Cz6GduBg",
        "outputId": "3b507a8f-561a-493b-838d-532f8e8ec521"
      },
      "execution_count": 11,
      "outputs": [
        {
          "output_type": "stream",
          "name": "stdout",
          "text": [
            "defaultdict(<class 'int'>, {'java': 2, 'python': 3, 'javascript': 1, 'sql': 1})\n"
          ]
        }
      ]
    },
    {
      "cell_type": "code",
      "source": [],
      "metadata": {
        "id": "pdQwsrzNeFbR"
      },
      "execution_count": null,
      "outputs": []
    }
  ]
}