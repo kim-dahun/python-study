{
  "nbformat": 4,
  "nbformat_minor": 0,
  "metadata": {
    "colab": {
      "provenance": [],
      "authorship_tag": "ABX9TyMwop92lxninmjd+ZYZZlal",
      "include_colab_link": true
    },
    "kernelspec": {
      "name": "python3",
      "display_name": "Python 3"
    },
    "language_info": {
      "name": "python"
    }
  },
  "cells": [
    {
      "cell_type": "markdown",
      "metadata": {
        "id": "view-in-github",
        "colab_type": "text"
      },
      "source": [
        "<a href=\"https://colab.research.google.com/github/kim-dahun/python-study/blob/main/py08_function.ipynb\" target=\"_parent\"><img src=\"https://colab.research.google.com/assets/colab-badge.svg\" alt=\"Open In Colab\"/></a>"
      ]
    },
    {
      "cell_type": "markdown",
      "source": [
        "# 1급 객체(first-class object) 로서의 함수\n",
        "\n",
        "* 함수는 변수에 할당할 수 있음.\n",
        "* 함수의 파라미터의 argument로 다른 함수를 전달할 수 있음.\n",
        "  * 함수는 argument가 될 수 있음.\n",
        "* 함수는 다른 함수의 Return 값이 될 수 있음.\n",
        "* 함수 내부에서 다른 함수를 정의할 수 있음."
      ],
      "metadata": {
        "id": "p5HqEnxixK1s"
      }
    },
    {
      "cell_type": "markdown",
      "source": [
        "# 함수를 변수에 할당"
      ],
      "metadata": {
        "id": "kbMk2629yRgr"
      }
    },
    {
      "cell_type": "code",
      "execution_count": 1,
      "metadata": {
        "id": "2S-5HNAzxHcv"
      },
      "outputs": [],
      "source": [
        "def twice(x):\n",
        "  return 2 * x"
      ]
    },
    {
      "cell_type": "code",
      "source": [
        "result = twice(100) # 함수 호출 결과(return value)를 변수에 저장."
      ],
      "metadata": {
        "id": "9Z1viVKmyQs7"
      },
      "execution_count": 2,
      "outputs": []
    },
    {
      "cell_type": "code",
      "source": [
        "result = twice # 함수 (객체)를 변수에 저장."
      ],
      "metadata": {
        "id": "FK5uDehOycF3"
      },
      "execution_count": 5,
      "outputs": []
    },
    {
      "cell_type": "code",
      "source": [
        "result(100)"
      ],
      "metadata": {
        "colab": {
          "base_uri": "https://localhost:8080/"
        },
        "id": "Ak5VHiVkyd1j",
        "outputId": "88457dfe-b6ae-4301-ea9b-ce1bd3777d25"
      },
      "execution_count": 6,
      "outputs": [
        {
          "output_type": "execute_result",
          "data": {
            "text/plain": [
              "200"
            ]
          },
          "metadata": {},
          "execution_count": 6
        }
      ]
    },
    {
      "cell_type": "code",
      "source": [
        "def calculate(x, y, fn):\n",
        "  result = fn(x,y)\n",
        "  return result\n",
        "def plus(x,y):\n",
        "  return x+y"
      ],
      "metadata": {
        "id": "Vz3RY-_EyexH"
      },
      "execution_count": 10,
      "outputs": []
    },
    {
      "cell_type": "code",
      "source": [
        "calculate(1,4,plus)"
      ],
      "metadata": {
        "colab": {
          "base_uri": "https://localhost:8080/"
        },
        "id": "_bp0aPSxzIJ-",
        "outputId": "99373571-dc2f-4e59-e614-fc73f4988b78"
      },
      "execution_count": 11,
      "outputs": [
        {
          "output_type": "execute_result",
          "data": {
            "text/plain": [
              "5"
            ]
          },
          "metadata": {},
          "execution_count": 11
        }
      ]
    },
    {
      "cell_type": "code",
      "source": [
        "def minus(x,y):\n",
        "  return x-y"
      ],
      "metadata": {
        "id": "uoUsG1vvzOAU"
      },
      "execution_count": 12,
      "outputs": []
    },
    {
      "cell_type": "code",
      "source": [
        "calculate(1,3,minus)"
      ],
      "metadata": {
        "colab": {
          "base_uri": "https://localhost:8080/"
        },
        "id": "D1jkFQkC0MJ5",
        "outputId": "ad1bae1d-d7f6-43cb-f814-f44babeb30e0"
      },
      "execution_count": 13,
      "outputs": [
        {
          "output_type": "execute_result",
          "data": {
            "text/plain": [
              "-2"
            ]
          },
          "metadata": {},
          "execution_count": 13
        }
      ]
    },
    {
      "cell_type": "markdown",
      "source": [
        "# 내부 함수, 함수 리턴"
      ],
      "metadata": {
        "id": "s5Qh63KC1H_S"
      }
    },
    {
      "cell_type": "code",
      "source": [
        "def make_increment(n): # 외부함수\n",
        "  def add_n(x): # 내부함수(지역함수, 로컬함수)\n",
        "    return x+n # 내부함수는 외부함수의 지역변수(파라미터 포함)들을 사용할 수 있음.\n",
        "  return add_n"
      ],
      "metadata": {
        "id": "rdiIpO_O0ONa"
      },
      "execution_count": 15,
      "outputs": []
    },
    {
      "cell_type": "code",
      "source": [
        "increase_by_2 = make_increment(10)"
      ],
      "metadata": {
        "id": "KODUeVkE1T6V"
      },
      "execution_count": 17,
      "outputs": []
    },
    {
      "cell_type": "code",
      "source": [
        "increase_by_2(2)"
      ],
      "metadata": {
        "colab": {
          "base_uri": "https://localhost:8080/"
        },
        "id": "l4uS6smc10jk",
        "outputId": "fc023f18-5e36-4047-b45b-592ffd1b2ede"
      },
      "execution_count": 18,
      "outputs": [
        {
          "output_type": "execute_result",
          "data": {
            "text/plain": [
              "12"
            ]
          },
          "metadata": {},
          "execution_count": 18
        }
      ]
    },
    {
      "cell_type": "code",
      "source": [
        "make_increment(5)(100) # add_n<make_increament(5)>(100)"
      ],
      "metadata": {
        "colab": {
          "base_uri": "https://localhost:8080/"
        },
        "id": "ozc5456f17ju",
        "outputId": "a794f4c5-e05f-4fd7-bb3a-8389c73b9932"
      },
      "execution_count": 19,
      "outputs": [
        {
          "output_type": "execute_result",
          "data": {
            "text/plain": [
              "105"
            ]
          },
          "metadata": {},
          "execution_count": 19
        }
      ]
    },
    {
      "cell_type": "markdown",
      "source": [
        "# Lambda Expression(람다 표현식)\n",
        "\n",
        "```\n",
        "lambda param1, param2, ...: expression\n",
        "```\n",
        "\n",
        "* 이름이 없는 함수 표기법\n",
        "* 함수 이름 없이 함수의 파라미터 선언과 반환 값 또는 반환 식으로만 함수를 정의하는 방법\n",
        "* 파이썬은 2줄 이상의 문장이 포함된 람다 표현식 문법을 제공하지 않음."
      ],
      "metadata": {
        "id": "3CqmwGua8U2o"
      }
    },
    {
      "cell_type": "code",
      "source": [
        "minus = lambda x,y : x-y\n",
        "minus"
      ],
      "metadata": {
        "colab": {
          "base_uri": "https://localhost:8080/"
        },
        "id": "am2zECi_4FF3",
        "outputId": "34e9f673-a1b9-4e53-93d6-e5c4756f7141"
      },
      "execution_count": 20,
      "outputs": [
        {
          "output_type": "execute_result",
          "data": {
            "text/plain": [
              "<function __main__.<lambda>(x, y)>"
            ]
          },
          "metadata": {},
          "execution_count": 20
        }
      ]
    },
    {
      "cell_type": "code",
      "source": [
        "minus(1,2)"
      ],
      "metadata": {
        "colab": {
          "base_uri": "https://localhost:8080/"
        },
        "id": "13vvBREE9jl9",
        "outputId": "e6117aba-dc0c-4fc0-d8e7-773414acec37"
      },
      "execution_count": 21,
      "outputs": [
        {
          "output_type": "execute_result",
          "data": {
            "text/plain": [
              "-1"
            ]
          },
          "metadata": {},
          "execution_count": 21
        }
      ]
    },
    {
      "cell_type": "code",
      "source": [
        "calculate(2,3,lambda x, y : x * y)"
      ],
      "metadata": {
        "colab": {
          "base_uri": "https://localhost:8080/"
        },
        "id": "gH867_mu9qZ5",
        "outputId": "dd13b88a-3883-447c-8ee7-5288f2f0bbbd"
      },
      "execution_count": 22,
      "outputs": [
        {
          "output_type": "execute_result",
          "data": {
            "text/plain": [
              "6"
            ]
          },
          "metadata": {},
          "execution_count": 22
        }
      ]
    },
    {
      "cell_type": "code",
      "source": [
        "calculate(2,3,lambda x,y : x / y)"
      ],
      "metadata": {
        "colab": {
          "base_uri": "https://localhost:8080/"
        },
        "id": "X0G8E37S-ZIH",
        "outputId": "2dd15f66-85fc-4a7e-e85f-6641b947c3a9"
      },
      "execution_count": 23,
      "outputs": [
        {
          "output_type": "execute_result",
          "data": {
            "text/plain": [
              "0.6666666666666666"
            ]
          },
          "metadata": {},
          "execution_count": 23
        }
      ]
    },
    {
      "cell_type": "markdown",
      "source": [
        "Ex1. calculate 함수에 2개 숫자 중 더 큰 수를 리턴하는 람다 표현식을 전달."
      ],
      "metadata": {
        "id": "FrSIEtXA_PEQ"
      }
    },
    {
      "cell_type": "markdown",
      "source": [
        "Ex2. calculate 함수에 첫번째 argument가 크면 True, 아니면 False를 리턴하는 람다 표현식을 전달."
      ],
      "metadata": {
        "id": "eeTW_QY7_Uz3"
      }
    },
    {
      "cell_type": "code",
      "source": [
        "calculate(9,5,lambda x,y : True if x>y else False)"
      ],
      "metadata": {
        "colab": {
          "base_uri": "https://localhost:8080/"
        },
        "id": "5u5zcza7-vM_",
        "outputId": "f0335f9e-b550-4577-9899-a0106f0408dd"
      },
      "execution_count": 34,
      "outputs": [
        {
          "output_type": "execute_result",
          "data": {
            "text/plain": [
              "True"
            ]
          },
          "metadata": {},
          "execution_count": 34
        }
      ]
    },
    {
      "cell_type": "code",
      "source": [
        "calculate(5,2, lambda x,y : x if x>y else y )"
      ],
      "metadata": {
        "colab": {
          "base_uri": "https://localhost:8080/"
        },
        "id": "HYx9bUC9_nN7",
        "outputId": "cb3be51a-90c8-4a18-fba9-802584c51a60"
      },
      "execution_count": 35,
      "outputs": [
        {
          "output_type": "execute_result",
          "data": {
            "text/plain": [
              "5"
            ]
          },
          "metadata": {},
          "execution_count": 35
        }
      ]
    },
    {
      "cell_type": "code",
      "source": [
        "calculate(5,2, lambda x,y : x>y)"
      ],
      "metadata": {
        "colab": {
          "base_uri": "https://localhost:8080/"
        },
        "id": "Tm2IQnztAHFT",
        "outputId": "0e3aaefd-cd45-4595-f7c8-75c8e1a2d58c"
      },
      "execution_count": 36,
      "outputs": [
        {
          "output_type": "execute_result",
          "data": {
            "text/plain": [
              "True"
            ]
          },
          "metadata": {},
          "execution_count": 36
        }
      ]
    },
    {
      "cell_type": "markdown",
      "source": [
        "#Filter 함수\n",
        "\n",
        "조건에 맞는 원소들만 선택"
      ],
      "metadata": {
        "id": "Jd1REPgyCLt3"
      }
    },
    {
      "cell_type": "code",
      "source": [
        "def my_filter(iterable, fn):\n",
        "  \"\"\"\n",
        "  리스트 iterable 원소들 중에서 함수 fn의 호출 결과 값이 True 인 원소들로만 이루어진 리스트를 리턴\n",
        "  Param iterable : 리스트.\n",
        "  Param fn : argument가 1개이고, True/False를 리턴하는 함수.\n",
        "  \"\"\"\n",
        "  return [x for x in iterable if fn(x)==True]"
      ],
      "metadata": {
        "id": "ghmXm9RlBp8L"
      },
      "execution_count": 37,
      "outputs": []
    },
    {
      "cell_type": "code",
      "source": [
        "my_filter([\"java\",\"Python\",\"kotlin\",\"Html\",\"jackson\"],lambda x : True if x[0]=='j' else False)"
      ],
      "metadata": {
        "colab": {
          "base_uri": "https://localhost:8080/"
        },
        "id": "dQrJUxoMDccE",
        "outputId": "b6080862-ce0e-4aa9-f9e8-879e69ea510b"
      },
      "execution_count": 38,
      "outputs": [
        {
          "output_type": "execute_result",
          "data": {
            "text/plain": [
              "['java', 'jackson']"
            ]
          },
          "metadata": {},
          "execution_count": 38
        }
      ]
    },
    {
      "cell_type": "code",
      "source": [
        "strings = ['python','java','javascript','sql']\n",
        "my_filter(strings, lambda x : True if len(x)>=5 else False)"
      ],
      "metadata": {
        "colab": {
          "base_uri": "https://localhost:8080/"
        },
        "id": "9oq_wUXID1nk",
        "outputId": "7fd8e52d-065e-43b1-e800-97284a5a4818"
      },
      "execution_count": 39,
      "outputs": [
        {
          "output_type": "execute_result",
          "data": {
            "text/plain": [
              "['python', 'javascript']"
            ]
          },
          "metadata": {},
          "execution_count": 39
        }
      ]
    },
    {
      "cell_type": "markdown",
      "source": [
        "# Map 함수\n",
        "\n",
        "원소들을 규칙에 따라서 다른 값으로 변환해주는 함수."
      ],
      "metadata": {
        "id": "9Qq7N6OfOEa4"
      }
    },
    {
      "cell_type": "code",
      "source": [
        "def my_mapper(iterable, fn):\n",
        "\n",
        "  \"\"\"\n",
        "  리스트 iterable의 원소들을 함수 fn의 리턴 값으로 변환한 리스트를 리턴.\n",
        "\n",
        "  Param iterable : 리스트.\n",
        "\n",
        "  Param fn : argument 1개이고, 리턴 Value가 반드시 있어야 함.(타입 제한 조건은 없음)\n",
        "  \"\"\"\n",
        "  return [fn(x) for x in iterable]"
      ],
      "metadata": {
        "id": "t3uThoNJMwCk"
      },
      "execution_count": 42,
      "outputs": []
    },
    {
      "cell_type": "code",
      "source": [
        "my_mapper([1,3,4,6,8,11,25,241,21,7],lambda x : x**2)"
      ],
      "metadata": {
        "colab": {
          "base_uri": "https://localhost:8080/"
        },
        "id": "sfpYIjE1PFfU",
        "outputId": "d193778f-d48d-40e3-f062-4c12c7f688aa"
      },
      "execution_count": 43,
      "outputs": [
        {
          "output_type": "execute_result",
          "data": {
            "text/plain": [
              "[1, 9, 16, 36, 64, 121, 625, 58081, 441, 49]"
            ]
          },
          "metadata": {},
          "execution_count": 43
        }
      ]
    },
    {
      "cell_type": "code",
      "source": [
        "my_mapper([1,2,4,3,5,6,7,8,9,11],lambda x : \"odd\" if x%2 else \"even\")"
      ],
      "metadata": {
        "colab": {
          "base_uri": "https://localhost:8080/"
        },
        "id": "8VsIjEyoPcAf",
        "outputId": "8d60d501-8cd6-42de-b2d8-d2aafd29ca18"
      },
      "execution_count": 44,
      "outputs": [
        {
          "output_type": "execute_result",
          "data": {
            "text/plain": [
              "['odd', 'even', 'even', 'odd', 'odd', 'even', 'odd', 'even', 'odd', 'odd']"
            ]
          },
          "metadata": {},
          "execution_count": 44
        }
      ]
    },
    {
      "cell_type": "markdown",
      "source": [
        " Strings가 가지고 있는문자열의 길이들로 이루어진 리스트\n",
        " String의 문자열들을 대문자로 변환한 리스트"
      ],
      "metadata": {
        "id": "3nMo8bV7R-5_"
      }
    },
    {
      "cell_type": "code",
      "source": [
        "my_mapper(strings,lambda x : len(x))"
      ],
      "metadata": {
        "colab": {
          "base_uri": "https://localhost:8080/"
        },
        "id": "lnBGtPZOQ9v9",
        "outputId": "2754bf69-770a-4616-f7f5-9600041160df"
      },
      "execution_count": 45,
      "outputs": [
        {
          "output_type": "execute_result",
          "data": {
            "text/plain": [
              "[6, 4, 10, 3]"
            ]
          },
          "metadata": {},
          "execution_count": 45
        }
      ]
    },
    {
      "cell_type": "code",
      "source": [
        "my_mapper(strings,lambda x : x.upper())"
      ],
      "metadata": {
        "colab": {
          "base_uri": "https://localhost:8080/"
        },
        "id": "sr1cTCFmSNAI",
        "outputId": "36fb67cc-8d63-4768-f4d3-e53f48f141f0"
      },
      "execution_count": 46,
      "outputs": [
        {
          "output_type": "execute_result",
          "data": {
            "text/plain": [
              "['PYTHON', 'JAVA', 'JAVASCRIPT', 'SQL']"
            ]
          },
          "metadata": {},
          "execution_count": 46
        }
      ]
    },
    {
      "cell_type": "code",
      "source": [],
      "metadata": {
        "id": "w_blgtWoScCN"
      },
      "execution_count": null,
      "outputs": []
    }
  ]
}