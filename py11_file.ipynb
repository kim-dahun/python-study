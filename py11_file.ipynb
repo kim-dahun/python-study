{
  "nbformat": 4,
  "nbformat_minor": 0,
  "metadata": {
    "colab": {
      "provenance": [],
      "mount_file_id": "1aAP3n32mW14tiaFBrU1_cacmrS5guLJF",
      "authorship_tag": "ABX9TyMyoG1tfKHdxX1cSRgJ/3by",
      "include_colab_link": true
    },
    "kernelspec": {
      "name": "python3",
      "display_name": "Python 3"
    },
    "language_info": {
      "name": "python"
    }
  },
  "cells": [
    {
      "cell_type": "markdown",
      "metadata": {
        "id": "view-in-github",
        "colab_type": "text"
      },
      "source": [
        "<a href=\"https://colab.research.google.com/github/kim-dahun/python-study/blob/main/py11_file.ipynb\" target=\"_parent\"><img src=\"https://colab.research.google.com/assets/colab-badge.svg\" alt=\"Open In Colab\"/></a>"
      ]
    },
    {
      "cell_type": "markdown",
      "source": [
        "# 파일 쓰기 ( write )\n",
        "\n",
        "파일쓰기 순서:\n",
        "1. 파일 열기(open)\n",
        "1. 파일 내용 쓰기(wirte)\n",
        "1. 파일 닫기(close)\n",
        "\n",
        "` open(file, mode='rt', ...)`:\n",
        "* file : 폴더(디렉토리)를 포함한 파일 이름.\n",
        "* mode : 파일을 여는 방법(모드)\n",
        "  * r(read): 읽기. 기본값\n",
        "  * w(write): 쓰기.\n",
        "    * 파일이 있으면 기존 내용이 모두 삭제되고 파일의 처음부터 다시쓰기시작\n",
        "    * 파일이 없으면 새로운 파일을 생성하고 파일 쓰기가 됨.\n",
        "  * a(append):\n",
        "    * 기존 작성된 내용 이후부터 이어서 쓰기.\n",
        "    * 파일이 없는 경우, 새로운 파일을 생성하고 이어 쓰기\n",
        "  * t(text):\n",
        "    * 텍스트를 읽기나 쓰기. Encoding된 문자열. 기본값\n",
        "  * b(binary):\n",
        "    * 이진 데이터를 읽고 쓰기.Ex. 이미지, 동영상 등."
      ],
      "metadata": {
        "id": "64SHyWGuRheJ"
      }
    },
    {
      "cell_type": "code",
      "execution_count": null,
      "metadata": {
        "id": "7sSFhmUnRfJd"
      },
      "outputs": [],
      "source": [
        "# 파일을 텍스트 쓰기 모드로 열기\n",
        "f = open('test1.txt',mode='wt')"
      ]
    },
    {
      "cell_type": "code",
      "source": [
        "# 파일 쓰기\n",
        "f.write('갯쎄이야')\n",
        "f.write('하이')\n",
        "# 파일 닫기\n",
        "f.close()"
      ],
      "metadata": {
        "id": "sSOPqM6jVDeh"
      },
      "execution_count": null,
      "outputs": []
    },
    {
      "cell_type": "code",
      "source": [
        "# with ~ as 구문 : 오픈된 리소스(파일)에서 close() 메서드를 자동으로 호출.\n",
        "\n",
        "with open('test2.txt','wt') as f:\n",
        "  f.write('hello\\n')\n",
        "  f.write('즐거운 월요일\\n')"
      ],
      "metadata": {
        "id": "QRgTFIQfVapW"
      },
      "execution_count": null,
      "outputs": []
    },
    {
      "cell_type": "markdown",
      "source": [
        "# 파일 읽기\n",
        "\n",
        "*"
      ],
      "metadata": {
        "id": "F4_5f3xCc66z"
      }
    },
    {
      "cell_type": "code",
      "source": [
        "with open('test.txt',mode='rt') as f:\n",
        "    s = f.readline()\n",
        "    print(s.strip())\n",
        "    # 문자열.strip() :  문자열의 왼쪽과 오른쪽에 있는 공백 문자들(space, tab, 줄바꿈) 을 제거.\n",
        "    s = f.readline()\n",
        "    print(s.strip())\n",
        "    s = f.readline()\n",
        "    print(s.strip())"
      ],
      "metadata": {
        "colab": {
          "base_uri": "https://localhost:8080/"
        },
        "id": "zzhcR8ykdg9M",
        "outputId": "cbbf149d-d20c-441a-fcfa-695bf41d9eab"
      },
      "execution_count": null,
      "outputs": [
        {
          "output_type": "stream",
          "name": "stdout",
          "text": [
            "안녕하세요\n",
            "헬로 파이선\n",
            "헬로 자바\n"
          ]
        }
      ]
    },
    {
      "cell_type": "code",
      "source": [
        "with open('test.txt',mode='rt') as f:\n",
        "  for line in f:\n",
        "    # File의 처음부터 끝까지 readline() 을 호출\n",
        "    print(line)"
      ],
      "metadata": {
        "colab": {
          "base_uri": "https://localhost:8080/"
        },
        "id": "gUcbL422eTJi",
        "outputId": "a302830a-6db5-40e3-d815-c5dde27c92c2"
      },
      "execution_count": null,
      "outputs": [
        {
          "output_type": "stream",
          "name": "stdout",
          "text": [
            "안녕하세요\n",
            "\n",
            "헬로 파이선\n",
            "\n",
            "헬로 자바\n",
            "\n",
            "헬로 자스\n",
            "\n",
            "극혐 HTML/CSS\n"
          ]
        }
      ]
    },
    {
      "cell_type": "markdown",
      "source": [
        "지금까지의 과정은 Google Colab 에서 할당받은 가상 머신(개발 환경)의 하드디스크에 파일을 쓰고, 파일을 읽는 기능을 수행.\n",
        "\n",
        "Google Colab과 연결이 끊어진 후 재 연결(가상머신 재할당)을 하면, 가상 머신의 리소스(RAM, HDD, CPU, ...)들은 초기화 됨. 저장했던 파일들도 모두 삭제됨.\n",
        "\n",
        "파일을 개인 Google 드라이브에 저장하고 읽을 방법이 제공됨."
      ],
      "metadata": {
        "id": "LvNBiRKBg4pi"
      }
    },
    {
      "cell_type": "markdown",
      "source": [
        "Colab 가상머신에서 구글 드라이브 연결(Mount)"
      ],
      "metadata": {
        "id": "lb7BUg5zia95"
      }
    },
    {
      "cell_type": "code",
      "source": [
        "\n",
        "\n",
        "with open('/content/drive/MyDrive/Colab Notebooks/lab-python/pythongood.txt',mode='wt') as fi:\n",
        "  for x in range(0,3):\n",
        "    fi.write(input('텍스를 입력하세요'))"
      ],
      "metadata": {
        "id": "TFWOjsPugPy7",
        "colab": {
          "base_uri": "https://localhost:8080/"
        },
        "outputId": "ae3f6eaa-b2be-416f-922f-2750807a8dc0"
      },
      "execution_count": 30,
      "outputs": [
        {
          "name": "stdout",
          "output_type": "stream",
          "text": [
            "텍스를 입력하세요이건\n",
            "텍스를 입력하세요테스트용\n",
            "텍스를 입력하세요입니다\n"
          ]
        }
      ]
    },
    {
      "cell_type": "code",
      "source": [
        "# 구글 드라이브 폴더 경로\n",
        "dir_path = '/content/drive/MyDrive/Colab Notebooks/lab-python'\n",
        "# 저장할 파일 이름\n",
        "file_name = 'test.txt'\n",
        "\n",
        "import os # os 모듈 import: os.path.join() 함수 이용하기 위해서\n",
        "\n",
        "file = os.path.join(dir_path, file_name)\n",
        "file"
      ],
      "metadata": {
        "colab": {
          "base_uri": "https://localhost:8080/",
          "height": 35
        },
        "id": "6FO3RwGnjwMf",
        "outputId": "92503d28-a91d-49ce-f88d-2b739ea033c2"
      },
      "execution_count": 31,
      "outputs": [
        {
          "output_type": "execute_result",
          "data": {
            "text/plain": [
              "'/content/drive/MyDrive/Colab Notebooks/lab-python/test.txt'"
            ],
            "application/vnd.google.colaboratory.intrinsic+json": {
              "type": "string"
            }
          },
          "metadata": {},
          "execution_count": 31
        }
      ]
    },
    {
      "cell_type": "code",
      "source": [
        "with open(file, mode=\"wt\") as f:\n",
        "  f.write('admin@text.com\\n')\n",
        "  f.write('jakoh@gmail.com\\n')\n",
        "  f.write('ansi@naver.com\\n')"
      ],
      "metadata": {
        "id": "xZiCEbXrkOiV"
      },
      "execution_count": 32,
      "outputs": []
    },
    {
      "cell_type": "code",
      "source": [
        "with open(file, mode='rt') as f:\n",
        "  for x in f:\n",
        "    print(x.strip())\n",
        ""
      ],
      "metadata": {
        "colab": {
          "base_uri": "https://localhost:8080/"
        },
        "id": "ri4ZObPRkvaJ",
        "outputId": "9a44a670-43c3-4276-c3e8-cce5ece597db"
      },
      "execution_count": 40,
      "outputs": [
        {
          "output_type": "stream",
          "name": "stdout",
          "text": [
            "admin@text.com\n",
            "jakoh@gmail.com\n",
            "ansi@naver.com\n"
          ]
        }
      ]
    },
    {
      "cell_type": "code",
      "source": [],
      "metadata": {
        "id": "tIzuLGVHk4Kl"
      },
      "execution_count": null,
      "outputs": []
    }
  ]
}