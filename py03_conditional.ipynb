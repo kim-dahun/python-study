{
  "nbformat": 4,
  "nbformat_minor": 0,
  "metadata": {
    "colab": {
      "provenance": [],
      "authorship_tag": "ABX9TyOGJ9CX0hpdjRfp2hRt/j+/",
      "include_colab_link": true
    },
    "kernelspec": {
      "name": "python3",
      "display_name": "Python 3"
    },
    "language_info": {
      "name": "python"
    }
  },
  "cells": [
    {
      "cell_type": "markdown",
      "metadata": {
        "id": "view-in-github",
        "colab_type": "text"
      },
      "source": [
        "<a href=\"https://colab.research.google.com/github/kim-dahun/python-study/blob/main/py03_conditional.ipynb\" target=\"_parent\"><img src=\"https://colab.research.google.com/assets/colab-badge.svg\" alt=\"Open In Colab\"/></a>"
      ]
    },
    {
      "cell_type": "markdown",
      "source": [
        "# else 없는 조건문\n",
        "\n",
        "```\n",
        "if 조건식 :\n",
        "  조건식이 참일 때 실행할 코드(블록)\n",
        "\n",
        "```\n",
        "\n",
        "* `if 조건식` 뒤에는 반드시 콜론(:) 을 사용해야 함.\n",
        "* 코드 블록 작성 시 괄호`({})` 를 사용하지 않음.\n",
        "* `if` 블록 안의 문장들은 반드시 **같은 크기로 들여쓰기(indentation)**를 해야함."
      ],
      "metadata": {
        "id": "mW4lh_xwxW2m"
      }
    },
    {
      "cell_type": "code",
      "execution_count": 6,
      "metadata": {
        "id": "b_0RYEqdxTWx"
      },
      "outputs": [],
      "source": [
        "x = -100"
      ]
    },
    {
      "cell_type": "code",
      "source": [
        "if x > 0:\n",
        "    print('양수')\n",
        "    print('if 블록 끝')\n",
        "print('if 블록 바깥') # if 블록과 상관없이 무조건 실행하는 문장."
      ],
      "metadata": {
        "colab": {
          "base_uri": "https://localhost:8080/"
        },
        "id": "6GljIqrNzV0R",
        "outputId": "9be71c1c-95d7-43a4-aa4e-064108b618d2"
      },
      "execution_count": 7,
      "outputs": [
        {
          "output_type": "stream",
          "name": "stdout",
          "text": [
            "if 블록 바깥\n"
          ]
        }
      ]
    },
    {
      "cell_type": "markdown",
      "source": [
        "# else  있는 조건문\n",
        "\n",
        "```\n",
        "if 조건식 :\n",
        "  참일 때 실행한 코드 블록\n",
        "else :\n",
        "  거짓일 때 실행할 코드 블록\n",
        "\n",
        "```"
      ],
      "metadata": {
        "id": "1Lzue98t0zX1"
      }
    },
    {
      "cell_type": "code",
      "source": [
        "n = 9"
      ],
      "metadata": {
        "id": "OvCcKeVZzr6E"
      },
      "execution_count": 13,
      "outputs": []
    },
    {
      "cell_type": "code",
      "source": [
        "if n%2==1 :\n",
        "  if n%3==0 :\n",
        "    print(\"3의 배수이자 홀수\")\n",
        "  else :\n",
        "    print(\"3의 배수는 아니지만 홀수\")\n",
        "elif n%2 == 0 :\n",
        "  print(\"짝수\")\n",
        "else :\n",
        "  print(\"이도 저도 아님\")"
      ],
      "metadata": {
        "colab": {
          "base_uri": "https://localhost:8080/"
        },
        "id": "NcJhg-8y1eKZ",
        "outputId": "ec5af626-1f59-4d81-f2c9-afc91b13c541"
      },
      "execution_count": 15,
      "outputs": [
        {
          "output_type": "stream",
          "name": "stdout",
          "text": [
            "3의 배수이자 홀수\n"
          ]
        }
      ]
    },
    {
      "cell_type": "markdown",
      "source": [
        "파이썬에서 참(True) 취급하는 값:\n",
        "\n",
        "* 0 이 아닌 숫자들.\n",
        "* 1개 이상의 문자를 가지고 있는 문자열\n",
        "* 1개 이상의 원소를 갖는 리스트 및 관련 객체들"
      ],
      "metadata": {
        "id": "Gfd0D0uD2Wpc"
      }
    },
    {
      "cell_type": "markdown",
      "source": [
        "# chained Conditional\n",
        "\n",
        "```\n",
        "if 조건식1 :\n",
        "  조건 1이 참일 경우 실행할 코드 블럭\n",
        "elif 조건식2 :\n",
        "  조건 1이 거짓이지만 조건 2가 참일 경우 실행할 코드 블럭\n",
        "else :\n",
        "  두 가지 경우 모두 아닐 경우 실행할 코드 블럭\n",
        "\n",
        "```"
      ],
      "metadata": {
        "id": "b_xsLfqq2-VM"
      }
    },
    {
      "cell_type": "markdown",
      "source": [
        "Ex1. 정수 세 개를 입력 받고 변수에 저장. 평균계산, 평균이 90 이상이면 A, 80-90 B, 70-80 C, 70_ 이면 F"
      ],
      "metadata": {
        "id": "TAqxF_BN34R8"
      }
    },
    {
      "cell_type": "code",
      "source": [
        " n = 0;\n",
        " m = 0;\n",
        " while n<3:\n",
        "  m+=int(input('정수를 입력하세요'))\n",
        "  n+=1\n",
        " m = m/3\n",
        " print(m)\n",
        "\n",
        " if m>=90 :\n",
        "  print(\"점수는 A\")\n",
        " elif m>=80 and m<90 :\n",
        "  print(\"점수는 B\")\n",
        " elif m>=70 and m<80 :\n",
        "  print(\"점수는 C\")\n",
        " elif m<70 :\n",
        "  print(\"점수는 F\")"
      ],
      "metadata": {
        "colab": {
          "base_uri": "https://localhost:8080/"
        },
        "id": "jEh1EX4G4JDG",
        "outputId": "4c907951-3ca9-4cce-cfe5-eed33ebef31c"
      },
      "execution_count": 18,
      "outputs": [
        {
          "output_type": "stream",
          "name": "stdout",
          "text": [
            "정수를 입력하세요100\n",
            "정수를 입력하세요70\n",
            "정수를 입력하세요65\n",
            "78.33333333333333\n",
            "점수는 C\n"
          ]
        }
      ]
    }
  ]
}