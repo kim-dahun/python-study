{
  "nbformat": 4,
  "nbformat_minor": 0,
  "metadata": {
    "colab": {
      "provenance": [],
      "authorship_tag": "ABX9TyO8QvAA2rK7PPWz3PYd/uXP",
      "include_colab_link": true
    },
    "kernelspec": {
      "name": "python3",
      "display_name": "Python 3"
    },
    "language_info": {
      "name": "python"
    }
  },
  "cells": [
    {
      "cell_type": "markdown",
      "metadata": {
        "id": "view-in-github",
        "colab_type": "text"
      },
      "source": [
        "<a href=\"https://colab.research.google.com/github/kim-dahun/python-study/blob/main/py03_conditional.ipynb\" target=\"_parent\"><img src=\"https://colab.research.google.com/assets/colab-badge.svg\" alt=\"Open In Colab\"/></a>"
      ]
    },
    {
      "cell_type": "markdown",
      "source": [
        "# else 없는 조건문\n",
        "\n",
        "```\n",
        "if 조건식 :\n",
        "  조건식이 참일 때 실행할 코드(블록)\n",
        "\n",
        "```"
      ],
      "metadata": {
        "id": "mW4lh_xwxW2m"
      }
    },
    {
      "cell_type": "code",
      "execution_count": null,
      "metadata": {
        "id": "b_0RYEqdxTWx"
      },
      "outputs": [],
      "source": []
    }
  ]
}