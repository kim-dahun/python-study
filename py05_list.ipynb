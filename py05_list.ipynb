{
  "nbformat": 4,
  "nbformat_minor": 0,
  "metadata": {
    "colab": {
      "provenance": [],
      "authorship_tag": "ABX9TyPh43MwGgPVdBcyQ9J26zQ0",
      "include_colab_link": true
    },
    "kernelspec": {
      "name": "python3",
      "display_name": "Python 3"
    },
    "language_info": {
      "name": "python"
    }
  },
  "cells": [
    {
      "cell_type": "markdown",
      "metadata": {
        "id": "view-in-github",
        "colab_type": "text"
      },
      "source": [
        "<a href=\"https://colab.research.google.com/github/kim-dahun/python-study/blob/main/py05_list.ipynb\" target=\"_parent\"><img src=\"https://colab.research.google.com/assets/colab-badge.svg\" alt=\"Open In Colab\"/></a>"
      ]
    },
    {
      "cell_type": "markdown",
      "source": [
        "# list\n",
        "\n",
        "* 여러 개의 값들을 하나의 변수에 저장하기 위한 데이터 타입.\n",
        "* element(원소, 요소) : 리스트의 저장되는 각각의 값.\n",
        "* index(인덱스) : 리스트에서 원소가 저장된 위치\n",
        "  * 리스트의 인덱스 **0** 부터 시작\n",
        "  * 리스트의 마지막 인덱스는 (원소 개수 - 1).\n",
        "* 리스트는 원소들을 추가, 삭제, 변경할 수 있음.\n",
        "  * `tuple` 과는 다른점!"
      ],
      "metadata": {
        "id": "76DeIlvshooG"
      }
    },
    {
      "cell_type": "code",
      "execution_count": 5,
      "metadata": {
        "colab": {
          "base_uri": "https://localhost:8080/"
        },
        "id": "HTCFBG1ahj8p",
        "outputId": "346d0f31-b327-497e-ded8-5aa2f4cccd51"
      },
      "outputs": [
        {
          "output_type": "execute_result",
          "data": {
            "text/plain": [
              "[1, 2, 3, 10, 20, 30]"
            ]
          },
          "metadata": {},
          "execution_count": 5
        }
      ],
      "source": [
        "numbers = [1,2,3,10,20,30]\n",
        "numbers"
      ]
    },
    {
      "cell_type": "markdown",
      "source": [
        "# 인덱싱(indexing)\n",
        "\n",
        "인덱스를 사용해서 리스트의 원소를 참조하는 방법."
      ],
      "metadata": {
        "id": "QDOBLyn-niMD"
      }
    },
    {
      "cell_type": "code",
      "source": [
        "numbers[0]"
      ],
      "metadata": {
        "colab": {
          "base_uri": "https://localhost:8080/"
        },
        "id": "jygEMpJqnzXS",
        "outputId": "3c300865-e06e-47d3-805a-cc5bab53cc45"
      },
      "execution_count": 3,
      "outputs": [
        {
          "output_type": "execute_result",
          "data": {
            "text/plain": [
              "1"
            ]
          },
          "metadata": {},
          "execution_count": 3
        }
      ]
    },
    {
      "cell_type": "code",
      "source": [
        "numbers[5]"
      ],
      "metadata": {
        "colab": {
          "base_uri": "https://localhost:8080/"
        },
        "id": "KPjFt4KjoPUw",
        "outputId": "b4871382-ab7b-44d6-dcb1-3e3b333000e5"
      },
      "execution_count": 7,
      "outputs": [
        {
          "output_type": "execute_result",
          "data": {
            "text/plain": [
              "30"
            ]
          },
          "metadata": {},
          "execution_count": 7
        }
      ]
    },
    {
      "cell_type": "code",
      "source": [
        "numbers[-1:-5:-1]"
      ],
      "metadata": {
        "colab": {
          "base_uri": "https://localhost:8080/"
        },
        "id": "aG28BTIUoTxU",
        "outputId": "eb7f220e-70c9-4b73-de68-b7eca99103a4"
      },
      "execution_count": 11,
      "outputs": [
        {
          "output_type": "execute_result",
          "data": {
            "text/plain": [
              "[30, 20, 10, 3]"
            ]
          },
          "metadata": {},
          "execution_count": 11
        }
      ]
    },
    {
      "cell_type": "markdown",
      "source": [
        "#slicing\n",
        "\n",
        "인덱스를 사용해서 리스트의 부분집합(List)을 잘라내는 방법.\n",
        "\n",
        "`list[start:end]`\n",
        "\n",
        "* start <= index < end 범위의 인덱스 위치의 원소들을 잘라냄.\n",
        "* start를 생략한 경우에는 첫번째 원소부터 잘라냄.\n",
        "  * `list[0:5]`과 `list[:5]`는 같은 결과.\n",
        "* end를 생략한 경우에는 마지막 원소까지 잘라냄.\n",
        "  * `list[0:end]` 와 `list[0:]`는 같은 결과\n",
        "* 리스트를 slicing 한 결과는 또다른 새로운 **list**."
      ],
      "metadata": {
        "id": "552ZgcAEqQEJ"
      }
    },
    {
      "cell_type": "code",
      "source": [
        "# 리스트에서 앞에서 3개 선택\n",
        "numbers[:3]"
      ],
      "metadata": {
        "colab": {
          "base_uri": "https://localhost:8080/"
        },
        "id": "WmcqRUbItY55",
        "outputId": "2a1f8b8a-2f38-4f99-f5b6-e761c7fc7df0"
      },
      "execution_count": 13,
      "outputs": [
        {
          "output_type": "execute_result",
          "data": {
            "text/plain": [
              "[1, 2, 3]"
            ]
          },
          "metadata": {},
          "execution_count": 13
        }
      ]
    },
    {
      "cell_type": "code",
      "source": [
        "# 리스트에서 뒤에서 3개 선택\n",
        "numbers[-3:]"
      ],
      "metadata": {
        "colab": {
          "base_uri": "https://localhost:8080/"
        },
        "id": "rWg74MfLteZj",
        "outputId": "ecbb1619-54a1-4e91-e584-74f4f16333cf"
      },
      "execution_count": 17,
      "outputs": [
        {
          "output_type": "execute_result",
          "data": {
            "text/plain": [
              "[10, 20, 30]"
            ]
          },
          "metadata": {},
          "execution_count": 17
        }
      ]
    },
    {
      "cell_type": "code",
      "source": [
        "numbers[0:1] # slicing -> 리스트\n",
        "numbers[0] # indexing -> 값"
      ],
      "metadata": {
        "colab": {
          "base_uri": "https://localhost:8080/"
        },
        "id": "t0vZjGlAupP3",
        "outputId": "87be1ad6-387b-4b6a-f9b9-6e9b63c75325"
      },
      "execution_count": 18,
      "outputs": [
        {
          "output_type": "execute_result",
          "data": {
            "text/plain": [
              "1"
            ]
          },
          "metadata": {},
          "execution_count": 18
        }
      ]
    },
    {
      "cell_type": "markdown",
      "source": [
        "# 문자열(str)\n",
        "\n",
        "* 문자들의 *리스트*\n",
        "* 문자열은 인덱스를 사용할 수 있음.\n",
        "* 인덱싱, 슬라이싱 가능."
      ],
      "metadata": {
        "id": "7zOTUW3wvHK2"
      }
    },
    {
      "cell_type": "code",
      "source": [
        "message = '안녕하세요, 여러분!'\n",
        "\n",
        "message[0:5]"
      ],
      "metadata": {
        "colab": {
          "base_uri": "https://localhost:8080/",
          "height": 35
        },
        "id": "juZzie3Gvheu",
        "outputId": "df6a2718-b004-4931-92d9-986482fe75fd"
      },
      "execution_count": 23,
      "outputs": [
        {
          "output_type": "execute_result",
          "data": {
            "text/plain": [
              "'안녕하세요'"
            ],
            "application/vnd.google.colaboratory.intrinsic+json": {
              "type": "string"
            }
          },
          "metadata": {},
          "execution_count": 23
        }
      ]
    },
    {
      "cell_type": "code",
      "source": [
        "message[-3:-9:-1]"
      ],
      "metadata": {
        "colab": {
          "base_uri": "https://localhost:8080/",
          "height": 35
        },
        "id": "_ejBilC2wcyi",
        "outputId": "f7c62290-fa8e-478a-fa55-030d0616a639"
      },
      "execution_count": 29,
      "outputs": [
        {
          "output_type": "execute_result",
          "data": {
            "text/plain": [
              "'러여 ,요세'"
            ],
            "application/vnd.google.colaboratory.intrinsic+json": {
              "type": "string"
            }
          },
          "metadata": {},
          "execution_count": 29
        }
      ]
    },
    {
      "cell_type": "code",
      "source": [
        "# 문자열 산술 연산 : +, *\n",
        "print('hello' + 'python')\n",
        "print('hello' * 3)"
      ],
      "metadata": {
        "colab": {
          "base_uri": "https://localhost:8080/"
        },
        "id": "R18aBlgfxI7_",
        "outputId": "fdf253cc-4d19-4ee0-96c4-d2b1ba87dc22"
      },
      "execution_count": 30,
      "outputs": [
        {
          "output_type": "stream",
          "name": "stdout",
          "text": [
            "hellopython\n",
            "hellohellohello\n"
          ]
        }
      ]
    },
    {
      "cell_type": "markdown",
      "source": [
        "# 리스트의 산술 연산\n",
        "\n",
        "* `list + list`\n",
        "* `list * int` 또는 `int * list`\n",
        "a = [1,2,3]\n",
        "b = [10,12,14]"
      ],
      "metadata": {
        "id": "dSf8bTBExRrF"
      }
    },
    {
      "cell_type": "code",
      "source": [
        "a = [1,2,3]\n",
        "b = [10,12,14]\n",
        "\n",
        "a+b # concatenate\n",
        "\n",
        "print(a*3)"
      ],
      "metadata": {
        "colab": {
          "base_uri": "https://localhost:8080/"
        },
        "id": "KN5J5RL5xd24",
        "outputId": "76a0d1b6-09c5-406a-b403-fbf688193f63"
      },
      "execution_count": 36,
      "outputs": [
        {
          "output_type": "stream",
          "name": "stdout",
          "text": [
            "[1, 2, 3, 1, 2, 3, 1, 2, 3]\n"
          ]
        }
      ]
    },
    {
      "cell_type": "code",
      "source": [
        "for x in 'hello':\n",
        "  print(x)"
      ],
      "metadata": {
        "colab": {
          "base_uri": "https://localhost:8080/"
        },
        "id": "U6JDY-mB2UQn",
        "outputId": "dcd7e17c-43fe-4ab8-972d-107c62c7900b"
      },
      "execution_count": 38,
      "outputs": [
        {
          "output_type": "stream",
          "name": "stdout",
          "text": [
            "h\n",
            "e\n",
            "l\n",
            "l\n",
            "o\n"
          ]
        }
      ]
    },
    {
      "cell_type": "code",
      "source": [
        "for x in numbers:\n",
        "  print(x)"
      ],
      "metadata": {
        "colab": {
          "base_uri": "https://localhost:8080/"
        },
        "id": "jOTCx5GW23aN",
        "outputId": "f4cfe973-9bbd-4711-bec5-c39e1c8cd64c"
      },
      "execution_count": 40,
      "outputs": [
        {
          "output_type": "stream",
          "name": "stdout",
          "text": [
            "1\n",
            "2\n",
            "3\n",
            "10\n",
            "20\n",
            "30\n"
          ]
        }
      ]
    },
    {
      "cell_type": "code",
      "source": [
        "for x, v in enumerate(numbers):\n",
        "  print(x,\":\",v)"
      ],
      "metadata": {
        "colab": {
          "base_uri": "https://localhost:8080/"
        },
        "id": "MYWcrjlD4dhN",
        "outputId": "8f5650b0-986e-4827-ddfe-450cd4536bc3"
      },
      "execution_count": 44,
      "outputs": [
        {
          "output_type": "stream",
          "name": "stdout",
          "text": [
            "0 : 1\n",
            "1 : 2\n",
            "2 : 3\n",
            "3 : 10\n",
            "4 : 20\n",
            "5 : 30\n"
          ]
        }
      ]
    },
    {
      "cell_type": "code",
      "source": [
        "numbers1 = [1,2,3]\n",
        "numbers2 = [10,11,12]\n",
        "\n",
        "# numbers1과 numbers2 의 같은 인덱스의 원소들끼리 합을 원소로 갖는 리스트\n",
        "# [11, 13, 15]\n",
        "\n",
        "result = [] # empty list\n",
        "\n",
        "for x in range(len(numbers1)):\n",
        "  result.insert(x,numbers1[x]+numbers2[x])\n",
        "\n",
        "print(result)\n",
        "\n",
        "result2 = []\n",
        "\n",
        "for i,j in enumerate(numbers1):\n",
        "  result2.append(j+numbers2[i])\n",
        "print(result2)"
      ],
      "metadata": {
        "colab": {
          "base_uri": "https://localhost:8080/"
        },
        "id": "-O8cFhoX6IqO",
        "outputId": "fe383d59-dfc3-46a8-9b93-eddf5e244e4a"
      },
      "execution_count": 47,
      "outputs": [
        {
          "output_type": "stream",
          "name": "stdout",
          "text": [
            "[11, 13, 15]\n",
            "[11, 13, 15]\n"
          ]
        }
      ]
    },
    {
      "cell_type": "code",
      "source": [
        "result3 = []\n",
        "\n",
        "for x,y in zip(numbers1,numbers2): # 같은 길이를 갖는 list 2개를 인수로 받아 같은 인덱스의 값을 순차적으로 리턴.\n",
        "  result3.append(x+y)\n",
        "\n",
        "print(result3)"
      ],
      "metadata": {
        "colab": {
          "base_uri": "https://localhost:8080/"
        },
        "id": "ZPRlnySy8mjT",
        "outputId": "1f5793d5-c2d6-4b15-a15c-6cb7f7b90353"
      },
      "execution_count": 48,
      "outputs": [
        {
          "output_type": "stream",
          "name": "stdout",
          "text": [
            "[11, 13, 15]\n"
          ]
        }
      ]
    },
    {
      "cell_type": "markdown",
      "source": [
        "파이썬에서 난수를 만드는 방법:"
      ],
      "metadata": {
        "id": "LcAT9xtk-DHv"
      }
    },
    {
      "cell_type": "code",
      "source": [
        "import random # random 모듈을 임포트"
      ],
      "metadata": {
        "id": "xJqGo7MY-Fxu"
      },
      "execution_count": 50,
      "outputs": []
    },
    {
      "cell_type": "code",
      "source": [
        "# Random 모듈의 random() 함수를 호출.\n",
        "random.random() # [0, 1) 범위(0 <= x < 1) 의 실수 난수"
      ],
      "metadata": {
        "colab": {
          "base_uri": "https://localhost:8080/"
        },
        "id": "CZY4A7AJ-JK5",
        "outputId": "77607a7f-b634-47c9-f54e-3ac04d5defeb"
      },
      "execution_count": 59,
      "outputs": [
        {
          "output_type": "execute_result",
          "data": {
            "text/plain": [
              "0.054679670025264526"
            ]
          },
          "metadata": {},
          "execution_count": 59
        }
      ]
    },
    {
      "cell_type": "code",
      "source": [
        "# random 모듈의 randrange() 함수를 호출.\n",
        "\n",
        "random.randrange(10) # [0,10) 범위의 정수 난수"
      ],
      "metadata": {
        "colab": {
          "base_uri": "https://localhost:8080/"
        },
        "id": "y6jJanXZ-_kA",
        "outputId": "9074f379-a2e4-497b-8b40-23305f825104"
      },
      "execution_count": 74,
      "outputs": [
        {
          "output_type": "execute_result",
          "data": {
            "text/plain": [
              "2"
            ]
          },
          "metadata": {},
          "execution_count": 74
        }
      ]
    },
    {
      "cell_type": "code",
      "source": [
        "random.randrange(1,4) # [1,4) 범위의 정수 난수"
      ],
      "metadata": {
        "colab": {
          "base_uri": "https://localhost:8080/"
        },
        "id": "RQZUOPLn_dzz",
        "outputId": "0255754b-2fd8-4e84-da2f-37dad4d69982"
      },
      "execution_count": 78,
      "outputs": [
        {
          "output_type": "execute_result",
          "data": {
            "text/plain": [
              "2"
            ]
          },
          "metadata": {},
          "execution_count": 78
        }
      ]
    },
    {
      "cell_type": "code",
      "source": [
        "random.randint(1,45) # [1,45] 범위(1<= x <= 45)의 정수 난수"
      ],
      "metadata": {
        "id": "oGhoTSlU_zc8"
      },
      "execution_count": null,
      "outputs": []
    },
    {
      "cell_type": "markdown",
      "source": [
        "#Exercises\n",
        "##Ex 1.\n",
        "* 빈 리스트를 생성.\n",
        "* 1 이상 10 이하의 정수 난수 5개를 저장.\n",
        "* 리스트의 모든 정수들의 합을 출력.\n",
        "* 리스트의 모든 정수들의 평균을 출력.\n",
        "##Ex 2.\n",
        "* 빈 리스트(numbers)를 생성.\n",
        "* 10 이상, 100 미만의 정수 난수 10개를 numbers에 저장.\n",
        "* numbers에서 짝수들만 선택해서 evens 리스트를 만들고 출력.\n",
        "* numbers에서 홀수들만 선택해서 odds 리스트를 만들고 출력.\n",
        "##Ex 3.\n",
        "* 빈 리스트 numbers를 만듦.\n",
        "* -10 이상 10 이하인 범위의 정수 난수 10개를 numbers에 저장.\n",
        "* numbers의 원소가 양수이면 True, 그렇지 않으면 False를 저장하는 is_positive * 리스트를 만들고 출력.\n",
        "##Ex 4.\n",
        "* gender_codes 리스트에 0 또는 1을 랜덤하게 10개를 저장.\n",
        "* gender_codes의 값이 0이면 'Male', 그렇지 않으며 'Female'을 저장하는 genders * 리스트를 만들고 출력.\n",
        "##Ex 5.\n",
        "* numbers1: 100 미만의 정수 난수 10개를 저장하는 리스트.\n",
        "* numbers2: 100 미만의 정수 난수 10개를 저장하는 리스트.\n",
        "\n",
        "* multiplication: numbers1과 numbers2의 같은 인덱스에 있는 원소들끼리의 곱셈\n",
        "* 결과를 저장하는 리스트.\n",
        "* subtraction: numbers1의 원소에서 같은 인덱스에 있는 numbers2의 원소를 뺀 값을 * 저장하는 리스트.\n",
        "* numbers1, numbers2, multiplication, subtraction를 출력."
      ],
      "metadata": {
        "id": "Ac7nYQ0QDD2E"
      }
    },
    {
      "cell_type": "code",
      "source": [
        "# 1 번 문제\n",
        "\n",
        "list1 = []\n",
        "sum1 = 0\n",
        "for x in range(5):\n",
        "  list1.append(random.randrange(1,11))\n",
        "  sum1 += list1[x]\n",
        "\n",
        "print(\"합계 :\",sum1)\n",
        "x = sum1/len(list1)\n",
        "print(f'평균 : {x}')"
      ],
      "metadata": {
        "colab": {
          "base_uri": "https://localhost:8080/"
        },
        "id": "CzTfsAGbDcT0",
        "outputId": "6fd6161a-36e9-4ccc-b62b-12624b4183be"
      },
      "execution_count": 81,
      "outputs": [
        {
          "output_type": "stream",
          "name": "stdout",
          "text": [
            "합계 : 33\n",
            "평균 : 6.6\n"
          ]
        }
      ]
    },
    {
      "cell_type": "code",
      "source": [
        "# 2 번 문제\n",
        "\n",
        "numbers1 = []\n",
        "evens = []\n",
        "odds = []\n",
        "for x in range(10):\n",
        "  numbers1.append(random.randrange(10,100))\n",
        "  if(numbers1[x]%2):\n",
        "    odds.append(numbers1[x])\n",
        "  else:\n",
        "    evens.append(numbers1[x])\n",
        "\n",
        "print('odds =',odds)\n",
        "print('evens =',evens)\n"
      ],
      "metadata": {
        "colab": {
          "base_uri": "https://localhost:8080/"
        },
        "id": "7eLXe0dDELPs",
        "outputId": "d2188431-857e-4b0b-dffb-3f070c59306b"
      },
      "execution_count": 83,
      "outputs": [
        {
          "output_type": "stream",
          "name": "stdout",
          "text": [
            "odds = [41, 35, 13, 29, 45, 65, 95]\n",
            "evens = [64, 12, 34]\n"
          ]
        }
      ]
    },
    {
      "cell_type": "code",
      "source": [
        "# 3 번 문제\n",
        "\n",
        "numbers2 = []\n",
        "is_positive = []\n",
        "for x in range(10):\n",
        "  numbers2.insert(x,random.randint(-10,10))\n",
        "  if(numbers2[x]>0):\n",
        "    is_positive.append(True)\n",
        "  else:\n",
        "    is_positive.append(False)\n",
        "print('is_positive =',is_positive)"
      ],
      "metadata": {
        "colab": {
          "base_uri": "https://localhost:8080/"
        },
        "id": "J3goeEgBE4aU",
        "outputId": "f17a4338-e566-49fe-a05c-14ddacc20a48"
      },
      "execution_count": 86,
      "outputs": [
        {
          "output_type": "stream",
          "name": "stdout",
          "text": [
            "is_positive = [True, False, True, True, False, False, True, False, True, False]\n"
          ]
        }
      ]
    },
    {
      "cell_type": "code",
      "source": [
        "# 4 번 문제\n",
        "\n",
        "gender_code = []\n",
        "genders = []\n",
        "for x in range(10):\n",
        "\n",
        "  gender_code.append(random.randrange(0,2))\n",
        "  if(gender_code[x]==1):\n",
        "    genders.append('FeMale')\n",
        "  else:\n",
        "    genders.append('Male')\n",
        "\n",
        "print(f'genders = {genders}')"
      ],
      "metadata": {
        "colab": {
          "base_uri": "https://localhost:8080/"
        },
        "id": "6OoHs5tOFkhE",
        "outputId": "876cb0e2-4ce2-4e55-de73-a8ea74d591e7"
      },
      "execution_count": 94,
      "outputs": [
        {
          "output_type": "stream",
          "name": "stdout",
          "text": [
            "genders = ['FeMale', 'FeMale', 'Male', 'Male', 'FeMale', 'FeMale', 'FeMale', 'FeMale', 'Male', 'FeMale']\n"
          ]
        }
      ]
    },
    {
      "cell_type": "code",
      "source": [
        "# 5 번 문제\n",
        "\n",
        "numbers3 = []\n",
        "numbers4 = []\n",
        "multiplication = []\n",
        "subtraction = []\n",
        "\n",
        "for x in range(10):\n",
        "  numbers3.append(random.randrange(100))\n",
        "  numbers4.append(random.randrange(100))\n",
        "  multiplication.append(numbers3[x]*numbers4[x])\n",
        "  subtraction.append(numbers3[x]-numbers4[x])\n",
        "\n",
        "print(f'numbers3 = {numbers3}')\n",
        "print(f'numbers4 = {numbers4}')\n",
        "print(f'multiplication = {multiplication}')\n",
        "print(f'subtraction = {subtraction}')"
      ],
      "metadata": {
        "colab": {
          "base_uri": "https://localhost:8080/"
        },
        "id": "bcR8A3y0GPRr",
        "outputId": "8e39d137-94b7-4db3-c0c6-d395a52f3410"
      },
      "execution_count": 96,
      "outputs": [
        {
          "output_type": "stream",
          "name": "stdout",
          "text": [
            "numbers3 = [74, 23, 65, 66, 87, 19, 71, 90, 54, 74]\n",
            "numbers4 = [52, 63, 45, 23, 79, 88, 96, 52, 78, 19]\n",
            "multiplication = [3848, 1449, 2925, 1518, 6873, 1672, 6816, 4680, 4212, 1406]\n",
            "subtraction = [22, -40, 20, 43, 8, -69, -25, 38, -24, 55]\n"
          ]
        }
      ]
    }
  ]
}