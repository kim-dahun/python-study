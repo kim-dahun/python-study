{
  "nbformat": 4,
  "nbformat_minor": 0,
  "metadata": {
    "colab": {
      "provenance": [],
      "toc_visible": true,
      "authorship_tag": "ABX9TyPR/i8LSr+unrmyAN5hTWDp",
      "include_colab_link": true
    },
    "kernelspec": {
      "name": "python3",
      "display_name": "Python 3"
    },
    "language_info": {
      "name": "python"
    }
  },
  "cells": [
    {
      "cell_type": "markdown",
      "metadata": {
        "id": "view-in-github",
        "colab_type": "text"
      },
      "source": [
        "<a href=\"https://colab.research.google.com/github/kim-dahun/python-study/blob/main/py01_intro.ipynb\" target=\"_parent\"><img src=\"https://colab.research.google.com/assets/colab-badge.svg\" alt=\"Open In Colab\"/></a>"
      ]
    },
    {
      "cell_type": "markdown",
      "source": [
        "# 파이썬 버전 표시"
      ],
      "metadata": {
        "id": "pEBzkKGr8od4"
      }
    },
    {
      "cell_type": "code",
      "source": [
        "!python --version"
      ],
      "metadata": {
        "colab": {
          "base_uri": "https://localhost:8080/"
        },
        "id": "FpoK3jfP8iOJ",
        "outputId": "f431055d-d893-4c68-c7d6-ce21fc2bb0b4"
      },
      "execution_count": null,
      "outputs": [
        {
          "output_type": "stream",
          "name": "stdout",
          "text": [
            "Python 3.10.12\n"
          ]
        }
      ]
    },
    {
      "cell_type": "markdown",
      "source": [
        "셀에서 명령창(command prompt)에서 실행하는 명령어를 작성하고 실행할 때는 !로 시작."
      ],
      "metadata": {
        "id": "mKF9oPfd9IjN"
      }
    },
    {
      "cell_type": "code",
      "source": [
        "# inline comment(주석)\n",
        "print('안녕하세요, Python!')  # 파이썬 문장은 세미콜론을 사용하지 않음."
      ],
      "metadata": {
        "colab": {
          "base_uri": "https://localhost:8080/"
        },
        "id": "OhB43NIm8zZu",
        "outputId": "2724f36c-4ddd-4b97-95cc-db56e5cc84c1"
      },
      "execution_count": null,
      "outputs": [
        {
          "output_type": "stream",
          "name": "stdout",
          "text": [
            "안녕하세요, Python!\n"
          ]
        }
      ]
    },
    {
      "cell_type": "markdown",
      "source": [
        "# 코드 셀 실행 방법\n",
        "\n",
        "\n",
        "\n",
        "*   코드셀 왼쪽의 실행 버튼을 클릭\n",
        "*   Ctrl + Enter : 현재 포커스가 있는 코드셀을 실행.\n",
        "*   Shift + Enter : 현재 포커스가 있는 코드셀을 실행하고, 그 다음 셀로 포커스를 이동\n",
        "  *   현재 셀 아래에 다음 셀이 없는 경우 : 새로운 코드 셀을 생성한다.\n",
        "* 런타임 메뉴\n"
      ],
      "metadata": {
        "id": "6Yr5TBZSZSrj"
      }
    },
    {
      "cell_type": "code",
      "source": [
        "print('hello python')"
      ],
      "metadata": {
        "colab": {
          "base_uri": "https://localhost:8080/"
        },
        "id": "YM00ExUxZsKd",
        "outputId": "03168f12-6a80-4a24-b85a-d10ca0d79d34"
      },
      "execution_count": 7,
      "outputs": [
        {
          "output_type": "stream",
          "name": "stdout",
          "text": [
            "hello python\n"
          ]
        }
      ]
    },
    {
      "cell_type": "markdown",
      "source": [
        "#print() 함수"
      ],
      "metadata": {
        "id": "Xr91YApubsSF"
      }
    },
    {
      "cell_type": "code",
      "source": [
        "x=1\n",
        "print('hello',x,'번 손님')"
      ],
      "metadata": {
        "colab": {
          "base_uri": "https://localhost:8080/"
        },
        "id": "tVmZIhfHb-K6",
        "outputId": "1721228e-7f4a-40aa-d8f9-e065eb5a2f45"
      },
      "execution_count": 12,
      "outputs": [
        {
          "output_type": "stream",
          "name": "stdout",
          "text": [
            "hello 1 번 손님\n"
          ]
        }
      ]
    },
    {
      "cell_type": "markdown",
      "source": [
        "`print()` 함수에 argument를 여러 개 전달하면, argument들을 공백으로 연결해서 콘솔에 출력함."
      ],
      "metadata": {
        "id": "vwOeQ8WvcfYS"
      }
    },
    {
      "cell_type": "markdown",
      "source": [
        "## `format()` 메서드를 사용한 출력"
      ],
      "metadata": {
        "id": "HpbXzSUhbkW6"
      }
    },
    {
      "cell_type": "code",
      "source": [
        "print('{} + {} = {}'.format(1,3,4))"
      ],
      "metadata": {
        "colab": {
          "base_uri": "https://localhost:8080/"
        },
        "id": "Nf-maciFa-V_",
        "outputId": "9b966235-f93f-4fc3-c6f4-e8e667b36e37"
      },
      "execution_count": 14,
      "outputs": [
        {
          "output_type": "stream",
          "name": "stdout",
          "text": [
            "1 + 3 = 4\n"
          ]
        }
      ]
    },
    {
      "cell_type": "markdown",
      "source": [
        "## formatted String을 사용한 출력\n",
        "\n",
        "Python 3.6 이상의 버전에서 사용할 수 있음"
      ],
      "metadata": {
        "id": "9oGhfrM8diFZ"
      }
    },
    {
      "cell_type": "code",
      "source": [
        "# 변수 이름 = 값\n",
        "x = 1\n",
        "y = 2\n",
        "print(f'{x}+{y}={x+y}')"
      ],
      "metadata": {
        "colab": {
          "base_uri": "https://localhost:8080/"
        },
        "id": "7iP98Y93dHXw",
        "outputId": "e0a9dc0f-a8b6-4990-e3cd-55e944885cda"
      },
      "execution_count": 21,
      "outputs": [
        {
          "output_type": "stream",
          "name": "stdout",
          "text": [
            "1+2=3\n"
          ]
        }
      ]
    },
    {
      "cell_type": "markdown",
      "source": [
        "## ipynb 노트북에서의 콘솔 출력\n",
        "\n",
        "* 식(expression): 값(value), 변수이름(variable name), 연산식, 함수 호출\n",
        "  * x, x + y, print()\n",
        "* 문장(statement) : 코드의 최소 실행 단위\n",
        "  * z = x + y, result = add(x,y)\n",
        "* ipynb 노트북 코드셀에서 가장 마지막 줄에 있는 문장이 식(expression) 이면, 그 식을 평가한 결과를 콘솔에 출력해 줌.\n",
        "  * 마지막 줄에서는 print() 함수 호출하지 않아도 출력됨."
      ],
      "metadata": {
        "id": "7gkT74mIfBFp"
      }
    },
    {
      "cell_type": "code",
      "source": [
        "x = 1\n",
        "print(f'x={x}')\n",
        "y = 2\n",
        "# x + y"
      ],
      "metadata": {
        "colab": {
          "base_uri": "https://localhost:8080/"
        },
        "id": "bKqupH08ggyn",
        "outputId": "ef2f7bc0-a48b-4f46-e730-a6eadd4dbee4"
      },
      "execution_count": 27,
      "outputs": [
        {
          "output_type": "stream",
          "name": "stdout",
          "text": [
            "x=1\n"
          ]
        },
        {
          "output_type": "execute_result",
          "data": {
            "text/plain": [
              "3"
            ]
          },
          "metadata": {},
          "execution_count": 27
        }
      ]
    }
  ]
}