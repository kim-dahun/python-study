{
  "nbformat": 4,
  "nbformat_minor": 0,
  "metadata": {
    "colab": {
      "provenance": [],
      "authorship_tag": "ABX9TyOy+h4yaPsfNloe4jA+XRP8",
      "include_colab_link": true
    },
    "kernelspec": {
      "name": "python3",
      "display_name": "Python 3"
    },
    "language_info": {
      "name": "python"
    }
  },
  "cells": [
    {
      "cell_type": "markdown",
      "metadata": {
        "id": "view-in-github",
        "colab_type": "text"
      },
      "source": [
        "<a href=\"https://colab.research.google.com/github/kim-dahun/python-study/blob/main/py14_pandas.ipynb\" target=\"_parent\"><img src=\"https://colab.research.google.com/assets/colab-badge.svg\" alt=\"Open In Colab\"/></a>"
      ]
    },
    {
      "cell_type": "markdown",
      "source": [
        "# 패키지 임포트\n",
        "\n"
      ],
      "metadata": {
        "id": "yJmyvX82n0PC"
      }
    },
    {
      "cell_type": "code",
      "execution_count": 1,
      "metadata": {
        "id": "UXiJpcYJnnKd"
      },
      "outputs": [],
      "source": [
        "import numpy as np\n",
        "import pandas as pd\n"
      ]
    },
    {
      "cell_type": "markdown",
      "source": [
        "# Series\n",
        "\n",
        "* 한 가지 타입의 여러 개의 값들을 저장할 수 있는 1차원 모양의 데이터 타입.(클래스)\n",
        "* 축 레이블(axis label)을 가지고 있는 1차원 배열(ndarray)"
      ],
      "metadata": {
        "id": "XfRFuFbxoNNb"
      }
    },
    {
      "cell_type": "code",
      "source": [
        "s = pd.Series(data=[1,2,-3,-4,5,-6])"
      ],
      "metadata": {
        "id": "LiopVWvEn_TF"
      },
      "execution_count": 2,
      "outputs": []
    },
    {
      "cell_type": "code",
      "source": [
        "s.sum(axis=0)"
      ],
      "metadata": {
        "colab": {
          "base_uri": "https://localhost:8080/"
        },
        "id": "2ruvm-nEpBxJ",
        "outputId": "cc9d8679-c0a5-483a-b43b-6b711bfccf95"
      },
      "execution_count": 3,
      "outputs": [
        {
          "output_type": "execute_result",
          "data": {
            "text/plain": [
              "-5"
            ]
          },
          "metadata": {},
          "execution_count": 3
        }
      ]
    },
    {
      "cell_type": "code",
      "source": [
        "type(s)"
      ],
      "metadata": {
        "colab": {
          "base_uri": "https://localhost:8080/"
        },
        "id": "OtsUUmTzpEXZ",
        "outputId": "50499a23-ef58-4156-810f-fb9cb8c9fa17"
      },
      "execution_count": 4,
      "outputs": [
        {
          "output_type": "execute_result",
          "data": {
            "text/plain": [
              "pandas.core.series.Series"
            ]
          },
          "metadata": {},
          "execution_count": 4
        }
      ]
    },
    {
      "cell_type": "code",
      "source": [
        "print(s)"
      ],
      "metadata": {
        "colab": {
          "base_uri": "https://localhost:8080/"
        },
        "id": "tr9p5OfHpKYu",
        "outputId": "15eff000-4c64-4e4c-b623-f853f869c496"
      },
      "execution_count": 5,
      "outputs": [
        {
          "output_type": "stream",
          "name": "stdout",
          "text": [
            "0    1\n",
            "1    2\n",
            "2   -3\n",
            "3   -4\n",
            "4    5\n",
            "5   -6\n",
            "dtype: int64\n"
          ]
        }
      ]
    },
    {
      "cell_type": "markdown",
      "source": [
        "## Series 속성(attribute)"
      ],
      "metadata": {
        "id": "zFxL4fBDqYiC"
      }
    },
    {
      "cell_type": "code",
      "source": [
        "s.values # Series의 값들로 이루어진 ndarray"
      ],
      "metadata": {
        "colab": {
          "base_uri": "https://localhost:8080/"
        },
        "id": "6rUzbnYQpuc0",
        "outputId": "0180a70d-e23d-4bb9-ad20-08a58f343f8d"
      },
      "execution_count": 6,
      "outputs": [
        {
          "output_type": "execute_result",
          "data": {
            "text/plain": [
              "array([ 1,  2, -3, -4,  5, -6])"
            ]
          },
          "metadata": {},
          "execution_count": 6
        }
      ]
    },
    {
      "cell_type": "code",
      "source": [
        "s.index"
      ],
      "metadata": {
        "colab": {
          "base_uri": "https://localhost:8080/"
        },
        "id": "bbKDrm33qdvq",
        "outputId": "8dce0b2a-e877-4d9a-b2c1-665ec46c0489"
      },
      "execution_count": 7,
      "outputs": [
        {
          "output_type": "execute_result",
          "data": {
            "text/plain": [
              "RangeIndex(start=0, stop=6, step=1)"
            ]
          },
          "metadata": {},
          "execution_count": 7
        }
      ]
    },
    {
      "cell_type": "code",
      "source": [
        "s = pd.Series(data=[1,2,3],index=['a','b','c'])"
      ],
      "metadata": {
        "id": "ODG0LRKVqelk"
      },
      "execution_count": 8,
      "outputs": []
    },
    {
      "cell_type": "code",
      "source": [
        "print(s)"
      ],
      "metadata": {
        "colab": {
          "base_uri": "https://localhost:8080/"
        },
        "id": "yVPzM2L1q31c",
        "outputId": "ba508130-ccb4-4162-d3e2-7a6d1794a6b6"
      },
      "execution_count": 10,
      "outputs": [
        {
          "output_type": "stream",
          "name": "stdout",
          "text": [
            "a    1\n",
            "b    2\n",
            "c    3\n",
            "dtype: int64\n"
          ]
        }
      ]
    },
    {
      "cell_type": "code",
      "source": [
        "s.index"
      ],
      "metadata": {
        "colab": {
          "base_uri": "https://localhost:8080/"
        },
        "id": "IiBK89noq4L2",
        "outputId": "af17018c-7191-4b47-d96f-6d5201670a35"
      },
      "execution_count": 11,
      "outputs": [
        {
          "output_type": "execute_result",
          "data": {
            "text/plain": [
              "Index(['a', 'b', 'c'], dtype='object')"
            ]
          },
          "metadata": {},
          "execution_count": 11
        }
      ]
    },
    {
      "cell_type": "markdown",
      "source": [
        "## indexing, slicing\n",
        "\n",
        "* `iloc` : Integer Location 정수 인덱스(ndarray의 기본인덱스) 기반으로 원소를 참조하는 방법.\n",
        "* `loc` : location. 레이블 기반의 원소 참조 또는 슬라이싱"
      ],
      "metadata": {
        "id": "rTIxEo-qrYNY"
      }
    },
    {
      "cell_type": "code",
      "source": [
        "np.random.seed(2)\n",
        "s1 = pd.Series(data=np.random.randint(-10,10, size=6))"
      ],
      "metadata": {
        "id": "dHrMv_jIrC7K"
      },
      "execution_count": 14,
      "outputs": []
    },
    {
      "cell_type": "code",
      "source": [
        "s1"
      ],
      "metadata": {
        "colab": {
          "base_uri": "https://localhost:8080/"
        },
        "id": "j6ufa5XqtgU2",
        "outputId": "a5fd27b4-1932-4433-c236-d68e335059ee"
      },
      "execution_count": 15,
      "outputs": [
        {
          "output_type": "execute_result",
          "data": {
            "text/plain": [
              "0   -2\n",
              "1    5\n",
              "2    3\n",
              "3   -2\n",
              "4    1\n",
              "5    8\n",
              "dtype: int64"
            ]
          },
          "metadata": {},
          "execution_count": 15
        }
      ]
    },
    {
      "cell_type": "code",
      "source": [
        "print(s1.iloc[0])\n",
        "print(s1.iloc[-1])"
      ],
      "metadata": {
        "colab": {
          "base_uri": "https://localhost:8080/"
        },
        "id": "AzDsko-mt4Kn",
        "outputId": "1da94004-679f-4691-e500-8a22aabc17b1"
      },
      "execution_count": 16,
      "outputs": [
        {
          "output_type": "stream",
          "name": "stdout",
          "text": [
            "-2\n",
            "8\n"
          ]
        }
      ]
    },
    {
      "cell_type": "code",
      "source": [
        "# iloc를 사용한 슬라이싱\n",
        "print(s1.iloc[0:3]) # Series에서 첫 3개 원소 자르기"
      ],
      "metadata": {
        "colab": {
          "base_uri": "https://localhost:8080/"
        },
        "id": "Cm5aSoHot_d5",
        "outputId": "0e0343c7-55d0-4a18-a5a2-0869822763b6"
      },
      "execution_count": 17,
      "outputs": [
        {
          "output_type": "stream",
          "name": "stdout",
          "text": [
            "0   -2\n",
            "1    5\n",
            "2    3\n",
            "dtype: int64\n"
          ]
        }
      ]
    },
    {
      "cell_type": "code",
      "source": [
        "print(s1.iloc[-3:]) # Series에서 마지막 3개 원소 자르기"
      ],
      "metadata": {
        "colab": {
          "base_uri": "https://localhost:8080/"
        },
        "id": "8Rn6525yuWW2",
        "outputId": "c3f97e00-7fdf-4100-d56b-47ea7d726389"
      },
      "execution_count": 19,
      "outputs": [
        {
          "output_type": "stream",
          "name": "stdout",
          "text": [
            "3   -2\n",
            "4    1\n",
            "5    8\n",
            "dtype: int64\n"
          ]
        }
      ]
    },
    {
      "cell_type": "code",
      "source": [
        "# loc를 사용한 인덱싱\n",
        "print(s1.loc[0]) # Series의 첫번쨰 원소"
      ],
      "metadata": {
        "colab": {
          "base_uri": "https://localhost:8080/"
        },
        "id": "LbYXbsOUud_O",
        "outputId": "a215e348-9cd8-40f1-80f8-07660ed96c08"
      },
      "execution_count": 20,
      "outputs": [
        {
          "output_type": "stream",
          "name": "stdout",
          "text": [
            "-2\n"
          ]
        }
      ]
    },
    {
      "cell_type": "code",
      "source": [
        "# -1, -2 인덱스는 없기 때문에 loc로는 음수인덱스 사용 불가. s1.loc[-1]"
      ],
      "metadata": {
        "id": "vBK0hBm1vqjh"
      },
      "execution_count": 22,
      "outputs": []
    },
    {
      "cell_type": "code",
      "source": [
        "# loc를 사용한 슬라이싱\n",
        "print(s1.loc[0:2])"
      ],
      "metadata": {
        "colab": {
          "base_uri": "https://localhost:8080/"
        },
        "id": "wbt7UiBHvtTl",
        "outputId": "a80f7eb6-93c2-42cf-f219-8565be79e46d"
      },
      "execution_count": 23,
      "outputs": [
        {
          "output_type": "stream",
          "name": "stdout",
          "text": [
            "0   -2\n",
            "1    5\n",
            "2    3\n",
            "dtype: int64\n"
          ]
        }
      ]
    },
    {
      "cell_type": "code",
      "source": [
        "np.random.seed(42)\n",
        "s2 = pd.Series(data=np.random.randint(-10,11,size=6), index=['a','b','c','d','e','f'])\n",
        "\n",
        "s2"
      ],
      "metadata": {
        "colab": {
          "base_uri": "https://localhost:8080/"
        },
        "id": "Z7sLTm_AwBwR",
        "outputId": "793fff23-9db3-4f7c-dcf5-e578a64428a7"
      },
      "execution_count": 24,
      "outputs": [
        {
          "output_type": "execute_result",
          "data": {
            "text/plain": [
              "a    -4\n",
              "b     9\n",
              "c     4\n",
              "d     0\n",
              "e    -3\n",
              "f    10\n",
              "dtype: int64"
            ]
          },
          "metadata": {},
          "execution_count": 24
        }
      ]
    },
    {
      "cell_type": "code",
      "source": [
        "s2.iloc[0]"
      ],
      "metadata": {
        "colab": {
          "base_uri": "https://localhost:8080/"
        },
        "id": "8kJFIWnew5z8",
        "outputId": "0716fc40-4813-494d-86cf-e2a3736f3aa1"
      },
      "execution_count": 25,
      "outputs": [
        {
          "output_type": "execute_result",
          "data": {
            "text/plain": [
              "-4"
            ]
          },
          "metadata": {},
          "execution_count": 25
        }
      ]
    },
    {
      "cell_type": "code",
      "source": [
        "s2.iloc[-1]"
      ],
      "metadata": {
        "colab": {
          "base_uri": "https://localhost:8080/"
        },
        "id": "6qaODg67xECh",
        "outputId": "7f5f27de-38e8-4a65-df39-e50f4d4c9e46"
      },
      "execution_count": 26,
      "outputs": [
        {
          "output_type": "execute_result",
          "data": {
            "text/plain": [
              "10"
            ]
          },
          "metadata": {},
          "execution_count": 26
        }
      ]
    },
    {
      "cell_type": "code",
      "source": [
        "s2.iloc[:3]"
      ],
      "metadata": {
        "colab": {
          "base_uri": "https://localhost:8080/"
        },
        "id": "Zba2U7pkxF6M",
        "outputId": "ca84d351-bd66-4a51-96d0-a6459669ddb8"
      },
      "execution_count": 28,
      "outputs": [
        {
          "output_type": "execute_result",
          "data": {
            "text/plain": [
              "a   -4\n",
              "b    9\n",
              "c    4\n",
              "dtype: int64"
            ]
          },
          "metadata": {},
          "execution_count": 28
        }
      ]
    },
    {
      "cell_type": "code",
      "source": [
        "s2.loc[:'c']"
      ],
      "metadata": {
        "colab": {
          "base_uri": "https://localhost:8080/"
        },
        "id": "EQtaTpYexOSw",
        "outputId": "571727f4-55ff-4626-b827-b69b5e98de5b"
      },
      "execution_count": 29,
      "outputs": [
        {
          "output_type": "execute_result",
          "data": {
            "text/plain": [
              "a   -4\n",
              "b    9\n",
              "c    4\n",
              "dtype: int64"
            ]
          },
          "metadata": {},
          "execution_count": 29
        }
      ]
    },
    {
      "cell_type": "code",
      "source": [
        "s2.loc['f']"
      ],
      "metadata": {
        "colab": {
          "base_uri": "https://localhost:8080/"
        },
        "id": "I2DRQOO9xxp1",
        "outputId": "f63746b1-139d-4f58-af1d-95e1e89606e0"
      },
      "execution_count": 30,
      "outputs": [
        {
          "output_type": "execute_result",
          "data": {
            "text/plain": [
              "10"
            ]
          },
          "metadata": {},
          "execution_count": 30
        }
      ]
    },
    {
      "cell_type": "code",
      "source": [
        "s2.loc[['a','b','c']] # loc 속성을 사용한 fancy indexing"
      ],
      "metadata": {
        "colab": {
          "base_uri": "https://localhost:8080/"
        },
        "id": "IklbVJmYxyv-",
        "outputId": "470d4bc1-f227-4659-d3b3-5c16afd4b436"
      },
      "execution_count": 31,
      "outputs": [
        {
          "output_type": "execute_result",
          "data": {
            "text/plain": [
              "a   -4\n",
              "b    9\n",
              "c    4\n",
              "dtype: int64"
            ]
          },
          "metadata": {},
          "execution_count": 31
        }
      ]
    },
    {
      "cell_type": "code",
      "source": [
        "s2.iloc[[0,2,4]] # iloc 속성을 이용한 fancy indexing"
      ],
      "metadata": {
        "colab": {
          "base_uri": "https://localhost:8080/"
        },
        "id": "O-oC9AaE1SoW",
        "outputId": "c78d0f83-448d-4863-d4b2-b3de57d1f97e"
      },
      "execution_count": 32,
      "outputs": [
        {
          "output_type": "execute_result",
          "data": {
            "text/plain": [
              "a   -4\n",
              "c    4\n",
              "e   -3\n",
              "dtype: int64"
            ]
          },
          "metadata": {},
          "execution_count": 32
        }
      ]
    },
    {
      "cell_type": "code",
      "source": [
        "s2 > 0"
      ],
      "metadata": {
        "colab": {
          "base_uri": "https://localhost:8080/"
        },
        "id": "Aan7Y9eZ1WYH",
        "outputId": "16190caa-454f-42bd-9bdb-1c78c6d2f868"
      },
      "execution_count": 33,
      "outputs": [
        {
          "output_type": "execute_result",
          "data": {
            "text/plain": [
              "a    False\n",
              "b     True\n",
              "c     True\n",
              "d    False\n",
              "e    False\n",
              "f     True\n",
              "dtype: bool"
            ]
          },
          "metadata": {},
          "execution_count": 33
        }
      ]
    },
    {
      "cell_type": "code",
      "source": [
        "s2.loc[s2>0]"
      ],
      "metadata": {
        "colab": {
          "base_uri": "https://localhost:8080/"
        },
        "id": "0amETcOW11jc",
        "outputId": "27178632-2ceb-4bd7-d4e2-a5ecb5812b09"
      },
      "execution_count": 34,
      "outputs": [
        {
          "output_type": "execute_result",
          "data": {
            "text/plain": [
              "b     9\n",
              "c     4\n",
              "f    10\n",
              "dtype: int64"
            ]
          },
          "metadata": {},
          "execution_count": 34
        }
      ]
    },
    {
      "cell_type": "markdown",
      "source": [
        "# DataFrame\n",
        "\n",
        "* 데이터를 2차원(행 row, 열 column) 형태로 저장하는 데이터 타입(클래스)\n",
        "* 데이터 베이스의 테이블과 비슷한 구조.\n",
        "* DataFrame 에서 컬럼은 Series 타입."
      ],
      "metadata": {
        "id": "ZvDpAQ3Z2WDb"
      }
    },
    {
      "cell_type": "code",
      "source": [
        "# dict\n",
        "\n",
        "data = {\n",
        "    'city' : ['서울'] * 3 + ['경기'] * 3,\n",
        "    'year' : [2021,2022,2023] * 2,\n",
        "    'pop' : np.random.random(size=6)\n",
        "}"
      ],
      "metadata": {
        "id": "eV8pp3Nb2UyY"
      },
      "execution_count": 35,
      "outputs": []
    },
    {
      "cell_type": "code",
      "source": [
        "data"
      ],
      "metadata": {
        "colab": {
          "base_uri": "https://localhost:8080/"
        },
        "id": "zNBMK_2P3lEz",
        "outputId": "36e97a7e-d878-4df8-a6ea-860d94044446"
      },
      "execution_count": 36,
      "outputs": [
        {
          "output_type": "execute_result",
          "data": {
            "text/plain": [
              "{'city': ['서울', '서울', '서울', '경기', '경기', '경기'],\n",
              " 'year': [2021, 2022, 2023, 2021, 2022, 2023],\n",
              " 'pop': array([0.15601864, 0.15599452, 0.05808361, 0.86617615, 0.60111501,\n",
              "        0.70807258])}"
            ]
          },
          "metadata": {},
          "execution_count": 36
        }
      ]
    },
    {
      "cell_type": "code",
      "source": [
        "x = pd.DataFrame(data = data)"
      ],
      "metadata": {
        "id": "ykEdIZnw3lrE"
      },
      "execution_count": 38,
      "outputs": []
    },
    {
      "cell_type": "code",
      "source": [
        "x"
      ],
      "metadata": {
        "colab": {
          "base_uri": "https://localhost:8080/",
          "height": 1000
        },
        "id": "E2064Q3431M0",
        "outputId": "a4138586-1855-48b0-dfe9-3f33f4fea233"
      },
      "execution_count": 39,
      "outputs": [
        {
          "output_type": "execute_result",
          "data": {
            "text/plain": [
              "  city  year       pop\n",
              "0   서울  2021  0.156019\n",
              "1   서울  2022  0.155995\n",
              "2   서울  2023  0.058084\n",
              "3   경기  2021  0.866176\n",
              "4   경기  2022  0.601115\n",
              "5   경기  2023  0.708073"
            ],
            "text/html": [
              "\n",
              "\n",
              "  <div id=\"df-fa9a794d-1686-49b6-9056-2adb1d300d3b\">\n",
              "    <div class=\"colab-df-container\">\n",
              "      <div>\n",
              "<style scoped>\n",
              "    .dataframe tbody tr th:only-of-type {\n",
              "        vertical-align: middle;\n",
              "    }\n",
              "\n",
              "    .dataframe tbody tr th {\n",
              "        vertical-align: top;\n",
              "    }\n",
              "\n",
              "    .dataframe thead th {\n",
              "        text-align: right;\n",
              "    }\n",
              "</style>\n",
              "<table border=\"1\" class=\"dataframe\">\n",
              "  <thead>\n",
              "    <tr style=\"text-align: right;\">\n",
              "      <th></th>\n",
              "      <th>city</th>\n",
              "      <th>year</th>\n",
              "      <th>pop</th>\n",
              "    </tr>\n",
              "  </thead>\n",
              "  <tbody>\n",
              "    <tr>\n",
              "      <th>0</th>\n",
              "      <td>서울</td>\n",
              "      <td>2021</td>\n",
              "      <td>0.156019</td>\n",
              "    </tr>\n",
              "    <tr>\n",
              "      <th>1</th>\n",
              "      <td>서울</td>\n",
              "      <td>2022</td>\n",
              "      <td>0.155995</td>\n",
              "    </tr>\n",
              "    <tr>\n",
              "      <th>2</th>\n",
              "      <td>서울</td>\n",
              "      <td>2023</td>\n",
              "      <td>0.058084</td>\n",
              "    </tr>\n",
              "    <tr>\n",
              "      <th>3</th>\n",
              "      <td>경기</td>\n",
              "      <td>2021</td>\n",
              "      <td>0.866176</td>\n",
              "    </tr>\n",
              "    <tr>\n",
              "      <th>4</th>\n",
              "      <td>경기</td>\n",
              "      <td>2022</td>\n",
              "      <td>0.601115</td>\n",
              "    </tr>\n",
              "    <tr>\n",
              "      <th>5</th>\n",
              "      <td>경기</td>\n",
              "      <td>2023</td>\n",
              "      <td>0.708073</td>\n",
              "    </tr>\n",
              "  </tbody>\n",
              "</table>\n",
              "</div>\n",
              "      <button class=\"colab-df-convert\" onclick=\"convertToInteractive('df-fa9a794d-1686-49b6-9056-2adb1d300d3b')\"\n",
              "              title=\"Convert this dataframe to an interactive table.\"\n",
              "              style=\"display:none;\">\n",
              "\n",
              "  <svg xmlns=\"http://www.w3.org/2000/svg\" height=\"24px\"viewBox=\"0 0 24 24\"\n",
              "       width=\"24px\">\n",
              "    <path d=\"M0 0h24v24H0V0z\" fill=\"none\"/>\n",
              "    <path d=\"M18.56 5.44l.94 2.06.94-2.06 2.06-.94-2.06-.94-.94-2.06-.94 2.06-2.06.94zm-11 1L8.5 8.5l.94-2.06 2.06-.94-2.06-.94L8.5 2.5l-.94 2.06-2.06.94zm10 10l.94 2.06.94-2.06 2.06-.94-2.06-.94-.94-2.06-.94 2.06-2.06.94z\"/><path d=\"M17.41 7.96l-1.37-1.37c-.4-.4-.92-.59-1.43-.59-.52 0-1.04.2-1.43.59L10.3 9.45l-7.72 7.72c-.78.78-.78 2.05 0 2.83L4 21.41c.39.39.9.59 1.41.59.51 0 1.02-.2 1.41-.59l7.78-7.78 2.81-2.81c.8-.78.8-2.07 0-2.86zM5.41 20L4 18.59l7.72-7.72 1.47 1.35L5.41 20z\"/>\n",
              "  </svg>\n",
              "      </button>\n",
              "\n",
              "\n",
              "\n",
              "    <div id=\"df-58b07fe2-8ca9-41be-8005-be43019ba3a1\">\n",
              "      <button class=\"colab-df-quickchart\" onclick=\"quickchart('df-58b07fe2-8ca9-41be-8005-be43019ba3a1')\"\n",
              "              title=\"Suggest charts.\"\n",
              "              style=\"display:none;\">\n",
              "\n",
              "<svg xmlns=\"http://www.w3.org/2000/svg\" height=\"24px\"viewBox=\"0 0 24 24\"\n",
              "     width=\"24px\">\n",
              "    <g>\n",
              "        <path d=\"M19 3H5c-1.1 0-2 .9-2 2v14c0 1.1.9 2 2 2h14c1.1 0 2-.9 2-2V5c0-1.1-.9-2-2-2zM9 17H7v-7h2v7zm4 0h-2V7h2v10zm4 0h-2v-4h2v4z\"/>\n",
              "    </g>\n",
              "</svg>\n",
              "      </button>\n",
              "    </div>\n",
              "\n",
              "<style>\n",
              "  .colab-df-quickchart {\n",
              "    background-color: #E8F0FE;\n",
              "    border: none;\n",
              "    border-radius: 50%;\n",
              "    cursor: pointer;\n",
              "    display: none;\n",
              "    fill: #1967D2;\n",
              "    height: 32px;\n",
              "    padding: 0 0 0 0;\n",
              "    width: 32px;\n",
              "  }\n",
              "\n",
              "  .colab-df-quickchart:hover {\n",
              "    background-color: #E2EBFA;\n",
              "    box-shadow: 0px 1px 2px rgba(60, 64, 67, 0.3), 0px 1px 3px 1px rgba(60, 64, 67, 0.15);\n",
              "    fill: #174EA6;\n",
              "  }\n",
              "\n",
              "  [theme=dark] .colab-df-quickchart {\n",
              "    background-color: #3B4455;\n",
              "    fill: #D2E3FC;\n",
              "  }\n",
              "\n",
              "  [theme=dark] .colab-df-quickchart:hover {\n",
              "    background-color: #434B5C;\n",
              "    box-shadow: 0px 1px 3px 1px rgba(0, 0, 0, 0.15);\n",
              "    filter: drop-shadow(0px 1px 2px rgba(0, 0, 0, 0.3));\n",
              "    fill: #FFFFFF;\n",
              "  }\n",
              "</style>\n",
              "\n",
              "    <script>\n",
              "      async function quickchart(key) {\n",
              "        const containerElement = document.querySelector('#' + key);\n",
              "        const charts = await google.colab.kernel.invokeFunction(\n",
              "            'suggestCharts', [key], {});\n",
              "      }\n",
              "    </script>\n",
              "\n",
              "      <script>\n",
              "\n",
              "function displayQuickchartButton(domScope) {\n",
              "  let quickchartButtonEl =\n",
              "    domScope.querySelector('#df-58b07fe2-8ca9-41be-8005-be43019ba3a1 button.colab-df-quickchart');\n",
              "  quickchartButtonEl.style.display =\n",
              "    google.colab.kernel.accessAllowed ? 'block' : 'none';\n",
              "}\n",
              "\n",
              "        displayQuickchartButton(document);\n",
              "      </script>\n",
              "      <style>\n",
              "    .colab-df-container {\n",
              "      display:flex;\n",
              "      flex-wrap:wrap;\n",
              "      gap: 12px;\n",
              "    }\n",
              "\n",
              "    .colab-df-convert {\n",
              "      background-color: #E8F0FE;\n",
              "      border: none;\n",
              "      border-radius: 50%;\n",
              "      cursor: pointer;\n",
              "      display: none;\n",
              "      fill: #1967D2;\n",
              "      height: 32px;\n",
              "      padding: 0 0 0 0;\n",
              "      width: 32px;\n",
              "    }\n",
              "\n",
              "    .colab-df-convert:hover {\n",
              "      background-color: #E2EBFA;\n",
              "      box-shadow: 0px 1px 2px rgba(60, 64, 67, 0.3), 0px 1px 3px 1px rgba(60, 64, 67, 0.15);\n",
              "      fill: #174EA6;\n",
              "    }\n",
              "\n",
              "    [theme=dark] .colab-df-convert {\n",
              "      background-color: #3B4455;\n",
              "      fill: #D2E3FC;\n",
              "    }\n",
              "\n",
              "    [theme=dark] .colab-df-convert:hover {\n",
              "      background-color: #434B5C;\n",
              "      box-shadow: 0px 1px 3px 1px rgba(0, 0, 0, 0.15);\n",
              "      filter: drop-shadow(0px 1px 2px rgba(0, 0, 0, 0.3));\n",
              "      fill: #FFFFFF;\n",
              "    }\n",
              "  </style>\n",
              "\n",
              "      <script>\n",
              "        const buttonEl =\n",
              "          document.querySelector('#df-fa9a794d-1686-49b6-9056-2adb1d300d3b button.colab-df-convert');\n",
              "        buttonEl.style.display =\n",
              "          google.colab.kernel.accessAllowed ? 'block' : 'none';\n",
              "\n",
              "        async function convertToInteractive(key) {\n",
              "          const element = document.querySelector('#df-fa9a794d-1686-49b6-9056-2adb1d300d3b');\n",
              "          const dataTable =\n",
              "            await google.colab.kernel.invokeFunction('convertToInteractive',\n",
              "                                                     [key], {});\n",
              "          if (!dataTable) return;\n",
              "\n",
              "          const docLinkHtml = 'Like what you see? Visit the ' +\n",
              "            '<a target=\"_blank\" href=https://colab.research.google.com/notebooks/data_table.ipynb>data table notebook</a>'\n",
              "            + ' to learn more about interactive tables.';\n",
              "          element.innerHTML = '';\n",
              "          dataTable['output_type'] = 'display_data';\n",
              "          await google.colab.output.renderOutput(dataTable, element);\n",
              "          const docLink = document.createElement('div');\n",
              "          docLink.innerHTML = docLinkHtml;\n",
              "          element.appendChild(docLink);\n",
              "        }\n",
              "      </script>\n",
              "    </div>\n",
              "  </div>\n"
            ]
          },
          "metadata": {},
          "execution_count": 39
        },
        {
          "output_type": "stream",
          "name": "stderr",
          "text": [
            "/usr/local/lib/python3.10/dist-packages/google/colab/_quickchart_lib.py:25: UserWarning: Glyph 49436 (\\N{HANGUL SYLLABLE SEO}) missing from current font.\n",
            "  plt.savefig(f, bbox_inches='tight')\n",
            "/usr/local/lib/python3.10/dist-packages/google/colab/_quickchart_lib.py:25: UserWarning: Glyph 50872 (\\N{HANGUL SYLLABLE UL}) missing from current font.\n",
            "  plt.savefig(f, bbox_inches='tight')\n",
            "/usr/local/lib/python3.10/dist-packages/google/colab/_quickchart_lib.py:25: UserWarning: Glyph 44221 (\\N{HANGUL SYLLABLE GYEONG}) missing from current font.\n",
            "  plt.savefig(f, bbox_inches='tight')\n",
            "/usr/local/lib/python3.10/dist-packages/google/colab/_quickchart_lib.py:25: UserWarning: Glyph 44592 (\\N{HANGUL SYLLABLE GI}) missing from current font.\n",
            "  plt.savefig(f, bbox_inches='tight')\n",
            "/usr/local/lib/python3.10/dist-packages/google/colab/_quickchart_lib.py:25: UserWarning: Glyph 49436 (\\N{HANGUL SYLLABLE SEO}) missing from current font.\n",
            "  plt.savefig(f, bbox_inches='tight')\n",
            "/usr/local/lib/python3.10/dist-packages/google/colab/_quickchart_lib.py:25: UserWarning: Glyph 50872 (\\N{HANGUL SYLLABLE UL}) missing from current font.\n",
            "  plt.savefig(f, bbox_inches='tight')\n",
            "/usr/local/lib/python3.10/dist-packages/google/colab/_quickchart_lib.py:25: UserWarning: Glyph 44221 (\\N{HANGUL SYLLABLE GYEONG}) missing from current font.\n",
            "  plt.savefig(f, bbox_inches='tight')\n",
            "/usr/local/lib/python3.10/dist-packages/google/colab/_quickchart_lib.py:25: UserWarning: Glyph 44592 (\\N{HANGUL SYLLABLE GI}) missing from current font.\n",
            "  plt.savefig(f, bbox_inches='tight')\n",
            "/usr/local/lib/python3.10/dist-packages/google/colab/_quickchart_lib.py:25: UserWarning: Glyph 44221 (\\N{HANGUL SYLLABLE GYEONG}) missing from current font.\n",
            "  plt.savefig(f, bbox_inches='tight')\n",
            "/usr/local/lib/python3.10/dist-packages/google/colab/_quickchart_lib.py:25: UserWarning: Glyph 44592 (\\N{HANGUL SYLLABLE GI}) missing from current font.\n",
            "  plt.savefig(f, bbox_inches='tight')\n",
            "/usr/local/lib/python3.10/dist-packages/google/colab/_quickchart_lib.py:25: UserWarning: Glyph 49436 (\\N{HANGUL SYLLABLE SEO}) missing from current font.\n",
            "  plt.savefig(f, bbox_inches='tight')\n",
            "/usr/local/lib/python3.10/dist-packages/google/colab/_quickchart_lib.py:25: UserWarning: Glyph 50872 (\\N{HANGUL SYLLABLE UL}) missing from current font.\n",
            "  plt.savefig(f, bbox_inches='tight')\n",
            "/usr/local/lib/python3.10/dist-packages/google/colab/_quickchart_lib.py:25: UserWarning: Glyph 44221 (\\N{HANGUL SYLLABLE GYEONG}) missing from current font.\n",
            "  plt.savefig(f, bbox_inches='tight')\n",
            "/usr/local/lib/python3.10/dist-packages/google/colab/_quickchart_lib.py:25: UserWarning: Glyph 44592 (\\N{HANGUL SYLLABLE GI}) missing from current font.\n",
            "  plt.savefig(f, bbox_inches='tight')\n",
            "/usr/local/lib/python3.10/dist-packages/google/colab/_quickchart_lib.py:25: UserWarning: Glyph 49436 (\\N{HANGUL SYLLABLE SEO}) missing from current font.\n",
            "  plt.savefig(f, bbox_inches='tight')\n",
            "/usr/local/lib/python3.10/dist-packages/google/colab/_quickchart_lib.py:25: UserWarning: Glyph 50872 (\\N{HANGUL SYLLABLE UL}) missing from current font.\n",
            "  plt.savefig(f, bbox_inches='tight')\n"
          ]
        },
        {
          "output_type": "display_data",
          "data": {
            "text/plain": [
              "<google.colab._quickchart_helpers.SectionTitle at 0x7f18e73018a0>"
            ],
            "text/html": [
              "<h4 class=\"colab-quickchart-section-title\">Values</h4>\n",
              "<style>\n",
              "  .colab-quickchart-section-title {\n",
              "      clear: both;\n",
              "  }\n",
              "</style>"
            ]
          },
          "metadata": {}
        },
        {
          "output_type": "display_data",
          "data": {
            "text/plain": [
              "import numpy as np\n",
              "from google.colab import autoviz\n",
              "df_7222705393999164069 = autoviz.get_registered_df('df_7222705393999164069')\n",
              "\n",
              "def value_plot(df, y, sort_ascending=False, figsize=(2, 1)):\n",
              "  from matplotlib import pyplot as plt\n",
              "  if sort_ascending:\n",
              "    df = df.sort_values(y).reset_index(drop=True)\n",
              "  _, ax = plt.subplots(figsize=figsize)\n",
              "  df[y].plot(kind='line')\n",
              "  plt.title(y)\n",
              "  ax.spines[['top', 'right',]].set_visible(False)\n",
              "  plt.tight_layout()\n",
              "  return autoviz.MplChart.from_current_mpl_state()\n",
              "\n",
              "chart = value_plot(df_7222705393999164069, *['pop'], **{})\n",
              "chart"
            ],
            "text/html": [
              "      <div class=\"colab-quickchart-chart-with-code\" id=\"chart-9b653759-3ae9-4348-a191-4da897646190\">\n",
              "        <img src=\"data:image/png;base64,iVBORw0KGgoAAAANSUhEUgAAAMQAAABgCAYAAABCK92TAAAAOXRFWHRTb2Z0d2FyZQBNYXRwbG90\n",
              "bGliIHZlcnNpb24zLjcuMSwgaHR0cHM6Ly9tYXRwbG90bGliLm9yZy/bCgiHAAAACXBIWXMAAA9h\n",
              "AAAPYQGoP6dpAAAQcElEQVR4nO3de1SU5b7A8e8Aw4AwgyhyUS4KCF4iuWfqCtJc29ze0l2W5g7N\n",
              "o3XKY3nOtjxWbj0ddbdFt11csVuKq9PyUohlut2nTE0oBcm0vCFgXAMGQbkpyDDP+QObMxOQDDIO\n",
              "Mz6ftd7lmvd9n3d+j+v98b7PPM/7vAohhECSJAAcrB2AJPUmMiEkyYhMCEkyIhNCkozIhJAkIzIh\n",
              "JMmITAhJMiITQpKMyISQJCMyISTJiEwISTIiE0KSjMiE6OUSExN58cUXmTlzJmq1mtDQUD788EPD\n",
              "9gMHDhATE4OHhwdhYWFs2LABvV5v2K5QKNi4cSNxcXG4u7sTHx9PTk6ONapiG4TUqyUkJAgXFxex\n",
              "b98+0dLSIg4cOCCUSqXIzMwU2dnZQqlUit27d4uWlhaRk5Mj/Pz8xKZNmwzlARESEiLOnTsnmpqa\n",
              "xKpVq4SXl5e4du2a9SrViymEkMO/e7PExET69+/Pnj17DOtmz56Nu7s7Tk5OaLVa9u7da9i2adMm\n",
              "UlJSuHjxItB2hXj77bdZsmQJAHq9nkGDBvHWW28xb968u1sZGyBvmWzAkCFD2n0uKSmhpKSEkJAQ\n",
              "k22hoaEUFxd3Wt7BwYGgoCBKSkosF7ANc7J2ANLtFRYWtvvs7++PUqmkoKDAZFtBQQGBgYGdltfr\n",
              "9RQXF+Pv72+pcG2bte/ZpN+WkJAgXF1dxf79+4VOpxMHDx4Uzs7O4tixY+LEiRNCqVSKtLQ0odPp\n",
              "xKlTp8TAgQNFcnKyoTwgQkNDxfnz50Vzc7NYs2aN6N+/v7h69ar1KtWLyYTo5RISEsQLL7wgHnvs\n",
              "MeHu7i6Cg4PFtm3bDNs/++wzERUVJdRqtQgJCRHr168XOp3OsB0QycnJIiYmRri5uYnY2FiRlZVl\n",
              "jarYBNmo7uUSExMZN24cb775ZrfKKxQKvvzySx555JEejsw+yUa1JBmRCSFJRuQtkyQZkVcISTIi\n",
              "E0KSjMiEkCQjMiEkyYjNJcTmzZutHYJkx2xuLFNRUZG1Q7ALLa16nv/oFHnaembHBTAnPpC+fZyt\n",
              "HZbV2dwVQuoZG77I5dCFSoqqr/PWP3N5cN1hXvv0RwqqGqwdmlWZnRB5eXmMGTOGsLAw4uLiOHfu\n",
              "XLt9UlNTiYyMNCxeXl7MnDkTaBt56ejoaLL91yM2Jcs6clFLyteXAVj0UDDD/TTcaGnloxPFTEj+\n",
              "mvmp2WTkVXEvdlGZfcu0ePFiFi1aRFJSEmlpaSQlJXHy5EmTfebPn8/8+fMNn++77z7mzp1r+KxW\n",
              "qzl9+nT3o5a6rbz2Bss+Pg3AHx8M4j8nD0cIwYnLNWzN/ImvLlZyJLeKI7lVhPm4s2DsEGZEDcJF\n",
              "6WjdwO8Ss3qqtVotoaGh1NTU4OTkhBACPz8/MjMzCQ0N7bBMVlYWU6dOpaysDKVSSWFhIZGRkVy7\n",
              "dq1bAS9btoyNGzd2q+y9TteqZ84HWWQX1jByoIY9z49pd6IXXmlk+7eFfJxTwvWbrQD0c3Nm7gOB\n",
              "zBsdhLfGxRqh3zVm3TKVlJTg5+eHk1PbhUWhUBAYGNjuCS1jW7duZd68eSiVSsO6xsZG4uLiiI6O\n",
              "Zs2aNbS2tnZYtrm5mbq6OpOls32l2/vboTyyC2twVznx3pzoDv/qD/Zy48/TRnJ8xQRWTh7OoL6u\n",
              "1DTe5J3D+Yz9y2GWfXyas2W1Voj+7rBoo7qxsZFdu3bx7LPPGtb5+flRVlbGyZMnOXToEBkZGSQn\n",
              "J3dYft26dXh4eJgs2dnZlgzZbmXkVfHe0XwA1s2MYLCX22/u7+Gq5F8eCubrPyWyZW40MUGetLQK\n",
              "0k+VMeWdTGanHOd/z1XQqu8d7Yxr129y4nI1lyrr7+g4Fr1l2r59OykpKRw/frzTY+7cuZMdO3bw\n",
              "+eeft9vW3NxMc3OzybrXX39d9kWYSVvXxKObM6huvMmcBwJZ+1hEt45zuuQa2zJ/4h8/lqO7lQhB\n",
              "/fuQNGYwj8cG4K6y/K/4N3V6CqoayK2o50JFHbkV9Vwsr6eirgmApDGD+fO0kd0+vlk18Pb2Jjo6\n",
              "mo8++oikpCT27NmDv79/p+2HrVu3mlwdoC2pPD09USqVNDc3k56eTlRUVIflVSoVKpXKZJ2j473R\n",
              "uOsprXrB0l2nqW68yTBfNW9MGdHtY0UG9OXtp6JYMXkYHx4vYkdWMUXV11n9+Xk2fnGJ2XEBPDNm\n",
              "MAH9+txx3EIIymub2p34BVUNhmT8tUF9XXFT3dn5Yfbw79zcXJKSkqiurkaj0ZCamkpERAQLFy5k\n",
              "2rRpTJs2zbBfbGwsP//8M2q12lA+PT2dN954A0dHR3Q6HePHj2fDhg3tTvzOyEa1eTZ9eYnNX+XR\n",
              "x9mRz5eMI2SAe48d+/pNHemnytj2zU9crmoEwEEBvxvpy4JxQ4gN8kShUNz2OPVNLVyqrOfirZM+\n",
              "t6KeixV11DXpOtxfrXIi3FfNMD814b4ahvuqCfNVo3FRdri/OWzueQiZEF33bf4V5m7NQgj42+xI\n",
              "ZkQNssj36PWCr/Oq2Jb5Exl5Vwzr7/f3YMHYIUyO8MPZyQFdq57C6kYuGE76thO/9OqNDo/r5KAg\n",
              "eIAb4b4ahvmq2xY/DQM9XLqUaN1hc0M3pK6pqm9m6e7TCAGzYwMslgwADg4KHg735uFwb3Ir6kn9\n",
              "5ifSvy/jh9JaXtp9mnUHL+DlriJP28BNnb7DY/hqXNr+6v/yl99HQ4i3Gyqnu3uLLBPCDrXqBS/v\n",
              "Pk1VfTPhPuo7amSaK9xXzfpZ9/On34WzI6uYD08UUVnXTGVd248jfZwdCfNRM9xPTbhP21/8Yb7q\n",
              "XjOOyuyEyMvL45lnnuHKlSt4eHiwfft2Ro40/Q8/evQojz76KOHh4YZ1x48fx9XVFWhrbK9fvx69\n",
              "Xs/48ePZsmWLST+FdGe2HMknM/8KrkpH3psbhavz3f8hor+7iiUThrIoIZijuVUADPfV4O/pioOD\n",
              "ZW53eoS589Y8/PDDIjU1VQghxCeffCJiY2Pb7XPkyBExatSoDstfvnxZ+Pn5ifLycqHX68XUqVPF\n",
              "u+++2+Xvf/nll80N+Z5yvOCKGPLqfhH0yn7xSU6JtcOxOWZ1zGm1WnJycnj66acBmDVrFiUlJeTn\n",
              "53f5GGlpaUybNg1fX18UCgXPPfccO3fuNC+LpQ5VNzSzdNf36AXMivbnDzFyukpzWWzoRkFBAdHR\n",
              "0cTFxbFlyxbD+uLiYoKCggyfBw8e3OnQDzl0o+v0esHLH5+hsq6ZkAFurJl+99oN9sQijero6GhK\n",
              "S0vx8PCgtLSUyZMn4+XlxRNPPGHWcdatW8fq1atN1o0ePbonQ7Ub7x8r4NilKlRODrw3Nxq3u9Br\n",
              "bI/MukIEBARQXl6OTtfWYSKEoLi4uN1s0xqNBg8PDwD8/f156qmnyMjIACAwMNDkqbfCwsJ25X+x\n",
              "YsUKamtrTZb4+HhzQr4nnCysIfmLSwCsnjaSYb4aK0dku8xKCOOhG0CnQzfKy8sNr3Wqr69n//79\n",
              "huEZs2bNYt++fVRUVCCE4P333+fJJ5/s8PtUKhUajcZkkUM3TF1tvMm/7fyeVr1geuRAZscFWDsk\n",
              "m2b2aNeUlBRSUlIICwtj/fr1pKamArBw4UL27dsHtCVKREQEo0aNYvTo0UycONHwwFBwcDCrV69m\n",
              "7NixhIaGMmDAABYvXtyDVbp36PWCf//kDOW1TQR7ufHfj0VYrAf3XiGHbtiwvx8rYO0/LuLs5MCn\n",
              "/zqWEQPlrdKdkpMM2KhTxVd565+5ALwxZYRMhh5ikUkGDh8+THx8PCNGjGDkyJEsX77c0KaQkwzc\n",
              "udrrLSzZ8T06veD39/sx94GOf5SQzGd2QvwyycClS5d45ZVXSEpKarePp6cnu3bt4vz583z33Xd8\n",
              "++23Ju9W/mWSgV+WX784UOqcEIL/SDtD2bUbBPXvw/qZst3QkyzSUx0VFUVwcDAALi4uREZGtntx\n",
              "oNQ9qd8U8uX5SpwdHXhvTjTqHngGQPp/Fp9koKKigrS0NKZMmWJYJycZ6J4zJddYd/ACACt/P5z7\n",
              "BnlYOSL7Y9FGdV1dHVOnTmX58uXExsYCcpKB7qq90cKLO0/R0iqYNNKXPz4YdPtCktks0lMNbR1y\n",
              "kyZNYvr06SxbtsywXqVS4e3tDUC/fv1YsGCBoRf712RPdRshBK/u+YGSmhsE9HPlL3+4X7YbLMQi\n",
              "PdUNDQ1MmjSJSZMm8dprr5ls02q1tLS0AHRpkgHZUw3/c6KIg2crUDoqePepaDxcZbvBUsweAZaS\n",
              "kkJSUhJr1641TDIAmEwysHnzZrKzs2lsbCQ9PR2Axx9/nJUrV5KZmdlukoGVK1feUSW09U38eV/7\n",
              "n38tQYGCgX1dGOqtJsTbnVBvd4ueoGfLanlzf1u74dVHhzMqoK/Fvkuyk57qoupGEv561DoBAT4a\n",
              "FaHe7oYkGXpr6e/etZlEOlPf1MKUdzIpqr7OxBE+/H1ejLxVsjC7GCPs6ebMf92l8f8trYLimuvk\n",
              "axvI1zZQUddkeGb4m/xq07j6KE2SJNTbnaE+7vhqbj9rhBCCFek/UlR9nUF9XfmrbDfcFXaREBoX\n",
              "JfMeHGyV765raqFA20DerQTJ1zaQp62n9OoNrl5vIbuwhuzCGpMy7ion0yS59a+/Zx8cbz1vvCO7\n",
              "mP0/lOPkoOCdOVG95iF8e2cXCWFNGhclUYGeRAV6mqy/cbOVgirTJMnTNlBUfZ2GZh1nSq5xpuSa\n",
              "SRmVkwPBA9wJGeDGF+crAVg+KZzoXx1bshyZEBbi6uzIfYM82nWe3dS1TdaVr20gr7ItUfK1DVy+\n",
              "0kizTs+F8joulNcBMH6YNwvHBVsj/HuWTIi7zNnJgTAfNWE+ajCac7hVLyipuW649aprauG5h0J6\n",
              "95QtdsjmfmWaOXMmgwcPbre+tbWV7Oxs4uPjbb6vwp7qAr2jPkFBQSxduvS2+9lcQnSmrq4ODw8P\n",
              "amtr0Whs+9kAe6oL2FZ95ANCkmREJoQkGZEJIUlG7CYhVCoVq1at6vKLV3oze6oL2FZ97KZRLUk9\n",
              "wW6uEJLUE2RCSJIRmRCSZMQuEqIrc0XZiqamJmbMmEFYWBijRo1i4sSJZr1/o7dKTU1FoVDw6aef\n",
              "WjuU32QXCdGVuaJsyaJFi8jNzeXMmTNMnz6dhQsXWjukO1JYWMgHH3xgG68yuPsvLepZlZWVQq1W\n",
              "i5aWFiGEEHq9Xvj4+Ii8vDwrR9YzTp48KYKCgqwdRre1traKCRMmiJycHJGQkCD27t1r7ZB+k81f\n",
              "IbozV5Qt2bx5M9OnT7d2GN22ceNGxo4dS0xMjLVD6RI5/LsXW7t2Lfn5+Xz11VfWDqVbzp49y549\n",
              "ezh27Ji1Q+kym08I47minJycfnOuKFuyYcMG0tPTOXToEH369LF2ON2SkZFBYWEhQ4cOBdpmcVy0\n",
              "aBHl5eU8//zzVo6uE9a+Z+sJCQkJJq8KjomJsW5Adyg5OVlER0eLmpoaa4fSo2yhDWEXQzdyc3NJ\n",
              "SkqiurraMFdURETE7Qv2QqWlpQQEBBAcHIxarQbaxgJlZWVZObI7l5iYyEsvvcSMGTOsHUqn7CIh\n",
              "JKmn2PyvTJLUk2RCSJIRmRCSZEQmhCQZkQkhSUZkQkiSEZkQkmREJoQkGZEJIUlGZEJIkhGZEJJk\n",
              "5P8AXEbXk7xmLSUAAAAASUVORK5CYII=\n",
              "\">\n",
              "        \n",
              "      </div>\n",
              "      <script></script>\n",
              "      <script type=\"text/javascript\">\n",
              "        (() => {\n",
              "          const chartElement = document.getElementById(\"chart-9b653759-3ae9-4348-a191-4da897646190\");\n",
              "          async function getCodeForChartHandler(event) {\n",
              "            const chartCodeResponse =  await google.colab.kernel.invokeFunction(\n",
              "                'getCodeForChart', [\"chart-9b653759-3ae9-4348-a191-4da897646190\"], {});\n",
              "            const responseJson = chartCodeResponse.data['application/json'];\n",
              "            await google.colab.notebook.addCell(responseJson.code, 'code');\n",
              "          }\n",
              "          chartElement.onclick = getCodeForChartHandler;\n",
              "        })();\n",
              "      </script>\n",
              "      <style>\n",
              "        .colab-quickchart-chart-with-code  {\n",
              "            display: block;\n",
              "            float: left;\n",
              "            border: 1px solid transparent;\n",
              "        }\n",
              "\n",
              "        .colab-quickchart-chart-with-code:hover {\n",
              "            cursor: pointer;\n",
              "            border: 1px solid #aaa;\n",
              "        }\n",
              "      </style>"
            ]
          },
          "metadata": {}
        },
        {
          "output_type": "display_data",
          "data": {
            "text/plain": [
              "<google.colab._quickchart_helpers.SectionTitle at 0x7f18e7302cb0>"
            ],
            "text/html": [
              "<h4 class=\"colab-quickchart-section-title\">Distributions</h4>\n",
              "<style>\n",
              "  .colab-quickchart-section-title {\n",
              "      clear: both;\n",
              "  }\n",
              "</style>"
            ]
          },
          "metadata": {}
        },
        {
          "output_type": "display_data",
          "data": {
            "text/plain": [
              "import numpy as np\n",
              "from google.colab import autoviz\n",
              "df_1426544748153703472 = autoviz.get_registered_df('df_1426544748153703472')\n",
              "\n",
              "def histogram(df, colname, num_bins=20, figsize=(2, 1)):\n",
              "  from matplotlib import pyplot as plt\n",
              "  _, ax = plt.subplots(figsize=figsize)\n",
              "  plt.hist(df[colname], bins=num_bins, histtype='stepfilled')\n",
              "  plt.ylabel('count')\n",
              "  plt.title(colname)\n",
              "  ax.spines[['top', 'right',]].set_visible(False)\n",
              "  plt.tight_layout()\n",
              "  return autoviz.MplChart.from_current_mpl_state()\n",
              "\n",
              "chart = histogram(df_1426544748153703472, *['pop'], **{})\n",
              "chart"
            ],
            "text/html": [
              "      <div class=\"colab-quickchart-chart-with-code\" id=\"chart-4557e889-fb80-4bd7-b6b9-c28c376bb785\">\n",
              "        <img src=\"data:image/png;base64,iVBORw0KGgoAAAANSUhEUgAAAMQAAABgCAYAAABCK92TAAAAOXRFWHRTb2Z0d2FyZQBNYXRwbG90\n",
              "bGliIHZlcnNpb24zLjcuMSwgaHR0cHM6Ly9tYXRwbG90bGliLm9yZy/bCgiHAAAACXBIWXMAAA9h\n",
              "AAAPYQGoP6dpAAALHUlEQVR4nO3da0xTBx8G8KfYis6WjlnRzg4cVDTUDOVSUUxA4xLG5lBI5rbM\n",
              "SLx+UEOGGXmXSXCMOELE67JME8ZmlrjFgtFI/DDdls05hoxsGjcM1mGLAo1RgbHCwP7fD76e93S0\n",
              "jjN6Ti/5/5Im9Fzo0wNPzqWn56iIiMAYAwBEBTsAY6GEC8GYCBeCMREuBGMiXAjGRLgQjIlwIRgT\n",
              "4UIwJsKFYEyEC8GYCBeCMREuBGMiXIgQlJubi+3bt6OwsBA6nQ5msxnHjh0Txjc1NSE9PR16vR7J\n",
              "ycnYu3cvPB6PMF6lUmHfvn3IzMyEVquF1WpFa2trMN5K+CEWcnJycmjKlCl0+vRpGhkZoaamJtJo\n",
              "NHThwgVqaWkhjUZDX3zxBY2MjFBraysZjUbav3+/MD8ASkpKoqtXr9LQ0BBVVFSQwWCg+/fvB+9N\n",
              "hQkVEZ/+HWpyc3Mxffp0NDQ0CMPWrl0LrVYLtVoNl8uFkydPCuP279+PI0eOoL29HcDDNcShQ4ew\n",
              "Y8cOAIDH48Hs2bNRU1ODdevWKftmwgxvMoWoZ599dsxzp9MJp9OJpKQkr3FmsxkOh8Pv/FFRUUhI\n",
              "SIDT6ZQvcIRQBzsA862zs3PMc5PJBI1GA7vd7jXObrcjPj7e7/wejwcOhwMmk0muuJEj2NtsbKyc\n",
              "nByaOnUqnTlzhkZHR+ns2bM0efJk+vbbb6m5uZk0Gg3ZbDYaHR2ltrY2evrpp6m2tlaYHwCZzWb6\n",
              "9ddfaXh4mCorK2n69Ol079694L2pMMGFCEE5OTm0bds2WrNmDWm1WkpMTKSPP/5YGH/q1ClatGgR\n",
              "6XQ6SkpKourqahodHRXGA6Da2lpKT0+nadOmUUZGBv3444/BeCthh3eqQ1Bubi6WLVuGqqqqfzW/\n",
              "SqXCl19+iZUrVwY4WeTjnWrGRLgQjInwJhNjIryGYEyEC8GYiGyFGBoawurVq5GcnIzU1FQ8//zz\n",
              "uH79ulwvx1hAyLqG2LJlC65du4ZffvkFBQUF2LRpk5wvx9iEyVaIKVOmID8/HyqVCgCQlZU15nSE\n",
              "xzl48KBMyRjzT7FzmQ4ePIiCggKf44aHhzE8POw17MaNG0rEYsyLIoXYs2cPrl+/jvPnz/sc//77\n",
              "7+Pdd9/1GpaVlRXQDHP+0+R3XGf1iwF9LRa+ZD/KtHfvXjQ2NuLs2bN44oknfE7z9ttvo6+vz+th\n",
              "tVrljsbYGLKuIfbt24fjx4/j3LlzePLJJ/1OFx0djejoaK9hkyZNkjMaYz5JXkNcvnx5XMO6urqw\n",
              "c+dO3L9/H8uXL8fChQuxePHif5eSMYVIXkMUFxejra3tH4eZTCbwWSEs3Iy7EC6XCz09PXC73bhy\n",
              "5Yrwz97X14fBwUHZAjKmpHEX4vjx4zhw4ABu376Nl19+WRiu1+tRVlYmSzjGlDbuQpSUlKCkpATv\n",
              "vfceysvL5czEWNBI3ocoLy+Hx+NBT08PRkdHheF//5I7Y+FIciE+/fRT7NixAxqNBlFRDw9SqVQq\n",
              "uFyugIdjTGmSC1FZWYlLly5h3rx5cuRhLKgkfw5hMBi4DCxiSS7E6tWrceDAAbhcLvT39wsPxiKB\n",
              "5E2md955BwBQWloKlUoFIoJKpcKDBw8CHo4xpUkuhPiy64xFGv5ONWMiktcQUVFRwrfgxHiTiUUC\n",
              "yYUYGBgQfna73Th27BiXgUUMyYWYNm2a18+lpaVYvHgx3nrrrYAGexz+9pt8Ar1s5fhb+fudgfjb\n",
              "T3gfor29HXfu3JlwEMZCgeQ1RGxsrLAP8ehcpsOHDwc2FWNBIrkQP//88/9nVqsxa9Ys/ronixiS\n",
              "C5GQkIA///xTKEZsbKzfiwcwFm4kF+LixYsoKirCrFmzAAC9vb1oaGjAkiVLAh6OMaVJLkRpaSls\n",
              "Nhuys7MBPCzIm2++iebm5oCHY0xpko8yud1uoQwAsHTpUgwNDQU0FGPBIrkQWq0W586dE56fP3/e\n",
              "67MJxsKZ5E2mQ4cOobCwUDiy5PF40NjYGPBgjAWD5ELcvn0bra2t6O3tBQDMnDkTLS0tAQ/GWDBI\n",
              "3mQqLy/HjBkzsGDBAixYsAAGg4GvwsEixoRP3eAvB7FIIrkQOp0OFy9eFJ5///330Ol0AQ3FWLBI\n",
              "3oeoqanBmjVrMH/+fABAR0cHTp486XPajo4OrF+/Hnfu3IFer8cnn3wCi8UyscSMyUhyIZYsWYLf\n",
              "fvsNP/zwA4CHn0P4u9T91q1bsWXLFhQXF8Nms6G4uBiXLl2aUGDG5PSv9iFiY2ORn5+P/Px8v2Vw\n",
              "uVxobW3FG2+8AQAoKiqC0+nkO5GykCbbDVOcTieMRiPU6ocvoVKpEB8fD4fDAbPZ7DWtr3vM8Y46\n",
              "CwYVyXQTh59++gmvv/46rl27JgyzWq2orq7GihUrvKbdvXv3mHvMzZ8/Hy+88IIc0SbkwYMHaGlp\n",
              "gdVqDdnT3sMhI6BszoSEBJSUlPzjdLIVwuVywWw24+7du1Cr1SAiGI1GXLhwYVxrCF+32QoF/f39\n",
              "0Ov16OvrQ0xMTLDj+BQOGYHQzCnbZWji4uKQlpaGzz77DADQ0NAAk8k0pgzAw3/+mJgYr0coloFF\n",
              "PllvunjkyBEUFxdjz549iImJQX19vZwvx9iEyVqIefPmCYdnGQsHfOU+iaKjo1FRURHSm3ThkBEI\n",
              "zZyy7VQzFo54DcGYCBeCMREuBGMiXIj/6ejowNKlS5GcnIzMzExcvXp1zDRfffUVrFYrUlJSYLFY\n",
              "UFZWJtwvo7OzE5MmTcLChQuFh91uD0rOb775BlOnTvXK4na7hfF1dXWYO3cukpKSsHnzZoyMjCie\n",
              "sb6+3iufwWBAYWEhAOWWpU/EiIho+fLlVF9fT0REJ06coIyMjDHTtLW1kd1uJyIit9tN2dnZwjy/\n",
              "//476fX6kMj59ddfU2pqqs/5b9y4QUajkbq7u8nj8dCqVavogw8+UDzj31ksFrLZbESk3LL0hQtB\n",
              "RL29vaTT6WhkZISIiDweD82cOZM6OjoeO9+2bduooqKCiJT5I4435+MKUVNTQ1u3bhWeNzU1UXZ2\n",
              "tuIZxZqbm2nGjBn0119/EVFwC8GbTHj8mbn+9PT0wGaz4aWXXhKGDQ4OIjMzE2lpaaisrAz4GbtS\n",
              "ctrtdqSlpSEzMxMffvihMNzhcCAhIUF4PmfOnMe+TzkzPlJXV4d169ZBo9EIw+Relv7I+kl1pOrv\n",
              "78eqVatQVlaGjIwMAIDRaMStW7cQFxeHu3fvYu3ataitrUVZWZni+dLS0tDV1QW9Xo+uri7k5+fD\n",
              "YDDglVdeUTzLPxkcHMTnn3/udeXHYC5LXkMAeOaZZ9Dd3S1c3p+I4HA4EB8fP2bagYEB5OXloaCg\n",
              "AKWlpcLw6OhoxMXFAQCeeuopbNiwAd99911QcsbExECv1wMATCYTXnvtNSFLfHw8bt68KUzb2dnp\n",
              "833KnfGREydOwGKxICUlRRimxLL0hwuB8Z+Z+8cffyAvLw95eXnYtWuX1ziXyyUcrRkeHkZjYyMW\n",
              "LVoUlJzd3d3C0a+BgQGcOXNGyFJUVITTp0+jp6cHRISPPvoIr776quIZH6mrq8PGjRu9himxLP0K\n",
              "yp5LCGpvb6esrCyaO3cupaen0+XLl4mIaOPGjXTq1CkiIqqqqiK1Wk2pqanCo6qqioiIGhoayGKx\n",
              "0HPPPUcpKSm0fft2GhoaCkrOw4cPU0pKipCloqKCPB6P8DuOHj1KiYmJlJiYSBs2bBB2ZpXM+Gg6\n",
              "rVZL/f39XvMrtSx94XOZGBPhTSbGRLgQjIlwIRgT4UIwJsKFYEyEC8GYCBeCMREuBGMiXAjGRLgQ\n",
              "jIlwIRgT+S+yTIy/CoNfpwAAAABJRU5ErkJggg==\n",
              "\">\n",
              "        \n",
              "      </div>\n",
              "      <script></script>\n",
              "      <script type=\"text/javascript\">\n",
              "        (() => {\n",
              "          const chartElement = document.getElementById(\"chart-4557e889-fb80-4bd7-b6b9-c28c376bb785\");\n",
              "          async function getCodeForChartHandler(event) {\n",
              "            const chartCodeResponse =  await google.colab.kernel.invokeFunction(\n",
              "                'getCodeForChart', [\"chart-4557e889-fb80-4bd7-b6b9-c28c376bb785\"], {});\n",
              "            const responseJson = chartCodeResponse.data['application/json'];\n",
              "            await google.colab.notebook.addCell(responseJson.code, 'code');\n",
              "          }\n",
              "          chartElement.onclick = getCodeForChartHandler;\n",
              "        })();\n",
              "      </script>\n",
              "      <style>\n",
              "        .colab-quickchart-chart-with-code  {\n",
              "            display: block;\n",
              "            float: left;\n",
              "            border: 1px solid transparent;\n",
              "        }\n",
              "\n",
              "        .colab-quickchart-chart-with-code:hover {\n",
              "            cursor: pointer;\n",
              "            border: 1px solid #aaa;\n",
              "        }\n",
              "      </style>"
            ]
          },
          "metadata": {}
        },
        {
          "output_type": "display_data",
          "data": {
            "text/plain": [
              "<google.colab._quickchart_helpers.SectionTitle at 0x7f18e7342800>"
            ],
            "text/html": [
              "<h4 class=\"colab-quickchart-section-title\">Categorical distributions</h4>\n",
              "<style>\n",
              "  .colab-quickchart-section-title {\n",
              "      clear: both;\n",
              "  }\n",
              "</style>"
            ]
          },
          "metadata": {}
        },
        {
          "output_type": "display_data",
          "data": {
            "text/plain": [
              "import numpy as np\n",
              "from google.colab import autoviz\n",
              "df_3056815845705970288 = autoviz.get_registered_df('df_3056815845705970288')\n",
              "\n",
              "def categorical_histogram(df, colname, figsize=(2, 1.2), mpl_palette_name='Dark2'):\n",
              "  from matplotlib import pyplot as plt\n",
              "  import seaborn as sns\n",
              "  _, ax = plt.subplots(figsize=figsize)\n",
              "  bars = df[colname].value_counts()\n",
              "  plt.barh(bars.index, bars.values, color=sns.palettes.mpl_palette(mpl_palette_name))\n",
              "  plt.title(colname)\n",
              "  ax.spines[['top', 'right',]].set_visible(False)\n",
              "  return autoviz.MplChart.from_current_mpl_state()\n",
              "\n",
              "chart = categorical_histogram(df_3056815845705970288, *['city'], **{})\n",
              "chart"
            ],
            "text/html": [
              "      <div class=\"colab-quickchart-chart-with-code\" id=\"chart-20fc53fe-e274-4785-ba97-3bbe1348ed3d\">\n",
              "        <img src=\"data:image/png;base64,iVBORw0KGgoAAAANSUhEUgAAAMUAAACWCAYAAABuIkypAAAAOXRFWHRTb2Z0d2FyZQBNYXRwbG90\n",
              "bGliIHZlcnNpb24zLjcuMSwgaHR0cHM6Ly9tYXRwbG90bGliLm9yZy/bCgiHAAAACXBIWXMAAA9h\n",
              "AAAPYQGoP6dpAAAIAklEQVR4nO3dXUhUDR7H8d9MzY6Ek25pr1bzSFjxkFlURFESSz3VTVEE2ws1\n",
              "D5EmQbHdhBXUVS0hQQRG04VaSUTvF+VFhHRZREXghfamY8xEJGUX2mxNZy8emN35tz3ZNDtntO8H\n",
              "Bux0PPwP+e2co8czHsdxHAFI8ro9AJBriAIwiAIwiAIwiAIwiAIwiAIwiAIwiAIwiGKQaG5u1rRp\n",
              "09we46fg4TaPwSkUCunTp086d+6c26MMORwpAIMockx/f78OHDigsrIyBQIBlZaWqqmpSY2NjSop\n",
              "KZEkHT58WM3Nzbpw4YLy8/OVn5+vSCSiYDCopqamlO3V1dVp9uzZbuzKoDXc7QGQavv27ero6ND1\n",
              "69c1ffp0xWIxvXr1So8fP06us2/fPnV0dHxx+lRVVaVwOKytW7dKkhzHUTgc1p49e7K+H4MZR4oc\n",
              "8ubNGzU3N6u+vl4zZsyQx+PRhAkTNGfOnAF9/rZt23T//n21tbVJklpbWxWLxbRp06b/59hDDlHk\n",
              "kBcvXkhS2t9lGjt2rNauXatTp05Jkk6dOqWNGzcqEAhkbMafAVHkkGAwKEnq6Oj45rpe7//+p6up\n",
              "qdHZs2fV1dWlq1evaseOHZkc8adAFDmkuLhYGzZs0M6dO9Xe3i5JisVievDgwRfrjhs3Ts+ePVMi\n",
              "kUhZvmTJEk2cOFFr165VRUUFF9lpIIocc/r0aVVWVmrlypXKz8/XokWLktcI/62qqkqSVFRUpMLC\n",
              "QkUikeTf1dTU6MGDBxwl0sQP74aglpYWbdiwQdFoVCNGjHB7nEGHI8UQ09fXp6NHj6q6upog0kQU\n",
              "Q8jJkydVVFQkSdq/f7/L0wxenD4BBkcKwCAKwCAKwCAKwMiJKI4fP+72CEBSTkTR1dXl9ghAUk5E\n",
              "AeQSogCMnPjh3e+/elQ7jz6RGWWNiW+v9Cf4SgQMogAMogAMogAMogAMogAMogAMogAMogAMogAM\n",
              "ogAMogAMogAMogCMAb9pSzgc1qVLl1Kedt3X1yefzyefz5eybmlpqerr6zM3JZBFA44iGo0qHA4n\n",
              "HxcvSYcOHVJnZ6caGxtT1g2FQhkaD8g+Tp8AI+vveRePxxWPx1OWJT5newrg67J+pDhy5IgKCgpS\n",
              "Xo/fZHsK4OuyHkVtba16e3tTXuVF2Z4C+Lqsnz75/X75/f6UZcO4skEO4csRMIgCMAZ8+uT1ehUK\n",
              "hZSXl5dc9vz5c338+FErVqxI3ejwrJ+VARnDw9Aw5PAwNCDDiAIwiAIwiAIwiAIwiAIwiAIwiAIw\n",
              "iAIwiAIwiAIwcuLOvb/+9g+VHTvm9hiAJI4UwBeIAjCIAjCIAjCIAjCIAjCIAjCIAjCIAjBy4mke\n",
              "+b/NU+Hf/+b2GBgiXv7+zx/6fI4UgEEUgEEUgEEUgEEUgEEUgEEUgEEUgEEUgEEUgEEUgEEUgEEU\n",
              "gEEUgDHgh6GFw2FdunRJXu9/Ourr65PP55PP50tZt7S0VPX19ZmbEsiiAUcRjUYVDocVDAaTyw4d\n",
              "OqTOzk41NjamrBsKhTI0HpB9WX9sZjweVzweT12YcP33nICkrF9THDlyRAUFBSmvf72IZXsM4Kuy\n",
              "HkVtba16e3tTXn/5ZXy2xwC+KuunT36/X36/P3XhME+2xwC+im/JAgZRAAZRAMaArym8Xq9CoZDy\n",
              "8vKSy54/f66PHz9qxYoVqRsdnhNvkASkhYehYcjhYWhAhhEFYBAFYBAFYBAFYBAFYBAFYBAFYBAF\n",
              "YBAFYBAFYOTEnXtVvy7WsR+8XwXIFI4UgEEUgEEUgOH6NUU8HldLS4sSiYSGDRvm9jhpSSQSunfv\n",
              "nubPn88+uOxb+zFlyhTt3r37T7fh+i8ZvX//XgUFBert7dXIkSPdHCVt7EPuyMR+cPoEGEQBGEQB\n",
              "GK5H4ff7dfDgwS+fGjiIsA+5IxP74fqFNpBrXD9SALmGKACDKADD1SiePHmihQsXqqysTPPmzVNb\n",
              "W5ub46Rl165dCgaD8ng8evTokdvjpOXDhw9as2aNysrKNGvWLC1btkxPnz51e6zvtnz5cpWXl6ui\n",
              "okKLFy/Ww4cP09uQ46KlS5c6DQ0NjuM4zsWLF525c+e6OU5a7ty543R3dztTpkxxHj586PY4aenv\n",
              "73du3LjhfP782XEcxzlx4oRTWVnp7lBpePv2bfLjK1euOOXl5Wltx7UjxevXr3X//n1t3rxZkrRu\n",
              "3Tp1d3cPuv+hlixZopKSErfH+CF5eXlatWqVPJ4/3jxnwYIF6uzsdHeoNBQWFiY/7u3tTe7P93Lt\n",
              "hsDu7m6NHz8++YRyj8ejyZMnKxKJaOrUqW6NBUnHjx/X6tWr3R4jLVu2bFFra6sk6ebNm2ltw/W7\n",
              "ZJFbDh8+rKdPn+r27dtuj5KWM2fOSJKampq0d+/etMJw7fRp0qRJisVi+vTpkyTJcRxFIhFNnjzZ\n",
              "rZF+enV1dbpy5YpaWlo0YsQIt8f5IVu3blVra6t6enq++3Ndi2LMmDGaM2eOzp07J0m6fPmySkpK\n",
              "OHVyybFjx3T+/HndunUr5dx8sHj37p2i0Wjyz9euXdPo0aM1atSo796Wq7d5tLe3KxQKqaenRyNH\n",
              "jlRDQ4Nmzpzp1jhpqa6u1o0bN/Tq1SuNHj1agUBg0H2z4OXLl5o0aZJKS0sVCAQk/XEP0d27d12e\n",
              "bOC6urq0fv169ff3y+v1qri4WHV1daqoqPjubXHvE2DwE23AIArAIArAIArAIArAIArAIArAIArA\n",
              "IArAIArAIArA+Dc0NRunjhfv5QAAAABJRU5ErkJggg==\n",
              "\">\n",
              "        \n",
              "      </div>\n",
              "      <script></script>\n",
              "      <script type=\"text/javascript\">\n",
              "        (() => {\n",
              "          const chartElement = document.getElementById(\"chart-20fc53fe-e274-4785-ba97-3bbe1348ed3d\");\n",
              "          async function getCodeForChartHandler(event) {\n",
              "            const chartCodeResponse =  await google.colab.kernel.invokeFunction(\n",
              "                'getCodeForChart', [\"chart-20fc53fe-e274-4785-ba97-3bbe1348ed3d\"], {});\n",
              "            const responseJson = chartCodeResponse.data['application/json'];\n",
              "            await google.colab.notebook.addCell(responseJson.code, 'code');\n",
              "          }\n",
              "          chartElement.onclick = getCodeForChartHandler;\n",
              "        })();\n",
              "      </script>\n",
              "      <style>\n",
              "        .colab-quickchart-chart-with-code  {\n",
              "            display: block;\n",
              "            float: left;\n",
              "            border: 1px solid transparent;\n",
              "        }\n",
              "\n",
              "        .colab-quickchart-chart-with-code:hover {\n",
              "            cursor: pointer;\n",
              "            border: 1px solid #aaa;\n",
              "        }\n",
              "      </style>"
            ]
          },
          "metadata": {}
        },
        {
          "output_type": "display_data",
          "data": {
            "text/plain": [
              "<google.colab._quickchart_helpers.SectionTitle at 0x7f18ddc66b00>"
            ],
            "text/html": [
              "<h4 class=\"colab-quickchart-section-title\">Faceted distributions</h4>\n",
              "<style>\n",
              "  .colab-quickchart-section-title {\n",
              "      clear: both;\n",
              "  }\n",
              "</style>"
            ]
          },
          "metadata": {}
        },
        {
          "output_type": "display_data",
          "data": {
            "text/plain": [
              "import numpy as np\n",
              "from google.colab import autoviz\n",
              "df_3512796512796851295 = autoviz.get_registered_df('df_3512796512796851295')\n",
              "\n",
              "def violin_plot(df, value_colname, facet_colname, col_width=.3, col_length=3, **kwargs):\n",
              "  from matplotlib import pyplot as plt\n",
              "  import seaborn as sns\n",
              "  plt.figure(figsize=(col_length, col_width * len(df[facet_colname].unique())))\n",
              "  sns.violinplot(df, x=value_colname, y=facet_colname, **kwargs)\n",
              "  sns.despine(top=True, right=True, bottom=True, left=True)\n",
              "  return autoviz.MplChart.from_current_mpl_state()\n",
              "\n",
              "chart = violin_plot(df_3512796512796851295, *['pop', 'city'], **{'inner': 'stick'})\n",
              "chart"
            ],
            "text/html": [
              "      <div class=\"colab-quickchart-chart-with-code\" id=\"chart-46fa59a1-d26b-4e66-9398-9eb22e124a91\">\n",
              "        <img src=\"data:image/png;base64,iVBORw0KGgoAAAANSUhEUgAAAR4AAABhCAYAAAAAys52AAAAOXRFWHRTb2Z0d2FyZQBNYXRwbG90\n",
              "bGliIHZlcnNpb24zLjcuMSwgaHR0cHM6Ly9tYXRwbG90bGliLm9yZy/bCgiHAAAACXBIWXMAAA9h\n",
              "AAAPYQGoP6dpAAATm0lEQVR4nO3dfWxT97kH8O859rHjJLaTlCawvDY0dCRcAglZQ4Cy9o87WlGx\n",
              "omqDO8GlqbZO0KXr/mDaVScoqsRUiVtpVGhlikDTULsLU9Wq0zYJlVCahLTlJV4aEkxemqShAbTE\n",
              "dhy/nJfn/uH4EJOUvBC/Jc9HOrJ9zu/Yjw/Ow+/tnCMQEYExxmJIjHcAjLHFhxMPYyzmOPEwxmKO\n",
              "Ew9jLOY48TDGYo4TD2Ms5jjxMMZijhMPYyzmOPEwxmKOEw9jLOaM8Q5gofJ4PLh27Rr6+vowPDwM\n",
              "RVGQlpaG4uJilJeXw2q1xjtExuKGE888ISL09PTgwoULaG5uRmdnJ77tNDhRFFFVVYVt27ahuroa\n",
              "osgVT7a4CHyS6NwFg0G0tbXh4sWL+PTTTzE4OBixXTPboKZmgaRUgAim29egmqwwBD16mUcffRQ/\n",
              "//nPsW7duliHz1jccOKZISLCrVu34HQ60dHRgS+//BLt7e0IBAJ3ywgGKPZcKBkFUO15IFPq3TdQ\n",
              "FVgv/wmeit0QZC9Mtzsh3eqEoMkAgA0bNqCurg45OTmx/mqMxRwnnm/h8XjgcDjQ1taGzs5O3Lhx\n",
              "A263e1I5zWiBas+FkpEPxZ4HGKSp33BC4oFhvIWr+GEebIV0qx0CEVJSUlBbW4vt27fDaORWMFu4\n",
              "OPGMIyJ0dnaisbERLS0tcDqdk/poSBCgpWRAS1sCNe1hqNYcaCkZgCBM/wFTJZ5xom8Y5t4mGEeH\n",
              "AADLly/Hq6++ilWrVs3X12MsoSzqxKNpGtrb29HQ0IDz58/j9u3bEdtVsw2GgBv+gmqo6dnQLBmA\n",
              "OMeayH0SDwCACNIdJ8z9n0FQgwCAp556CrW1tcjLy5vbZzKWoKKWeI4fP44zZ85EjNiMjY1BkiRI\n",
              "UmRzpLi4GMeOHYtGGJMEg0E4HA40NTXhk08+wZ07d/RtJBqh2POgZORDteWCjCmwXjoJT+Ue4EFH\n",
              "nqZLPOME2QfTwCVId65DQGgE7KmnnsJzzz2H0tJSCDOpXTGW4KLWkTA4OIjjx4+jqKhIX3fw4EH0\n",
              "9vbi5MmTEWX37NkTrTAwMjKCrq4udHR0wOFwoLW1FX6/X99OogQlowBy1iNQ7d+JrNFoWtTi+jYk\n",
              "WRB4ZCPknJUwD1yC0TWAs2fP4uzZs8jPz8cTTzyBHTt28DwgltQSugczEAhEjBoBgNlshtlsnnbf\n",
              "lpYW/O53v8Pw8PCkbZrRAiUjD0pmIVTbd+befIoiLfUh+Fb8J0TvHZiG2mEc7kF/fz9OnToFSZKi\n",
              "mqwZi7aEnrl2+PBh2O32iOXw4cMz2vf8+fMRSUcz2+DPq4K3bBu8a3Yg8MgmqBkFCZl0JtLSlsBf\n",
              "/ARG1/wXNLMNQKjJylgyS+i/ut/85jf41a9+FbFuJrUdALDb7RGvxYAb5sErUD03odhCw9+UYpu3\n",
              "WKNJ8Lkg3bkOMTB5OJ+xZJTQiWemzaqp7N69G/n5+ejp6UFXVxc6Ozvh9XphdA3A6BoA+lugWjKh\n",
              "ZBZBySqCZsmc5+gfnMEzBNPNqzC6vtbXmc1mnuXMkl5CJ54HYbFY8Mwzz+ivVVVFd3c3Ll26hJaW\n",
              "FrS2tgK+YRh8w6GaUEoGlKwiKBmF0FKzZjY3J0pE3wjM/Z/D6OoHAAiCgOrqavzgBz/A448/DovF\n",
              "ErfYGJsPs048O3fuxC9+8QvU1NREI56oMRgMKCkpQUlJCXbs2AG3242mpiY0NDTgiy++APwjMAxe\n",
              "hXnwKjQpNTQbOT07tHOspjqpMkyDV2EaaoNABIPBgKeffho7d+5Ebm5ubGJgLAZmnXiefPJJ7N27\n",
              "F6IoYt++ffjJT36ClJSUaMQWVTabDVu2bMGWLVvg8XjQ1NSECxcu4IsvvoDfPwbxjhPSHScAIK31\n",
              "XWhpD0NNzYKW+hDUtCUgs3Vea0WGkX6kfNUMMTgKAFi/fj327t2L/Pz8efsMxhLFnCcQfvrppzh2\n",
              "7BjOnTuHXbt2Yd++fSgsLNS3Hzp0CB9//HFEUuru7oYsy3jsscci3stoNOKjjz6a41eYX4FAAA6H\n",
              "A5cvX8bVq1fhdDqhKMqkcprRDDU9B6p1GRR7Hshin+LdJviWCYRCYBTm/s8gDfcCAHJyclBXV4cN\n",
              "GzbM59diLKHMOfHcvn0bf/jDH3D8+HGsXbsWV65cwcsvv4xf//rX8x1jXAWDQXR3d8PpdOL69eu4\n",
              "ceMGbty4AVmWI8ppKTbIGYVQMguhpT08uTZ0T+IR5DGYvmmDNHQNAqkQRRHPP/88XnjhBe7DYQve\n",
              "rBPPxYsXcfToUTQ0NGDPnj3Yu3cvcnNz4fV6sXLlSvT19UUr1oQhyzKcTidaW1vx+eefw+FwRNSK\n",
              "NMkC1Z4HJT0HWmoWyJQGaCrSHf8HX+F6GN03YRzpg0ChmdHl5eWoq6vD8uXL4/WVGIupWSee1atX\n",
              "45VXXpmyb+edd97BSy+9NK8BJgOv14vPPvsMn3zyCVpaWmY8wa+srAy7du3C448/zudgsUVl1onn\n",
              "73//O55++umIdf/4xz+wZcuWeQ0sWYVPQr106RLa29v1ay4DoSH+wsJCVFZW4vvf/z5KSkriHC1j\n",
              "8THrxFNRUYHLly9Pu47dpWkaaHx4nDE2i+H069evo6OjAy6XCx9++KG+3uVy8blD0+CLuTMWacaJ\n",
              "p7m5GSdPnsStW7fw1ltv6ettNhuOHDkSleAYYwvTrJta9fX1ePHFF6MVD2NsEZhx4nE6nSgpKYHD\n",
              "4Zhy++rVq+c1MMbYwjXjxLN161Z89NFHeOSRRyAIQsSF0AVBQHd3d9SCZIwtLLNuan344YfYtGkT\n",
              "MjNDl5EYHh5GY2Mjtm7dGpUAGWMLz6wTz5o1a3D16lX9NRGhsrKSh9MZYzP2wNfjEQQBqqrORyyM\n",
              "3RcRwe/3w+12w+Vy6VM5vF6vvvh8Pvh8Pvj9fvj9fgSDQQSDQSiKAlmWoaoqNE3T51aFhWeOi6II\n",
              "URRhNBphMBhgNBphNBohSZL+KEkSTCbTpCV84Tqz2YyUlBT9MbxYLBZYLBakpKQs+hs2zvrbW61W\n",
              "NDU16dfjaWxsnPKOB4l6exuWWGRZxvDwMEZGRjA8PByxhNeNjIxgZGQELpcLwWAw3iHPC5PJhNTU\n",
              "1IglLS0N6enp+mN6ejqsVmvEYrPZkJ6eDovFktSn2cw68bz55pt47rnn8N3vfhdAaLTr/fffn1Qu\n",
              "UW5vw2JHlmV4vV54PB59cblceg0lnEAmLh6PZ9afYxAI6UaCSxbxqE1GmkSwGAkWAyHFSDCLBLMh\n",
              "tEgiIIkEoxjazyAAYnjB3RqPBgEqAUdabXjlP0LXttYotE7RAIWE0KMmQJ7wOqgJCKqhdbImIKgJ\n",
              "CKhAUA0/D20PaEBAFaBSKFmEa2IjIyNzOtZGo1FPRBMfJyYnq9WqJ7CJCS0RktasE8/69etx7do1\n",
              "NDc3AwBqamqQkZEx33EBeLDb27AH43Q60dzcrP+BBAIB+P1+/THcpPH5fBgdHcXY2Nikf6uZEgWC\n",
              "TSLYTBpsJg120/hzSYPNRLBJGqwmDVaJkC5pSDEAKgG1DQ/hfyrcMM7TxHBl/DZq5Q/J8/ae95I1\n",
              "wK8K8CuhpDSmCPAqAt5y2PDfK0YR0ASMyQLGFFHf5pVDj2OKiFE5lLwURdFrhrMliqLe7AvXtiY2\n",
              "CSc2GU0mEyRJgtlsxsaNG+ftwnRzamhmZmZGXM84Wg4fPozXX389Yt2BAwdw8ODBqH/2Ynfo0CH0\n",
              "9/c/0HukGjUstWhYYlFhG08atvEEYjdpsI4nlTSJIM72P+AkvfF2uAZmle5+gXDC2/ydwLQJjwgI\n",
              "qIBXEeFVBIzKArxyKCGNKQJGZVFPVnf8Btz2ixiVI99U0zS9T2w2Ghsb8fbbb89qn2+T0D1cD3J7\n",
              "G/Zgli5d+sCJZ0wR0e0R8dWoAekSwSqFko51vGYTruXYTXdrNnaThpSE/lXGVlDFeM1H1Gs+XlnA\n",
              "aPi1LGI0XCua8HxMEUCY3+bU0qVL5+29EvqfmJtV8XP48GEMDAxENLXCS3jUaGxsTF+8Xi9GR0f1\n",
              "JdzHEwgEoJIAV1CAKziz9otJvNvsCiencMIKN7csxlCNwRUQYDURTAly4r8y3tcTUEN9OuF+nvBr\n",
              "//gSUAX4lNBzrxxKEP/baoVvvPkVbmrJ2oMlD0mSIvp50tPT9Y7scHNr4jKxmWU2myNG8ObzhgMJ\n",
              "nXhY/BiNxoiBgbkKBAL60Pe9HcxTjWL5/X4EtVAz4Y5/+mzyanNWKF4h1LGcYgh1MpsMBJMISAYK\n",
              "dS4LgFEM9SeJCHUuCwIg4G6rTR1v8tR3pAHjnc2qhlCfCt3tWFbHH2USEFRDiSbUsRzqkJ6rtmHT\n",
              "lOsFQYgY4bq3Q3niY7hc+Hmi/sfNiYdFldlsRnZ2NrKzs6ctS0Tw+XwRiejeJTxK5na74fF4MDoa\n",
              "uiuHQqH+jlF5mg+ZgcZvHvyuKYIgRMzlCc/fmVi7SEtL0zt2LRbLpFGoiaNRC+3SKpx4WMIQBEEf\n",
              "ZZlptV7TNL2pF272hZuCgUBAbyrKsgxFUaCqqj6J8N5J++E/7okTByc+N5lM+iTC+00eDK+L95B1\n",
              "Iota4hFFEXv27Jny9jb3XiZ1sc/iZHMniqJeM2DJY863t2GMsblaWA1HxlhS4MTDGIs5TjyMsZjj\n",
              "xMMYi7lFl3gCgQAOHjw45xMa4y2Z40/m2IHkjj/RYl90o1putxt2ux0ulws2my3e4cxaMsefzLED\n",
              "yR1/osW+6Go8jLH448TDGIs5TjyMsZhbdInHbDbjwIEDCXvW7nSSOf5kjh1I7vgTLfZF17nMGIu/\n",
              "RVfjYYzFHycexljMceJhjMXcgko8TqcTNTU1WLFiBaqqqvDll19OWa6+vh4lJSVYvnw5fvrTn0KW\n",
              "5Rlti3fsH3/8Mb73ve+htLQUZWVl2L9/PzQtdL3O3t5eGAwGrFmzRl+6urpiEvtM429oaIDFYomI\n",
              "0efz6dsT+difOHEiIu4lS5Zg+/btAOJ77Ovq6lBUVARBECJuLX6vhPvN0wLy5JNP0okTJ4iI6PTp\n",
              "07Ru3bpJZbq7u2nZsmV08+ZN0jSNnn32WXr77ben3ZYIsV++fJm6urqIiMjn89GGDRv0fXp6eshu\n",
              "t8ck1qnMJP5z585ReXn5lPsn+rG/V1lZGZ05c4aI4nvsz58/T/39/VRYWEhXrlyZskwi/uYXTOIZ\n",
              "Ghoiq9VKsiwTEZGmaZSTk0NOpzOi3JtvvkkvvfSS/vpvf/sbbdiwYdptiRD7vfbt20cHDhwgovj+\n",
              "+Gca//0STzId+4sXL9LDDz9MwWCQiOKf9InovoknEX/zC6ap1d/fj2XLlumXURUEAQUFBejr64so\n",
              "19fXh8LCQv11UVGRXuZ+2xIh9om++eYbnDlzBlu3btXXeb1eVFVVoaKiAocOHYKqqlGPHZhd/F1d\n",
              "XaioqEBVVRWOHTumr0+mY19fX49du3ZBkiR9XbyO/Uwk4m+eL3achNxuN5599lns378f69atAwAs\n",
              "W7YMX3/9NbKzs/Hvf/8bP/7xj3HkyBHs378/ztHeVVFRgYGBAdjtdgwMDOCZZ57BkiVL8KMf/Sje\n",
              "oc2Y1+vFe++9h4sXL+rrkuHYJ5oFU+PJz8/HzZs3oSgKgNCtUvr6+lBQUBBRrqCgAF999ZX+ure3\n",
              "Vy9zv22JEDsAeDwebNmyBdu2bYu4y2r4NjIAkJWVhdraWly4cCHqsc8mfpvNBrvdDgDIy8vDzp07\n",
              "9RiT4dgDwOnTp1FWVobS0lJ9XTyP/Uwk4m9+wfTxEBFt3rw5opOwsrJyUpmurq5JnWlHjx6ddlsi\n",
              "xO7xeKimpoZef/31SduGhob0Pge/30/PP/88/fa3v41qzBPNJP7BwUFSVZWIiNxuN9XU1FB9fT0R\n",
              "Jf6xD9u4cSP98Y9/jFgX72NPdP8+nkT8zS+oxNPR0UHV1dVUUlJClZWV5HA4iIjoxRdfpA8++EAv\n",
              "d/z4cSouLqbi4mKqra3VfzTTbYt37G+88QYZjUYqLy/XlzfeeIOIiP76179SWVkZrV69mkpLS+nl\n",
              "l18mv98fk9hnGv/Ro0eptLRUj/HAgQOkaZr+Hol87MPl0tPTye12R+wfz2P/s5/9jHJzc8lgMFB2\n",
              "djYtX758ytgT7TfP52oxxmJuwfTxMMaSBycexljMceJhjMUcJx7GWMxx4mFRIwgCXnvtNaxduxYr\n",
              "VqzAqVOn9G3//Oc/UVFRgdWrV2Pz5s1ob28HEDqRdNWqVdi9ezdWrVqFysrK+578yJJU1MfN2KIF\n",
              "gF577TUiCs0XyczMpJ6eHhoaGqKsrCx92PrPf/4zrVy5kjRNo3PnzhEAOnv2LBER/eUvf6HHHnss\n",
              "YtidJT8eTmdRIwgCent79XOBfvjDH2L79u3IzMzEkSNH0NDQoJfNyMhAW1sbbty4gRdeeAE9PT0R\n",
              "2xwOR2xm1LKY4KYWiylBEOa0z1z2Y4mLEw+LqhMnTgAInQN04cIFbNq0CdXV1fjXv/6FtrY2AMB7\n",
              "772H3Nxc5Obm6mXPnTsHADhz5gxycnKQl5cXny/AooLPTmdRpaoq1q5dC6/Xi9///vcoKioCAJw6\n",
              "dQq7d++GoijIzMzE6dOn9VpNWVkZTp48ibq6OphMJrz77rtc41lguI+HRY0gCBgeHkZGRsaM92lo\n",
              "aMAvf/lLHsla4LipxRiLOa7xMMZijms8jLGY48TDGIs5TjyMsZjjxMMYizlOPIyxmOPEwxiLOU48\n",
              "jLGY48TDGIs5TjyMsZj7f0FFIgNg1lEWAAAAAElFTkSuQmCC\n",
              "\">\n",
              "        \n",
              "      </div>\n",
              "      <script></script>\n",
              "      <script type=\"text/javascript\">\n",
              "        (() => {\n",
              "          const chartElement = document.getElementById(\"chart-46fa59a1-d26b-4e66-9398-9eb22e124a91\");\n",
              "          async function getCodeForChartHandler(event) {\n",
              "            const chartCodeResponse =  await google.colab.kernel.invokeFunction(\n",
              "                'getCodeForChart', [\"chart-46fa59a1-d26b-4e66-9398-9eb22e124a91\"], {});\n",
              "            const responseJson = chartCodeResponse.data['application/json'];\n",
              "            await google.colab.notebook.addCell(responseJson.code, 'code');\n",
              "          }\n",
              "          chartElement.onclick = getCodeForChartHandler;\n",
              "        })();\n",
              "      </script>\n",
              "      <style>\n",
              "        .colab-quickchart-chart-with-code  {\n",
              "            display: block;\n",
              "            float: left;\n",
              "            border: 1px solid transparent;\n",
              "        }\n",
              "\n",
              "        .colab-quickchart-chart-with-code:hover {\n",
              "            cursor: pointer;\n",
              "            border: 1px solid #aaa;\n",
              "        }\n",
              "      </style>"
            ]
          },
          "metadata": {}
        },
        {
          "output_type": "display_data",
          "data": {
            "text/plain": [
              "<google.colab._quickchart_helpers.SectionTitle at 0x7f18ddac1bd0>"
            ],
            "text/html": [
              "<h4 class=\"colab-quickchart-section-title\">Time series</h4>\n",
              "<style>\n",
              "  .colab-quickchart-section-title {\n",
              "      clear: both;\n",
              "  }\n",
              "</style>"
            ]
          },
          "metadata": {}
        },
        {
          "output_type": "display_data",
          "data": {
            "text/plain": [
              "import numpy as np\n",
              "from google.colab import autoviz\n",
              "df_5473559592904422118 = autoviz.get_registered_df('df_5473559592904422118')\n",
              "\n",
              "def time_series_multiline(df, timelike_colname, value_colname, series_colname, figsize=(2.5, 1.3)):\n",
              "  from matplotlib import pyplot as plt\n",
              "  import seaborn as sns\n",
              "  def _plot_series(series, series_name):\n",
              "    if value_colname == 'count()':\n",
              "      counted = (series[timelike_colname]\n",
              "                 .value_counts()\n",
              "                 .reset_index(name='counts')\n",
              "                 .rename({'index': timelike_colname}, axis=1)\n",
              "                 .sort_values(timelike_colname, ascending=True))\n",
              "      xs = counted[timelike_colname]\n",
              "      ys = counted['counts']\n",
              "    else:\n",
              "      xs = series[timelike_colname]\n",
              "      ys = series[value_colname]\n",
              "    plt.plot(xs, ys, label=series_name)\n",
              "\n",
              "  fig, ax = plt.subplots(figsize=figsize, layout='constrained')\n",
              "  df = df.sort_values(timelike_colname, ascending=True)\n",
              "  if series_colname:\n",
              "    for series_name, series in df.groupby(series_colname):\n",
              "      _plot_series(series, series_name)\n",
              "    fig.legend(title=series_colname, bbox_to_anchor=(1, 1), loc='upper left')\n",
              "  else:\n",
              "    _plot_series(df, '')\n",
              "  sns.despine(fig=fig, ax=ax)\n",
              "  plt.xlabel(timelike_colname)\n",
              "  plt.ylabel(value_colname)\n",
              "  return autoviz.MplChart.from_current_mpl_state()\n",
              "\n",
              "chart = time_series_multiline(df_5473559592904422118, *['year', 'pop', 'city'], **{})\n",
              "chart"
            ],
            "text/html": [
              "      <div class=\"colab-quickchart-chart-with-code\" id=\"chart-6ad576cc-59ea-4341-926f-ff2c056121d2\">\n",
              "        <img src=\"data:image/png;base64,iVBORw0KGgoAAAANSUhEUgAAAUQAAACNCAYAAADPegMOAAAAOXRFWHRTb2Z0d2FyZQBNYXRwbG90\n",
              "bGliIHZlcnNpb24zLjcuMSwgaHR0cHM6Ly9tYXRwbG90bGliLm9yZy/bCgiHAAAACXBIWXMAAA9h\n",
              "AAAPYQGoP6dpAAAiuklEQVR4nO3deVxVdf4/8NfdL1e57MtluawCCsimZGppOBpSqZNomhqYZo5p\n",
              "Zc6YLa7zVXn8xnIcrVxCbLLUQhqn0MolBkwHNUNBHNGU1QvIDrJe+Pz+uJcT13tBQHbez8fjPICz\n",
              "fM77HA5vPudzzv18eIwxBkIIIeD3dgCEENJXUEIkhBAtSoiEEKJFCZEQQrQoIRJCiBYlREII0aKE\n",
              "SAghWpQQCSFEa8AnxB07dvR2CISQfkLY2wF0t6ysrN4OgZB+hzEGtVqNxsbG3g7lkQkEAgiFQvB4\n",
              "vIeuO+ATIiGkY+rr66FSqVBdXd3boXQZmUwGhUIBsVjc5nqDOiFu+Pc1GEuFmOqjwHCFcbv+gxAy\n",
              "kDU1NeHOnTsQCASws7ODWCzu138XjDHU19fj3r17uHPnDoYNGwY+v/WWwkGbECtqG/BlcjbqG5uw\n",
              "88wtOFvIMNVXgTAfBXzs5f36IiCks+rr69HU1ARHR0fIZLLeDqdLGBkZQSQSISsrC/X19ZBKpa2u\n",
              "O2gToljAx99mjcTxVBUSbtxDZnE1Pkn4DZ8k/AZHcyOE+Sgw1VcBPwcTSo5k0GmrFtUftfd4Bm1C\n",
              "lIoEmO5vj+n+9rhfp8ZPNwpxIjUfZ/5XiJySGuxJvI09ibdhZyLV1Bx9bRHgaAY+n5IjIQPVoE2I\n",
              "LQ2RCPHsSDs8O9IONfWN+E9GIeJT83HmegHultci+uwdRJ+9Axu5BFN9FJjqY4tRzuYQUHIkpMPC\n",
              "wsKwfft2eHp64sCBAxgzZgy8vLx6OywAlBD1GIkFCPVRINRHgdqGRiRm3MOJtHycSi9AQUUdDpzL\n",
              "xIFzmbAcKkGojw3CfBQIdjGHUDCwbjEI6S7Hjx/nvj9w4ABMTU37TEKkv+I2SEUCTPG2xfYX/HFp\n",
              "7R+wP3IUwoMcIJcKUVRVh4P/zcaLnyYjeMtpvBN3FYkZ99DQ2NTbYRPSZ5w/fx7jx4+Hn58fRo4c\n",
              "iWPHjsHZ2RkpKSn49NNPcenSJaxcuRL+/v44fvw4fH19ce7cOW77vXv34oUXXuixeKmG2E4SoQAh\n",
              "XjYI8bJB/R99cf52MU6kqvDDtXyU3K/HoQs5OHQhByZGIkwZYYMwXwXGuVtCLKT/OWRwKikpwYwZ\n",
              "MxAbG4snnngCTU1NKCsr45YvXrwYBw8exJtvvokZM2YAAPLy8rBr1y6MHTsWAPDRRx9h165dPRYz\n",
              "JcROEAv5mOBhhQkeVvi/GT5IvlOC49rkWFRVj69/ycXXv+TCWCrE5BGa2+rxwywhFQl6O3RCesz5\n",
              "8+fh6emJJ554AoDmSa+5uXmb28yfPx/r1q1DQUEBbt68CR6Px23fEyghPiKhgI9x7pYY526JTdN9\n",
              "cDGzBCdSVTiRlo/CyjrEXc5D3OU8DJUIMWm4Nab6KDDR04qSIyEGGBkZITIyEnv27MH169fx2muv\n",
              "9ej+uzUh3rx5ExERESgqKoKJiQkOHDgAb29vnXViYmJ0OmDIzc3Fk08+ibi4OGRmZsLNzQ2+vr7c\n",
              "8qNHj8LNza07w+40AZ+HMa4WGONqgfXPeeNydiniU1X4Pi0fqvJaHEu5i2MpdyETC/CUlzXCfBR4\n",
              "yssKMjH9XyIDz9ixY3Hz5k0kJSUZvGUGALlcjvLycp15r732GsaMGYOGhgZER0f3YMTdnBBfffVV\n",
              "LFmyBJGRkYiNjUVkZCQuXryos87ChQuxcOFC7mcfHx/MmzeP+9nY2BgpKSndGWa34PN5GOVsjlHO\n",
              "5lj7zAik5JbhRKoKx1PzkVdWg/irKsRfVUEq4mOihzWm+tpi0nAbDJVQciQDg5mZGb755husWrUK\n",
              "lZWV4PP5+Otf/6qzzpIlS7Bq1Sps374dW7ZsQVhYGBwcHBAQEAAPD48e/7QMr7vGZS4sLIS7uztK\n",
              "SkogFArBGINCocDZs2fh7u5ucJvk5GQ899xzyMvLg0gkQmZmJvz9/fX+q7Smrq4OdXV1OvPWrl3b\n",
              "p7oAY4whNa8cx1PzcSJNhazi3z9ALxby8eQwK4Rpk6OJkagXIyWDUW1tLe7cuQMXF5c2P+LWne7f\n",
              "vw9PT08kJSXBxcWlS8ps73F12yPQnJwcKBQKCIWaGg+Px4NSqUR2dnar20RHR2PBggUQiX5PBPfv\n",
              "38fo0aMRGBiITZs2tdkd0datW2FiYqIzXbhwoesOqgvweDyMdDDFmqleSPjzRMS/Ph7Ln3KHq+UQ\n",
              "1KubcOp6Ad766gpG/d9JLIy5gK8u5aCsur63wyakR+zevRteXl5YtmxZlyXDjui2GuIvv/yCF198\n",
              "ETdu3ODmBQcHIyoqCiEhIXrr379/HwqFAv/9738xYsQIAJoaX3l5OaytrVFSUoIXXngBkydPxurV\n",
              "qw3usz/UEFvDGENGQRWOp6pwIk2FjIIqbpmQz8NYd0uE+dhiirctzIe03YURIZ3VF2qI3aG9x9Vt\n",
              "DVaOjo5QqVRQq9XcLXN2djaUSqXB9b/++mt4e3tzyRAAJBIJrK2tAQDm5uZ4+eWX8eWXX7aaECUS\n",
              "CSQSic48gaB/PM3l8XjwtDWGp60xVk72wK3CSpxIzcfxtHxcV1UgMeMeEjPu4b1/pWGMqzmm+ijw\n",
              "tLctrIwlDy+cENIu3ZYQra2tERgYiIMHDyIyMhJHjx6Fg4NDq+2H0dHRWLRokc68wsJCmJmZQSQS\n",
              "oa6uDnFxcQgICOiukPsUd2tjrJhkjBWThuFO0X2cSFPheKoKaXkV+PlWMX6+VYy1x9IQ7GyOMF8F\n",
              "Qn1sYSMfOP/RBwvGGIqq6pFdUo2ckmpkl1TD206OScNteju0QanbbpkB4MaNG4iMjERxcTHkcjli\n",
              "YmLg6+uLxYsXY9q0aZg2bRq33qhRo3D37l0YGxtz28fFxWHdunUQCARQq9UICQnBtm3b9GqBbXnr\n",
              "rbfw4Ycfdvmx9Zbs4mpNckzLx5WcMm4+jwcEKc0w1VfT+YSdqVHvBUl01DY0csmuecopqeHm1TTo\n",
              "tovPGe2IqJkjeyfWQX7L3K0JsS8YaAmxpdzSanyflo8Tafn4JatUZ5m/oynCfG0x1UcBR/OB0dFn\n",
              "X9XUxHCvqk6T7IqrdWp72SXVKKysa3N7Hg+wMzGCo7kRlOYyjHWzxIwA+x6KXtdgT4j00ls/5mAm\n",
              "w+InXLH4CVfkl9fie23N8WJmCVJyypCSU4Ytx/8HX3sTTPW1RZiPAs6WQ3o77H7pfp0aOaWGE15u\n",
              "aQ3q1G136mEsEcLRXAaluQxKC9nv35vLYGcqhUTYP9q6e8PevXsRGxur08lrdXU1RCKRzhspAODq\n",
              "6oqPP/640/uihDhA2JpIETnOBZHjXFBYWYsfrhXgRKoK/71djNS8cqTmleP/fX8DIxRyTc3RVwE3\n",
              "q6G9HXaf0djEUFBR2+KWtlrn+6Kqtl99EvB5sDOVckmuZcJTmstgYiSintc76e7du9i7dy+cnZ25\n",
              "eRs2bEBmZiYOHDigs25kZOQj7YsS4gBkbSzFgjFOWDDGCcVVdfgxvQDHU1U491sx0lUVSFdVYNuP\n",
              "GfC0MdbUHH0VGGY9dMD/wVbWNuglu2xtW15uaTUaGttuPTKViXSSnaPZ7wlPYSqFaAD2ickY02vj\n",
              "7GpGIkGfufYoIQ5wFkMlmBusxNxgJUrv1+PkdU1y/PlWEW4UVOJGQSX+fuom3KyGIMxX0a9HIFQ3\n",
              "NkFVXmuwhpddUo3S6oY2txcJeLA3NdKr3Tlqp8H4yaGahkaMWPdDt+4jfdPTfebz/H0jCtIjzIaI\n",
              "MXuUI2aPckR5dQNOXS/AiTQVEjOK8Nu9+9h55lafH4GwvLpB52lty4SXV1aDxqa2a3kWQ8QGE57S\n",
              "QgZbuZSGhRjkKCEOUiYyEWYGOWBmkAMqaxtw5n+FBkcgdDAz0tYcbeHvaNrtybFe3YS7ZTW/J7vS\n",
              "FrW94mpU1Krb3F4s5MPRzEivdtf8PXWe0TFGIgHSNz3d7fvoK+jqIDCWilodgTC3tAZ7E29jr3YE\n",
              "wlAfBZ4Z2fkRCBljKG1Ry8tp8apKdkk1VOU1eEglD1bGklYfXlgbS2hkxC7E4/H6zO1sTxg8R0ra\n",
              "xdAIhMdT83FaOwLh/p/vYP/PbY9AWKduRG5pjV7CyynVPMCoqmu7licV8VtNeA5mMhiJ+06Nggws\n",
              "lBBJqx4cgTDpZhFOpKpw0sAIhI+5mONeVR1ySqqRX1GLtl735/EAW7lUJ9k1v5TsaC6D1VBJn2q3\n",
              "JIMHJUTSLlKRAJNH2GDyCBvUqRtx7lYx4lNV+PFaPoqq6hCfqtJZf4hYoFu7a/Eysr2pEQ2hQNqN\n",
              "z+cjMjJS5xMmt2/fRkNDA0JDQ3XWbe5usLMoIZIOkwg1QyA85WXNjUD4P1UFFKa/P8wwk9GLyKRr\n",
              "rFu3DuvWreuRfVFCJI+k5QiEhPR3A+/VekII6SRKiIQQokUJkRBCtCghEkKIVqcfquTm5oLH48He\n",
              "vvWOLNszUH1CQgKmTp0KT09Pbt758+dhZKTp8Tk6OhpRUVFoampCSEgIPv74Y70+0AghA1ef7g/x\n",
              "ypUrmDNnDvLz88Hj8WBra4tDhw7Bz89Pb932DFQPAJ6engYHo79z5w7Wrl2Ly5cvw8bGBtOnT8fe\n",
              "vXvx2muvdTRsQkhnMAY0VD98vUchkmne1m9Fn+4PcfHixdi0aRNmzZoFAIiNjcXixYv1El1hYSEu\n",
              "XbqEH3/8EQAwc+ZMLF++HLdu3Wp1oKkHxcbGYtq0abC1tQUALF26FFu2bKGESEhPaagGtth17z7e\n",
              "vQuI+0ZP7h1uQ6ytreWSIQCEh4frjYUMdGyg+t9++w2BgYEYPXq0TnU3OzsbTk5O3M/Ozs5tDnRf\n",
              "V1eHiooKnamtge0JIaSlDtcQAwMDkZCQgIkTJwIA/vOf/yAoKKjTAQQGBiI3NxcmJibIzc1FWFgY\n",
              "LC0tMXv27A6XtXXrVmzcuFFn3pgxYzodGyGDnkimqcF19z76iA7XEC9fvoxJkybBzc0Nbm5uCAkJ\n",
              "waVLlxAYGIjAwEBuvZYD1QNodaB6uVwOExMTAICDgwPmzp2LpKQkAIBSqURWVha3bmZmZqsD3QPA\n",
              "O++8g/Lycp0pODi4o4dICGnG42luZ7tz6kMf8exwDXHXrl3tWq+9A9WrVCrY2NiAz+ejsrIS3333\n",
              "HTdg/cyZMzF+/Hhs2LABNjY22L17N+bMmdPqPiUSid6YzQIBdSJACGmfDifECRMmANA8+QEAO7vW\n",
              "G1z37NmDyMhIbNmyhRuoHoDOQPVHjx7FJ598AqFQCLVajVmzZmHhwoUANI/QN27ciHHjxgEAJk6c\n",
              "iFdffbWjIRNCSLt0OCFev34d4eHhXEJ0cHDA119/DS8vL711PT09cf78eb35n376Kff98uXLsXz5\n",
              "8lb398orr+CVV17paJiEENJhHU6Iy5Ytw3vvvYcXX3wRAHD48GH86U9/wk8//dTlwRFCSJ/uD7G0\n",
              "tJRLhgAwZ84cREVFPVIQhBDSmp7sD7HDT5kFAgHS09O5n9PT0+nBBSFkQOhwDXHLli148sknMXLk\n",
              "SDDGkJaWhi+++KI7YiOE9JKmpqbeDqFLtfd4OpwQn376aVy/fh3JyckANC8+W1padrQYQkgfJBaL\n",
              "wefzcffuXVhZWUEsFvfroSAYY6ivr8e9e/fA5/MhFovbXL9TLZA1NTUoKysDj8dDTU1NpwIlhPQ9\n",
              "fD4fLi4uUKlU3JskA4FMJoNSqdTpMceQDifEL7/8EitWrMCECRPAGMObb76JnTt3tvnCNCGk/xCL\n",
              "xVAqlVCr1QOiLwCBQAChUNiumm6HE+KmTZtw6dIluLi4ANB8nC40NJQSIiEDCI/HM9jf4EDX4afM\n",
              "MpmMS4aApgcamazvfDibEEI6q8MJ8ZlnnsGGDRuQm5uLnJwcbNq0Cc899xzX3RYhhPRXPMYY68gG\n",
              "bTVK8ni8Ptfm8NZbb+HDDz/s7TAIIf1Ah9sQB9r7SYQQ0oxG3SOEEC1KiIQQokUJkRBCtCghEkKI\n",
              "FiVEQgjR6taEePPmTYwdOxYeHh4YPXo0rl27prfOmTNnEBwcjBEjRsDb2xurV6/mnmRnZmZCIBDA\n",
              "39+fm3777bfuDJkQMoh1a0J89dVXsWTJEmRkZODtt99GZGSk3jpmZmY4fPgw0tPT8csvv+DcuXP4\n",
              "5z//yS03NjZGSkoKN7m5uXVnyISQQazbEmJhYSEuXbqE+fPnA9CMoJeTk4Nbt27prBcQEABXV1cA\n",
              "gFQqhb+/PzIzMzu1TxqonhDyKLotIebk5EChUHBjHPB4PCiVSmRnZ7e6TX5+PmJjY/Hss89y8+7f\n",
              "v4/Ro0cjMDAQmzZtajPBbd26FSYmJjrThQsXuu6gCCEDWp95qFJRUYHnnnsOq1evxqhRowAACoUC\n",
              "eXl5uHjxIk6dOoWkpCR88MEHrZZBA9UTQh5FtyVER0dHqFQqqNVqAJqea7Ozs6FUKvXWraysRGho\n",
              "KKZPn4633nqLmy+RSGBtbQ0AMDc3x8svv4ykpKRW9ymRSCCXy3UmGu+FENJe3ZYQra2tERgYiIMH\n",
              "DwIAjh49CgcHB7i7u+usV1VVhdDQUISGhuL999/XWVZYWIiGhgYAmvbBuLg4BAQEdFfIhJBBrltv\n",
              "mffs2YM9e/bAw8MDUVFRiImJAQAsXrwY//73vwEAO3bswIULFxAXF8e9WrN582YAwNmzZxEQEAA/\n",
              "Pz8EBgbC1tYW7733XneGTAgZxDrc/Vd/Q91/EULaq888VCGEkN5GCZEQQrQ6NQzpgJF1DmDU4W2X\n",
              "EIgBuT1gbAvw6ck+6Z8Gd0I8OBNoqO7tKAYWvlCTGE2VgIkjYOqo+9XEARBKejtKQgwa3AnRchjQ\n",
              "UNvbUQwM6hqg4i7QpAbKsjSTQTxgqI1+omyZQCXGPRo6Ic0Gd0J8NbG3IxhYmhqBynygLBsoz2nx\n",
              "Nef3r+oaoCpfM+VeNFyO1FSTGE2dDNQylYDMHGjHoOOEdNTgToika/EFgIm9ZsLj+ssZA6qLDSfK\n",
              "8mzN19oyzZRfBuSnGt6PSGY4UTb/TO2YpJMoIZKew+MBQyw1k32g4XVqK4Dy3N9rmA8mz6oCTbtv\n",
              "0Q3NZAhfBMjtqB2TdBglRNK3SOWAdARgM8Lw8oZaoCKv9VpmxV2gqaH97Zg6SbNFLVMytNsOkfRd\n",
              "lBBJ/yKSAhZumsmQpkagUtUiUbZozyzL0dQ+29OOaWSm/7CH2jEHPEqIZGDhCzS3xCYOaLUd837R\n",
              "722WhmqZteVATalmyr9qeD+iIZp9UDvmgEIJkQwuPB4w1Eoz2QcZXqe24oFEaagd83772zEN1TLl\n",
              "DoBQ3H3HSTqFEiIhD5LKAak3YONteHlDrfbBTyu1zIq89rVjGtsavh23HAaYu3Tb4ZHWUUIkpKNE\n",
              "UsDSXTMZ0qjWtGM++EpRy8SprtWsU6kCch8Y5sInHAiP7v7jIHooIRLS1QRC7RNsR8DJwPIH2zEf\n",
              "vCW38urxkIkGJURCelp72jFJr6DuvwghRIsSIiGEaA34IQSef/55ODs7G1zW2NiICxcuIDg4uEtG\n",
              "5+vq8vpLmRRjz5bp5OSEN954o0v2R3QN+ITYloqKCpiYmKC8vBxyubzPlddfyqQY+3aZpP3olpkQ\n",
              "QrQoIRJCiBYlREII0RrUCVEikWD9+vWQSLqmb7yuLq+/lEkx9u0ySfsN6ocqhBDS0qCuIRJCSEuU\n",
              "EAkhRIsSIiGEaPWbhFhbW4sZM2bAw8MDfn5+mDx5Mm7dugUAKCwsRGhoKIYNGwYfHx8kJv4+vOjC\n",
              "hQu5bcaNG4eLFy9y5QUEBEAikYDH48HT07PN8qqrqzF37lzI5XKIxWI4Oztz5e3fvx++vr7g8XiQ\n",
              "SqXg8Xiwt7dvM8Yff/wRc+fOhbu7O+RyOezs7PRiTElJAZ/Ph0AgeOQY//jHP8Lf3x8ODg5ceRYW\n",
              "Fm3G+Pbbb8PX1xdCoRCPPfaYznlMSkrC3Llz4erqCrFYDKFQCCMjI8jlcsTExLQaY1NTE1asWAFj\n",
              "Y2OIxWLY29tzMcbHxyMoKAh8Ph9isRgSiQQymQyBgYGtxpiQkIAVK1bAzc0Ncrkc1tbWeuexsLAQ\n",
              "MpkMQqHwkcsMDw+Hv78/Ro4cyV07IpHoocfdfGwCgQBmZmY6MTafEzMzM0gkEjg4OMDf3x+HDx9u\n",
              "9e+h+Xft7u4ODw8PxMbGcsuar0ehUIi///3vnf2TG5xYP1FTU8Pi4+NZU1MTY4yxnTt3sgkTJjDG\n",
              "GFu4cCFbv349Y4yxCxcuMHt7e1ZfX88YY+zYsWOsoaGBMcbYt99+y5ycnLjydu7cya5du8YWLFjA\n",
              "nn/++TbLW7duHYuIiGDHjh1jGRkZzMrKin3xxRfMycmJpaSksPT0dBYaGspmzZrF5s+fz7Zv395m\n",
              "jHK5nC1YsIAxxtjevXuZpaUlKyoq4mKsr69nY8eOZUFBQWz+/PmPHGOz5ORktmbNGiYSidjf/va3\n",
              "NmO0trZmV65cYQsWLGCLFi3SOY+mpqYsIiKC1dTUsDfffJNZWFiwoqIitmbNGiYQCFhVVZXBGKOj\n",
              "o1lISAj75ptvWEFBAVMqlWzXrl3MycmJ3bhxg6WkpLDw8HD2zDPPsKamJpaSksKkUikbP368wRjN\n",
              "zMzYxIkTmVqtZgcPHmSOjo4sLS1N53c9Y8YMFhISwkaPHt1lZdbU1LA///nPTCwWM5VK9dDjTktL\n",
              "YykpKWzWrFlsxYoVOtfjZ599xkJCQlhRURErLi5mSqWSnT59mhkbG7N79+4Z/HvYuHEji4iIYIwx\n",
              "dvv2bWZlZcWKiooYY4y7HhcsWMC2b99ucHtiWL9JiA+6ePEid3EOGTKEqVQqbtno0aPZyZMn9ba5\n",
              "d+8eEwqF3B92s4iICLZy5co2y1Mqlez8+fPcvFmzZrEPP/xQp7yIiAi2fft27mtbMUqlUrZjxw6d\n",
              "8vbt28fF+O6777IdO3aw9evXszfeeKPLYmSMsaVLl7Lhw4c/NMbm89h8PC3PIwCWlJSkF39ycjLj\n",
              "8Xjszp07BssLDg5mhw4d4ub95S9/YStXrtSJsfmYGWOssbGRyWQyZm9vbzBGExMT9u677+qU9957\n",
              "73Hncc+ePWzlypUsJiaGTZ8+vUvKbI4zKiqKK/Nhx918PbY8tubyQkND9c7J0qVL2dChQ1lBQQEz\n",
              "ZMSIEXq/63379ums8+DvjTxcv7llftCOHTswffp0FBcXo6GhAba2ttwyZ2dnZGdnG9wmLCwMQqF+\n",
              "N5CJiYltlldQUAAnJyedeXFxca2W97AY1Wo11Gq1Xsw7duzA448/juTkZKxYsaLLY6ypqcGhQ4cw\n",
              "bNiwRzqPAoEAbm5ueuu+8cYbsLCwwNChQw2Wl5eXpxfjqVOnWj2PMTExkEgkeP755w3GyB54a6zl\n",
              "eZw4cSL27duHzZs3d1mZLePcv38/Fi1aBAAPPe62rsfc3FzunPzjH//AZ599hn379mHv3r2wtrbW\n",
              "2w4AsrOz9c6joX2QjumXHcRu2bIFt27dwunTp1FTU9OubQ4ePIivvvpKp32x2dWrV1FSUoKtW7e2\n",
              "u7xr164hPT0d6enpBpefPHkSJSUlHYrx6tWrSE9Ph1QqxbFjx8BrMcxlV8UYGxsLDw8PmJmZdSrG\n",
              "5vNo6MXhb7/9Funp6UhOTtaJvS0XLlxAVlYWTp48qbfs9OnTWLVqFZydnREVFdXuGG/fvo3k5GRY\n",
              "Wlpi165dMDIy6rIym6+fpKQkVFZWIiwsDIsWLcLly5c7dNwtr8c//OEP3PzXX38dQqEQx48fx5Yt\n",
              "WzBlyhRYWFi0q0zy6PpdQty2bRvi4uJw6tQpyGQyrrE8Pz+f+6+cmZkJpVLJbXPkyBFs3LgRp0+f\n",
              "ho2NjV552dnZWLVqFVeeQCCAt7c3RCIRxo0bh8zMTNjY2CArKwsKhQJHjhxBYmIi3n//fb3yACAt\n",
              "LQ0FBQVITU2FTCZDZmYm1Go1vL29MXHiRHz00UcQCoU6NaKkpCTcvn0bn3/+OebNm4ennnoKAFBW\n",
              "Voba2loAwPr16x85xujoaCxatAj79u17aIxtncepU6dy+wKAo0ePIisrCz/99BP8/f0BAEKhkIvR\n",
              "xcUFeXl5sLe3R1ZWFh5//HEcOXIEx44dw0svvaR3HnNzczFz5kzY29sjISEBMpkM9fX1XIweHh74\n",
              "5ptv9BLQ999/j/T0dCQmJmLChAl44YUXAABVVVWorKzEd999B09Pz06VmZKSwsUZHR2NiIgILF++\n",
              "HJ9//jlOnz7d5nG3PI8ZGRmIj4/nrkelUsmdk+br19/fH2q1GgkJCRg+fDhefPFFAMC4cePw0Ucf\n",
              "cds0n//MzExMmTJF71okHdTb9+wd8cEHH7DAwEBWUlKiMz8iIkKnEdvOzo57qHLkyBHm7u7OMjMz\n",
              "Wy1vzpw5Om0thsp7//33WUREBDty5AhzcnJi5ubmeg3eERERbPr06czc3Jxt3ry5zRiNjY25hyo7\n",
              "d+5kAoGAXb58WS/GKVOmMGtr6y6J8ebNm2zIkCFs8+bN7Yqx+TxGRESwl156Sec8rl+/nmvUX7Bg\n",
              "AQPA/vWvfz20vH379rGQkBB26NAh5urqyuzs7NjVq1d1touMjGRisZh5eXk99HdtamrKPQCJjo5m\n",
              "QqGQff/993rncc2aNUwoFHZJmeXl5WzIkCFs3rx5TCQSsYSEhHadR8YYCw8PZyYmJjrXY0xMDAsJ\n",
              "CWFXr17lHqrEx8cza2trlp6erncsD57/5ocqhq5HakPsmH6TEHNychgA5urqyvz8/Jifnx8LDg5m\n",
              "jDGWn5/PJk+ezNzd3dmIESPYmTNnuO2EQiFzcHDgtvHz82NFRUVceQKBgPF4PMbn85lIJGKXL182\n",
              "WF5VVRWbPXs2A8CEQiFzcnLiytu5cyezt7dnIpGIAWAAuPJ8fHwMxhgfH89mz57NXF1dGQBmYWHR\n",
              "aow8Hu+RYywqKmLvvPMOCwoK4sp8WIyrV69m9vb2TCaTcefKw8OD+fn5MV9fXzZ9+nSmVCq545VK\n",
              "pUwqlTKZTMauXr1qMEa1Ws2WLVvGlWdnZ8fFePToUWZvb8+dQwBMLBYzqVTaaownT55ky5YtYy4u\n",
              "LgwAMzU11TuPjDFmYWGhU96jlPnBBx+wxx57rEPHferUKe7YeDweE4lEzMXFhfn5+bGCggK2bNky\n",
              "ZmRkxEQiEbOzs2NBQUHsq6++avXvofl37erqyoYNG8aOHDnCLYuJieF+byYmJsze3t7gP1uijz7L\n",
              "TAghWv32KTMhhHQ1SoiEEKJFCZEQQrQoIRJCiBYlRNLjWn5Ch5C+hBIiMWjbtm1YsmQJ93NZWRks\n",
              "LS1RUlKCbdu2ITg4GIGBgQgNDUVWVhYAzadAHn/8cQQEBMDb2xvR0dHc9pGRkXj55Zfx5JNPwsfH\n",
              "p8ePh5D2oNduiEFlZWXw8PBARkYGTE1NsX37dqSlpWHSpEn46aefsHv3bggEAnz++ec4fPgw4uPj\n",
              "UVpaCrlcDoFAgJKSEgQEBODnn3+Gg4MDIiMj8euvv+Ls2bMwNjbu7cMjxKB+99E90jNMTU0RHh6O\n",
              "/fv3Y+XKlfjkk09w5MgRbN26FRcvXkRQUBAAoLGxkdumuLgYixYtQkZGBoRCIYqLi5GWlgYHBwcA\n",
              "wKxZsygZkj6NEiJp1euvv45p06Zh+PDhsLKyQkBAABhjeOedd3Rup5stXboUYWFhOHr0KHg8HgID\n",
              "A7nPYQPA0KFDezJ8QjqM2hBJq7y8vODq6oolS5Zg+fLlAIAZM2Zg9+7dKCkpAQA0NDTg119/BQCU\n",
              "lpbCyckJPB4PiYmJuHLlSq/FTkhnUEIkbXrllVegVqsRHh4OAJg3bx4iIyPx1FNPwc/PD/7+/jhz\n",
              "5gwAICoqCmvWrIG/vz/279+Pxx57rDdDJ6TD6KEKadPy5cthY2ODtWvX9nYohHQ7akMkBt29exch\n",
              "ISEwNzfHDz/80NvhENIjqIZICCFa1IZICCFalBAJIUSLEiIhhGhRQiSEEC1KiIQQokUJkRBCtCgh\n",
              "EkKIFiVEQgjR+v8U0bV7W6qN0QAAAABJRU5ErkJggg==\n",
              "\">\n",
              "        \n",
              "      </div>\n",
              "      <script></script>\n",
              "      <script type=\"text/javascript\">\n",
              "        (() => {\n",
              "          const chartElement = document.getElementById(\"chart-6ad576cc-59ea-4341-926f-ff2c056121d2\");\n",
              "          async function getCodeForChartHandler(event) {\n",
              "            const chartCodeResponse =  await google.colab.kernel.invokeFunction(\n",
              "                'getCodeForChart', [\"chart-6ad576cc-59ea-4341-926f-ff2c056121d2\"], {});\n",
              "            const responseJson = chartCodeResponse.data['application/json'];\n",
              "            await google.colab.notebook.addCell(responseJson.code, 'code');\n",
              "          }\n",
              "          chartElement.onclick = getCodeForChartHandler;\n",
              "        })();\n",
              "      </script>\n",
              "      <style>\n",
              "        .colab-quickchart-chart-with-code  {\n",
              "            display: block;\n",
              "            float: left;\n",
              "            border: 1px solid transparent;\n",
              "        }\n",
              "\n",
              "        .colab-quickchart-chart-with-code:hover {\n",
              "            cursor: pointer;\n",
              "            border: 1px solid #aaa;\n",
              "        }\n",
              "      </style>"
            ]
          },
          "metadata": {}
        },
        {
          "output_type": "display_data",
          "data": {
            "text/plain": [
              "import numpy as np\n",
              "from google.colab import autoviz\n",
              "df_1288289316189901648 = autoviz.get_registered_df('df_1288289316189901648')\n",
              "\n",
              "def time_series_multiline(df, timelike_colname, value_colname, series_colname, figsize=(2.5, 1.3)):\n",
              "  from matplotlib import pyplot as plt\n",
              "  import seaborn as sns\n",
              "  def _plot_series(series, series_name):\n",
              "    if value_colname == 'count()':\n",
              "      counted = (series[timelike_colname]\n",
              "                 .value_counts()\n",
              "                 .reset_index(name='counts')\n",
              "                 .rename({'index': timelike_colname}, axis=1)\n",
              "                 .sort_values(timelike_colname, ascending=True))\n",
              "      xs = counted[timelike_colname]\n",
              "      ys = counted['counts']\n",
              "    else:\n",
              "      xs = series[timelike_colname]\n",
              "      ys = series[value_colname]\n",
              "    plt.plot(xs, ys, label=series_name)\n",
              "\n",
              "  fig, ax = plt.subplots(figsize=figsize, layout='constrained')\n",
              "  df = df.sort_values(timelike_colname, ascending=True)\n",
              "  if series_colname:\n",
              "    for series_name, series in df.groupby(series_colname):\n",
              "      _plot_series(series, series_name)\n",
              "    fig.legend(title=series_colname, bbox_to_anchor=(1, 1), loc='upper left')\n",
              "  else:\n",
              "    _plot_series(df, '')\n",
              "  sns.despine(fig=fig, ax=ax)\n",
              "  plt.xlabel(timelike_colname)\n",
              "  plt.ylabel(value_colname)\n",
              "  return autoviz.MplChart.from_current_mpl_state()\n",
              "\n",
              "chart = time_series_multiline(df_1288289316189901648, *['year', 'count()', 'city'], **{})\n",
              "chart"
            ],
            "text/html": [
              "      <div class=\"colab-quickchart-chart-with-code\" id=\"chart-12291097-2105-4566-bbb2-a71934b13c4b\">\n",
              "        <img src=\"data:image/png;base64,iVBORw0KGgoAAAANSUhEUgAAAUQAAACNCAYAAADPegMOAAAAOXRFWHRTb2Z0d2FyZQBNYXRwbG90\n",
              "bGliIHZlcnNpb24zLjcuMSwgaHR0cHM6Ly9tYXRwbG90bGliLm9yZy/bCgiHAAAACXBIWXMAAA9h\n",
              "AAAPYQGoP6dpAAAbKElEQVR4nO3de1SN+f4H8Pe+VptukqjsnSblUrpYcsmIZpg4Jg1xGJcih5Zb\n",
              "k5lBY3KZs6R1DkNuJ7ViHM4yWWE0kzXn0HDkcjCrYohx6yIlErlUKvvz+8Pu+dnTLqV27fi81tqL\n",
              "nsvn+Tzf/fTpuX4fERERGGOMQdzWCTDGmKHggsgYYxpcEBljTIMLImOMaXBBZIwxDS6IjDGmwQWR\n",
              "McY0uCAyxpjGW18QY2Nj2zoFxlg7IdVn8EWLFiElJQV5eXnIzMyEh4eHzukSExMRExMDtVoNPz8/\n",
              "bNu2DTKZDMePH8fo0aPh4uIiTHvmzBmYmJg0Ooe8vLzmrgZj7xwiQk1NDV68eNHWqTSbRCKBVCqF\n",
              "SCR67bR6LYhBQUFYsmQJhg4dWu80OTk5iIqKQkZGBmxsbDBu3DjEx8dj/vz5AAAXFxdkZWXpM03G\n",
              "2CuqqqpQVFSE8vLytk6lxSgUCnTr1g1yubzB6fRaEIcNG/baaZKTkxEQEICuXbsCAMLCwhAdHS0U\n",
              "xKZ4/vw5nj9/rjXsbfgLx1hrUavVyMnJgUQiga2tLeRyeaP2rAwVEaGqqgr3799HTk4OevbsCbG4\n",
              "/jOFei2IjZGfnw+VSiX87ODggPz8fOHnmzdvwsvLCxKJBDNnzsS8efPqjbV27VqsXr1aa9igQYNa\n",
              "PmnG3lJVVVVQq9Xo3r07FApFW6fTIkxMTCCTyZCXl4eqqioYGxvXO61BX1Tx8vJCQUEBMjIycPDg\n",
              "QcTFxWHfvn31Th8ZGYmysjKtj7e3dytmzNjboaG9qPaosevT5mutVCq1Lnzk5uZCqVQCAMzMzGBu\n",
              "bg4AsLe3x5QpU5Cenl5vLCMjI5iZmWl9JBKJfleAMfbWaPOCOGHCBKSkpODu3bsgIsTFxWHy5MkA\n",
              "gKKiIqjVagDAkydP8NNPP8HT07Mt02WMNdOYMWPw+++/AwC+++47XL16tY0z+n96LYhz586Fvb09\n",
              "CgoK8NFHH8HJyQkAMHv2bKSkpAAAHB0dsXr1avj4+MDJyQnW1taYO3cuAGD//v1wc3ODu7s7Bg0a\n",
              "hJEjR2LmzJn6TJkxpmeHDx8WbqUztIIIestFRES0dQqMtRsVFRWUnZ1NFRUVLRLv9OnT5OPjQ/36\n",
              "9SM3Nzf64YcfSKVSUWZmJiUkJFCHDh3IwcGB3N3dKTU1lVxdXenUqVPC/Nu3b6dJkyY1O4/Grleb\n",
              "X2VmjL2dSktLERgYiOTkZLz//vtQq9V49OiRMH727NnYs2cPPvvsMwQGBgIA7ty5gy1btmDIkCEA\n",
              "gK1bt2LLli2tlnObn0NkjL2dzpw5AxcXF7z//vsAXl7p7dSpU4PzTJs2DceOHUNxcTFOnjwJkUgk\n",
              "zN8aeA+RMWYwTExMEBISgu3bt+PKlStv9IBGc3BBZIzpxZAhQ3D9+nWkp6frPGQGXt5aV1ZWpjVs\n",
              "/vz5GDRoEKqrq5GYmNiKGfMhM2NMTywtLXHw4EEsW7YM/fr1g5eXF06dOqU1zZw5cxAdHQ0PDw8c\n",
              "PnwYwMt7jj09PTFt2rRWf1qG9xAZY3ozaNCgOkXw448/Fv4/duxYjB07Vmv8s2fPkJmZiU2bNrVK\n",
              "jq/iPUTGmMGIi4tDr169MG/ePPTo0aPVl897iIwxgxEWFoawsLA2Wz7vITLGmAYXRMYY0+CCyBhj\n",
              "GlwQGWNMgy+qMMYMWnx8PJKTk7U6eS0vL4dMJoNMJtOa1tHREdu2bXvjZXFBZIwZtMLCQsTHx8PB\n",
              "wUEYtmrVKuTm5uK7777TmjYkJKRZy+KCyBirFxGholq/L2ozkUkM5kVWXBAZY/WqqH6BPiv+rddl\n",
              "ZH/zERRywyhFfFGFMcY0DKMsM8YMkolMguxvPtL7MgzFGxXE7OxsFBQUwMTEBG5ubrCwsGjhtBhj\n",
              "hkAkEhnM4WxraPSaPnnyBOvWrUNCQgIUCgVsbGxQWVmJmzdvwtvbG0uXLsUHH3ygz1wZY0yvGl0Q\n",
              "R4wYgRkzZiAzMxM2NjbCcLVajfT0dMTFxeHGjRvCG/MYY6y9aXRBPHXqFIyMjOoMF4vF8PX1ha+v\n",
              "L54/f96iyTHGmFgsRkhICIyNjYVht27dQnV1Nfz9/bWmlUqbd3jf6Ll1FcM3mYYxxppixYoVWLFi\n",
              "Rassq9G33YwdOxanT5/WOe7Ro0dYv349tm/f3mKJMcZYa2v0HmJ0dDQiIyORnZ2NAQMGCBdVrl69\n",
              "ijt37mD+/PmYNWuWPnNljDG9anRB7NevH1JTU3H79m3897//RUFBARQKBaZOnYqhQ4c2+9idMcba\n",
              "WpOr2MOHDzFt2jStYRcvXkS/fv1aLCnGGGsLTX50T1dvEs3tYYIxxgxBo/cQ7927h7t376KiogK/\n",
              "/fYbiAgAUFZWhmfPnuktQcbYu80g+0Pcu3cvNm7ciMLCQgQEBAjDzc3NsWTJkjdOgDFmwIiA6nL9\n",
              "LkOmABro/ssg+0MMDw9HeHg4/vrXvyIqKqpZC2WMtRPV5UC0rX6X8VUhIO+g32U0UpMvqkRFRUGt\n",
              "VuPu3buoqakRhiuVyhZNjDHGWluTC+KuXbuwcOFCyGQy4ZheJBLh3r17daZdtGgRUlJSkJeXh8zM\n",
              "THh4eOiMmZiYiJiYGKjVavj5+WHbtm3CuYGGxjHG9EymeLkHp+9lGIgmX2X+5ptvcP78eTx48AD3\n",
              "79/H/fv3dRZDAAgKCsLJkyehUqnqjZeTk4OoqCikp6fjxo0bKC4uRnx8/GvHMcZagUj08nBWnx8D\n",
              "eX0A8AZ7iJ07d4aLi0ujph02bNhrp0lOTkZAQAC6du0KAAgLC0N0dDTmz5/f4LjmIrUaFeVPmh2H\n",
              "MX0wUZhCJOYO7VtbkwtiYGAgNm7ciE8//VSr9wkzM7M3SiA/P19rD9LBwQH5+fmvHafL8+fP6/S4\n",
              "8+KF7hfkVJQ/gWIdn/dkhqn8i3woOpq3dRrvnCb/CVq+fDkWL16Mrl27wtLSEhYWFrC0tNRHbk22\n",
              "du1amJuba33OnTvX1mkxxtqJJu8hqtXqFk1AqVTi5s2bws+5ubnCFeuGxukSGRmJxYsXaw2r7xYh\n",
              "E4Upyr+of2+TsbZkojBt6xQMhkH2h6gvEyZMwNChQ7Fq1SrY2NggLi4OkydPfu04XYyMjOr0ySiR\n",
              "6H6BjUgs5kMSxtoBg+wPUZhBLIZEIqnz0WXu3Lmwt7dHQUEBPvroIzg5OQEAZs+ejZSUFAAvH7VZ\n",
              "vXo1fHx84OTkBGtra+E1BA2NY4yxliai2oeSG+nV55YrKirwz3/+Ey9evMCXX37Z4sm1hMWLF+Pb\n",
              "b79t6zQYaxcqKyuRk5MDlUoFhcJw7g9srvLycuTl5aFHjx5ah95/1ORD5g4dOmj9f/HixRg4cKDB\n",
              "FkTGWOPJ5XKIxWIUFhbC2toacrkcIgO6T7CpiAhVVVW4f/8+xGIx5HJ5g9M3+xzi1atXUVJS0tww\n",
              "jDEDIBaL0aNHDxQVFaGwUM9PqLQihUIBpVKp1WOOLk0uiJaWlsJfjNpnmTdv3vwGKTLGDJFcLodS\n",
              "qURNTU299/G2JxKJBFKptFF7uk0uiFlZWf8/s1SKrl271ntRhTHWPolEIp39Db7tmlwQVSoVysvL\n",
              "hcJoaWn5Vp18ZYy9u5pcEE+fPo0JEyYIzxcXFxdj//79GDx4cIsnxxhjranJBXHx4sVITk6Gj48P\n",
              "gJcFMiIiAv/73/9aPDnGGGtNTb4xu6KiQiiGADBkyBBUVla2aFKMMdYWmlwQO3bsiKNHjwo/p6Wl\n",
              "ad2byBhj7VWTD5k3bdqE8ePHC1eW1Wo1Dhw40OKJMcZYa2tyQSwsLMSvv/6K4uJiAICNjQ13scUY\n",
              "eys0+ZA5KioK1tbWcHV1haurKzp37sxv4WOMvRWa3Ue5SCR6K+5mZ4yxJhdEU1NTnD59Wvj51KlT\n",
              "MDXlziwZY+1fk88h/u1vf8Mnn3yCXr16AQCuX7+OgwcPtnhijDHW2ppcEAcPHowrV67gzJkzAF7e\n",
              "h2hhYdHSeTHGWKt7o+6/LC0tMWbMmJbOhTHG2hS/+JUxxjS4IDLGmAYXRMYY0+CCyBhjGlwQGWNM\n",
              "gwsiY4xpcEFkjDENLoiMMabBBZExxjS4IDLGmAYXRMYY0+CCyBhjGlwQGWNMgwsiY4xpcEFkjDEN\n",
              "vRbE69evY8iQIXB2dsaAAQNw+fLlOtOo1Wp88cUXcHV1Ra9evRAaGoqqqioAQG5uLiQSCTw8PITP\n",
              "zZs39ZkyY+wdpteCOHfuXMyZMwfXrl3D0qVLERISUmeaxMREZGRkICMjA1euXIFYLEZsbKww3tTU\n",
              "FFlZWcLnvffe02fKjLF3mN4K4r179/Drr79i2rRpAIAJEybg9u3buHHjhtZ0Fy5cwIcffgi5XA6R\n",
              "SITRo0dj9+7d+kqLMcbqpbeCePv2bXTr1g1S6cu3FIhEIiiVSuTn52tN179/f6SkpODx48eorq7G\n",
              "vn37kJubK4x/9uwZBgwYAC8vL3zzzTcNvvL0+fPnePz4sdaHX5HKGGusNr+oEhISAn9/f/j6+sLX\n",
              "1xfOzs5CEe3WrRvu3LmD8+fP4+jRo0hPT8f69evrjbV27VqYm5trfc6dO9daq8IYa+f0VhC7d++O\n",
              "oqIi1NTUAACICPn5+VAqlVrTiUQirFq1CpmZmTh9+jT69OmDvn37AgCMjIzQpUsXAECnTp0wa9Ys\n",
              "pKen17vMyMhIlJWVaX28vb31tIaMsbeN3gpily5d4OXlhT179gAA9u/fD3t7ezg5OWlNV1lZiYcP\n",
              "HwIASkpKEBMTgyVLlgB4eR6yuroawMvD4QMHDsDT07PeZRoZGcHMzEzrI5FI9LF6jLG30Bu9hrSx\n",
              "tm/fjpCQEERHR8PMzAw7d+4EAMyePRsBAQEICAhAWVkZhg8fDrFYDLVajfDwcHz88ccAgJMnT2LF\n",
              "ihWQSCSoqamBn58fli9frs+UGWPvMBERUVsnoU/jx4+Hg4ODznEvXrzAuXPn4O3t3SJ7ki0dr73E\n",
              "5BxbN6ZKpUJ4eHiLLI9pe+sLYkMeP34Mc3NzlJWVwczMzODitZeYnKNhx2SN1+ZXmRljzFBwQWSM\n",
              "MQ0uiIwxpvFOF0QjIyOsXLkSRkZGBhmvvcTkHA07Jmu8d/qiCmOMveqd3kNkjLFXcUFkjDENLoiM\n",
              "MabRbgpiZWUlAgMD4ezsDHd3d4wcOVLoW/HevXvw9/dHz5494erqihMnTgjzzZw5U5jHx8cH58+f\n",
              "F+J5enrCyMgIIpEILi4uDcYrLy/HlClTYGZmBrlcDgcHByHejh074ObmBpFIBGNjY4hEItjZ2TWY\n",
              "43/+8x9MmTIFTk5OMDMzg62tbZ0cs7KyIBaLIZFImp3jJ598Ag8PD9jb2wvxrKysGsxx6dKlcHNz\n",
              "g1QqxcCBA7XaMT09HVOmTIGjoyPkcjmkUilMTEy0HtHUlaNarcbChQthamoKuVwOOzs7IcfU1FT0\n",
              "798fYrEYcrkcRkZGUCgU8PLyqjfH48ePY+HChXjvvfdgZmaGLl261GnHe/fuQaFQQCqVNjtmUFAQ\n",
              "PDw80K9fP2Hbkclkr13v2nWTSCSwtLTUyrG2TSwtLWFkZAR7e3t4eHjg+++/r/f3ofa7dnJygrOz\n",
              "M5KTk4VxtdujVCrFxo0b3/RX7t1E7URFRQWlpqaSWq0mIqLNmzeTr68vERHNnDmTVq5cSURE586d\n",
              "Izs7O6qqqiIiokOHDlF1dTUREf3444+kUqmEeJs3b6bLly/T9OnTafz48Q3GW7FiBQUHB9OhQ4fo\n",
              "2rVrZG1tTf/6179IpVJRVlYWZWdnk7+/P02cOJGmTZtGGzZsaDBHMzMzmj59OhERxcfHU+fOnamk\n",
              "pETIsaqqioYMGUL9+/enadOmNTvHWmfPnqVly5aRTCajv//97w3m2KVLF7pw4QJNnz6dQkNDtdrR\n",
              "wsKCgoODqaKigj777DOysrKikpISWrZsGUkkEnr69KnOHBMTE8nPz48OHjxIxcXFpFQqacuWLaRS\n",
              "qej333+nrKwsCgoKoj/96U+kVqspKyuLjI2NaejQoTpztLS0pOHDh1NNTQ3t2bOHunfvTpcuXdL6\n",
              "rgMDA8nPz48GDBjQYjErKiroiy++ILlcTkVFRa9d70uXLlFWVhZNnDiRFi5cqLU97tq1i/z8/Kik\n",
              "pIQePHhASqWS0tLSyNTUlO7fv6/z92H16tUUHBxMRES3bt0ia2trKikpISIStsfp06fThg0bdM7P\n",
              "dGs3BfGPzp8/L2ycHTp0oKKiImHcgAED6MiRI3XmuX//PkmlUuEXu1ZwcDBFREQ0GE+pVNKZM2eE\n",
              "YRMnTqRvv/1WK15wcDBt2LBB+LehHI2NjSk2NlYrXkJCgpDjV199RbGxsbRy5UoKDw9vsRyJiMLC\n",
              "wqh3796vzbG2HWvX59V2BEDp6el18j979iyJRCLKycnRGc/b25v27t0rDPvyyy8pIiJCK8fadSYi\n",
              "evHiBSkUCrKzs9OZo7m5OX311Vda8ZYvXy604/bt2ykiIoJ27txJ48aNa5GYtXnGxMQIMV+33rXb\n",
              "46vrVhvP39+/TpuEhYVRx44dqbi4mHTp06dPne86ISFBa5o/fm/s9drNIfMfxcbGYty4cXjw4AGq\n",
              "q6vRtWtXYZyDg0Odnrlr5xkzZozQAe2rTpw40WC84uJiqFQqrWEHDhyoN97rcqypqRH6inw159jY\n",
              "WAwePBhnz57FwoULWzzHiooK7N27Fz179mxWO0okEq3329ROGx4eDisrK3Ts2FFnvDt37tTJ8ejR\n",
              "o/W2486dO2FkZITx48frzJH+cNfYq+04fPhwJCQkYM2aNS0W89U8d+zYgdDQUAB47Xo3tD0WFBQI\n",
              "bbJp0ybs2rULCQkJiI+PF/oD/aP8/Pw67ahrGaxp9Nr9l75ER0fjxo0bSEtLQ0VFRaPm2bNnD/bt\n",
              "26d1frHWxYsXUVpairVr1zY63uXLl5GdnY3s7Gyd448cOYLS0tIm5Xjx4kVkZ2fD2NgYhw4dgkgk\n",
              "avEck5OT4ezsDEtLyzfKsbYddd04/OOPPyI7Oxtnz57Vyr0h586dQ15eHo4cOVJnXFpaGj7//HM4\n",
              "ODggJiam0TneunULZ8+eRefOnbFlyxaYmJi0WMza7Sc9PR1PnjzBmDFjEBoaioyMjCat96vb44cf\n",
              "figMX7RoEaRSKQ4fPozo6GiMGjUKVlZWjYrJmq/dFcR169bhwIEDOHr0KBQKhXCy/O7du8Jf5dzc\n",
              "XK2euZOSkrB69WqkpaXBxsamTrz8/Hx8/vnnQjyJRIK+fftCJpPBx8cHubm5sLGxQV5eHrp164ak\n",
              "pCScOHECX3/9dZ14AHDp0iUUFxfjt99+g0KhQG5uLmpqatC3b18MHz4cW7duhVQq1dojSk9Px61b\n",
              "t7B7925MnToVI0aMAAA8evQIlZWVAICVK1c2O8fExESEhoYiISHhtTk21I6jR48WlgW87AA4Ly8P\n",
              "x44dg4eHBwBAKpUKOfbo0QN37tyBnZ0d8vLyMHjwYCQlJeHQoUOYMWNGnXYsKCjAhAkTYGdnh+PH\n",
              "j0OhUKCqqkrI0dnZGQcPHqxTgH7++WdkZ2fjxIkT8PX1xZ///GcAwNOnT/HkyRP89NNPcHFxeaOY\n",
              "WVlZQp6JiYkIDg7GggULsHv3bqSlpTW43q+247Vr15Camipsj0qlUmiT2u3Xw8MDNTU1OH78OHr3\n",
              "7o1PP/0UAODj44OtW7cK89S2f25uLkaNGlVnW2RN1NbH7E2xfv168vLyotLSUq3hwcHBWiexbW1t\n",
              "hYsqSUlJ5OTkRLm5ufXGmzx5sta5Fl3xvv76awoODqakpCRSqVTUqVOnOie8g4ODady4cdSpUyda\n",
              "s2ZNgzmampoKF1U2b95MEomEMjIy6uQ4atQo6tKlS4vkeP36derQoQOtWbOmUTnWtmNwcDDNmDFD\n",
              "qx1XrlwpnNSfPn06AaAffvjhtfESEhLIz8+P9u7dS46OjmRra0sXL17Umi8kJITkcjn16tXrtd+1\n",
              "hYWFcAEkMTGRpFIp/fzzz3XacdmyZSSVSlskZllZGXXo0IGmTp1KMpmMjh8/3qh2JCIKCgoic3Nz\n",
              "re1x586d5OfnRxcvXhQuqqSmplKXLl0oOzu7zrr8sf1rL6ro2h75HGLTtJuCePv2bQJAjo6O5O7u\n",
              "Tu7u7uTt7U1ERHfv3qWRI0eSk5MT9enTh3755RdhPqlUSvb29sI87u7uVFJSIsSTSCQkEolILBaT\n",
              "TCajjIwMnfGePn1KkyZNIgAklUpJpVIJ8TZv3kx2dnYkk8kIAAEQ4rm6uurMMTU1lSZNmkSOjo4E\n",
              "gKysrOrNUSQSNTvHkpISioyMpP79+wsxX5fjkiVLyM7OjhQKhdBWzs7O5O7uTm5ubjRu3DhSKpXC\n",
              "+hobG5OxsTEpFAq6ePGizhxrampo3rx5QjxbW1shx/3795OdnZ3QhgBILpeTsbFxvTkeOXKE5s2b\n",
              "Rz169CAAZGFhUacdiYisrKy04jUn5vr162ngwIFNWu+jR48K6yYSiUgmk1GPHj3I3d2diouLad68\n",
              "eWRiYkIymYxsbW2pf//+tG/fvnp/H2q/a0dHR+rZsyclJSUJ43bu3Cl8b+bm5mRnZ6fzjy2ri59l\n",
              "ZowxjXZ7lZkxxloaF0TGGNPggsgYYxpcEBljTIMLImt1rz6hw5gh4YLIdFq3bh3mzJkj/Pzo0SN0\n",
              "7twZpaWlWLduHby9veHl5QV/f3/k5eUBePkUyODBg+Hp6Ym+ffsiMTFRmD8kJASzZs3CsGHD4Orq\n",
              "2urrw1hj8G03TKdHjx7B2dkZ165dg4WFBTZs2IBLly7hgw8+wLFjxxAXFweJRILdu3fj+++/R2pq\n",
              "Kh4+fAgzMzNIJBKUlpbC09MTp06dgr29PUJCQpCZmYmTJ0/C1NS0rVePMZ3a3aN7rHVYWFggKCgI\n",
              "O3bsQEREBP7xj38gKSkJa9euxfnz59G/f38AwIsXL4R5Hjx4gNDQUFy7dg1SqRQPHjzApUuXYG9v\n",
              "DwCYOHEiF0Nm0LggsnotWrQIAQEB6N27N6ytreHp6QkiQmRkpNbhdK2wsDCMGTMG+/fvh0gkgpeX\n",
              "l/AcNgB07NixNdNnrMn4HCKrV69eveDo6Ig5c+ZgwYIFAIDAwEDExcWhtLQUAFBdXY3MzEwAwMOH\n",
              "D6FSqSASiXDixAlcuHChzXJn7E1wQWQN+stf/oKamhoEBQUBAKZOnYqQkBCMGDEC7u7u8PDwwC+/\n",
              "/AIAiImJwbJly+Dh4YEdO3Zg4MCBbZk6Y03GF1VYgxYsWAAbGxtERUW1dSqM6R2fQ2Q6FRYWws/P\n",
              "D506dcK///3vtk6HsVbBe4iMMabB5xAZY0yDCyJjjGlwQWSMMQ0uiIwxpsEFkTHGNLggMsaYBhdE\n",
              "xhjT4ILIGGMa/weNlj2KZL2LhwAAAABJRU5ErkJggg==\n",
              "\">\n",
              "        \n",
              "      </div>\n",
              "      <script></script>\n",
              "      <script type=\"text/javascript\">\n",
              "        (() => {\n",
              "          const chartElement = document.getElementById(\"chart-12291097-2105-4566-bbb2-a71934b13c4b\");\n",
              "          async function getCodeForChartHandler(event) {\n",
              "            const chartCodeResponse =  await google.colab.kernel.invokeFunction(\n",
              "                'getCodeForChart', [\"chart-12291097-2105-4566-bbb2-a71934b13c4b\"], {});\n",
              "            const responseJson = chartCodeResponse.data['application/json'];\n",
              "            await google.colab.notebook.addCell(responseJson.code, 'code');\n",
              "          }\n",
              "          chartElement.onclick = getCodeForChartHandler;\n",
              "        })();\n",
              "      </script>\n",
              "      <style>\n",
              "        .colab-quickchart-chart-with-code  {\n",
              "            display: block;\n",
              "            float: left;\n",
              "            border: 1px solid transparent;\n",
              "        }\n",
              "\n",
              "        .colab-quickchart-chart-with-code:hover {\n",
              "            cursor: pointer;\n",
              "            border: 1px solid #aaa;\n",
              "        }\n",
              "      </style>"
            ]
          },
          "metadata": {}
        }
      ]
    },
    {
      "cell_type": "code",
      "source": [
        "print(x)"
      ],
      "metadata": {
        "colab": {
          "base_uri": "https://localhost:8080/"
        },
        "id": "nTmv4Kj433Xo",
        "outputId": "e71843ac-daaa-40d8-fa45-e1603fb15ef8"
      },
      "execution_count": 40,
      "outputs": [
        {
          "output_type": "stream",
          "name": "stdout",
          "text": [
            "  city  year       pop\n",
            "0   서울  2021  0.156019\n",
            "1   서울  2022  0.155995\n",
            "2   서울  2023  0.058084\n",
            "3   경기  2021  0.866176\n",
            "4   경기  2022  0.601115\n",
            "5   경기  2023  0.708073\n"
          ]
        }
      ]
    },
    {
      "cell_type": "code",
      "source": [
        "x.shape #> (row 갯수, column 갯수)"
      ],
      "metadata": {
        "colab": {
          "base_uri": "https://localhost:8080/"
        },
        "id": "ngy-3Jyj4HNH",
        "outputId": "e2090b02-1f3a-4d55-ef63-5730f5763f3d"
      },
      "execution_count": 41,
      "outputs": [
        {
          "output_type": "execute_result",
          "data": {
            "text/plain": [
              "(6, 3)"
            ]
          },
          "metadata": {},
          "execution_count": 41
        }
      ]
    },
    {
      "cell_type": "code",
      "source": [
        "x.index #> 행 레이블(row label)"
      ],
      "metadata": {
        "colab": {
          "base_uri": "https://localhost:8080/"
        },
        "id": "7fj_eYHt5EVv",
        "outputId": "1c5073e3-679e-4ddd-c099-65aa18b5926e"
      },
      "execution_count": 42,
      "outputs": [
        {
          "output_type": "execute_result",
          "data": {
            "text/plain": [
              "RangeIndex(start=0, stop=6, step=1)"
            ]
          },
          "metadata": {},
          "execution_count": 42
        }
      ]
    },
    {
      "cell_type": "code",
      "source": [
        "x.columns"
      ],
      "metadata": {
        "colab": {
          "base_uri": "https://localhost:8080/"
        },
        "id": "4TQKGR465QLR",
        "outputId": "87388524-f450-445c-be3e-fbda68ad1540"
      },
      "execution_count": 44,
      "outputs": [
        {
          "output_type": "execute_result",
          "data": {
            "text/plain": [
              "Index(['city', 'year', 'pop'], dtype='object')"
            ]
          },
          "metadata": {},
          "execution_count": 44
        }
      ]
    },
    {
      "cell_type": "markdown",
      "source": [
        "# DataFrame에서 컬럼 선택\n",
        "\n",
        "* `df['column_name']`\n",
        "  * 항상 사용 가능\n",
        "* `df.column_name`\n",
        "  * 컬럼 이름이 Python 변수 이름 규칙에 맞지 않는 경우는 사용할 수 없음.\n",
        "    * 변수 이름은 영문자, 숫자, underScore(_) 만 사용 가능.\n",
        "    * 변수 이름은 숫자로 시작 불가능.\n",
        "  * 컬럼 이름이 DataFrame 객체가 원래 가지고 있는 속성(필드, 메서드) 이름과 같은 경우에는 사용할 수 없음."
      ],
      "metadata": {
        "id": "l3DJaTSx6Qy4"
      }
    },
    {
      "cell_type": "code",
      "source": [
        "x['city']"
      ],
      "metadata": {
        "colab": {
          "base_uri": "https://localhost:8080/"
        },
        "id": "yF0GEKzC5VAJ",
        "outputId": "c49bf5f7-be1d-4820-b46f-9817a88200ec"
      },
      "execution_count": 45,
      "outputs": [
        {
          "output_type": "execute_result",
          "data": {
            "text/plain": [
              "0    서울\n",
              "1    서울\n",
              "2    서울\n",
              "3    경기\n",
              "4    경기\n",
              "5    경기\n",
              "Name: city, dtype: object"
            ]
          },
          "metadata": {},
          "execution_count": 45
        }
      ]
    },
    {
      "cell_type": "code",
      "source": [
        "x['pop']"
      ],
      "metadata": {
        "colab": {
          "base_uri": "https://localhost:8080/"
        },
        "id": "cydA4pwk6zdF",
        "outputId": "8e826dcd-1c14-4ecc-86c8-801790c4c053"
      },
      "execution_count": 46,
      "outputs": [
        {
          "output_type": "execute_result",
          "data": {
            "text/plain": [
              "0    0.156019\n",
              "1    0.155995\n",
              "2    0.058084\n",
              "3    0.866176\n",
              "4    0.601115\n",
              "5    0.708073\n",
              "Name: pop, dtype: float64"
            ]
          },
          "metadata": {},
          "execution_count": 46
        }
      ]
    },
    {
      "cell_type": "code",
      "source": [
        "x.pop #> pop 컬럼 선택이 아니라, DataFrame의 pop 메서드를 사용"
      ],
      "metadata": {
        "colab": {
          "base_uri": "https://localhost:8080/"
        },
        "id": "C2ym7R2F7T_t",
        "outputId": "67b76dd7-7b44-493c-d729-5519cba3fa65"
      },
      "execution_count": 47,
      "outputs": [
        {
          "output_type": "execute_result",
          "data": {
            "text/plain": [
              "<bound method DataFrame.pop of   city  year       pop\n",
              "0   서울  2021  0.156019\n",
              "1   서울  2022  0.155995\n",
              "2   서울  2023  0.058084\n",
              "3   경기  2021  0.866176\n",
              "4   경기  2022  0.601115\n",
              "5   경기  2023  0.708073>"
            ]
          },
          "metadata": {},
          "execution_count": 47
        }
      ]
    },
    {
      "cell_type": "markdown",
      "source": [
        "두 개 이상의 Column 선택 - fancy Indexing"
      ],
      "metadata": {
        "id": "tVDrJBrx8Hmo"
      }
    },
    {
      "cell_type": "code",
      "source": [
        "x[['city','pop']]"
      ],
      "metadata": {
        "colab": {
          "base_uri": "https://localhost:8080/",
          "height": 238
        },
        "id": "mTOGU0oG7VPI",
        "outputId": "46521033-4458-41a5-97a7-3face819f087"
      },
      "execution_count": 49,
      "outputs": [
        {
          "output_type": "execute_result",
          "data": {
            "text/plain": [
              "  city       pop\n",
              "0   서울  0.156019\n",
              "1   서울  0.155995\n",
              "2   서울  0.058084\n",
              "3   경기  0.866176\n",
              "4   경기  0.601115\n",
              "5   경기  0.708073"
            ],
            "text/html": [
              "\n",
              "\n",
              "  <div id=\"df-29656dd1-6461-4d94-93e2-6dcff5b351ee\">\n",
              "    <div class=\"colab-df-container\">\n",
              "      <div>\n",
              "<style scoped>\n",
              "    .dataframe tbody tr th:only-of-type {\n",
              "        vertical-align: middle;\n",
              "    }\n",
              "\n",
              "    .dataframe tbody tr th {\n",
              "        vertical-align: top;\n",
              "    }\n",
              "\n",
              "    .dataframe thead th {\n",
              "        text-align: right;\n",
              "    }\n",
              "</style>\n",
              "<table border=\"1\" class=\"dataframe\">\n",
              "  <thead>\n",
              "    <tr style=\"text-align: right;\">\n",
              "      <th></th>\n",
              "      <th>city</th>\n",
              "      <th>pop</th>\n",
              "    </tr>\n",
              "  </thead>\n",
              "  <tbody>\n",
              "    <tr>\n",
              "      <th>0</th>\n",
              "      <td>서울</td>\n",
              "      <td>0.156019</td>\n",
              "    </tr>\n",
              "    <tr>\n",
              "      <th>1</th>\n",
              "      <td>서울</td>\n",
              "      <td>0.155995</td>\n",
              "    </tr>\n",
              "    <tr>\n",
              "      <th>2</th>\n",
              "      <td>서울</td>\n",
              "      <td>0.058084</td>\n",
              "    </tr>\n",
              "    <tr>\n",
              "      <th>3</th>\n",
              "      <td>경기</td>\n",
              "      <td>0.866176</td>\n",
              "    </tr>\n",
              "    <tr>\n",
              "      <th>4</th>\n",
              "      <td>경기</td>\n",
              "      <td>0.601115</td>\n",
              "    </tr>\n",
              "    <tr>\n",
              "      <th>5</th>\n",
              "      <td>경기</td>\n",
              "      <td>0.708073</td>\n",
              "    </tr>\n",
              "  </tbody>\n",
              "</table>\n",
              "</div>\n",
              "      <button class=\"colab-df-convert\" onclick=\"convertToInteractive('df-29656dd1-6461-4d94-93e2-6dcff5b351ee')\"\n",
              "              title=\"Convert this dataframe to an interactive table.\"\n",
              "              style=\"display:none;\">\n",
              "\n",
              "  <svg xmlns=\"http://www.w3.org/2000/svg\" height=\"24px\"viewBox=\"0 0 24 24\"\n",
              "       width=\"24px\">\n",
              "    <path d=\"M0 0h24v24H0V0z\" fill=\"none\"/>\n",
              "    <path d=\"M18.56 5.44l.94 2.06.94-2.06 2.06-.94-2.06-.94-.94-2.06-.94 2.06-2.06.94zm-11 1L8.5 8.5l.94-2.06 2.06-.94-2.06-.94L8.5 2.5l-.94 2.06-2.06.94zm10 10l.94 2.06.94-2.06 2.06-.94-2.06-.94-.94-2.06-.94 2.06-2.06.94z\"/><path d=\"M17.41 7.96l-1.37-1.37c-.4-.4-.92-.59-1.43-.59-.52 0-1.04.2-1.43.59L10.3 9.45l-7.72 7.72c-.78.78-.78 2.05 0 2.83L4 21.41c.39.39.9.59 1.41.59.51 0 1.02-.2 1.41-.59l7.78-7.78 2.81-2.81c.8-.78.8-2.07 0-2.86zM5.41 20L4 18.59l7.72-7.72 1.47 1.35L5.41 20z\"/>\n",
              "  </svg>\n",
              "      </button>\n",
              "\n",
              "\n",
              "\n",
              "    <div id=\"df-5796451d-532a-43d8-a9b1-86a256436918\">\n",
              "      <button class=\"colab-df-quickchart\" onclick=\"quickchart('df-5796451d-532a-43d8-a9b1-86a256436918')\"\n",
              "              title=\"Suggest charts.\"\n",
              "              style=\"display:none;\">\n",
              "\n",
              "<svg xmlns=\"http://www.w3.org/2000/svg\" height=\"24px\"viewBox=\"0 0 24 24\"\n",
              "     width=\"24px\">\n",
              "    <g>\n",
              "        <path d=\"M19 3H5c-1.1 0-2 .9-2 2v14c0 1.1.9 2 2 2h14c1.1 0 2-.9 2-2V5c0-1.1-.9-2-2-2zM9 17H7v-7h2v7zm4 0h-2V7h2v10zm4 0h-2v-4h2v4z\"/>\n",
              "    </g>\n",
              "</svg>\n",
              "      </button>\n",
              "    </div>\n",
              "\n",
              "<style>\n",
              "  .colab-df-quickchart {\n",
              "    background-color: #E8F0FE;\n",
              "    border: none;\n",
              "    border-radius: 50%;\n",
              "    cursor: pointer;\n",
              "    display: none;\n",
              "    fill: #1967D2;\n",
              "    height: 32px;\n",
              "    padding: 0 0 0 0;\n",
              "    width: 32px;\n",
              "  }\n",
              "\n",
              "  .colab-df-quickchart:hover {\n",
              "    background-color: #E2EBFA;\n",
              "    box-shadow: 0px 1px 2px rgba(60, 64, 67, 0.3), 0px 1px 3px 1px rgba(60, 64, 67, 0.15);\n",
              "    fill: #174EA6;\n",
              "  }\n",
              "\n",
              "  [theme=dark] .colab-df-quickchart {\n",
              "    background-color: #3B4455;\n",
              "    fill: #D2E3FC;\n",
              "  }\n",
              "\n",
              "  [theme=dark] .colab-df-quickchart:hover {\n",
              "    background-color: #434B5C;\n",
              "    box-shadow: 0px 1px 3px 1px rgba(0, 0, 0, 0.15);\n",
              "    filter: drop-shadow(0px 1px 2px rgba(0, 0, 0, 0.3));\n",
              "    fill: #FFFFFF;\n",
              "  }\n",
              "</style>\n",
              "\n",
              "    <script>\n",
              "      async function quickchart(key) {\n",
              "        const containerElement = document.querySelector('#' + key);\n",
              "        const charts = await google.colab.kernel.invokeFunction(\n",
              "            'suggestCharts', [key], {});\n",
              "      }\n",
              "    </script>\n",
              "\n",
              "      <script>\n",
              "\n",
              "function displayQuickchartButton(domScope) {\n",
              "  let quickchartButtonEl =\n",
              "    domScope.querySelector('#df-5796451d-532a-43d8-a9b1-86a256436918 button.colab-df-quickchart');\n",
              "  quickchartButtonEl.style.display =\n",
              "    google.colab.kernel.accessAllowed ? 'block' : 'none';\n",
              "}\n",
              "\n",
              "        displayQuickchartButton(document);\n",
              "      </script>\n",
              "      <style>\n",
              "    .colab-df-container {\n",
              "      display:flex;\n",
              "      flex-wrap:wrap;\n",
              "      gap: 12px;\n",
              "    }\n",
              "\n",
              "    .colab-df-convert {\n",
              "      background-color: #E8F0FE;\n",
              "      border: none;\n",
              "      border-radius: 50%;\n",
              "      cursor: pointer;\n",
              "      display: none;\n",
              "      fill: #1967D2;\n",
              "      height: 32px;\n",
              "      padding: 0 0 0 0;\n",
              "      width: 32px;\n",
              "    }\n",
              "\n",
              "    .colab-df-convert:hover {\n",
              "      background-color: #E2EBFA;\n",
              "      box-shadow: 0px 1px 2px rgba(60, 64, 67, 0.3), 0px 1px 3px 1px rgba(60, 64, 67, 0.15);\n",
              "      fill: #174EA6;\n",
              "    }\n",
              "\n",
              "    [theme=dark] .colab-df-convert {\n",
              "      background-color: #3B4455;\n",
              "      fill: #D2E3FC;\n",
              "    }\n",
              "\n",
              "    [theme=dark] .colab-df-convert:hover {\n",
              "      background-color: #434B5C;\n",
              "      box-shadow: 0px 1px 3px 1px rgba(0, 0, 0, 0.15);\n",
              "      filter: drop-shadow(0px 1px 2px rgba(0, 0, 0, 0.3));\n",
              "      fill: #FFFFFF;\n",
              "    }\n",
              "  </style>\n",
              "\n",
              "      <script>\n",
              "        const buttonEl =\n",
              "          document.querySelector('#df-29656dd1-6461-4d94-93e2-6dcff5b351ee button.colab-df-convert');\n",
              "        buttonEl.style.display =\n",
              "          google.colab.kernel.accessAllowed ? 'block' : 'none';\n",
              "\n",
              "        async function convertToInteractive(key) {\n",
              "          const element = document.querySelector('#df-29656dd1-6461-4d94-93e2-6dcff5b351ee');\n",
              "          const dataTable =\n",
              "            await google.colab.kernel.invokeFunction('convertToInteractive',\n",
              "                                                     [key], {});\n",
              "          if (!dataTable) return;\n",
              "\n",
              "          const docLinkHtml = 'Like what you see? Visit the ' +\n",
              "            '<a target=\"_blank\" href=https://colab.research.google.com/notebooks/data_table.ipynb>data table notebook</a>'\n",
              "            + ' to learn more about interactive tables.';\n",
              "          element.innerHTML = '';\n",
              "          dataTable['output_type'] = 'display_data';\n",
              "          await google.colab.output.renderOutput(dataTable, element);\n",
              "          const docLink = document.createElement('div');\n",
              "          docLink.innerHTML = docLinkHtml;\n",
              "          element.appendChild(docLink);\n",
              "        }\n",
              "      </script>\n",
              "    </div>\n",
              "  </div>\n"
            ]
          },
          "metadata": {},
          "execution_count": 49
        }
      ]
    },
    {
      "cell_type": "code",
      "source": [],
      "metadata": {
        "id": "j4eOZPsw8M5T"
      },
      "execution_count": 50,
      "outputs": []
    },
    {
      "cell_type": "code",
      "source": [],
      "metadata": {
        "id": "VMchRqAM8bVg"
      },
      "execution_count": null,
      "outputs": []
    }
  ]
}