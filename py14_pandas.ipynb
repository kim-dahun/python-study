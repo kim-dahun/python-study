{
  "nbformat": 4,
  "nbformat_minor": 0,
  "metadata": {
    "colab": {
      "provenance": [],
      "authorship_tag": "ABX9TyO+xcieMIAN5oo/06ZLd3V4",
      "include_colab_link": true
    },
    "kernelspec": {
      "name": "python3",
      "display_name": "Python 3"
    },
    "language_info": {
      "name": "python"
    }
  },
  "cells": [
    {
      "cell_type": "markdown",
      "metadata": {
        "id": "view-in-github",
        "colab_type": "text"
      },
      "source": [
        "<a href=\"https://colab.research.google.com/github/kim-dahun/python-study/blob/main/py14_pandas.ipynb\" target=\"_parent\"><img src=\"https://colab.research.google.com/assets/colab-badge.svg\" alt=\"Open In Colab\"/></a>"
      ]
    },
    {
      "cell_type": "markdown",
      "source": [
        "# 패키지 임포트\n",
        "\n"
      ],
      "metadata": {
        "id": "yJmyvX82n0PC"
      }
    },
    {
      "cell_type": "code",
      "execution_count": 1,
      "metadata": {
        "id": "UXiJpcYJnnKd"
      },
      "outputs": [],
      "source": [
        "import numpy as np\n",
        "import pandas as pd\n"
      ]
    },
    {
      "cell_type": "markdown",
      "source": [
        "# Series\n",
        "\n",
        "* 한 가지 타입의 여러 개의 값들을 저장할 수 있는 1차원 모양의 데이터 타입.(클래스)\n",
        "* 축 레이블(axis label)을 가지고 있는 1차원 배열(ndarray)"
      ],
      "metadata": {
        "id": "XfRFuFbxoNNb"
      }
    },
    {
      "cell_type": "code",
      "source": [
        "s = pd.Series(data=[1,2,-3,-4,5,-6])"
      ],
      "metadata": {
        "id": "LiopVWvEn_TF"
      },
      "execution_count": 2,
      "outputs": []
    },
    {
      "cell_type": "code",
      "source": [
        "s.sum(axis=0)"
      ],
      "metadata": {
        "colab": {
          "base_uri": "https://localhost:8080/"
        },
        "id": "2ruvm-nEpBxJ",
        "outputId": "cc9d8679-c0a5-483a-b43b-6b711bfccf95"
      },
      "execution_count": 3,
      "outputs": [
        {
          "output_type": "execute_result",
          "data": {
            "text/plain": [
              "-5"
            ]
          },
          "metadata": {},
          "execution_count": 3
        }
      ]
    },
    {
      "cell_type": "code",
      "source": [
        "type(s)"
      ],
      "metadata": {
        "colab": {
          "base_uri": "https://localhost:8080/"
        },
        "id": "OtsUUmTzpEXZ",
        "outputId": "50499a23-ef58-4156-810f-fb9cb8c9fa17"
      },
      "execution_count": 4,
      "outputs": [
        {
          "output_type": "execute_result",
          "data": {
            "text/plain": [
              "pandas.core.series.Series"
            ]
          },
          "metadata": {},
          "execution_count": 4
        }
      ]
    },
    {
      "cell_type": "code",
      "source": [
        "print(s)"
      ],
      "metadata": {
        "colab": {
          "base_uri": "https://localhost:8080/"
        },
        "id": "tr9p5OfHpKYu",
        "outputId": "15eff000-4c64-4e4c-b623-f853f869c496"
      },
      "execution_count": 5,
      "outputs": [
        {
          "output_type": "stream",
          "name": "stdout",
          "text": [
            "0    1\n",
            "1    2\n",
            "2   -3\n",
            "3   -4\n",
            "4    5\n",
            "5   -6\n",
            "dtype: int64\n"
          ]
        }
      ]
    },
    {
      "cell_type": "markdown",
      "source": [
        "## Series 속성(attribute)"
      ],
      "metadata": {
        "id": "zFxL4fBDqYiC"
      }
    },
    {
      "cell_type": "code",
      "source": [
        "s.values # Series의 값들로 이루어진 ndarray"
      ],
      "metadata": {
        "colab": {
          "base_uri": "https://localhost:8080/"
        },
        "id": "6rUzbnYQpuc0",
        "outputId": "0180a70d-e23d-4bb9-ad20-08a58f343f8d"
      },
      "execution_count": 6,
      "outputs": [
        {
          "output_type": "execute_result",
          "data": {
            "text/plain": [
              "array([ 1,  2, -3, -4,  5, -6])"
            ]
          },
          "metadata": {},
          "execution_count": 6
        }
      ]
    },
    {
      "cell_type": "code",
      "source": [
        "s.index"
      ],
      "metadata": {
        "colab": {
          "base_uri": "https://localhost:8080/"
        },
        "id": "bbKDrm33qdvq",
        "outputId": "8dce0b2a-e877-4d9a-b2c1-665ec46c0489"
      },
      "execution_count": 7,
      "outputs": [
        {
          "output_type": "execute_result",
          "data": {
            "text/plain": [
              "RangeIndex(start=0, stop=6, step=1)"
            ]
          },
          "metadata": {},
          "execution_count": 7
        }
      ]
    },
    {
      "cell_type": "code",
      "source": [
        "s = pd.Series(data=[1,2,3],index=['a','b','c'])"
      ],
      "metadata": {
        "id": "ODG0LRKVqelk"
      },
      "execution_count": 8,
      "outputs": []
    },
    {
      "cell_type": "code",
      "source": [
        "print(s)"
      ],
      "metadata": {
        "colab": {
          "base_uri": "https://localhost:8080/"
        },
        "id": "yVPzM2L1q31c",
        "outputId": "ba508130-ccb4-4162-d3e2-7a6d1794a6b6"
      },
      "execution_count": 10,
      "outputs": [
        {
          "output_type": "stream",
          "name": "stdout",
          "text": [
            "a    1\n",
            "b    2\n",
            "c    3\n",
            "dtype: int64\n"
          ]
        }
      ]
    },
    {
      "cell_type": "code",
      "source": [
        "s.index"
      ],
      "metadata": {
        "colab": {
          "base_uri": "https://localhost:8080/"
        },
        "id": "IiBK89noq4L2",
        "outputId": "af17018c-7191-4b47-d96f-6d5201670a35"
      },
      "execution_count": 11,
      "outputs": [
        {
          "output_type": "execute_result",
          "data": {
            "text/plain": [
              "Index(['a', 'b', 'c'], dtype='object')"
            ]
          },
          "metadata": {},
          "execution_count": 11
        }
      ]
    },
    {
      "cell_type": "markdown",
      "source": [
        "## indexing, slicing\n",
        "\n",
        "* `iloc` : Integer Location 정수 인덱스(ndarray의 기본인덱스) 기반으로 원소를 참조하는 방법.\n",
        "* `loc` : location. 레이블 기반의 원소 참조 또는 슬라이싱"
      ],
      "metadata": {
        "id": "rTIxEo-qrYNY"
      }
    },
    {
      "cell_type": "code",
      "source": [
        "np.random.seed(2)\n",
        "s1 = pd.Series(data=np.random.randint(-10,10, size=6))"
      ],
      "metadata": {
        "id": "dHrMv_jIrC7K"
      },
      "execution_count": 14,
      "outputs": []
    },
    {
      "cell_type": "code",
      "source": [
        "s1"
      ],
      "metadata": {
        "colab": {
          "base_uri": "https://localhost:8080/"
        },
        "id": "j6ufa5XqtgU2",
        "outputId": "a5fd27b4-1932-4433-c236-d68e335059ee"
      },
      "execution_count": 15,
      "outputs": [
        {
          "output_type": "execute_result",
          "data": {
            "text/plain": [
              "0   -2\n",
              "1    5\n",
              "2    3\n",
              "3   -2\n",
              "4    1\n",
              "5    8\n",
              "dtype: int64"
            ]
          },
          "metadata": {},
          "execution_count": 15
        }
      ]
    },
    {
      "cell_type": "code",
      "source": [
        "print(s1.iloc[0])\n",
        "print(s1.iloc[-1])"
      ],
      "metadata": {
        "colab": {
          "base_uri": "https://localhost:8080/"
        },
        "id": "AzDsko-mt4Kn",
        "outputId": "1da94004-679f-4691-e500-8a22aabc17b1"
      },
      "execution_count": 16,
      "outputs": [
        {
          "output_type": "stream",
          "name": "stdout",
          "text": [
            "-2\n",
            "8\n"
          ]
        }
      ]
    },
    {
      "cell_type": "code",
      "source": [
        "# iloc를 사용한 슬라이싱\n",
        "print(s1.iloc[0:3]) # Series에서 첫 3개 원소 자르기"
      ],
      "metadata": {
        "colab": {
          "base_uri": "https://localhost:8080/"
        },
        "id": "Cm5aSoHot_d5",
        "outputId": "0e0343c7-55d0-4a18-a5a2-0869822763b6"
      },
      "execution_count": 17,
      "outputs": [
        {
          "output_type": "stream",
          "name": "stdout",
          "text": [
            "0   -2\n",
            "1    5\n",
            "2    3\n",
            "dtype: int64\n"
          ]
        }
      ]
    },
    {
      "cell_type": "code",
      "source": [
        "print(s1.iloc[-3:]) # Series에서 마지막 3개 원소 자르기"
      ],
      "metadata": {
        "colab": {
          "base_uri": "https://localhost:8080/"
        },
        "id": "8Rn6525yuWW2",
        "outputId": "c3f97e00-7fdf-4100-d56b-47ea7d726389"
      },
      "execution_count": 19,
      "outputs": [
        {
          "output_type": "stream",
          "name": "stdout",
          "text": [
            "3   -2\n",
            "4    1\n",
            "5    8\n",
            "dtype: int64\n"
          ]
        }
      ]
    },
    {
      "cell_type": "code",
      "source": [
        "# loc를 사용한 인덱싱\n",
        "print(s1.loc[0]) # Series의 첫번쨰 원소"
      ],
      "metadata": {
        "colab": {
          "base_uri": "https://localhost:8080/"
        },
        "id": "LbYXbsOUud_O",
        "outputId": "a215e348-9cd8-40f1-80f8-07660ed96c08"
      },
      "execution_count": 20,
      "outputs": [
        {
          "output_type": "stream",
          "name": "stdout",
          "text": [
            "-2\n"
          ]
        }
      ]
    },
    {
      "cell_type": "code",
      "source": [
        "# -1, -2 인덱스는 없기 때문에 loc로는 음수인덱스 사용 불가. s1.loc[-1]"
      ],
      "metadata": {
        "id": "vBK0hBm1vqjh"
      },
      "execution_count": 22,
      "outputs": []
    },
    {
      "cell_type": "code",
      "source": [
        "# loc를 사용한 슬라이싱\n",
        "print(s1.loc[0:2])"
      ],
      "metadata": {
        "colab": {
          "base_uri": "https://localhost:8080/"
        },
        "id": "wbt7UiBHvtTl",
        "outputId": "a80f7eb6-93c2-42cf-f219-8565be79e46d"
      },
      "execution_count": 23,
      "outputs": [
        {
          "output_type": "stream",
          "name": "stdout",
          "text": [
            "0   -2\n",
            "1    5\n",
            "2    3\n",
            "dtype: int64\n"
          ]
        }
      ]
    },
    {
      "cell_type": "code",
      "source": [
        "np.random.seed(42)\n",
        "s2 = pd.Series(data=np.random.randint(-10,11,size=6), index=['a','b','c','d','e','f'])\n",
        "\n",
        "s2"
      ],
      "metadata": {
        "colab": {
          "base_uri": "https://localhost:8080/"
        },
        "id": "Z7sLTm_AwBwR",
        "outputId": "793fff23-9db3-4f7c-dcf5-e578a64428a7"
      },
      "execution_count": 24,
      "outputs": [
        {
          "output_type": "execute_result",
          "data": {
            "text/plain": [
              "a    -4\n",
              "b     9\n",
              "c     4\n",
              "d     0\n",
              "e    -3\n",
              "f    10\n",
              "dtype: int64"
            ]
          },
          "metadata": {},
          "execution_count": 24
        }
      ]
    },
    {
      "cell_type": "code",
      "source": [
        "s2.iloc[0]"
      ],
      "metadata": {
        "colab": {
          "base_uri": "https://localhost:8080/"
        },
        "id": "8kJFIWnew5z8",
        "outputId": "0716fc40-4813-494d-86cf-e2a3736f3aa1"
      },
      "execution_count": 25,
      "outputs": [
        {
          "output_type": "execute_result",
          "data": {
            "text/plain": [
              "-4"
            ]
          },
          "metadata": {},
          "execution_count": 25
        }
      ]
    },
    {
      "cell_type": "code",
      "source": [
        "s2.iloc[-1]"
      ],
      "metadata": {
        "colab": {
          "base_uri": "https://localhost:8080/"
        },
        "id": "6qaODg67xECh",
        "outputId": "7f5f27de-38e8-4a65-df39-e50f4d4c9e46"
      },
      "execution_count": 26,
      "outputs": [
        {
          "output_type": "execute_result",
          "data": {
            "text/plain": [
              "10"
            ]
          },
          "metadata": {},
          "execution_count": 26
        }
      ]
    },
    {
      "cell_type": "code",
      "source": [
        "s2.iloc[:3]"
      ],
      "metadata": {
        "colab": {
          "base_uri": "https://localhost:8080/"
        },
        "id": "Zba2U7pkxF6M",
        "outputId": "ca84d351-bd66-4a51-96d0-a6459669ddb8"
      },
      "execution_count": 28,
      "outputs": [
        {
          "output_type": "execute_result",
          "data": {
            "text/plain": [
              "a   -4\n",
              "b    9\n",
              "c    4\n",
              "dtype: int64"
            ]
          },
          "metadata": {},
          "execution_count": 28
        }
      ]
    },
    {
      "cell_type": "code",
      "source": [
        "s2.loc[:'c']"
      ],
      "metadata": {
        "colab": {
          "base_uri": "https://localhost:8080/"
        },
        "id": "EQtaTpYexOSw",
        "outputId": "571727f4-55ff-4626-b827-b69b5e98de5b"
      },
      "execution_count": 29,
      "outputs": [
        {
          "output_type": "execute_result",
          "data": {
            "text/plain": [
              "a   -4\n",
              "b    9\n",
              "c    4\n",
              "dtype: int64"
            ]
          },
          "metadata": {},
          "execution_count": 29
        }
      ]
    },
    {
      "cell_type": "code",
      "source": [
        "s2.loc['f']"
      ],
      "metadata": {
        "colab": {
          "base_uri": "https://localhost:8080/"
        },
        "id": "I2DRQOO9xxp1",
        "outputId": "f63746b1-139d-4f58-af1d-95e1e89606e0"
      },
      "execution_count": 30,
      "outputs": [
        {
          "output_type": "execute_result",
          "data": {
            "text/plain": [
              "10"
            ]
          },
          "metadata": {},
          "execution_count": 30
        }
      ]
    },
    {
      "cell_type": "code",
      "source": [],
      "metadata": {
        "id": "IklbVJmYxyv-"
      },
      "execution_count": null,
      "outputs": []
    }
  ]
}