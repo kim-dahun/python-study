{
  "nbformat": 4,
  "nbformat_minor": 0,
  "metadata": {
    "colab": {
      "provenance": [],
      "authorship_tag": "ABX9TyOoST3crUFdgRM/nK4ZJ04/",
      "include_colab_link": true
    },
    "kernelspec": {
      "name": "python3",
      "display_name": "Python 3"
    },
    "language_info": {
      "name": "python"
    }
  },
  "cells": [
    {
      "cell_type": "markdown",
      "metadata": {
        "id": "view-in-github",
        "colab_type": "text"
      },
      "source": [
        "<a href=\"https://colab.research.google.com/github/kim-dahun/python-study/blob/main/py09_OOP.ipynb\" target=\"_parent\"><img src=\"https://colab.research.google.com/assets/colab-badge.svg\" alt=\"Open In Colab\"/></a>"
      ]
    },
    {
      "cell_type": "markdown",
      "source": [
        "# 객체 지향 프로그래밍(OOP:Object-oriented Programming)\n",
        "\n"
      ],
      "metadata": {
        "id": "RmB4oMX3z1t4"
      }
    },
    {
      "cell_type": "code",
      "execution_count": 47,
      "metadata": {
        "id": "lzIghp96zyhZ"
      },
      "outputs": [],
      "source": [
        "class Student:\n",
        "  # 생성자 함수 : 생성자를 호출하면 파이썬 인터프리터에 의해 자동으로 호출되는 메서드.\n",
        "  def __init__(self, no, name, subjectlist): # 실제로 생성자 호출될 때는 self 파라미터에는 따로 인수를 넣지 않음.\n",
        "    self.no = no # 생성자에 넣는 순간 클래스의 필드변수 선언과 초기화가 동시에 됌. -> 자바는 선언 따로 초기화 따로.\n",
        "    self.name = name\n",
        "    self.python = subjectlist[0]\n",
        "    self.java = subjectlist[1]\n",
        "    self.javascript = subjectlist[2]\n",
        "\n",
        "  def get_total(self):\n",
        "    # 파이썬의 메서드는 멤버들을 접근할 때 반드시 self 키워드를 사용해야 함.\n",
        "    return self.java+self.python + self.javascript\n",
        "  def get_mean(self):\n",
        "    return round(self.get_total()/3)\n",
        "  def print_info(self):\n",
        "    print(f'Student(번호 : {self.no} , 이름 : {self.name} , Java : {self.java} , Python = {self.python} , JavaScript = {self.javascript})')"
      ]
    },
    {
      "cell_type": "code",
      "source": [
        "student1 = Student(1,\"홍길동\",[99,96,91]) # 생성자 호출 : 생성자 이름-클래스 이름, new 키워드를 사용하지 않음."
      ],
      "metadata": {
        "id": "_whHvWKu0eJK"
      },
      "execution_count": 48,
      "outputs": []
    },
    {
      "cell_type": "code",
      "source": [
        "print(student1) # 객체 student1을 문자열로 출력\n",
        "\n",
        "student1 # 객체 student1의 식(expression)을 출력"
      ],
      "metadata": {
        "colab": {
          "base_uri": "https://localhost:8080/"
        },
        "id": "4HAVgDaJ17Iz",
        "outputId": "86a410a9-43e4-4152-fcef-2f12aa9f041c"
      },
      "execution_count": 49,
      "outputs": [
        {
          "output_type": "stream",
          "name": "stdout",
          "text": [
            "<__main__.Student object at 0x7f67d32022c0>\n"
          ]
        },
        {
          "output_type": "execute_result",
          "data": {
            "text/plain": [
              "<__main__.Student at 0x7f67d32022c0>"
            ]
          },
          "metadata": {},
          "execution_count": 49
        }
      ]
    },
    {
      "cell_type": "code",
      "source": [
        "student1.name"
      ],
      "metadata": {
        "colab": {
          "base_uri": "https://localhost:8080/",
          "height": 35
        },
        "id": "Vt_2RpGL2DI-",
        "outputId": "329cb4f1-b317-42ae-bd38-2ed64e4b761a"
      },
      "execution_count": 50,
      "outputs": [
        {
          "output_type": "execute_result",
          "data": {
            "text/plain": [
              "'홍길동'"
            ],
            "application/vnd.google.colaboratory.intrinsic+json": {
              "type": "string"
            }
          },
          "metadata": {},
          "execution_count": 50
        }
      ]
    },
    {
      "cell_type": "code",
      "source": [
        "student1.get_total()"
      ],
      "metadata": {
        "colab": {
          "base_uri": "https://localhost:8080/"
        },
        "id": "RusSRNyr5eWM",
        "outputId": "1795df5c-484a-4db6-f8b4-7859949a445e"
      },
      "execution_count": 51,
      "outputs": [
        {
          "output_type": "execute_result",
          "data": {
            "text/plain": [
              "286"
            ]
          },
          "metadata": {},
          "execution_count": 51
        }
      ]
    },
    {
      "cell_type": "code",
      "source": [
        "student1.get_mean()"
      ],
      "metadata": {
        "colab": {
          "base_uri": "https://localhost:8080/"
        },
        "id": "fDHs-jsK6RT7",
        "outputId": "b3302535-82c8-41df-8254-448020b326ac"
      },
      "execution_count": 52,
      "outputs": [
        {
          "output_type": "execute_result",
          "data": {
            "text/plain": [
              "95"
            ]
          },
          "metadata": {},
          "execution_count": 52
        }
      ]
    },
    {
      "cell_type": "code",
      "source": [
        "student1.print_info()"
      ],
      "metadata": {
        "colab": {
          "base_uri": "https://localhost:8080/"
        },
        "id": "plCFRD708iCo",
        "outputId": "4c9c4ae6-0343-45d7-91c0-6ef7f365d325"
      },
      "execution_count": 53,
      "outputs": [
        {
          "output_type": "stream",
          "name": "stdout",
          "text": [
            "Student(번호 : 1 , 이름 : 홍길동 , Java : 96 , Python = 99 , JavaScript = 91)\n"
          ]
        }
      ]
    },
    {
      "cell_type": "code",
      "source": [],
      "metadata": {
        "id": "P8W7DXvA8_pM"
      },
      "execution_count": null,
      "outputs": []
    }
  ]
}