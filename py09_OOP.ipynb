{
  "nbformat": 4,
  "nbformat_minor": 0,
  "metadata": {
    "colab": {
      "provenance": [],
      "authorship_tag": "ABX9TyMJEw0gKvym8JPQWK/XK7sS",
      "include_colab_link": true
    },
    "kernelspec": {
      "name": "python3",
      "display_name": "Python 3"
    },
    "language_info": {
      "name": "python"
    }
  },
  "cells": [
    {
      "cell_type": "markdown",
      "metadata": {
        "id": "view-in-github",
        "colab_type": "text"
      },
      "source": [
        "<a href=\"https://colab.research.google.com/github/kim-dahun/python-study/blob/main/py09_OOP.ipynb\" target=\"_parent\"><img src=\"https://colab.research.google.com/assets/colab-badge.svg\" alt=\"Open In Colab\"/></a>"
      ]
    },
    {
      "cell_type": "markdown",
      "source": [
        "# 객체 지향 프로그래밍(OOP:Object-oriented Programming)\n",
        "\n"
      ],
      "metadata": {
        "id": "RmB4oMX3z1t4"
      }
    },
    {
      "cell_type": "code",
      "execution_count": 47,
      "metadata": {
        "id": "lzIghp96zyhZ"
      },
      "outputs": [],
      "source": [
        "class Student:\n",
        "  # 생성자 함수 : 생성자를 호출하면 파이썬 인터프리터에 의해 자동으로 호출되는 메서드.\n",
        "  def __init__(self, no, name, subjectlist): # 실제로 생성자 호출될 때는 self 파라미터에는 따로 인수를 넣지 않음.\n",
        "    self.no = no # 생성자에 넣는 순간 클래스의 필드변수 선언과 초기화가 동시에 됌. -> 자바는 선언 따로 초기화 따로.\n",
        "    self.name = name\n",
        "    self.python = subjectlist[0]\n",
        "    self.java = subjectlist[1]\n",
        "    self.javascript = subjectlist[2]\n",
        "\n",
        "  def get_total(self):\n",
        "    # 파이썬의 메서드는 멤버들을 접근할 때 반드시 self 키워드를 사용해야 함.\n",
        "    return self.java+self.python + self.javascript\n",
        "  def get_mean(self):\n",
        "    return round(self.get_total()/3)\n",
        "  def print_info(self):\n",
        "    print(f'Student(번호 : {self.no} , 이름 : {self.name} , Java : {self.java} , Python = {self.python} , JavaScript = {self.javascript})')"
      ]
    },
    {
      "cell_type": "code",
      "source": [
        "student1 = Student(1,\"홍길동\",[99,96,91]) # 생성자 호출 : 생성자 이름-클래스 이름, new 키워드를 사용하지 않음."
      ],
      "metadata": {
        "id": "_whHvWKu0eJK"
      },
      "execution_count": 48,
      "outputs": []
    },
    {
      "cell_type": "code",
      "source": [
        "print(student1) # 객체 student1을 문자열로 출력\n",
        "\n",
        "student1 # 객체 student1의 식(expression)을 출력"
      ],
      "metadata": {
        "colab": {
          "base_uri": "https://localhost:8080/"
        },
        "id": "4HAVgDaJ17Iz",
        "outputId": "86a410a9-43e4-4152-fcef-2f12aa9f041c"
      },
      "execution_count": 49,
      "outputs": [
        {
          "output_type": "stream",
          "name": "stdout",
          "text": [
            "<__main__.Student object at 0x7f67d32022c0>\n"
          ]
        },
        {
          "output_type": "execute_result",
          "data": {
            "text/plain": [
              "<__main__.Student at 0x7f67d32022c0>"
            ]
          },
          "metadata": {},
          "execution_count": 49
        }
      ]
    },
    {
      "cell_type": "code",
      "source": [
        "student1.name"
      ],
      "metadata": {
        "colab": {
          "base_uri": "https://localhost:8080/",
          "height": 35
        },
        "id": "Vt_2RpGL2DI-",
        "outputId": "329cb4f1-b317-42ae-bd38-2ed64e4b761a"
      },
      "execution_count": 50,
      "outputs": [
        {
          "output_type": "execute_result",
          "data": {
            "text/plain": [
              "'홍길동'"
            ],
            "application/vnd.google.colaboratory.intrinsic+json": {
              "type": "string"
            }
          },
          "metadata": {},
          "execution_count": 50
        }
      ]
    },
    {
      "cell_type": "code",
      "source": [
        "student1.get_total()"
      ],
      "metadata": {
        "colab": {
          "base_uri": "https://localhost:8080/"
        },
        "id": "RusSRNyr5eWM",
        "outputId": "1795df5c-484a-4db6-f8b4-7859949a445e"
      },
      "execution_count": 51,
      "outputs": [
        {
          "output_type": "execute_result",
          "data": {
            "text/plain": [
              "286"
            ]
          },
          "metadata": {},
          "execution_count": 51
        }
      ]
    },
    {
      "cell_type": "code",
      "source": [
        "student1.get_mean()"
      ],
      "metadata": {
        "colab": {
          "base_uri": "https://localhost:8080/"
        },
        "id": "fDHs-jsK6RT7",
        "outputId": "b3302535-82c8-41df-8254-448020b326ac"
      },
      "execution_count": 52,
      "outputs": [
        {
          "output_type": "execute_result",
          "data": {
            "text/plain": [
              "95"
            ]
          },
          "metadata": {},
          "execution_count": 52
        }
      ]
    },
    {
      "cell_type": "code",
      "source": [
        "student1.print_info()"
      ],
      "metadata": {
        "colab": {
          "base_uri": "https://localhost:8080/"
        },
        "id": "plCFRD708iCo",
        "outputId": "4c9c4ae6-0343-45d7-91c0-6ef7f365d325"
      },
      "execution_count": 53,
      "outputs": [
        {
          "output_type": "stream",
          "name": "stdout",
          "text": [
            "Student(번호 : 1 , 이름 : 홍길동 , Java : 96 , Python = 99 , JavaScript = 91)\n"
          ]
        }
      ]
    },
    {
      "cell_type": "code",
      "source": [
        "import math\n",
        "# math 모듈을 임포트 -> math.sqrt()"
      ],
      "metadata": {
        "id": "P8W7DXvA8_pM"
      },
      "execution_count": 61,
      "outputs": []
    },
    {
      "cell_type": "markdown",
      "source": [
        "* class : Point\n",
        "  * 2차원 평면의 점의 좌표 ( x, y )를 표현하는 클래스.\n",
        "* 필드 : x, y / 생성자 함수에서 x, y 초기화. 기본값은 x, y = 0\n",
        "* 메서드\n",
        "  * move: 점의 좌표를 원래 위치에서 dx, dy 만큼 이동시키는 메서드\n",
        "  * distance : 현재 점의 위치에서 다른 점까지의 거리를 계산해서 리턴하는 메서드\n",
        "    * `sqrt((x1-x2)**2 + (y1-y2)**2))`"
      ],
      "metadata": {
        "id": "6Q85aOudB5ZB"
      }
    },
    {
      "cell_type": "code",
      "source": [
        "class Point:\n",
        "  def __init__(self,x=0,y=0):\n",
        "    self.x = x\n",
        "    self.y = y\n",
        "  def move(self,x,y):\n",
        "    self.x = self.x+x\n",
        "    self.y = self.y+y\n",
        "  def distance(self,point):\n",
        "    return math.sqrt((self.x-point.x)**2 + (self.y-point.y)**2)\n",
        "  def print_loc(self):\n",
        "    print(f'현재 위치 x = {self.x} , y = {self.y}')"
      ],
      "metadata": {
        "id": "gXMZan_cBqjx"
      },
      "execution_count": 80,
      "outputs": []
    },
    {
      "cell_type": "code",
      "source": [
        "point1 = Point(1,3)"
      ],
      "metadata": {
        "id": "49ayscTfD927"
      },
      "execution_count": 81,
      "outputs": []
    },
    {
      "cell_type": "code",
      "source": [
        "point1.move(2,-3)\n",
        "\n",
        "point1.print_loc()"
      ],
      "metadata": {
        "colab": {
          "base_uri": "https://localhost:8080/"
        },
        "id": "xJvR73uGEDQl",
        "outputId": "81531306-27be-4f71-8ba5-c6e093865ca0"
      },
      "execution_count": 82,
      "outputs": [
        {
          "output_type": "stream",
          "name": "stdout",
          "text": [
            "현재 위치 x = 3 , y = 0\n"
          ]
        }
      ]
    },
    {
      "cell_type": "code",
      "source": [
        "print(\"point1 과 새로운 지점의 거리 차이 :\",round(point1.distance(Point(1,1)),2))"
      ],
      "metadata": {
        "colab": {
          "base_uri": "https://localhost:8080/"
        },
        "id": "7et-U8QiEHK3",
        "outputId": "4742a234-b80d-4b7f-a4ae-dcc3839b7a65"
      },
      "execution_count": 83,
      "outputs": [
        {
          "output_type": "stream",
          "name": "stdout",
          "text": [
            "point1 과 새로운 지점의 거리 차이 : 2.24\n"
          ]
        }
      ]
    },
    {
      "cell_type": "code",
      "source": [],
      "metadata": {
        "id": "kJBpN8_GEK9T"
      },
      "execution_count": null,
      "outputs": []
    }
  ]
}