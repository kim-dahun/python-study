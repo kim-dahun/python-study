{
  "nbformat": 4,
  "nbformat_minor": 0,
  "metadata": {
    "colab": {
      "provenance": [],
      "authorship_tag": "ABX9TyOWBS6dDiBYk7ScWN3YxuHV",
      "include_colab_link": true
    },
    "kernelspec": {
      "name": "python3",
      "display_name": "Python 3"
    },
    "language_info": {
      "name": "python"
    }
  },
  "cells": [
    {
      "cell_type": "markdown",
      "metadata": {
        "id": "view-in-github",
        "colab_type": "text"
      },
      "source": [
        "<a href=\"https://colab.research.google.com/github/kim-dahun/python-study/blob/main/py09_OOP.ipynb\" target=\"_parent\"><img src=\"https://colab.research.google.com/assets/colab-badge.svg\" alt=\"Open In Colab\"/></a>"
      ]
    },
    {
      "cell_type": "markdown",
      "source": [
        "# 객체 지향 프로그래밍(OOP:Object-oriented Programming)\n",
        "\n"
      ],
      "metadata": {
        "id": "RmB4oMX3z1t4"
      }
    },
    {
      "cell_type": "code",
      "execution_count": null,
      "metadata": {
        "id": "lzIghp96zyhZ"
      },
      "outputs": [],
      "source": [
        "class Student:\n",
        "  # 생성자 함수 : 생성자를 호출하면 파이썬 인터프리터에 의해 자동으로 호출되는 메서드.\n",
        "  def __init__(self, no, name, subjectlist): # 실제로 생성자 호출될 때는 self 파라미터에는 따로 인수를 넣지 않음.\n",
        "    self.no = no # 생성자에 넣는 순간 클래스의 필드변수 선언과 초기화가 동시에 됌. -> 자바는 선언 따로 초기화 따로.\n",
        "    self.name = name\n",
        "    self.python = subjectlist[0]\n",
        "    self.java = subjectlist[1]\n",
        "    self.javascript = subjectlist[2]\n",
        "\n",
        "  def get_total(self):\n",
        "    # 파이썬의 메서드는 멤버들을 접근할 때 반드시 self 키워드를 사용해야 함.\n",
        "    return self.java+self.python + self.javascript\n",
        "  def get_mean(self):\n",
        "    return round(self.get_total()/3)\n",
        "  def print_info(self):\n",
        "    print(f'Student(번호 : {self.no} , 이름 : {self.name} , Java : {self.java} , Python = {self.python} , JavaScript = {self.javascript})')"
      ]
    },
    {
      "cell_type": "code",
      "source": [
        "student1 = Student(1,\"홍길동\",[99,96,91]) # 생성자 호출 : 생성자 이름-클래스 이름, new 키워드를 사용하지 않음."
      ],
      "metadata": {
        "id": "_whHvWKu0eJK"
      },
      "execution_count": null,
      "outputs": []
    },
    {
      "cell_type": "code",
      "source": [
        "print(student1) # 객체 student1을 문자열로 출력\n",
        "\n",
        "student1 # 객체 student1의 식(expression)을 출력"
      ],
      "metadata": {
        "colab": {
          "base_uri": "https://localhost:8080/"
        },
        "id": "4HAVgDaJ17Iz",
        "outputId": "86a410a9-43e4-4152-fcef-2f12aa9f041c"
      },
      "execution_count": null,
      "outputs": [
        {
          "output_type": "stream",
          "name": "stdout",
          "text": [
            "<__main__.Student object at 0x7f67d32022c0>\n"
          ]
        },
        {
          "output_type": "execute_result",
          "data": {
            "text/plain": [
              "<__main__.Student at 0x7f67d32022c0>"
            ]
          },
          "metadata": {},
          "execution_count": 49
        }
      ]
    },
    {
      "cell_type": "code",
      "source": [
        "student1.name"
      ],
      "metadata": {
        "colab": {
          "base_uri": "https://localhost:8080/",
          "height": 35
        },
        "id": "Vt_2RpGL2DI-",
        "outputId": "329cb4f1-b317-42ae-bd38-2ed64e4b761a"
      },
      "execution_count": null,
      "outputs": [
        {
          "output_type": "execute_result",
          "data": {
            "text/plain": [
              "'홍길동'"
            ],
            "application/vnd.google.colaboratory.intrinsic+json": {
              "type": "string"
            }
          },
          "metadata": {},
          "execution_count": 50
        }
      ]
    },
    {
      "cell_type": "code",
      "source": [
        "student1.get_total()"
      ],
      "metadata": {
        "colab": {
          "base_uri": "https://localhost:8080/"
        },
        "id": "RusSRNyr5eWM",
        "outputId": "1795df5c-484a-4db6-f8b4-7859949a445e"
      },
      "execution_count": null,
      "outputs": [
        {
          "output_type": "execute_result",
          "data": {
            "text/plain": [
              "286"
            ]
          },
          "metadata": {},
          "execution_count": 51
        }
      ]
    },
    {
      "cell_type": "code",
      "source": [
        "student1.get_mean()"
      ],
      "metadata": {
        "colab": {
          "base_uri": "https://localhost:8080/"
        },
        "id": "fDHs-jsK6RT7",
        "outputId": "b3302535-82c8-41df-8254-448020b326ac"
      },
      "execution_count": null,
      "outputs": [
        {
          "output_type": "execute_result",
          "data": {
            "text/plain": [
              "95"
            ]
          },
          "metadata": {},
          "execution_count": 52
        }
      ]
    },
    {
      "cell_type": "code",
      "source": [
        "student1.print_info()"
      ],
      "metadata": {
        "colab": {
          "base_uri": "https://localhost:8080/"
        },
        "id": "plCFRD708iCo",
        "outputId": "4c9c4ae6-0343-45d7-91c0-6ef7f365d325"
      },
      "execution_count": null,
      "outputs": [
        {
          "output_type": "stream",
          "name": "stdout",
          "text": [
            "Student(번호 : 1 , 이름 : 홍길동 , Java : 96 , Python = 99 , JavaScript = 91)\n"
          ]
        }
      ]
    },
    {
      "cell_type": "code",
      "source": [
        "import math\n",
        "# math 모듈을 임포트 -> math.sqrt()"
      ],
      "metadata": {
        "id": "P8W7DXvA8_pM"
      },
      "execution_count": null,
      "outputs": []
    },
    {
      "cell_type": "markdown",
      "source": [
        "* class : Point\n",
        "  * 2차원 평면의 점의 좌표 ( x, y )를 표현하는 클래스.\n",
        "* 필드 : x, y / 생성자 함수에서 x, y 초기화. 기본값은 x, y = 0\n",
        "* 메서드\n",
        "  * move: 점의 좌표를 원래 위치에서 dx, dy 만큼 이동시키는 메서드\n",
        "  * distance : 현재 점의 위치에서 다른 점까지의 거리를 계산해서 리턴하는 메서드\n",
        "    * `sqrt((x1-x2)**2 + (y1-y2)**2))`"
      ],
      "metadata": {
        "id": "6Q85aOudB5ZB"
      }
    },
    {
      "cell_type": "code",
      "source": [
        "class Point:\n",
        "  def __init__(self,x=0,y=0):\n",
        "    self.x = x\n",
        "    self.y = y\n",
        "  def move(self,x,y):\n",
        "    self.x = self.x+x\n",
        "    self.y = self.y+y\n",
        "  def distance(self,point):\n",
        "    return math.sqrt((self.x-point.x)**2 + (self.y-point.y)**2)\n",
        "  def print_loc(self):\n",
        "    print(f'현재 위치 x = {self.x} , y = {self.y}')"
      ],
      "metadata": {
        "id": "gXMZan_cBqjx"
      },
      "execution_count": null,
      "outputs": []
    },
    {
      "cell_type": "code",
      "source": [
        "point1 = Point(1,3)"
      ],
      "metadata": {
        "id": "49ayscTfD927"
      },
      "execution_count": null,
      "outputs": []
    },
    {
      "cell_type": "code",
      "source": [
        "point1.move(2,-3)\n",
        "\n",
        "point1.print_loc()"
      ],
      "metadata": {
        "colab": {
          "base_uri": "https://localhost:8080/"
        },
        "id": "xJvR73uGEDQl",
        "outputId": "81531306-27be-4f71-8ba5-c6e093865ca0"
      },
      "execution_count": null,
      "outputs": [
        {
          "output_type": "stream",
          "name": "stdout",
          "text": [
            "현재 위치 x = 3 , y = 0\n"
          ]
        }
      ]
    },
    {
      "cell_type": "code",
      "source": [
        "print(\"point1 과 새로운 지점의 거리 차이 :\",round(point1.distance(Point(1,1)),2))"
      ],
      "metadata": {
        "colab": {
          "base_uri": "https://localhost:8080/"
        },
        "id": "7et-U8QiEHK3",
        "outputId": "4742a234-b80d-4b7f-a4ae-dcc3839b7a65"
      },
      "execution_count": null,
      "outputs": [
        {
          "output_type": "stream",
          "name": "stdout",
          "text": [
            "point1 과 새로운 지점의 거리 차이 : 2.24\n"
          ]
        }
      ]
    },
    {
      "cell_type": "markdown",
      "source": [
        "# Magic Method\n",
        "\n",
        "모든 클래스가 같은 이름으로 가지고 있는 특별한 메서드.\n",
        "\n",
        "특별한 경우에 Python 인터프리터에 의해 호출되는 메서드.\n",
        "\n",
        "* `__init__()` :\n",
        "  * 생성자를 호출하면 자동으로 호출되는 메서드.\n",
        "  * 인스턴스의 필드(Property)들을 선언하고 초기화하는 메서드.\n",
        "* `__str__()` :\n",
        "  * `print()` 함수의 argument 객체일 때 자동으로 호출되는 메서드.\n",
        "  * 문자열을 리턴하는 메서드.\n",
        "* `__repr__()` : representation\n",
        "  * 식(expression)을 출력할 때 자동으로 호출되는 메서드.\n",
        "  * `print()` 함수의 동작 방식:\n",
        "    * 객체를 출력하기 위해서, 그 객체의 `__str__()` 메서드를 호출함.\n",
        "    * `__str__()` 메서드가 없는 경우에는, `__repr__()` 메서드를 호출함.\n",
        "    * `__str__()` 메서드와 `__repr__()` 메서드가 모두 없는 경우에는, 기본 문자열 (... object at 0x...)로 출력"
      ],
      "metadata": {
        "id": "uXGsDsVFOw87"
      }
    },
    {
      "cell_type": "code",
      "source": [
        "class T:\n",
        "  def __str__(self):\n",
        "    return 'class T instance'\n",
        "  def __repr__(self):\n",
        "    return 'this is expression'"
      ],
      "metadata": {
        "id": "kJBpN8_GEK9T"
      },
      "execution_count": null,
      "outputs": []
    },
    {
      "cell_type": "code",
      "source": [
        "t1 = T() # 생성자 호출 -> __init__() 메서드 호출"
      ],
      "metadata": {
        "id": "6sjvMNMRRZt3"
      },
      "execution_count": null,
      "outputs": []
    },
    {
      "cell_type": "code",
      "source": [
        "print(t1) # __str__() 메서드 자동 호출"
      ],
      "metadata": {
        "colab": {
          "base_uri": "https://localhost:8080/"
        },
        "id": "0qnZF3mpRbaF",
        "outputId": "681ef6f3-a318-4977-ef85-be95005a40e2"
      },
      "execution_count": null,
      "outputs": [
        {
          "output_type": "stream",
          "name": "stdout",
          "text": [
            "class T instance\n"
          ]
        }
      ]
    },
    {
      "cell_type": "code",
      "source": [
        "t1 # __repr__() 메서드 자동 호출"
      ],
      "metadata": {
        "colab": {
          "base_uri": "https://localhost:8080/"
        },
        "id": "Q9ttk-ZoRcOz",
        "outputId": "5c66980b-7916-49b6-a790-58a3115600d2"
      },
      "execution_count": null,
      "outputs": [
        {
          "output_type": "execute_result",
          "data": {
            "text/plain": [
              "this is expression"
            ]
          },
          "metadata": {},
          "execution_count": 103
        }
      ]
    },
    {
      "cell_type": "markdown",
      "source": [
        "* `__eq__()`:\n",
        "  * `==` 연산자를 사용했을 때 자동으로 호출되는 메서드.\n",
        "  * 두 객체가 같은 지(True), 다른 지(False) 를 리턴.\n",
        "  "
      ],
      "metadata": {
        "id": "w6FjMuFIUCYx"
      }
    },
    {
      "cell_type": "code",
      "source": [
        "list1 = [1,2,3]\n",
        "list2 = [1,2,3]\n",
        "list1 == list2 # list 클래스가 __eq__() 메서드를 구현하고 있기 때문에."
      ],
      "metadata": {
        "colab": {
          "base_uri": "https://localhost:8080/"
        },
        "id": "ojWQUC26SECS",
        "outputId": "5913e0c5-028e-450a-dd50-b5d845938ec2"
      },
      "execution_count": null,
      "outputs": [
        {
          "output_type": "execute_result",
          "data": {
            "text/plain": [
              "True"
            ]
          },
          "metadata": {},
          "execution_count": 104
        }
      ]
    },
    {
      "cell_type": "code",
      "source": [
        "class Number:\n",
        "  def __init__(self,n):\n",
        "    self.n = n\n",
        "  def __repr__(self):\n",
        "    return str(self.n)\n",
        "  def __eq__(self, other):\n",
        "    return self.n == other.n"
      ],
      "metadata": {
        "id": "hBz7-BF-Uyto"
      },
      "execution_count": null,
      "outputs": []
    },
    {
      "cell_type": "code",
      "source": [
        "n1 = Number(1)\n",
        "n2 = Number(1)\n",
        "n1 == n2 # n1.__eq__(n2)"
      ],
      "metadata": {
        "colab": {
          "base_uri": "https://localhost:8080/"
        },
        "id": "wyihadTKVMKv",
        "outputId": "41ec0c3c-23df-4ecd-a21a-14220991728a"
      },
      "execution_count": null,
      "outputs": [
        {
          "output_type": "execute_result",
          "data": {
            "text/plain": [
              "True"
            ]
          },
          "metadata": {},
          "execution_count": 116
        }
      ]
    },
    {
      "cell_type": "markdown",
      "source": [
        "# Exercise\n",
        "\n",
        "* class Score\n",
        "  * property : korean, math, science (int 타입)\n",
        "  * method : `__init__`, `__repr__` , `__eq__`(필드값이 다 같으면 같다), `get_total`(3과목 총점) ,`get_mean` (3과목 평균)\n",
        "\n",
        "* class Student\n",
        "  * property : no, name(str) score(Score)\n",
        "  * 메서드 : `__init__` `__repr__`\n"
      ],
      "metadata": {
        "id": "LuO9pz_WoNpW"
      }
    },
    {
      "cell_type": "code",
      "source": [
        "class Score:\n",
        "  def __init__(self, korean=0, math=0, science=0):\n",
        "    self.korean = korean\n",
        "    self.math = math\n",
        "    self.science = science\n",
        "  def __repr__(self):\n",
        "    return f'korean = {self.korean} , math = {self.math} , science = {self.science}, total = {self.get_total()} , mean = {self.get_mean()}'\n",
        "  def __eq__(self,other):\n",
        "    return (self.korean==other.korean and self.math == other.math and self.science == other.science)\n",
        "  def get_total(self):\n",
        "    return sum([self.korean,self.math,self.science])\n",
        "  def get_mean(self):\n",
        "    return round(self.get_total()/3,2)\n",
        "\n",
        "class Student:\n",
        "  def __init__(self, no, name, Score):\n",
        "    self.no = no\n",
        "    self.name = name\n",
        "    self.score = Score\n",
        "  def __repr__(self):\n",
        "    return f'no = {self.no} , name = {self.name} ,  score = {self.score}'\n",
        "\n"
      ],
      "metadata": {
        "id": "R0X-SbK3WjYm"
      },
      "execution_count": null,
      "outputs": []
    },
    {
      "cell_type": "code",
      "source": [
        "score1 = Score(100,85,67)"
      ],
      "metadata": {
        "id": "8Rluw7zhqWHu"
      },
      "execution_count": null,
      "outputs": []
    },
    {
      "cell_type": "code",
      "source": [
        "score2 = Score(100,97,55)\n",
        "score3 = Score(100,85,67)"
      ],
      "metadata": {
        "id": "VHODKdP9qc-l"
      },
      "execution_count": null,
      "outputs": []
    },
    {
      "cell_type": "code",
      "source": [
        "print(score1==score2)\n",
        "print(score2==score3)\n",
        "print(score1==score3)"
      ],
      "metadata": {
        "colab": {
          "base_uri": "https://localhost:8080/"
        },
        "id": "uJLzwQMIqhGF",
        "outputId": "64931ed4-f25f-4933-9eb6-8ecffefe116b"
      },
      "execution_count": null,
      "outputs": [
        {
          "output_type": "stream",
          "name": "stdout",
          "text": [
            "False\n",
            "False\n",
            "True\n"
          ]
        }
      ]
    },
    {
      "cell_type": "code",
      "source": [
        "score1.get_total()"
      ],
      "metadata": {
        "colab": {
          "base_uri": "https://localhost:8080/"
        },
        "id": "igqNQvPHqmSM",
        "outputId": "330ac389-7226-4a77-e63f-bed4c0b1dd16"
      },
      "execution_count": null,
      "outputs": [
        {
          "output_type": "execute_result",
          "data": {
            "text/plain": [
              "252"
            ]
          },
          "metadata": {},
          "execution_count": 151
        }
      ]
    },
    {
      "cell_type": "code",
      "source": [
        "stu1 = Student(1,\"길동홍\",score1)\n",
        "stu2 = Student(2,\"꺽정임\",score2)"
      ],
      "metadata": {
        "id": "57GeA5eSqwTr"
      },
      "execution_count": null,
      "outputs": []
    },
    {
      "cell_type": "code",
      "source": [
        "stu1"
      ],
      "metadata": {
        "colab": {
          "base_uri": "https://localhost:8080/"
        },
        "id": "c0amI7y8q4Ak",
        "outputId": "6d3002d3-a33f-4862-894b-792006a6e249"
      },
      "execution_count": null,
      "outputs": [
        {
          "output_type": "execute_result",
          "data": {
            "text/plain": [
              "no = 1 , name = 길동홍 ,  score = korean = 100 , math = 85 , science = 67, total = 252 , mean = 84.0"
            ]
          },
          "metadata": {},
          "execution_count": 153
        }
      ]
    },
    {
      "cell_type": "markdown",
      "source": [
        "# 상속(Inheritance)\n",
        "\n",
        "* super class(상위 클래스), parent class(부모 클래스), base class(기본 클래스)\n",
        "* sub class(하위 클래스), child class(자식 클래스), derived class(유도 클래스)\n",
        "* 상속 : 상위 클래스의 속성(데이터)들과 기능(메서드)들을 하위 클래스에서 재사용하는 것.\n",
        "* 일반적으로 **IS-A** 관계가 성립하는 객체들을 상속을 사용해서 구현함.\n",
        "  * 학생은 사람이다(Student is a Person)"
      ],
      "metadata": {
        "id": "y2pgvN0w6BKd"
      }
    },
    {
      "cell_type": "code",
      "source": [
        "class Person:\n",
        "  def __init__(self, name, age=0):\n",
        "\n",
        "    self.name = name\n",
        "    self.age = age\n",
        "\n",
        "  def hello(self):\n",
        "    print(f'안녕하세요. 저는 {self.name} 이고, {self.age} 살 입니다')"
      ],
      "metadata": {
        "id": "dESDhvOIq45z"
      },
      "execution_count": null,
      "outputs": []
    },
    {
      "cell_type": "code",
      "source": [
        "gildong = Person('홍길동',29)\n",
        "gildong.hello()"
      ],
      "metadata": {
        "colab": {
          "base_uri": "https://localhost:8080/"
        },
        "id": "Rh1aPPjL7jgC",
        "outputId": "96f968c2-0978-424d-e27c-228f61ae38e7"
      },
      "execution_count": null,
      "outputs": [
        {
          "output_type": "stream",
          "name": "stdout",
          "text": [
            "안녕하세요. 저는 홍길동 이고, 29 살 입니다\n"
          ]
        }
      ]
    },
    {
      "cell_type": "code",
      "source": [
        "# Person 을 상속하는 Student Class 정의\n",
        "class Student(Person):\n",
        "  # Method Overriding\n",
        "  def __init__(self,name,age=0,school=\"중졸\"):\n",
        "    # 하위 클래스에서 상위 클래스의 메서드를 호출\n",
        "    super().__init__(name,age)\n",
        "    self.school = school\n",
        "  def hello(self):\n",
        "    super().hello()\n",
        "    print(f'학교는 {self.school} 입니다.')"
      ],
      "metadata": {
        "id": "1K_5oeLx8yVl"
      },
      "execution_count": null,
      "outputs": []
    },
    {
      "cell_type": "code",
      "source": [
        "stud1 = Student('김학생')"
      ],
      "metadata": {
        "id": "Ikm3KCV-9BWN"
      },
      "execution_count": null,
      "outputs": []
    },
    {
      "cell_type": "code",
      "source": [
        "stud1.hello()"
      ],
      "metadata": {
        "colab": {
          "base_uri": "https://localhost:8080/"
        },
        "id": "McwEmLVy9FSQ",
        "outputId": "e57801d4-bd5c-4b4c-f67c-97f365bd4206"
      },
      "execution_count": null,
      "outputs": [
        {
          "output_type": "stream",
          "name": "stdout",
          "text": [
            "안녕하세요. 저는 김학생 이고, 0 살 입니다\n",
            "학교는 중졸 입니다.\n"
          ]
        }
      ]
    },
    {
      "cell_type": "markdown",
      "source": [
        "Method Override\n",
        "\n",
        "* 상위 클래스의 메서드를 하위 클래스에서 재정의하는 것\n",
        "  * 파이썬에서는 메서드의 이름만 같으면(파라미터타입/개수 상관없음) 메서드가 재정의됨.\n",
        "    * 파이썬은 같은 이름으로 2개 이상의 메서드(함수)를 가질 수 없음 - overloading은 제공하지 않음.\n",
        "  * 자바에서는 메서드 이름, 파라미터 타입/개수/순서가 모두 동일한 경우에 메서드가 재정의됨.\n",
        "    * 파라미터가 다르면 같은 이름의 메서드가 2개 이상 있을 수 있음.\n",
        "* 하위클래스에서 재정의(override)된 상위 클래스의 메서드를 명시적으로 호출하기 위해서는 `super().method_name(...)` 의 형식으로 호출함."
      ],
      "metadata": {
        "id": "dYA7V5ivEzmu"
      }
    },
    {
      "cell_type": "markdown",
      "source": [
        "파이썬은 함수(메서드)의 오버로딩을 제공하지 않음.\n",
        "\n",
        "파라미터가 다르다고 해서 같은 이름으로 함수(메서드)를 정의할 수 없음.\n",
        "\n",
        "같은 이름으로 함수를 정의하면, 가장 마지막에서 정의한 함수만 남음.\n",
        "\n",
        "파이썬은 함수(메서드) 오버로딩 대신 default argument를 이용하면, 같은 이름의 함수를 여러 가지 방법으로 호출할 수 있음."
      ],
      "metadata": {
        "id": "BZ0uYNLbGIEl"
      }
    },
    {
      "cell_type": "code",
      "source": [
        "def a(msg='a'):\n",
        "  print(msg)"
      ],
      "metadata": {
        "id": "GDFbS4uWFjlH"
      },
      "execution_count": null,
      "outputs": []
    },
    {
      "cell_type": "code",
      "source": [
        "a()"
      ],
      "metadata": {
        "colab": {
          "base_uri": "https://localhost:8080/"
        },
        "id": "6lmyFqgHGnnd",
        "outputId": "63fc587c-0ad6-41f1-88e1-d954a8b8c362"
      },
      "execution_count": null,
      "outputs": [
        {
          "output_type": "stream",
          "name": "stdout",
          "text": [
            "a\n"
          ]
        }
      ]
    },
    {
      "cell_type": "code",
      "source": [],
      "metadata": {
        "id": "VH-SRVXPGoje"
      },
      "execution_count": null,
      "outputs": []
    }
  ]
}