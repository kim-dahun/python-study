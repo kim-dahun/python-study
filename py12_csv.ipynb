{
  "nbformat": 4,
  "nbformat_minor": 0,
  "metadata": {
    "colab": {
      "provenance": [],
      "mount_file_id": "1Sso-njK5qHhjAaDHy33fFo_1Hkcr5PYv",
      "authorship_tag": "ABX9TyMnHdf+QkwOHausN1RPEsKY",
      "include_colab_link": true
    },
    "kernelspec": {
      "name": "python3",
      "display_name": "Python 3"
    },
    "language_info": {
      "name": "python"
    }
  },
  "cells": [
    {
      "cell_type": "markdown",
      "metadata": {
        "id": "view-in-github",
        "colab_type": "text"
      },
      "source": [
        "<a href=\"https://colab.research.google.com/github/kim-dahun/python-study/blob/main/py12_csv.ipynb\" target=\"_parent\"><img src=\"https://colab.research.google.com/assets/colab-badge.svg\" alt=\"Open In Colab\"/></a>"
      ]
    },
    {
      "cell_type": "markdown",
      "source": [
        "CSV(Comma-Separated Values) 파일 : 쉼표(,) 로 값들이 구분된 텍스트 파일.\n",
        "\n",
        "* Colab 가상머신 할당\n",
        "* Colab에서 Google Drive를 Mount(연결)\n",
        "* 경로 : /content/drive/MyDrive/Colab Notebooks/lab-python\n",
        "\n",
        "1. csv_exam.csv 파일을 읽기 모드로 오픈.\n",
        "1. 파일의 첫번째 줄은 컬럼 이름이기 떄문에 읽고 추가 작업 없이 건너뛰기.\n",
        "1. 파일의 두번째 줄부터 마지막 줄까지 한줄씩 읽으면서 반복:\n",
        "  * 각 줄에서 읽은 내용을 쉼표(,)로 구분한 리스트들을 저장하는 리스트를 만듦.\n",
        "1. 위에서 만들어진 2차원 리스트의 모든 값들을 숫자로 변환.\n",
        "1. 2차원 숫자 리스트에서 수학점수들로만 이루어진 1차원 리스트를 만듦.\n",
        "  * `[50, 60, 45...]`\n",
        "1. 수학 점수의 평균, 최댓값, 최솟값 찾음.\n",
        "1. 1반(class=1) 학생들의 수학점수의 총점, 평균, 최댓값, 최솟값"
      ],
      "metadata": {
        "id": "kTSlO2eaqLyF"
      }
    },
    {
      "cell_type": "code",
      "execution_count": 21,
      "metadata": {
        "id": "xpZ1wWiBqGFs"
      },
      "outputs": [],
      "source": [
        "with open('/content/drive/MyDrive/Colab Notebooks/lab-python/csv_exam.csv',mode='rt') as f:\n",
        "  n = 1\n",
        "\n",
        "  for x in f:\n",
        "    if n==1:\n",
        "      n+=1\n",
        "\n",
        "      continue\n",
        "\n",
        "    list1 = [(int)(y.strip()) for y in x.split(',')]\n",
        "    sclist.append(list1)"
      ]
    },
    {
      "cell_type": "code",
      "source": [
        "sclist"
      ],
      "metadata": {
        "colab": {
          "base_uri": "https://localhost:8080/"
        },
        "id": "8wxfDtc1s8B7",
        "outputId": "54b0551d-f58d-4f98-df05-4ee9df3f1b3e"
      },
      "execution_count": 22,
      "outputs": [
        {
          "output_type": "execute_result",
          "data": {
            "text/plain": [
              "[[1, 1, 50, 98, 50],\n",
              " [2, 1, 60, 97, 60],\n",
              " [3, 1, 45, 86, 78],\n",
              " [4, 1, 30, 98, 58],\n",
              " [5, 2, 25, 80, 65],\n",
              " [6, 2, 50, 89, 98],\n",
              " [7, 2, 80, 90, 45],\n",
              " [8, 2, 90, 78, 25],\n",
              " [9, 3, 20, 98, 15],\n",
              " [10, 3, 50, 98, 45],\n",
              " [11, 3, 65, 65, 65],\n",
              " [12, 3, 45, 85, 32],\n",
              " [13, 4, 46, 98, 65],\n",
              " [14, 4, 48, 87, 12],\n",
              " [15, 4, 75, 56, 78],\n",
              " [16, 4, 58, 98, 65],\n",
              " [17, 5, 65, 68, 98],\n",
              " [18, 5, 80, 78, 90],\n",
              " [19, 5, 89, 68, 87],\n",
              " [20, 5, 78, 83, 58],\n",
              " [1, 1, 50, 98, 50],\n",
              " [2, 1, 60, 97, 60],\n",
              " [3, 1, 45, 86, 78],\n",
              " [4, 1, 30, 98, 58],\n",
              " [5, 2, 25, 80, 65],\n",
              " [6, 2, 50, 89, 98],\n",
              " [7, 2, 80, 90, 45],\n",
              " [8, 2, 90, 78, 25],\n",
              " [9, 3, 20, 98, 15],\n",
              " [10, 3, 50, 98, 45],\n",
              " [11, 3, 65, 65, 65],\n",
              " [12, 3, 45, 85, 32],\n",
              " [13, 4, 46, 98, 65],\n",
              " [14, 4, 48, 87, 12],\n",
              " [15, 4, 75, 56, 78],\n",
              " [16, 4, 58, 98, 65],\n",
              " [17, 5, 65, 68, 98],\n",
              " [18, 5, 80, 78, 90],\n",
              " [19, 5, 89, 68, 87],\n",
              " [20, 5, 78, 83, 58]]"
            ]
          },
          "metadata": {},
          "execution_count": 22
        }
      ]
    },
    {
      "cell_type": "code",
      "source": [
        "mathlist = [x[2] for x in sclist]\n",
        "mathlist"
      ],
      "metadata": {
        "colab": {
          "base_uri": "https://localhost:8080/"
        },
        "id": "TU1HjlN1s97m",
        "outputId": "135a168b-fb3a-43a5-c153-332ef41ff103"
      },
      "execution_count": 8,
      "outputs": [
        {
          "output_type": "execute_result",
          "data": {
            "text/plain": [
              "[50,\n",
              " 60,\n",
              " 45,\n",
              " 30,\n",
              " 25,\n",
              " 50,\n",
              " 80,\n",
              " 90,\n",
              " 20,\n",
              " 50,\n",
              " 65,\n",
              " 45,\n",
              " 46,\n",
              " 48,\n",
              " 75,\n",
              " 58,\n",
              " 65,\n",
              " 80,\n",
              " 89,\n",
              " 78]"
            ]
          },
          "metadata": {},
          "execution_count": 8
        }
      ]
    },
    {
      "cell_type": "code",
      "source": [
        "summath = sum(mathlist)\n",
        "avgmath = summath/len(mathlist)\n",
        "maxmath = max(mathlist)\n",
        "minmath = min(mathlist)\n",
        "\n",
        "\n",
        "print(f'모든 반 sum = {summath}')\n",
        "print(f'모든 반 avg = {avgmath}')\n",
        "print(f'모든 반 max = {maxmath}')\n",
        "print(f'모든 반 min = {minmath}')"
      ],
      "metadata": {
        "colab": {
          "base_uri": "https://localhost:8080/"
        },
        "id": "epNx35dLt3oa",
        "outputId": "4b8e21a9-93fb-4319-800e-0eb28d66286b"
      },
      "execution_count": 16,
      "outputs": [
        {
          "output_type": "stream",
          "name": "stdout",
          "text": [
            "모든 반 sum = 1149\n",
            "모든 반 avg = 57.45\n",
            "모든 반 max = 90\n",
            "모든 반 min = 20\n"
          ]
        }
      ]
    },
    {
      "cell_type": "code",
      "source": [
        "classone = [x[2] for x in sclist if x[1]==1]\n",
        "summath2 = sum(classone)\n",
        "avgmath2 = summath2/len(classone)\n",
        "maxmath2 = max(classone)\n",
        "minmath2 = min(classone)\n",
        "\n",
        "print(f'1반 sum = {summath2}')\n",
        "print(f'1반 avg = {avgmath2}')\n",
        "print(f'1반 max = {maxmath2}')\n",
        "print(f'1반 min = {minmath2}')"
      ],
      "metadata": {
        "colab": {
          "base_uri": "https://localhost:8080/"
        },
        "id": "gJe_v58CuHw9",
        "outputId": "60e21816-025c-4c59-bf41-570807a12900"
      },
      "execution_count": 14,
      "outputs": [
        {
          "output_type": "stream",
          "name": "stdout",
          "text": [
            "1반 sum = 185\n",
            "1반 avg = 46.25\n",
            "1반 max = 60\n",
            "1반 min = 30\n"
          ]
        }
      ]
    },
    {
      "cell_type": "code",
      "source": [],
      "metadata": {
        "id": "kDl964N5u-Ms"
      },
      "execution_count": null,
      "outputs": []
    }
  ]
}